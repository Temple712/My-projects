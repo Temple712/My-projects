{
 "cells": [
  {
   "cell_type": "markdown",
   "metadata": {
    "application/vnd.databricks.v1+cell": {
     "cellMetadata": {},
     "inputWidgets": {},
     "nuid": "b5cf7c53-ccb1-4a3a-90a7-3b66e8567334",
     "showTitle": false,
     "tableResultSettingsMap": {},
     "title": ""
    }
   },
   "source": [
    "### 1. Set-up the configs using Azure key vaults and Databricks secrets scope\n",
    "### 2. Transform Population data\n",
    "#### Please update the following \n",
    "- client_id\n",
    "- tenant_id\n",
    "- client_secret"
   ]
  },
  {
   "cell_type": "code",
   "execution_count": 0,
   "metadata": {
    "application/vnd.databricks.v1+cell": {
     "cellMetadata": {},
     "inputWidgets": {},
     "nuid": "d55bc150-1eae-4166-9da0-c53d2a256433",
     "showTitle": false,
     "tableResultSettingsMap": {},
     "title": ""
    }
   },
   "outputs": [],
   "source": [
    "client_id = dbutils.secrets.get(scope=\"covid19-scope\", key=\"covid-19-client-id\")\n",
    "tenant_id = dbutils.secrets.get(scope=\"covid19-scope\", key=\"covid-19-tenant-id\")\n",
    "client_secret = dbutils.secrets.get(scope=\"covid19-scope\", key=\"covid-19-client-secrets\")"
   ]
  },
  {
   "cell_type": "code",
   "execution_count": 0,
   "metadata": {
    "application/vnd.databricks.v1+cell": {
     "cellMetadata": {},
     "inputWidgets": {},
     "nuid": "f9ea11e7-e575-4cd0-8d3c-97d22dce34aa",
     "showTitle": false,
     "tableResultSettingsMap": {},
     "title": ""
    }
   },
   "outputs": [],
   "source": [
    "configs = {\"fs.azure.account.auth.type\": \"OAuth\",\n",
    "           \"fs.azure.account.oauth.provider.type\": \"org.apache.hadoop.fs.azurebfs.oauth2.ClientCredsTokenProvider\",\n",
    "           \"fs.azure.account.oauth2.client.id\": client_id,\n",
    "           \"fs.azure.account.oauth2.client.secret\": client_secret,\n",
    "           \"fs.azure.account.oauth2.client.endpoint\": f\"https://login.microsoftonline.com/{tenant_id}/oauth2/token\"}\n",
    "\n",
    "for key, value in configs.items(): spark.conf.set(key, value)"
   ]
  },
  {
   "cell_type": "markdown",
   "metadata": {
    "application/vnd.databricks.v1+cell": {
     "cellMetadata": {},
     "inputWidgets": {},
     "nuid": "56ae78ac-4264-4ce0-be75-b46fc615a514",
     "showTitle": false,
     "tableResultSettingsMap": {},
     "title": ""
    }
   },
   "source": [
    "## Transform Population By Age data by performing the transformations below\n",
    "####-----------------------------------------------------------------------\n",
    "1. Split the country code & age group\n",
    "2. Exclude all data other than 2019\n",
    "3. Remove non numeric data from percentage\n",
    "4. Pivot the data by age group\n",
    "5. Join to dim_country to get the country, 3 digit country code and the total population.\n",
    "\n",
    "####-----------------------------------------------------------------------"
   ]
  },
  {
   "cell_type": "code",
   "execution_count": 0,
   "metadata": {
    "application/vnd.databricks.v1+cell": {
     "cellMetadata": {},
     "inputWidgets": {},
     "nuid": "fb14c7b2-151d-4fbb-810a-7f496abeb8f2",
     "showTitle": false,
     "tableResultSettingsMap": {},
     "title": ""
    }
   },
   "outputs": [],
   "source": [
    "from pyspark.sql.functions import *"
   ]
  },
  {
   "cell_type": "markdown",
   "metadata": {
    "application/vnd.databricks.v1+cell": {
     "cellMetadata": {},
     "inputWidgets": {},
     "nuid": "f045cc99-8fcb-4e6c-aa46-805c46605e39",
     "showTitle": false,
     "tableResultSettingsMap": {},
     "title": ""
    }
   },
   "source": [
    "### Read the population data & create a temp view"
   ]
  },
  {
   "cell_type": "code",
   "execution_count": 0,
   "metadata": {
    "application/vnd.databricks.v1+cell": {
     "cellMetadata": {},
     "inputWidgets": {},
     "nuid": "a63b7567-fb00-4d1c-8b84-035c398f40c2",
     "showTitle": false,
     "tableResultSettingsMap": {},
     "title": ""
    }
   },
   "outputs": [],
   "source": [
    "df_raw_population = spark.read.option(\"header\", \"true\") \\\n",
    "               .option(\"sep\", \"\\t\") \\\n",
    "               .csv(\"abfss://raw@covidreportdl712.dfs.core.windows.net/population/population_by_age_tsv\")\n",
    "\n",
    "df_raw_population = df_raw_population.withColumn('age_group', regexp_replace(split(df_raw_population['indic_de,geo\\\\time'], ',')[0], 'PC_', '')).withColumn('country_code', split(df_raw_population['indic_de,geo\\\\time'], ',')[1])\n",
    "df_raw_population = df_raw_population.select(col(\"country_code\").alias(\"country_code\"),\n",
    "                                             col(\"age_group\").alias(\"age_group\"),\n",
    "                                             col(\"2019 \").alias(\"percentage_2019\"))\n",
    "                                             \n",
    "df_raw_population.createOrReplaceTempView(\"raw_population\")"
   ]
  },
  {
   "cell_type": "markdown",
   "metadata": {
    "application/vnd.databricks.v1+cell": {
     "cellMetadata": {},
     "inputWidgets": {},
     "nuid": "7fae0ef7-445b-4f5d-b736-bb3c1ae87342",
     "showTitle": false,
     "tableResultSettingsMap": {},
     "title": ""
    }
   },
   "source": [
    "### Pivot the data by age group"
   ]
  },
  {
   "cell_type": "code",
   "execution_count": 0,
   "metadata": {
    "application/vnd.databricks.v1+cell": {
     "cellMetadata": {},
     "inputWidgets": {},
     "nuid": "ab8c7b96-140a-4356-bbfa-b3d43515d923",
     "showTitle": false,
     "tableResultSettingsMap": {},
     "title": ""
    }
   },
   "outputs": [],
   "source": [
    "df_raw_population_pivot = spark.sql(\"\"\"\n",
    "SELECT \n",
    "    country_code,\n",
    "    age_group,\n",
    "    TRY_CAST(\n",
    "        regexp_replace(percentage_2019, '[a-z: ]', '')\n",
    "        AS DECIMAL(4,2)\n",
    "    ) AS percentage_2019\n",
    "FROM raw_population\n",
    "WHERE length(country_code) = 2\n",
    "\"\"\").groupBy(\"country_code\").pivot(\"age_group\").sum(\"percentage_2019\").orderBy(\"country_code\")\n",
    "\n",
    "df_raw_population_pivot.createOrReplaceTempView(\"raw_population_pivot\")"
   ]
  },
  {
   "cell_type": "markdown",
   "metadata": {
    "application/vnd.databricks.v1+cell": {
     "cellMetadata": {},
     "inputWidgets": {},
     "nuid": "3c974954-ef7c-4fc3-8f00-f9a3fc877dfc",
     "showTitle": false,
     "tableResultSettingsMap": {},
     "title": ""
    }
   },
   "source": [
    "### Read the country lookup"
   ]
  },
  {
   "cell_type": "code",
   "execution_count": 0,
   "metadata": {
    "application/vnd.databricks.v1+cell": {
     "cellMetadata": {},
     "inputWidgets": {},
     "nuid": "6cc2abe6-e41b-473e-9496-8abb05ea56e1",
     "showTitle": false,
     "tableResultSettingsMap": {},
     "title": ""
    }
   },
   "outputs": [],
   "source": [
    "# Create a data frame for the country lookup\n",
    "df_dim_country = spark.read.csv(\"abfss://lookup@covidreportdl712.dfs.core.windows.net/country_lookup.csv\", sep=r',', header=True)\n",
    "df_dim_country.createOrReplaceTempView(\"dim_country\")"
   ]
  },
  {
   "cell_type": "markdown",
   "metadata": {
    "application/vnd.databricks.v1+cell": {
     "cellMetadata": {},
     "inputWidgets": {},
     "nuid": "74c42212-30e3-4e5f-b947-7cbcd7e2baa7",
     "showTitle": false,
     "tableResultSettingsMap": {},
     "title": ""
    }
   },
   "source": [
    "### Join population data with country lookup"
   ]
  },
  {
   "cell_type": "code",
   "execution_count": 0,
   "metadata": {
    "application/vnd.databricks.v1+cell": {
     "cellMetadata": {},
     "inputWidgets": {},
     "nuid": "4fabc490-aad4-4e5d-ae69-188b8e77ca68",
     "showTitle": false,
     "tableResultSettingsMap": {},
     "title": ""
    }
   },
   "outputs": [],
   "source": [
    "df_processed_population = spark.sql(\"\"\"SELECT c.country,\n",
    "       c.country_code_2_digit,\n",
    "       c.country_code_3_digit,\n",
    "       c.population,\n",
    "       p.Y0_14  AS age_group_0_14,\n",
    "       p.Y15_24 AS age_group_15_24,\n",
    "       p.Y25_49 AS age_group_25_49,\n",
    "       p.Y50_64 AS age_group_50_64, \n",
    "       p.Y65_79 AS age_group_65_79,\n",
    "       p.Y80_MAX AS age_group_80_max\n",
    "  FROM raw_population_pivot p\n",
    "  JOIN dim_country c ON p.country_code = country_code_2_digit\n",
    " ORDER BY country\"\"\")"
   ]
  },
  {
   "cell_type": "markdown",
   "metadata": {
    "application/vnd.databricks.v1+cell": {
     "cellMetadata": {},
     "inputWidgets": {},
     "nuid": "ed544515-7833-4b3d-b1bd-a1dc24bd9307",
     "showTitle": false,
     "tableResultSettingsMap": {},
     "title": ""
    }
   },
   "source": [
    "### Write output to the processed mount point"
   ]
  },
  {
   "cell_type": "code",
   "execution_count": 0,
   "metadata": {
    "application/vnd.databricks.v1+cell": {
     "cellMetadata": {},
     "inputWidgets": {},
     "nuid": "93b335ab-f032-4dad-8b1d-3549bf748e02",
     "showTitle": false,
     "tableResultSettingsMap": {},
     "title": ""
    }
   },
   "outputs": [],
   "source": [
    "df_processed_population.write.format(\"com.databricks.spark.csv\").option(\"header\",\"true\").option(\"delimiter\", \",\").mode(\"overwrite\").save(\"abfss://processed@covidreportdl712.dfs.core.windows.net/population\")"
   ]
  }
 ],
 "metadata": {
  "application/vnd.databricks.v1+notebook": {
   "computePreferences": null,
   "dashboards": [],
   "environmentMetadata": null,
   "inputWidgetPreferences": null,
   "language": "python",
   "notebookMetadata": {},
   "notebookName": "setup_and_transform_population_data",
   "widgets": {}
  },
  "language_info": {
   "name": "python"
  }
 },
 "nbformat": 4,
 "nbformat_minor": 0
}