{
 "cells": [
  {
   "cell_type": "code",
   "execution_count": 24,
   "id": "374fe2d6",
   "metadata": {
    "id": "374fe2d6"
   },
   "outputs": [],
   "source": [
    "import numpy as np\n",
    "import pandas as pd\n",
    "import seaborn as sns\n",
    "from scipy import stats\n",
    "import matplotlib.pyplot as plt\n",
    "from sklearn.preprocessing import MinMaxScaler\n",
    "from sklearn.model_selection import train_test_split\n",
    "from sklearn.linear_model import LogisticRegression\n",
    "from sklearn.neighbors import KNeighborsClassifier\n",
    "from sklearn.tree import DecisionTreeClassifier\n",
    "from sklearn.ensemble import RandomForestClassifier\n",
    "from sklearn.svm import SVC\n",
    "from sklearn.naive_bayes import GaussianNB\n",
    "from sklearn.cluster import KMeans\n",
    "from sklearn.metrics import classification_report\n"
   ]
  },
  {
   "cell_type": "markdown",
   "id": "878eee79",
   "metadata": {
    "id": "878eee79"
   },
   "source": [
    "Read the csv file `heart_failure_clinical_records_dataset.csv` into a DataFrame, print the shape, and show the head."
   ]
  },
  {
   "cell_type": "code",
   "execution_count": 2,
   "id": "8e53cb1c",
   "metadata": {
    "id": "8e53cb1c"
   },
   "outputs": [
    {
     "name": "stdout",
     "output_type": "stream",
     "text": [
      "(299, 13)\n"
     ]
    },
    {
     "data": {
      "text/html": [
       "<div>\n",
       "<style scoped>\n",
       "    .dataframe tbody tr th:only-of-type {\n",
       "        vertical-align: middle;\n",
       "    }\n",
       "\n",
       "    .dataframe tbody tr th {\n",
       "        vertical-align: top;\n",
       "    }\n",
       "\n",
       "    .dataframe thead th {\n",
       "        text-align: right;\n",
       "    }\n",
       "</style>\n",
       "<table border=\"1\" class=\"dataframe\">\n",
       "  <thead>\n",
       "    <tr style=\"text-align: right;\">\n",
       "      <th></th>\n",
       "      <th>age</th>\n",
       "      <th>anaemia</th>\n",
       "      <th>creatinine_phosphokinase</th>\n",
       "      <th>diabetes</th>\n",
       "      <th>ejection_fraction</th>\n",
       "      <th>high_blood_pressure</th>\n",
       "      <th>platelets</th>\n",
       "      <th>serum_creatinine</th>\n",
       "      <th>serum_sodium</th>\n",
       "      <th>sex</th>\n",
       "      <th>smoking</th>\n",
       "      <th>time</th>\n",
       "      <th>DEATH_EVENT</th>\n",
       "    </tr>\n",
       "  </thead>\n",
       "  <tbody>\n",
       "    <tr>\n",
       "      <th>0</th>\n",
       "      <td>75.0</td>\n",
       "      <td>0</td>\n",
       "      <td>582</td>\n",
       "      <td>0</td>\n",
       "      <td>20</td>\n",
       "      <td>1</td>\n",
       "      <td>265000.00</td>\n",
       "      <td>1.9</td>\n",
       "      <td>130</td>\n",
       "      <td>1</td>\n",
       "      <td>0</td>\n",
       "      <td>4</td>\n",
       "      <td>1</td>\n",
       "    </tr>\n",
       "    <tr>\n",
       "      <th>1</th>\n",
       "      <td>55.0</td>\n",
       "      <td>0</td>\n",
       "      <td>7861</td>\n",
       "      <td>0</td>\n",
       "      <td>38</td>\n",
       "      <td>0</td>\n",
       "      <td>263358.03</td>\n",
       "      <td>1.1</td>\n",
       "      <td>136</td>\n",
       "      <td>1</td>\n",
       "      <td>0</td>\n",
       "      <td>6</td>\n",
       "      <td>1</td>\n",
       "    </tr>\n",
       "    <tr>\n",
       "      <th>2</th>\n",
       "      <td>65.0</td>\n",
       "      <td>0</td>\n",
       "      <td>146</td>\n",
       "      <td>0</td>\n",
       "      <td>20</td>\n",
       "      <td>0</td>\n",
       "      <td>162000.00</td>\n",
       "      <td>1.3</td>\n",
       "      <td>129</td>\n",
       "      <td>1</td>\n",
       "      <td>1</td>\n",
       "      <td>7</td>\n",
       "      <td>1</td>\n",
       "    </tr>\n",
       "    <tr>\n",
       "      <th>3</th>\n",
       "      <td>50.0</td>\n",
       "      <td>1</td>\n",
       "      <td>111</td>\n",
       "      <td>0</td>\n",
       "      <td>20</td>\n",
       "      <td>0</td>\n",
       "      <td>210000.00</td>\n",
       "      <td>1.9</td>\n",
       "      <td>137</td>\n",
       "      <td>1</td>\n",
       "      <td>0</td>\n",
       "      <td>7</td>\n",
       "      <td>1</td>\n",
       "    </tr>\n",
       "    <tr>\n",
       "      <th>4</th>\n",
       "      <td>65.0</td>\n",
       "      <td>1</td>\n",
       "      <td>160</td>\n",
       "      <td>1</td>\n",
       "      <td>20</td>\n",
       "      <td>0</td>\n",
       "      <td>327000.00</td>\n",
       "      <td>2.7</td>\n",
       "      <td>116</td>\n",
       "      <td>0</td>\n",
       "      <td>0</td>\n",
       "      <td>8</td>\n",
       "      <td>1</td>\n",
       "    </tr>\n",
       "  </tbody>\n",
       "</table>\n",
       "</div>"
      ],
      "text/plain": [
       "    age  anaemia  creatinine_phosphokinase  diabetes  ejection_fraction  \\\n",
       "0  75.0        0                       582         0                 20   \n",
       "1  55.0        0                      7861         0                 38   \n",
       "2  65.0        0                       146         0                 20   \n",
       "3  50.0        1                       111         0                 20   \n",
       "4  65.0        1                       160         1                 20   \n",
       "\n",
       "   high_blood_pressure  platelets  serum_creatinine  serum_sodium  sex  \\\n",
       "0                    1  265000.00               1.9           130    1   \n",
       "1                    0  263358.03               1.1           136    1   \n",
       "2                    0  162000.00               1.3           129    1   \n",
       "3                    0  210000.00               1.9           137    1   \n",
       "4                    0  327000.00               2.7           116    0   \n",
       "\n",
       "   smoking  time  DEATH_EVENT  \n",
       "0        0     4            1  \n",
       "1        0     6            1  \n",
       "2        1     7            1  \n",
       "3        0     7            1  \n",
       "4        0     8            1  "
      ]
     },
     "execution_count": 2,
     "metadata": {},
     "output_type": "execute_result"
    }
   ],
   "source": [
    "df=pd.read_csv(\"heart_failure_clinical_records_dataset.csv\")\n",
    "print(df.shape)\n",
    "df.head()"
   ]
  },
  {
   "cell_type": "markdown",
   "id": "36b2e7e0",
   "metadata": {
    "id": "36b2e7e0"
   },
   "source": [
    "This is a dataset of 299 patients with heart failure collected in 2015.\n",
    "\n",
    "Source: https://archive.ics.uci.edu/ml/datasets/Heart+failure+clinical+records\n",
    "\n",
    "Attribute Information:\n",
    "\n",
    "- **age**: age of the patient (years)\n",
    "- **anaemia**: decrease of red blood cells or hemoglobin (boolean)\n",
    "- **high blood pressure**: if the patient has hypertension (boolean)\n",
    "- **creatinine phosphokinase** (CPK): level of the CPK enzyme in the blood (mcg/L)\n",
    "- **diabetes**: if the patient has diabetes (boolean)\n",
    "- **ejection fraction**: percentage of blood leaving the heart at each contraction (percentage)\n",
    "- **platelets**: platelets in the blood (kiloplatelets/mL)\n",
    "- **sex**: woman or man (binary)\n",
    "- **serum creatinine**: level of serum creatinine in the blood (mg/dL)\n",
    "- **serum sodium**: level of serum sodium in the blood (mEq/L)\n",
    "- **smoking**: if the patient smokes or not (boolean)\n",
    "- **time**: follow-up period (days)\n",
    "- [target] **death event**: if the patient deceased during the follow-up period (boolean)\n",
    "\n"
   ]
  },
  {
   "cell_type": "markdown",
   "id": "14dd85dc",
   "metadata": {},
   "source": [
    "# Exploratory data analysis"
   ]
  },
  {
   "cell_type": "markdown",
   "id": "0c183464",
   "metadata": {
    "id": "0c183464"
   },
   "source": [
    "### Task 1\n",
    "\n",
    "Find the counts of `DEATH_EVENT` values. This tells us how many patients survived (`DEATH_EVENT`=0) and how many are deceased (`DEATH_EVENT`=1)."
   ]
  },
  {
   "cell_type": "code",
   "execution_count": 3,
   "id": "97da405e",
   "metadata": {
    "id": "97da405e"
   },
   "outputs": [
    {
     "data": {
      "text/plain": [
       "0    203\n",
       "1     96\n",
       "Name: DEATH_EVENT, dtype: int64"
      ]
     },
     "execution_count": 3,
     "metadata": {},
     "output_type": "execute_result"
    }
   ],
   "source": [
    "df[\"DEATH_EVENT\"].value_counts()"
   ]
  },
  {
   "cell_type": "markdown",
   "id": "791f35c9",
   "metadata": {
    "id": "791f35c9"
   },
   "source": [
    "### Task 2\n",
    "\n",
    "Find the correlation of `DEATH_EVENT` with each of the following attributes:\n",
    "`age`, `creatinine_phosphokinase`, `ejection_fraction`, `platelets`, `serum_creatinine`, and `serum_sodium`. \n",
    "\n",
    "What are the two attributes that have the strongest correlation (positive or negative) with `DEATH_EVENT`?"
   ]
  },
  {
   "cell_type": "code",
   "execution_count": 4,
   "id": "480ce4de",
   "metadata": {
    "id": "480ce4de"
   },
   "outputs": [],
   "source": [
    "attributes=[\"age\",\"creatinine_phosphokinase\",\"ejection_fraction\",\"platelets\",\"serum_creatinine\",\"serum_sodium\"]"
   ]
  },
  {
   "cell_type": "code",
   "execution_count": 5,
   "id": "1538d480",
   "metadata": {},
   "outputs": [
    {
     "name": "stdout",
     "output_type": "stream",
     "text": [
      "age:  0.2537285430880035\n",
      "creatinine_phosphokinase:  0.06272816025237475\n",
      "ejection_fraction:  -0.26860331239406177\n",
      "platelets:  -0.04913886798037429\n",
      "serum_creatinine:  0.29427756098414926\n",
      "serum_sodium:  -0.195203596416401\n"
     ]
    }
   ],
   "source": [
    "for c in attributes:\n",
    "    corr= np.corrcoef(df[c], df[\"DEATH_EVENT\"])[0][1]\n",
    "    print(c +\": \" , corr)"
   ]
  },
  {
   "cell_type": "markdown",
   "id": "addcb02c",
   "metadata": {},
   "source": [
    "# Age and the serum_creatinine has the strongest correlation"
   ]
  },
  {
   "cell_type": "markdown",
   "id": "60153c18",
   "metadata": {
    "id": "60153c18"
   },
   "source": [
    "### Task 3\n",
    "\n",
    "Create two subsets, one for survived patients (call it `df1`), and the other for deceased patients (call it `df2`), then print the shape of each."
   ]
  },
  {
   "cell_type": "code",
   "execution_count": 6,
   "id": "d833a097",
   "metadata": {
    "id": "d833a097"
   },
   "outputs": [
    {
     "data": {
      "text/plain": [
       "(203, 6)"
      ]
     },
     "execution_count": 6,
     "metadata": {},
     "output_type": "execute_result"
    }
   ],
   "source": [
    "df1=df[df[\"DEATH_EVENT\"]==0][[\"age\",\"creatinine_phosphokinase\",\"ejection_fraction\",\"platelets\",\"serum_creatinine\",\"serum_sodium\"]]\n",
    "df1.shape"
   ]
  },
  {
   "cell_type": "code",
   "execution_count": 7,
   "id": "aa0b43f9",
   "metadata": {},
   "outputs": [
    {
     "data": {
      "text/plain": [
       "(203, 6)"
      ]
     },
     "execution_count": 7,
     "metadata": {},
     "output_type": "execute_result"
    }
   ],
   "source": [
    "df2=df[df[\"DEATH_EVENT\"]==1][[\"age\",\"creatinine_phosphokinase\",\"ejection_fraction\",\"platelets\",\"serum_creatinine\",\"serum_sodium\"]]\n",
    "df1.shape"
   ]
  },
  {
   "cell_type": "markdown",
   "id": "825dcb43",
   "metadata": {
    "id": "825dcb43"
   },
   "source": [
    "The following code will show a visualization that compares the two categories in terms of the six attributes: "
   ]
  },
  {
   "cell_type": "code",
   "execution_count": 8,
   "id": "857e788e",
   "metadata": {
    "id": "857e788e"
   },
   "outputs": [
    {
     "data": {
      "image/png": "[encoded data removed]",
      "text/plain": [
       "<Figure size 864x576 with 6 Axes>"
      ]
     },
     "metadata": {
      "needs_background": "light"
     },
     "output_type": "display_data"
    }
   ],
   "source": [
    "fig, axs = plt.subplots(2,3, figsize=(12,8))\n",
    "for i in range(2):\n",
    "    for j in range(3):\n",
    "        k = 2*i+j\n",
    "        attr = attributes[k]\n",
    "        ax = axs[i,j]\n",
    "        ax.boxplot([df1[attr], df2[attr]]);\n",
    "        ax.set_title(attr)\n",
    "        ax.set_xticklabels(['survived', 'deceased'])\n",
    "plt.subplots_adjust(wspace=.25)        "
   ]
  },
  {
   "cell_type": "code",
   "execution_count": 22,
   "id": "6c512e69",
   "metadata": {
    "id": "6c512e69"
   },
   "outputs": [
    {
     "data": {
      "image/png": "[encoded data removed]",
      "text/plain": [
       "<Figure size 432x288 with 1 Axes>"
      ]
     },
     "metadata": {
      "needs_background": "light"
     },
     "output_type": "display_data"
    }
   ],
   "source": [
    "sns.countplot(x=\"sex\", hue=\"DEATH_EVENT\", data=df);"
   ]
  },
  {
   "cell_type": "code",
   "execution_count": null,
   "id": "a6e3bcdf",
   "metadata": {},
   "outputs": [],
   "source": []
  },
  {
   "cell_type": "markdown",
   "id": "044991bc",
   "metadata": {},
   "source": [
    "# Statistical Analysis"
   ]
  },
  {
   "cell_type": "markdown",
   "id": "89e0b3bc",
   "metadata": {
    "id": "89e0b3bc"
   },
   "source": [
    "### Task 4\n",
    "\n",
    "Perform a t-test to examine a hypothesis that says: the average age of deceased patients is greater than 60 years, with a 99% confidence level.\n",
    "\n",
    "* $H_0 : \\mu \\leq 60$\n",
    "* $H_a : \\mu > 60$\n",
    "\n",
    "First select the suitable sample, and set the significance level.\n",
    "Then, choose which function and parameters should you use for the t-test.\n",
    "Finally, compare the p-value to the significance level and make the decision, and interpret it."
   ]
  },
  {
   "cell_type": "code",
   "execution_count": 9,
   "id": "5d0d08c4",
   "metadata": {
    "id": "5d0d08c4"
   },
   "outputs": [
    {
     "name": "stdout",
     "output_type": "stream",
     "text": [
      "96 65.21528125\n",
      "P-value:  0.00010088512548265157\n",
      "t-statistic:  3.8668808171917215\n",
      "we reject the null hypothesis\n"
     ]
    }
   ],
   "source": [
    "X= df[df[\"DEATH_EVENT\"]==1][\"age\"]\n",
    "print(len(X), X.mean())\n",
    "\n",
    "alpha=0.01\n",
    "\n",
    "tsat, pval= stats.ttest_1samp(a=X, popmean=60, alternative=\"greater\")\n",
    "print(\"P-value: \", pval)\n",
    "print(\"t-statistic: \", tsat)\n",
    "\n",
    "if pval <alpha:\n",
    "    print(\"we reject the null hypothesis\")\n",
    "else:\n",
    "    print(\"we fail to reject the null hypothesis\")\n"
   ]
  },
  {
   "cell_type": "markdown",
   "id": "37f2f32e",
   "metadata": {
    "id": "37f2f32e"
   },
   "source": [
    "### Task 5\n",
    "\n",
    "Perform a t-test to examine the hypothesis that says: the average platelets is different for survived patients from deceased patients."
   ]
  },
  {
   "cell_type": "code",
   "execution_count": 10,
   "id": "38abae49",
   "metadata": {
    "id": "38abae49"
   },
   "outputs": [
    {
     "name": "stdout",
     "output_type": "stream",
     "text": [
      "203 266657.4899014779\n",
      "96 256381.0447916667\n",
      "P-value:  0.3971941540413678\n",
      "t-statistic:  0.8478681784251544\n",
      "we fail to reject the null hypothesis\n"
     ]
    }
   ],
   "source": [
    "A=df[df[\"DEATH_EVENT\"]==0][\"platelets\"]\n",
    "B=df[df[\"DEATH_EVENT\"]==1][\"platelets\"]\n",
    "print(len(A), A.mean())\n",
    "print(len(B), B.mean())\n",
    "\n",
    "alpha=0.01\n",
    "\n",
    "tsat, pval= stats.ttest_ind(a=A, b=B, alternative=\"two-sided\")\n",
    "print(\"P-value: \", pval)\n",
    "print(\"t-statistic: \", tsat)\n",
    "\n",
    "if pval<alpha:\n",
    "    print(\"we reject the null hypothesis\")\n",
    "else:\n",
    "    print(\"we fail to reject the null hypothesis\")"
   ]
  },
  {
   "cell_type": "code",
   "execution_count": null,
   "id": "7cc135a5",
   "metadata": {
    "id": "7cc135a5"
   },
   "outputs": [],
   "source": []
  },
  {
   "cell_type": "markdown",
   "id": "3b3827f7",
   "metadata": {
    "id": "3b3827f7"
   },
   "source": [
    "### Task  6\n",
    "\n",
    "Perform a t-test to examine the hypothesis that: the average ejection fraction is higher for survived patients than for deceased patients. "
   ]
  },
  {
   "cell_type": "code",
   "execution_count": 11,
   "id": "a39c3bc8",
   "metadata": {
    "id": "a39c3bc8"
   },
   "outputs": [
    {
     "name": "stdout",
     "output_type": "stream",
     "text": [
      "96 33.46875\n",
      "203 40.26600985221675\n",
      "t-statistic:  -4.80562826839639\n",
      "P-value:  0.999998773551291\n",
      "we fail to reject the null hypothesis\n"
     ]
    }
   ],
   "source": [
    "C= df[df[\"DEATH_EVENT\"]==1][\"ejection_fraction\"]\n",
    "D= df[df[\"DEATH_EVENT\"]==0][\"ejection_fraction\"]\n",
    "\n",
    "print(len(C), C.mean())\n",
    "print(len(D), D.mean())\n",
    "\n",
    "alpha=0.01\n",
    "\n",
    "tsat, pval= stats.ttest_ind(a=C, b=D, alternative=\"greater\")\n",
    "print(\"t-statistic: \", tsat)\n",
    "print(\"P-value: \", pval)\n",
    "\n",
    "if pval<alpha:\n",
    "    print(\"we reject the null hypothesis\")\n",
    "else:\n",
    "    print(\"we fail to reject the null hypothesis\")"
   ]
  },
  {
   "cell_type": "code",
   "execution_count": null,
   "id": "07097f98",
   "metadata": {
    "id": "07097f98"
   },
   "outputs": [],
   "source": []
  },
  {
   "cell_type": "markdown",
   "id": "82a9934a",
   "metadata": {
    "id": "82a9934a"
   },
   "source": [
    "### Task 7\n",
    "\n",
    "Perform a t-test to examine the hypothesis that the average serum creatinine is lower for survived patients than for deceased patients. "
   ]
  },
  {
   "cell_type": "code",
   "execution_count": 12,
   "id": "7ece7cf1",
   "metadata": {
    "id": "7ece7cf1"
   },
   "outputs": [
    {
     "name": "stdout",
     "output_type": "stream",
     "text": [
      "96 1.8358333333333332\n",
      "203 1.184876847290641\n",
      "t-statistic:  5.306457599754319\n",
      "P-value:  1.0950989274489843e-07\n",
      "we reject the null hypothesis\n"
     ]
    }
   ],
   "source": [
    "E= df[df[\"DEATH_EVENT\"]==1][\"serum_creatinine\"]\n",
    "F= df[df[\"DEATH_EVENT\"]==0][\"serum_creatinine\"]\n",
    "\n",
    "print(len(E), E.mean())\n",
    "print(len(F), F.mean())\n",
    "\n",
    "alpha=0.01\n",
    "\n",
    "tsat, pval= stats.ttest_ind(a=E, b=F, alternative=\"greater\")\n",
    "print(\"t-statistic: \", tsat)\n",
    "print(\"P-value: \", pval)\n",
    "\n",
    "if pval<alpha:\n",
    "    print(\"we reject the null hypothesis\")\n",
    "else:\n",
    "    print(\"we fail to reject the null hypothesis\")"
   ]
  },
  {
   "cell_type": "code",
   "execution_count": null,
   "id": "386d0cff",
   "metadata": {
    "id": "386d0cff"
   },
   "outputs": [],
   "source": []
  },
  {
   "cell_type": "markdown",
   "id": "3c804919",
   "metadata": {
    "id": "3c804919"
   },
   "source": [
    "### Task 8\n",
    "\n",
    "Find the contingency table of `smoking` and `DEATH_EVENT`.\n",
    "\n",
    "Then, perform a chi-squared test to examine whether `DEATH_EVENT` is dependent or independent from `smoking`. Use a 95% confidence level."
   ]
  },
  {
   "cell_type": "code",
   "execution_count": 13,
   "id": "662ef0a6",
   "metadata": {
    "id": "662ef0a6"
   },
   "outputs": [
    {
     "data": {
      "text/html": [
       "<div>\n",
       "<style scoped>\n",
       "    .dataframe tbody tr th:only-of-type {\n",
       "        vertical-align: middle;\n",
       "    }\n",
       "\n",
       "    .dataframe tbody tr th {\n",
       "        vertical-align: top;\n",
       "    }\n",
       "\n",
       "    .dataframe thead th {\n",
       "        text-align: right;\n",
       "    }\n",
       "</style>\n",
       "<table border=\"1\" class=\"dataframe\">\n",
       "  <thead>\n",
       "    <tr style=\"text-align: right;\">\n",
       "      <th>DEATH_EVENT</th>\n",
       "      <th>0</th>\n",
       "      <th>1</th>\n",
       "    </tr>\n",
       "    <tr>\n",
       "      <th>smoking</th>\n",
       "      <th></th>\n",
       "      <th></th>\n",
       "    </tr>\n",
       "  </thead>\n",
       "  <tbody>\n",
       "    <tr>\n",
       "      <th>0</th>\n",
       "      <td>137</td>\n",
       "      <td>66</td>\n",
       "    </tr>\n",
       "    <tr>\n",
       "      <th>1</th>\n",
       "      <td>66</td>\n",
       "      <td>30</td>\n",
       "    </tr>\n",
       "  </tbody>\n",
       "</table>\n",
       "</div>"
      ],
      "text/plain": [
       "DEATH_EVENT    0   1\n",
       "smoking             \n",
       "0            137  66\n",
       "1             66  30"
      ]
     },
     "execution_count": 13,
     "metadata": {},
     "output_type": "execute_result"
    }
   ],
   "source": [
    "df1=pd.crosstab(df[\"smoking\"], df[\"DEATH_EVENT\"])\n",
    "df1"
   ]
  },
  {
   "cell_type": "code",
   "execution_count": 14,
   "id": "926cdc7b",
   "metadata": {},
   "outputs": [
    {
     "name": "stdout",
     "output_type": "stream",
     "text": [
      "chi2 stat:  0.007331473567119502\n",
      "P-value:  0.9317652998235507\n",
      "degree of freedom:  1\n",
      "Expected values: \n",
      " [[137.82274247  65.17725753]\n",
      " [ 65.17725753  30.82274247]]\n",
      "we fail to reject the null hypothesis (Categories are independent)\n"
     ]
    }
   ],
   "source": [
    "chi2stat, pval, dof, expected= stats.chi2_contingency(df1)\n",
    "print(\"chi2 stat: \", chi2stat)\n",
    "print(\"P-value: \", pval)\n",
    "print(\"degree of freedom: \", dof)\n",
    "print(\"Expected values: \\n\", expected)\n",
    "\n",
    "alpha=0.05\n",
    "\n",
    "if pval<alpha:\n",
    "    print(\"we reject the null hypothesis Ho (Categories are dependent)\")\n",
    "else:\n",
    "          print(\"we fail to reject the null hypothesis (Categories are independent)\")"
   ]
  },
  {
   "cell_type": "code",
   "execution_count": null,
   "id": "1ed70787",
   "metadata": {},
   "outputs": [],
   "source": []
  },
  {
   "cell_type": "code",
   "execution_count": null,
   "id": "9e43de43",
   "metadata": {},
   "outputs": [],
   "source": []
  },
  {
   "cell_type": "markdown",
   "id": "14b3e4b9",
   "metadata": {
    "id": "14b3e4b9"
   },
   "source": [
    "### Task 9\n",
    "\n",
    "Find the contingency table of `sex` and `DEATH_EVENT`.\n",
    "\n",
    "Then, perform a chi-squared test to examine whether `DEATH_EVENT` is dependent or independent from `sex`. Use a 95% confidence level."
   ]
  },
  {
   "cell_type": "code",
   "execution_count": 15,
   "id": "5e270ec1",
   "metadata": {
    "id": "5e270ec1"
   },
   "outputs": [
    {
     "data": {
      "text/html": [
       "<div>\n",
       "<style scoped>\n",
       "    .dataframe tbody tr th:only-of-type {\n",
       "        vertical-align: middle;\n",
       "    }\n",
       "\n",
       "    .dataframe tbody tr th {\n",
       "        vertical-align: top;\n",
       "    }\n",
       "\n",
       "    .dataframe thead th {\n",
       "        text-align: right;\n",
       "    }\n",
       "</style>\n",
       "<table border=\"1\" class=\"dataframe\">\n",
       "  <thead>\n",
       "    <tr style=\"text-align: right;\">\n",
       "      <th>DEATH_EVENT</th>\n",
       "      <th>0</th>\n",
       "      <th>1</th>\n",
       "    </tr>\n",
       "    <tr>\n",
       "      <th>sex</th>\n",
       "      <th></th>\n",
       "      <th></th>\n",
       "    </tr>\n",
       "  </thead>\n",
       "  <tbody>\n",
       "    <tr>\n",
       "      <th>0</th>\n",
       "      <td>71</td>\n",
       "      <td>34</td>\n",
       "    </tr>\n",
       "    <tr>\n",
       "      <th>1</th>\n",
       "      <td>132</td>\n",
       "      <td>62</td>\n",
       "    </tr>\n",
       "  </tbody>\n",
       "</table>\n",
       "</div>"
      ],
      "text/plain": [
       "DEATH_EVENT    0   1\n",
       "sex                 \n",
       "0             71  34\n",
       "1            132  62"
      ]
     },
     "execution_count": 15,
     "metadata": {},
     "output_type": "execute_result"
    }
   ],
   "source": [
    "df2=pd.crosstab(df[\"sex\"], df[\"DEATH_EVENT\"])\n",
    "df2"
   ]
  },
  {
   "cell_type": "code",
   "execution_count": 16,
   "id": "aed0df9e",
   "metadata": {
    "id": "aed0df9e"
   },
   "outputs": [
    {
     "name": "stdout",
     "output_type": "stream",
     "text": [
      "chi2 stat:  0.0\n",
      "P-value:  1.0\n",
      "degree of freedom:  1\n",
      "Expected values: \n",
      " [[ 71.28762542  33.71237458]\n",
      " [131.71237458  62.28762542]]\n",
      "we fail to reject the null hypothesis (Categories are independent)\n"
     ]
    }
   ],
   "source": [
    "chi2stat, pval, dof, expected= stats.chi2_contingency(df2)\n",
    "print(\"chi2 stat: \", chi2stat)\n",
    "print(\"P-value: \", pval)\n",
    "print(\"degree of freedom: \", dof)\n",
    "print(\"Expected values: \\n\", expected)\n",
    "\n",
    "alpha=0.05\n",
    "\n",
    "if pval<alpha:\n",
    "    print(\"we reject the null hypothesis Ho (Categories are dependent)\")\n",
    "else:\n",
    "          print(\"we fail to reject the null hypothesis (Categories are independent)\")"
   ]
  },
  {
   "cell_type": "markdown",
   "id": "765e01eb",
   "metadata": {
    "id": "765e01eb"
   },
   "source": [
    "### Task 10\n",
    "\n",
    "Find the contingency table of `smoking` and `diabetes`.\n",
    "\n",
    "Then, perform a chi-squared test to examine whether those factors are independent from each other. Use a 95% confidence level."
   ]
  },
  {
   "cell_type": "code",
   "execution_count": 17,
   "id": "14b6290f",
   "metadata": {
    "id": "14b6290f"
   },
   "outputs": [
    {
     "data": {
      "text/html": [
       "<div>\n",
       "<style scoped>\n",
       "    .dataframe tbody tr th:only-of-type {\n",
       "        vertical-align: middle;\n",
       "    }\n",
       "\n",
       "    .dataframe tbody tr th {\n",
       "        vertical-align: top;\n",
       "    }\n",
       "\n",
       "    .dataframe thead th {\n",
       "        text-align: right;\n",
       "    }\n",
       "</style>\n",
       "<table border=\"1\" class=\"dataframe\">\n",
       "  <thead>\n",
       "    <tr style=\"text-align: right;\">\n",
       "      <th>DEATH_EVENT</th>\n",
       "      <th>0</th>\n",
       "      <th>1</th>\n",
       "    </tr>\n",
       "    <tr>\n",
       "      <th>diabetes</th>\n",
       "      <th></th>\n",
       "      <th></th>\n",
       "    </tr>\n",
       "  </thead>\n",
       "  <tbody>\n",
       "    <tr>\n",
       "      <th>0</th>\n",
       "      <td>118</td>\n",
       "      <td>56</td>\n",
       "    </tr>\n",
       "    <tr>\n",
       "      <th>1</th>\n",
       "      <td>85</td>\n",
       "      <td>40</td>\n",
       "    </tr>\n",
       "  </tbody>\n",
       "</table>\n",
       "</div>"
      ],
      "text/plain": [
       "DEATH_EVENT    0   1\n",
       "diabetes            \n",
       "0            118  56\n",
       "1             85  40"
      ]
     },
     "execution_count": 17,
     "metadata": {},
     "output_type": "execute_result"
    }
   ],
   "source": [
    "df3=pd.crosstab(df[\"diabetes\"], df[\"DEATH_EVENT\"])\n",
    "df3"
   ]
  },
  {
   "cell_type": "code",
   "execution_count": 18,
   "id": "c88d4f45",
   "metadata": {
    "id": "c88d4f45"
   },
   "outputs": [
    {
     "name": "stdout",
     "output_type": "stream",
     "text": [
      "chi2 stat:  0.0\n",
      "P-value:  1.0\n",
      "degree of freedom:  1\n",
      "Expected values: \n",
      " [[118.13377926  55.86622074]\n",
      " [ 84.86622074  40.13377926]]\n",
      "we fail to reject the null hypothesis (Categories are independent)\n"
     ]
    }
   ],
   "source": [
    "chi2stat, pval, dof, expected= stats.chi2_contingency(df3)\n",
    "print(\"chi2 stat: \", chi2stat)\n",
    "print(\"P-value: \", pval)\n",
    "print(\"degree of freedom: \", dof)\n",
    "print(\"Expected values: \\n\", expected)\n",
    "\n",
    "alpha=0.05\n",
    "\n",
    "if pval<alpha:\n",
    "    print(\"we reject the null hypothesis Ho (Categories are dependent)\")\n",
    "else:\n",
    "          print(\"we fail to reject the null hypothesis (Categories are independent)\")"
   ]
  },
  {
   "cell_type": "code",
   "execution_count": null,
   "id": "6fe047d6",
   "metadata": {},
   "outputs": [],
   "source": []
  },
  {
   "cell_type": "markdown",
   "id": "aa707cf0",
   "metadata": {},
   "source": [
    "# Machine learning"
   ]
  },
  {
   "cell_type": "code",
   "execution_count": 25,
   "id": "f2dd3de0",
   "metadata": {},
   "outputs": [],
   "source": [
    "scaled_data= MinMaxScaler().fit_transform(df.drop(\"DEATH_EVENT\", axis=1))"
   ]
  },
  {
   "cell_type": "code",
   "execution_count": 26,
   "id": "d80f00cb",
   "metadata": {},
   "outputs": [],
   "source": [
    "df1=pd.DataFrame(scaled_data, columns=df.columns[:-1])"
   ]
  },
  {
   "cell_type": "code",
   "execution_count": 27,
   "id": "2cf02d18",
   "metadata": {},
   "outputs": [
    {
     "data": {
      "text/html": [
       "<div>\n",
       "<style scoped>\n",
       "    .dataframe tbody tr th:only-of-type {\n",
       "        vertical-align: middle;\n",
       "    }\n",
       "\n",
       "    .dataframe tbody tr th {\n",
       "        vertical-align: top;\n",
       "    }\n",
       "\n",
       "    .dataframe thead th {\n",
       "        text-align: right;\n",
       "    }\n",
       "</style>\n",
       "<table border=\"1\" class=\"dataframe\">\n",
       "  <thead>\n",
       "    <tr style=\"text-align: right;\">\n",
       "      <th></th>\n",
       "      <th>age</th>\n",
       "      <th>anaemia</th>\n",
       "      <th>creatinine_phosphokinase</th>\n",
       "      <th>diabetes</th>\n",
       "      <th>ejection_fraction</th>\n",
       "      <th>high_blood_pressure</th>\n",
       "      <th>platelets</th>\n",
       "      <th>serum_creatinine</th>\n",
       "      <th>serum_sodium</th>\n",
       "      <th>sex</th>\n",
       "      <th>smoking</th>\n",
       "      <th>time</th>\n",
       "    </tr>\n",
       "  </thead>\n",
       "  <tbody>\n",
       "    <tr>\n",
       "      <th>0</th>\n",
       "      <td>0.636364</td>\n",
       "      <td>0.0</td>\n",
       "      <td>0.071319</td>\n",
       "      <td>0.0</td>\n",
       "      <td>0.090909</td>\n",
       "      <td>1.0</td>\n",
       "      <td>0.290823</td>\n",
       "      <td>0.157303</td>\n",
       "      <td>0.485714</td>\n",
       "      <td>1.0</td>\n",
       "      <td>0.0</td>\n",
       "      <td>0.000000</td>\n",
       "    </tr>\n",
       "    <tr>\n",
       "      <th>1</th>\n",
       "      <td>0.272727</td>\n",
       "      <td>0.0</td>\n",
       "      <td>1.000000</td>\n",
       "      <td>0.0</td>\n",
       "      <td>0.363636</td>\n",
       "      <td>0.0</td>\n",
       "      <td>0.288833</td>\n",
       "      <td>0.067416</td>\n",
       "      <td>0.657143</td>\n",
       "      <td>1.0</td>\n",
       "      <td>0.0</td>\n",
       "      <td>0.007117</td>\n",
       "    </tr>\n",
       "    <tr>\n",
       "      <th>2</th>\n",
       "      <td>0.454545</td>\n",
       "      <td>0.0</td>\n",
       "      <td>0.015693</td>\n",
       "      <td>0.0</td>\n",
       "      <td>0.090909</td>\n",
       "      <td>0.0</td>\n",
       "      <td>0.165960</td>\n",
       "      <td>0.089888</td>\n",
       "      <td>0.457143</td>\n",
       "      <td>1.0</td>\n",
       "      <td>1.0</td>\n",
       "      <td>0.010676</td>\n",
       "    </tr>\n",
       "    <tr>\n",
       "      <th>3</th>\n",
       "      <td>0.181818</td>\n",
       "      <td>1.0</td>\n",
       "      <td>0.011227</td>\n",
       "      <td>0.0</td>\n",
       "      <td>0.090909</td>\n",
       "      <td>0.0</td>\n",
       "      <td>0.224148</td>\n",
       "      <td>0.157303</td>\n",
       "      <td>0.685714</td>\n",
       "      <td>1.0</td>\n",
       "      <td>0.0</td>\n",
       "      <td>0.010676</td>\n",
       "    </tr>\n",
       "    <tr>\n",
       "      <th>4</th>\n",
       "      <td>0.454545</td>\n",
       "      <td>1.0</td>\n",
       "      <td>0.017479</td>\n",
       "      <td>1.0</td>\n",
       "      <td>0.090909</td>\n",
       "      <td>0.0</td>\n",
       "      <td>0.365984</td>\n",
       "      <td>0.247191</td>\n",
       "      <td>0.085714</td>\n",
       "      <td>0.0</td>\n",
       "      <td>0.0</td>\n",
       "      <td>0.014235</td>\n",
       "    </tr>\n",
       "  </tbody>\n",
       "</table>\n",
       "</div>"
      ],
      "text/plain": [
       "        age  anaemia  creatinine_phosphokinase  diabetes  ejection_fraction  \\\n",
       "0  0.636364      0.0                  0.071319       0.0           0.090909   \n",
       "1  0.272727      0.0                  1.000000       0.0           0.363636   \n",
       "2  0.454545      0.0                  0.015693       0.0           0.090909   \n",
       "3  0.181818      1.0                  0.011227       0.0           0.090909   \n",
       "4  0.454545      1.0                  0.017479       1.0           0.090909   \n",
       "\n",
       "   high_blood_pressure  platelets  serum_creatinine  serum_sodium  sex  \\\n",
       "0                  1.0   0.290823          0.157303      0.485714  1.0   \n",
       "1                  0.0   0.288833          0.067416      0.657143  1.0   \n",
       "2                  0.0   0.165960          0.089888      0.457143  1.0   \n",
       "3                  0.0   0.224148          0.157303      0.685714  1.0   \n",
       "4                  0.0   0.365984          0.247191      0.085714  0.0   \n",
       "\n",
       "   smoking      time  \n",
       "0      0.0  0.000000  \n",
       "1      0.0  0.007117  \n",
       "2      1.0  0.010676  \n",
       "3      0.0  0.010676  \n",
       "4      0.0  0.014235  "
      ]
     },
     "execution_count": 27,
     "metadata": {},
     "output_type": "execute_result"
    }
   ],
   "source": [
    "df1.head()"
   ]
  },
  {
   "cell_type": "code",
   "execution_count": null,
   "id": "5bb9a00e",
   "metadata": {},
   "outputs": [],
   "source": []
  },
  {
   "cell_type": "markdown",
   "id": "723b2c63",
   "metadata": {},
   "source": [
    "# Logistic regression"
   ]
  },
  {
   "cell_type": "code",
   "execution_count": 28,
   "id": "5ca8017b",
   "metadata": {},
   "outputs": [],
   "source": [
    "X= df1\n",
    "y=df[\"DEATH_EVENT\"]"
   ]
  },
  {
   "cell_type": "code",
   "execution_count": 29,
   "id": "0e6253da",
   "metadata": {},
   "outputs": [],
   "source": [
    "X_train, X_test, y_train, y_test = train_test_split(X, y, test_size=0.2, random_state=100)"
   ]
  },
  {
   "cell_type": "code",
   "execution_count": 30,
   "id": "00c5a1fb",
   "metadata": {},
   "outputs": [
    {
     "data": {
      "text/plain": [
       "0.8493723849372385"
      ]
     },
     "execution_count": 30,
     "metadata": {},
     "output_type": "execute_result"
    }
   ],
   "source": [
    "model= LogisticRegression()\n",
    "model.fit(X_train, y_train)\n",
    "model.score(X_train, y_train)"
   ]
  },
  {
   "cell_type": "code",
   "execution_count": 31,
   "id": "654bba18",
   "metadata": {},
   "outputs": [],
   "source": [
    "l_pred=model.predict(X_test)"
   ]
  },
  {
   "cell_type": "code",
   "execution_count": 32,
   "id": "92543140",
   "metadata": {},
   "outputs": [
    {
     "name": "stdout",
     "output_type": "stream",
     "text": [
      "              precision    recall  f1-score   support\n",
      "\n",
      "           0       0.76      0.95      0.84        39\n",
      "           1       0.82      0.43      0.56        21\n",
      "\n",
      "    accuracy                           0.77        60\n",
      "   macro avg       0.79      0.69      0.70        60\n",
      "weighted avg       0.78      0.77      0.74        60\n",
      "\n"
     ]
    }
   ],
   "source": [
    "print(classification_report(y_test, l_pred))"
   ]
  },
  {
   "cell_type": "code",
   "execution_count": null,
   "id": "ebe938f1",
   "metadata": {},
   "outputs": [],
   "source": []
  },
  {
   "cell_type": "markdown",
   "id": "4482dee9",
   "metadata": {},
   "source": [
    "# KNN"
   ]
  },
  {
   "cell_type": "code",
   "execution_count": 33,
   "id": "8c8fb3e5",
   "metadata": {},
   "outputs": [],
   "source": [
    "X_train, X_test, y_train, y_test = train_test_split(X, y, test_size=0.2, random_state=100)"
   ]
  },
  {
   "cell_type": "code",
   "execution_count": 34,
   "id": "c099c427",
   "metadata": {},
   "outputs": [
    {
     "data": {
      "text/plain": [
       "0.8075313807531381"
      ]
     },
     "execution_count": 34,
     "metadata": {},
     "output_type": "execute_result"
    }
   ],
   "source": [
    "model2= KNeighborsClassifier(n_neighbors=2)\n",
    "model2.fit(X_train, y_train)\n",
    "model2.score(X_train, y_train)"
   ]
  },
  {
   "cell_type": "code",
   "execution_count": 35,
   "id": "6547381f",
   "metadata": {},
   "outputs": [],
   "source": [
    "k_pred=model2.predict(X_test)"
   ]
  },
  {
   "cell_type": "code",
   "execution_count": 36,
   "id": "ff351126",
   "metadata": {},
   "outputs": [
    {
     "name": "stdout",
     "output_type": "stream",
     "text": [
      "              precision    recall  f1-score   support\n",
      "\n",
      "           0       0.67      1.00      0.80        39\n",
      "           1       1.00      0.10      0.17        21\n",
      "\n",
      "    accuracy                           0.68        60\n",
      "   macro avg       0.84      0.55      0.49        60\n",
      "weighted avg       0.79      0.68      0.58        60\n",
      "\n"
     ]
    }
   ],
   "source": [
    "print(classification_report(y_test, k_pred))"
   ]
  },
  {
   "cell_type": "code",
   "execution_count": null,
   "id": "19f96ec9",
   "metadata": {},
   "outputs": [],
   "source": []
  },
  {
   "cell_type": "markdown",
   "id": "fc1629c3",
   "metadata": {},
   "source": [
    "## Chosing the best K  value"
   ]
  },
  {
   "cell_type": "code",
   "execution_count": 37,
   "id": "25ca8e01",
   "metadata": {},
   "outputs": [],
   "source": [
    "sse=[]\n",
    "\n",
    "for i in range(1,40):\n",
    "    model2= KNeighborsClassifier(n_neighbors=i)\n",
    "    model2.fit(X_train, y_train)\n",
    "    k_pred=model2.predict(X_test)\n",
    "    sse.append(np.mean(k_pred!= y_test))"
   ]
  },
  {
   "cell_type": "code",
   "execution_count": 39,
   "id": "bcc9d7ef",
   "metadata": {},
   "outputs": [
    {
     "data": {
      "image/png": "[encoded data removed]",
      "text/plain": [
       "<Figure size 720x432 with 1 Axes>"
      ]
     },
     "metadata": {
      "needs_background": "light"
     },
     "output_type": "display_data"
    }
   ],
   "source": [
    "plt.figure(figsize=(10,6))\n",
    "plt.plot(range(1,40),sse,color='blue', linestyle='dashed', marker='o',\n",
    "         markerfacecolor='red', markersize=5)\n",
    "plt.title('Error Rate vs. K Value')\n",
    "plt.xlabel('K')\n",
    "plt.ylabel('Error Rate');"
   ]
  },
  {
   "cell_type": "code",
   "execution_count": 40,
   "id": "eb0f087f",
   "metadata": {},
   "outputs": [],
   "source": [
    "model2= KNeighborsClassifier(n_neighbors=11)\n",
    "model2.fit(X_train, y_train)\n",
    "k_pred=model2.predict(X_test)"
   ]
  },
  {
   "cell_type": "code",
   "execution_count": 41,
   "id": "a9d6fffc",
   "metadata": {},
   "outputs": [
    {
     "name": "stdout",
     "output_type": "stream",
     "text": [
      "              precision    recall  f1-score   support\n",
      "\n",
      "           0       0.74      1.00      0.85        39\n",
      "           1       1.00      0.33      0.50        21\n",
      "\n",
      "    accuracy                           0.77        60\n",
      "   macro avg       0.87      0.67      0.67        60\n",
      "weighted avg       0.83      0.77      0.73        60\n",
      "\n"
     ]
    }
   ],
   "source": [
    "print(classification_report(y_test, k_pred))"
   ]
  },
  {
   "cell_type": "code",
   "execution_count": null,
   "id": "dfd3b6ef",
   "metadata": {},
   "outputs": [],
   "source": []
  },
  {
   "cell_type": "markdown",
   "id": "32aae084",
   "metadata": {},
   "source": [
    "# Decision Tree"
   ]
  },
  {
   "cell_type": "code",
   "execution_count": 42,
   "id": "c8d7c21c",
   "metadata": {},
   "outputs": [],
   "source": [
    "X_train, X_test, y_train, y_test = train_test_split(X, y, test_size=0.2, random_state=100)"
   ]
  },
  {
   "cell_type": "code",
   "execution_count": 43,
   "id": "cf8788d3",
   "metadata": {},
   "outputs": [
    {
     "data": {
      "text/plain": [
       "1.0"
      ]
     },
     "execution_count": 43,
     "metadata": {},
     "output_type": "execute_result"
    }
   ],
   "source": [
    "model3=DecisionTreeClassifier()\n",
    "model3.fit(X_train, y_train)\n",
    "model3.score(X_train, y_train)"
   ]
  },
  {
   "cell_type": "code",
   "execution_count": 44,
   "id": "b75b36be",
   "metadata": {},
   "outputs": [],
   "source": [
    "d_pred= model3.predict(X_test)"
   ]
  },
  {
   "cell_type": "code",
   "execution_count": 45,
   "id": "430daa66",
   "metadata": {},
   "outputs": [
    {
     "name": "stdout",
     "output_type": "stream",
     "text": [
      "              precision    recall  f1-score   support\n",
      "\n",
      "           0       0.79      0.85      0.81        39\n",
      "           1       0.67      0.57      0.62        21\n",
      "\n",
      "    accuracy                           0.75        60\n",
      "   macro avg       0.73      0.71      0.72        60\n",
      "weighted avg       0.74      0.75      0.75        60\n",
      "\n"
     ]
    }
   ],
   "source": [
    "print(classification_report(y_test, d_pred))"
   ]
  },
  {
   "cell_type": "code",
   "execution_count": null,
   "id": "fc7ed101",
   "metadata": {},
   "outputs": [],
   "source": []
  },
  {
   "cell_type": "markdown",
   "id": "322c6adb",
   "metadata": {},
   "source": [
    "# Random forest"
   ]
  },
  {
   "cell_type": "code",
   "execution_count": 46,
   "id": "43d13ede",
   "metadata": {},
   "outputs": [],
   "source": [
    "X_train, X_test, y_train, y_test = train_test_split(X, y, test_size=0.2, random_state=100)"
   ]
  },
  {
   "cell_type": "code",
   "execution_count": 47,
   "id": "6ec4a5c0",
   "metadata": {},
   "outputs": [],
   "source": [
    "model4=RandomForestClassifier(n_estimators=100, max_depth=10)"
   ]
  },
  {
   "cell_type": "code",
   "execution_count": 48,
   "id": "411335f4",
   "metadata": {},
   "outputs": [
    {
     "data": {
      "text/plain": [
       "1.0"
      ]
     },
     "execution_count": 48,
     "metadata": {},
     "output_type": "execute_result"
    }
   ],
   "source": [
    "model4.fit(X_train, y_train)\n",
    "model4.score(X_train, y_train)"
   ]
  },
  {
   "cell_type": "code",
   "execution_count": 49,
   "id": "49fbb212",
   "metadata": {},
   "outputs": [],
   "source": [
    "f_pred=model4.predict(X_test)"
   ]
  },
  {
   "cell_type": "code",
   "execution_count": 50,
   "id": "6545e3df",
   "metadata": {},
   "outputs": [
    {
     "name": "stdout",
     "output_type": "stream",
     "text": [
      "              precision    recall  f1-score   support\n",
      "\n",
      "           0       0.82      0.92      0.87        39\n",
      "           1       0.81      0.62      0.70        21\n",
      "\n",
      "    accuracy                           0.82        60\n",
      "   macro avg       0.82      0.77      0.79        60\n",
      "weighted avg       0.82      0.82      0.81        60\n",
      "\n"
     ]
    }
   ],
   "source": [
    "print(classification_report(y_test, f_pred))"
   ]
  },
  {
   "cell_type": "code",
   "execution_count": null,
   "id": "65342a4b",
   "metadata": {},
   "outputs": [],
   "source": []
  },
  {
   "cell_type": "markdown",
   "id": "87606e95",
   "metadata": {},
   "source": [
    "# Support vector machine"
   ]
  },
  {
   "cell_type": "code",
   "execution_count": 51,
   "id": "36e37912",
   "metadata": {},
   "outputs": [],
   "source": [
    "X_train, X_test, y_train, y_test = train_test_split(X, y, test_size=0.2, random_state=100)"
   ]
  },
  {
   "cell_type": "code",
   "execution_count": 52,
   "id": "0b72f0bb",
   "metadata": {},
   "outputs": [
    {
     "data": {
      "text/plain": [
       "0.8702928870292888"
      ]
     },
     "execution_count": 52,
     "metadata": {},
     "output_type": "execute_result"
    }
   ],
   "source": [
    "model5=SVC()\n",
    "model5.fit(X_train, y_train)\n",
    "model5.score(X_train, y_train)"
   ]
  },
  {
   "cell_type": "code",
   "execution_count": 53,
   "id": "4485be5d",
   "metadata": {},
   "outputs": [],
   "source": [
    "s_pred=model5.predict(X_test)"
   ]
  },
  {
   "cell_type": "code",
   "execution_count": 54,
   "id": "e0fcbc3d",
   "metadata": {},
   "outputs": [
    {
     "name": "stdout",
     "output_type": "stream",
     "text": [
      "              precision    recall  f1-score   support\n",
      "\n",
      "           0       0.76      0.95      0.84        39\n",
      "           1       0.82      0.43      0.56        21\n",
      "\n",
      "    accuracy                           0.77        60\n",
      "   macro avg       0.79      0.69      0.70        60\n",
      "weighted avg       0.78      0.77      0.74        60\n",
      "\n"
     ]
    }
   ],
   "source": [
    "print(classification_report(y_test, s_pred))"
   ]
  },
  {
   "cell_type": "code",
   "execution_count": null,
   "id": "b8c7b613",
   "metadata": {},
   "outputs": [],
   "source": []
  },
  {
   "cell_type": "markdown",
   "id": "ae84a815",
   "metadata": {},
   "source": [
    "# hyper parameter tunning"
   ]
  },
  {
   "cell_type": "code",
   "execution_count": 56,
   "id": "46a80404",
   "metadata": {},
   "outputs": [],
   "source": [
    "from sklearn.model_selection import GridSearchCV"
   ]
  },
  {
   "cell_type": "code",
   "execution_count": 57,
   "id": "1e46b8be",
   "metadata": {},
   "outputs": [],
   "source": [
    "param_grid={\"C\":[1,10,100,100], \"gamma\":[0.1,0.01,0.001,0.0001]}"
   ]
  },
  {
   "cell_type": "code",
   "execution_count": 58,
   "id": "95b10ac5",
   "metadata": {},
   "outputs": [],
   "source": [
    "grid=GridSearchCV(SVC(), param_grid, verbose=2)"
   ]
  },
  {
   "cell_type": "code",
   "execution_count": 59,
   "id": "1420c372",
   "metadata": {},
   "outputs": [
    {
     "name": "stdout",
     "output_type": "stream",
     "text": [
      "Fitting 5 folds for each of 16 candidates, totalling 80 fits\n",
      "[CV] END .....................................C=1, gamma=0.1; total time=   0.0s\n",
      "[CV] END .....................................C=1, gamma=0.1; total time=   0.0s\n",
      "[CV] END .....................................C=1, gamma=0.1; total time=   0.0s\n",
      "[CV] END .....................................C=1, gamma=0.1; total time=   0.0s\n",
      "[CV] END .....................................C=1, gamma=0.1; total time=   0.0s\n",
      "[CV] END ....................................C=1, gamma=0.01; total time=   0.0s\n",
      "[CV] END ....................................C=1, gamma=0.01; total time=   0.0s\n",
      "[CV] END ....................................C=1, gamma=0.01; total time=   0.0s\n",
      "[CV] END ....................................C=1, gamma=0.01; total time=   0.0s\n",
      "[CV] END ....................................C=1, gamma=0.01; total time=   0.0s\n",
      "[CV] END ...................................C=1, gamma=0.001; total time=   0.0s\n",
      "[CV] END ...................................C=1, gamma=0.001; total time=   0.0s\n",
      "[CV] END ...................................C=1, gamma=0.001; total time=   0.0s\n",
      "[CV] END ...................................C=1, gamma=0.001; total time=   0.0s\n",
      "[CV] END ...................................C=1, gamma=0.001; total time=   0.0s\n",
      "[CV] END ..................................C=1, gamma=0.0001; total time=   0.0s\n",
      "[CV] END ..................................C=1, gamma=0.0001; total time=   0.0s\n",
      "[CV] END ..................................C=1, gamma=0.0001; total time=   0.0s\n",
      "[CV] END ..................................C=1, gamma=0.0001; total time=   0.0s\n",
      "[CV] END ..................................C=1, gamma=0.0001; total time=   0.0s\n",
      "[CV] END ....................................C=10, gamma=0.1; total time=   0.0s\n",
      "[CV] END ....................................C=10, gamma=0.1; total time=   0.0s\n",
      "[CV] END ....................................C=10, gamma=0.1; total time=   0.0s\n",
      "[CV] END ....................................C=10, gamma=0.1; total time=   0.0s\n",
      "[CV] END ....................................C=10, gamma=0.1; total time=   0.0s\n",
      "[CV] END ...................................C=10, gamma=0.01; total time=   0.0s\n",
      "[CV] END ...................................C=10, gamma=0.01; total time=   0.0s\n",
      "[CV] END ...................................C=10, gamma=0.01; total time=   0.0s\n",
      "[CV] END ...................................C=10, gamma=0.01; total time=   0.0s\n",
      "[CV] END ...................................C=10, gamma=0.01; total time=   0.0s\n",
      "[CV] END ..................................C=10, gamma=0.001; total time=   0.0s\n",
      "[CV] END ..................................C=10, gamma=0.001; total time=   0.0s\n",
      "[CV] END ..................................C=10, gamma=0.001; total time=   0.0s\n",
      "[CV] END ..................................C=10, gamma=0.001; total time=   0.0s\n",
      "[CV] END ..................................C=10, gamma=0.001; total time=   0.0s\n",
      "[CV] END .................................C=10, gamma=0.0001; total time=   0.0s\n",
      "[CV] END .................................C=10, gamma=0.0001; total time=   0.0s\n",
      "[CV] END .................................C=10, gamma=0.0001; total time=   0.0s\n",
      "[CV] END .................................C=10, gamma=0.0001; total time=   0.0s\n",
      "[CV] END .................................C=10, gamma=0.0001; total time=   0.0s\n",
      "[CV] END ...................................C=100, gamma=0.1; total time=   0.0s\n",
      "[CV] END ...................................C=100, gamma=0.1; total time=   0.0s\n",
      "[CV] END ...................................C=100, gamma=0.1; total time=   0.0s\n",
      "[CV] END ...................................C=100, gamma=0.1; total time=   0.0s\n",
      "[CV] END ...................................C=100, gamma=0.1; total time=   0.0s\n",
      "[CV] END ..................................C=100, gamma=0.01; total time=   0.0s\n",
      "[CV] END ..................................C=100, gamma=0.01; total time=   0.0s\n",
      "[CV] END ..................................C=100, gamma=0.01; total time=   0.0s\n",
      "[CV] END ..................................C=100, gamma=0.01; total time=   0.0s\n",
      "[CV] END ..................................C=100, gamma=0.01; total time=   0.0s\n",
      "[CV] END .................................C=100, gamma=0.001; total time=   0.0s\n",
      "[CV] END .................................C=100, gamma=0.001; total time=   0.0s\n",
      "[CV] END .................................C=100, gamma=0.001; total time=   0.0s\n",
      "[CV] END .................................C=100, gamma=0.001; total time=   0.0s\n",
      "[CV] END .................................C=100, gamma=0.001; total time=   0.0s\n",
      "[CV] END ................................C=100, gamma=0.0001; total time=   0.0s\n",
      "[CV] END ................................C=100, gamma=0.0001; total time=   0.0s\n",
      "[CV] END ................................C=100, gamma=0.0001; total time=   0.0s\n",
      "[CV] END ................................C=100, gamma=0.0001; total time=   0.0s\n",
      "[CV] END ................................C=100, gamma=0.0001; total time=   0.0s\n",
      "[CV] END ...................................C=100, gamma=0.1; total time=   0.0s\n",
      "[CV] END ...................................C=100, gamma=0.1; total time=   0.0s\n",
      "[CV] END ...................................C=100, gamma=0.1; total time=   0.0s\n",
      "[CV] END ...................................C=100, gamma=0.1; total time=   0.0s\n",
      "[CV] END ...................................C=100, gamma=0.1; total time=   0.0s\n",
      "[CV] END ..................................C=100, gamma=0.01; total time=   0.0s\n",
      "[CV] END ..................................C=100, gamma=0.01; total time=   0.0s\n",
      "[CV] END ..................................C=100, gamma=0.01; total time=   0.0s\n",
      "[CV] END ..................................C=100, gamma=0.01; total time=   0.0s\n",
      "[CV] END ..................................C=100, gamma=0.01; total time=   0.0s\n",
      "[CV] END .................................C=100, gamma=0.001; total time=   0.0s\n",
      "[CV] END .................................C=100, gamma=0.001; total time=   0.0s\n",
      "[CV] END .................................C=100, gamma=0.001; total time=   0.0s\n",
      "[CV] END .................................C=100, gamma=0.001; total time=   0.0s\n",
      "[CV] END .................................C=100, gamma=0.001; total time=   0.0s\n",
      "[CV] END ................................C=100, gamma=0.0001; total time=   0.0s\n",
      "[CV] END ................................C=100, gamma=0.0001; total time=   0.0s\n",
      "[CV] END ................................C=100, gamma=0.0001; total time=   0.0s\n",
      "[CV] END ................................C=100, gamma=0.0001; total time=   0.0s\n",
      "[CV] END ................................C=100, gamma=0.0001; total time=   0.0s\n"
     ]
    },
    {
     "data": {
      "text/plain": [
       "GridSearchCV(estimator=SVC(),\n",
       "             param_grid={'C': [1, 10, 100, 100],\n",
       "                         'gamma': [0.1, 0.01, 0.001, 0.0001]},\n",
       "             verbose=2)"
      ]
     },
     "execution_count": 59,
     "metadata": {},
     "output_type": "execute_result"
    }
   ],
   "source": [
    "grid.fit(X_train, y_train)"
   ]
  },
  {
   "cell_type": "code",
   "execution_count": 60,
   "id": "65ddcacc",
   "metadata": {},
   "outputs": [
    {
     "data": {
      "text/plain": [
       "SVC(C=100, gamma=0.01)"
      ]
     },
     "execution_count": 60,
     "metadata": {},
     "output_type": "execute_result"
    }
   ],
   "source": [
    "grid.best_estimator_"
   ]
  },
  {
   "cell_type": "code",
   "execution_count": 61,
   "id": "0e3f527f",
   "metadata": {},
   "outputs": [],
   "source": [
    "model5=SVC(C=100, gamma=0.001)\n",
    "model5.fit(X_train, y_train)\n",
    "s_pred=model5.predict(X_test)"
   ]
  },
  {
   "cell_type": "code",
   "execution_count": 62,
   "id": "4df6ded4",
   "metadata": {},
   "outputs": [
    {
     "name": "stdout",
     "output_type": "stream",
     "text": [
      "              precision    recall  f1-score   support\n",
      "\n",
      "           0       0.75      1.00      0.86        39\n",
      "           1       1.00      0.38      0.55        21\n",
      "\n",
      "    accuracy                           0.78        60\n",
      "   macro avg       0.88      0.69      0.70        60\n",
      "weighted avg       0.84      0.78      0.75        60\n",
      "\n"
     ]
    }
   ],
   "source": [
    "print(classification_report(y_test, s_pred))"
   ]
  },
  {
   "cell_type": "code",
   "execution_count": null,
   "id": "5b002f6c",
   "metadata": {},
   "outputs": [],
   "source": []
  },
  {
   "cell_type": "markdown",
   "id": "10b18996",
   "metadata": {},
   "source": [
    "# Naive-bayes"
   ]
  },
  {
   "cell_type": "code",
   "execution_count": 63,
   "id": "b94c12da",
   "metadata": {},
   "outputs": [],
   "source": [
    "X_train, X_test, y_train, y_test = train_test_split(X, y, test_size=0.2, random_state=100)"
   ]
  },
  {
   "cell_type": "code",
   "execution_count": 64,
   "id": "456dac2a",
   "metadata": {},
   "outputs": [
    {
     "data": {
      "text/plain": [
       "0.799163179916318"
      ]
     },
     "execution_count": 64,
     "metadata": {},
     "output_type": "execute_result"
    }
   ],
   "source": [
    "model6=GaussianNB()\n",
    "model6.fit(X_train, y_train)\n",
    "model6.score(X_train, y_train)"
   ]
  },
  {
   "cell_type": "code",
   "execution_count": 65,
   "id": "3718ceab",
   "metadata": {},
   "outputs": [],
   "source": [
    "g_pred=model6.predict(X_test)"
   ]
  },
  {
   "cell_type": "code",
   "execution_count": 66,
   "id": "d1e84fcb",
   "metadata": {},
   "outputs": [
    {
     "name": "stdout",
     "output_type": "stream",
     "text": [
      "              precision    recall  f1-score   support\n",
      "\n",
      "           0       0.73      0.85      0.79        39\n",
      "           1       0.60      0.43      0.50        21\n",
      "\n",
      "    accuracy                           0.70        60\n",
      "   macro avg       0.67      0.64      0.64        60\n",
      "weighted avg       0.69      0.70      0.69        60\n",
      "\n"
     ]
    }
   ],
   "source": [
    "print(classification_report(y_test, g_pred))"
   ]
  },
  {
   "cell_type": "code",
   "execution_count": null,
   "id": "5c16000b",
   "metadata": {},
   "outputs": [],
   "source": []
  },
  {
   "cell_type": "markdown",
   "id": "ca559a08",
   "metadata": {},
   "source": [
    "# from my observation Random forest did better than all the algorithms because it has better recall score than the rest, all the remaining did okay but has bad recall score"
   ]
  },
  {
   "cell_type": "code",
   "execution_count": null,
   "id": "5b9b764c",
   "metadata": {},
   "outputs": [],
   "source": []
  }
 ],
 "metadata": {
  "colab": {
   "collapsed_sections": [],
   "provenance": []
  },
  "kernelspec": {
   "display_name": "Python 3 (ipykernel)",
   "language": "python",
   "name": "python3"
  },
  "language_info": {
   "codemirror_mode": {
    "name": "ipython",
    "version": 3
   },
   "file_extension": ".py",
   "mimetype": "text/x-python",
   "name": "python",
   "nbconvert_exporter": "python",
   "pygments_lexer": "ipython3",
   "version": "3.9.12"
  }
 },
 "nbformat": 4,
 "nbformat_minor": 5
}
