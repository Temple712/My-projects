{
 "cells": [
  {
   "cell_type": "markdown",
   "id": "c4514f8b",
   "metadata": {},
   "source": [
    "## This data set contains details of a bank's customers and the target variable is a binary variable reflecting the fact whether the customer left the bank (closed his account) or he continues to be a customer."
   ]
  },
  {
   "cell_type": "code",
   "execution_count": 1,
   "id": "33f068ba",
   "metadata": {},
   "outputs": [],
   "source": [
    "import pandas as pd\n",
    "import numpy as np\n",
    "import seaborn as sns\n",
    "import matplotlib.pyplot as plt\n",
    "from sklearn.preprocessing import MinMaxScaler\n",
    "from sklearn.model_selection import train_test_split\n",
    "from sklearn.linear_model import LogisticRegression\n",
    "from sklearn.neighbors import KNeighborsClassifier\n",
    "from sklearn.tree import DecisionTreeClassifier\n",
    "from sklearn.ensemble import RandomForestClassifier\n",
    "from sklearn.svm import SVC\n",
    "from sklearn.naive_bayes import GaussianNB\n",
    "from sklearn.metrics import classification_report\n",
    "import tensorflow as tf\n",
    "from tensorflow.keras.models import Sequential\n",
    "from tensorflow.keras.layers import Dense\n",
    "from sklearn.model_selection import train_test_split\n",
    "from sklearn.preprocessing import StandardScaler\n",
    "from sklearn.metrics import confusion_matrix, accuracy_score"
   ]
  },
  {
   "cell_type": "code",
   "execution_count": 2,
   "id": "fc437a31",
   "metadata": {},
   "outputs": [
    {
     "name": "stdout",
     "output_type": "stream",
     "text": [
      "(10000, 14)\n"
     ]
    },
    {
     "data": {
      "text/html": [
       "<div>\n",
       "<style scoped>\n",
       "    .dataframe tbody tr th:only-of-type {\n",
       "        vertical-align: middle;\n",
       "    }\n",
       "\n",
       "    .dataframe tbody tr th {\n",
       "        vertical-align: top;\n",
       "    }\n",
       "\n",
       "    .dataframe thead th {\n",
       "        text-align: right;\n",
       "    }\n",
       "</style>\n",
       "<table border=\"1\" class=\"dataframe\">\n",
       "  <thead>\n",
       "    <tr style=\"text-align: right;\">\n",
       "      <th></th>\n",
       "      <th>RowNumber</th>\n",
       "      <th>CustomerId</th>\n",
       "      <th>Surname</th>\n",
       "      <th>CreditScore</th>\n",
       "      <th>Geography</th>\n",
       "      <th>Gender</th>\n",
       "      <th>Age</th>\n",
       "      <th>Tenure</th>\n",
       "      <th>Balance</th>\n",
       "      <th>NumOfProducts</th>\n",
       "      <th>HasCrCard</th>\n",
       "      <th>IsActiveMember</th>\n",
       "      <th>EstimatedSalary</th>\n",
       "      <th>Exited</th>\n",
       "    </tr>\n",
       "  </thead>\n",
       "  <tbody>\n",
       "    <tr>\n",
       "      <th>0</th>\n",
       "      <td>1</td>\n",
       "      <td>15634602</td>\n",
       "      <td>Hargrave</td>\n",
       "      <td>619</td>\n",
       "      <td>France</td>\n",
       "      <td>Female</td>\n",
       "      <td>42</td>\n",
       "      <td>2</td>\n",
       "      <td>0.00</td>\n",
       "      <td>1</td>\n",
       "      <td>1</td>\n",
       "      <td>1</td>\n",
       "      <td>101348.88</td>\n",
       "      <td>1</td>\n",
       "    </tr>\n",
       "    <tr>\n",
       "      <th>1</th>\n",
       "      <td>2</td>\n",
       "      <td>15647311</td>\n",
       "      <td>Hill</td>\n",
       "      <td>608</td>\n",
       "      <td>Spain</td>\n",
       "      <td>Female</td>\n",
       "      <td>41</td>\n",
       "      <td>1</td>\n",
       "      <td>83807.86</td>\n",
       "      <td>1</td>\n",
       "      <td>0</td>\n",
       "      <td>1</td>\n",
       "      <td>112542.58</td>\n",
       "      <td>0</td>\n",
       "    </tr>\n",
       "    <tr>\n",
       "      <th>2</th>\n",
       "      <td>3</td>\n",
       "      <td>15619304</td>\n",
       "      <td>Onio</td>\n",
       "      <td>502</td>\n",
       "      <td>France</td>\n",
       "      <td>Female</td>\n",
       "      <td>42</td>\n",
       "      <td>8</td>\n",
       "      <td>159660.80</td>\n",
       "      <td>3</td>\n",
       "      <td>1</td>\n",
       "      <td>0</td>\n",
       "      <td>113931.57</td>\n",
       "      <td>1</td>\n",
       "    </tr>\n",
       "    <tr>\n",
       "      <th>3</th>\n",
       "      <td>4</td>\n",
       "      <td>15701354</td>\n",
       "      <td>Boni</td>\n",
       "      <td>699</td>\n",
       "      <td>France</td>\n",
       "      <td>Female</td>\n",
       "      <td>39</td>\n",
       "      <td>1</td>\n",
       "      <td>0.00</td>\n",
       "      <td>2</td>\n",
       "      <td>0</td>\n",
       "      <td>0</td>\n",
       "      <td>93826.63</td>\n",
       "      <td>0</td>\n",
       "    </tr>\n",
       "    <tr>\n",
       "      <th>4</th>\n",
       "      <td>5</td>\n",
       "      <td>15737888</td>\n",
       "      <td>Mitchell</td>\n",
       "      <td>850</td>\n",
       "      <td>Spain</td>\n",
       "      <td>Female</td>\n",
       "      <td>43</td>\n",
       "      <td>2</td>\n",
       "      <td>125510.82</td>\n",
       "      <td>1</td>\n",
       "      <td>1</td>\n",
       "      <td>1</td>\n",
       "      <td>79084.10</td>\n",
       "      <td>0</td>\n",
       "    </tr>\n",
       "  </tbody>\n",
       "</table>\n",
       "</div>"
      ],
      "text/plain": [
       "   RowNumber  CustomerId   Surname  CreditScore Geography  Gender  Age  \\\n",
       "0          1    15634602  Hargrave          619    France  Female   42   \n",
       "1          2    15647311      Hill          608     Spain  Female   41   \n",
       "2          3    15619304      Onio          502    France  Female   42   \n",
       "3          4    15701354      Boni          699    France  Female   39   \n",
       "4          5    15737888  Mitchell          850     Spain  Female   43   \n",
       "\n",
       "   Tenure    Balance  NumOfProducts  HasCrCard  IsActiveMember  \\\n",
       "0       2       0.00              1          1               1   \n",
       "1       1   83807.86              1          0               1   \n",
       "2       8  159660.80              3          1               0   \n",
       "3       1       0.00              2          0               0   \n",
       "4       2  125510.82              1          1               1   \n",
       "\n",
       "   EstimatedSalary  Exited  \n",
       "0        101348.88       1  \n",
       "1        112542.58       0  \n",
       "2        113931.57       1  \n",
       "3         93826.63       0  \n",
       "4         79084.10       0  "
      ]
     },
     "execution_count": 2,
     "metadata": {},
     "output_type": "execute_result"
    }
   ],
   "source": [
    "df= pd.read_csv(\"churn_modelling.csv\")\n",
    "print(df.shape)\n",
    "df.head()"
   ]
  },
  {
   "cell_type": "code",
   "execution_count": null,
   "id": "3da84d87",
   "metadata": {},
   "outputs": [],
   "source": []
  },
  {
   "cell_type": "markdown",
   "id": "54ab02bc",
   "metadata": {},
   "source": [
    "# Variables\n",
    "\n",
    "\n",
    "### Row Numbers= from 1 to 10000\n",
    "\n",
    "### CustomerId= Unique Ids for bank customer identification\n",
    "\n",
    "### Surname= Customer's last name\n",
    "\n",
    "### CreditScore= Credit score of the customer\n",
    "\n",
    "### Geography= The country from which the customer belongs\n",
    "\n",
    "### Age= Age of the customer\n",
    "\n",
    "### Tenure= Number of years for which the customer has been with the bank\n",
    "\n",
    "### Balance= Bank balance of the customer\n",
    "### NumOfProducts=Number of bank products the customer is utilising\n",
    "### Existed= where the customer closed the bank account or not\n"
   ]
  },
  {
   "cell_type": "code",
   "execution_count": 3,
   "id": "295f2380",
   "metadata": {},
   "outputs": [
    {
     "data": {
      "text/plain": [
       "0"
      ]
     },
     "execution_count": 3,
     "metadata": {},
     "output_type": "execute_result"
    }
   ],
   "source": [
    "df.duplicated().sum()"
   ]
  },
  {
   "cell_type": "code",
   "execution_count": 4,
   "id": "275aeba9",
   "metadata": {},
   "outputs": [
    {
     "data": {
      "text/plain": [
       "RowNumber          0\n",
       "CustomerId         0\n",
       "Surname            0\n",
       "CreditScore        0\n",
       "Geography          0\n",
       "Gender             0\n",
       "Age                0\n",
       "Tenure             0\n",
       "Balance            0\n",
       "NumOfProducts      0\n",
       "HasCrCard          0\n",
       "IsActiveMember     0\n",
       "EstimatedSalary    0\n",
       "Exited             0\n",
       "dtype: int64"
      ]
     },
     "execution_count": 4,
     "metadata": {},
     "output_type": "execute_result"
    }
   ],
   "source": [
    "df.isna().sum()"
   ]
  },
  {
   "cell_type": "markdown",
   "id": "d3caa791",
   "metadata": {},
   "source": [
    "# Exploratory data analysis"
   ]
  },
  {
   "cell_type": "code",
   "execution_count": 5,
   "id": "9eda50d8",
   "metadata": {},
   "outputs": [
    {
     "data": {
      "text/plain": [
       "<AxesSubplot:xlabel='Exited', ylabel='count'>"
      ]
     },
     "execution_count": 5,
     "metadata": {},
     "output_type": "execute_result"
    },
    {
     "data": {
      "image/png": "[encoded data removed]",
      "text/plain": [
       "<Figure size 576x432 with 1 Axes>"
      ]
     },
     "metadata": {
      "needs_background": "light"
     },
     "output_type": "display_data"
    }
   ],
   "source": [
    "plt.figure(figsize=(8,6))\n",
    "sns.countplot(x='Exited',data=df)"
   ]
  },
  {
   "cell_type": "code",
   "execution_count": 6,
   "id": "78c170ee",
   "metadata": {},
   "outputs": [
    {
     "data": {
      "text/plain": [
       "<AxesSubplot:xlabel='Gender', ylabel='count'>"
      ]
     },
     "execution_count": 6,
     "metadata": {},
     "output_type": "execute_result"
    },
    {
     "data": {
      "image/png": "[encoded data removed]",
      "text/plain": [
       "<Figure size 576x432 with 1 Axes>"
      ]
     },
     "metadata": {
      "needs_background": "light"
     },
     "output_type": "display_data"
    }
   ],
   "source": [
    "plt.figure(figsize=(8,6))\n",
    "\n",
    "sns.countplot(x=\"Gender\", hue=\"Exited\", data=df)"
   ]
  },
  {
   "cell_type": "code",
   "execution_count": null,
   "id": "f7084ab6",
   "metadata": {},
   "outputs": [],
   "source": []
  },
  {
   "cell_type": "code",
   "execution_count": 7,
   "id": "8d5252c3",
   "metadata": {},
   "outputs": [
    {
     "data": {
      "text/plain": [
       "<AxesSubplot:xlabel='Age', ylabel='Count'>"
      ]
     },
     "execution_count": 7,
     "metadata": {},
     "output_type": "execute_result"
    },
    {
     "data": {
      "image/png": "[encoded data removed]",
      "text/plain": [
       "<Figure size 576x432 with 1 Axes>"
      ]
     },
     "metadata": {
      "needs_background": "light"
     },
     "output_type": "display_data"
    }
   ],
   "source": [
    "plt.figure(figsize=(8,6))\n",
    "sns.histplot(x=\"Age\", data=df, bins=30,alpha=0.7)"
   ]
  },
  {
   "cell_type": "code",
   "execution_count": null,
   "id": "2a14d374",
   "metadata": {},
   "outputs": [],
   "source": []
  },
  {
   "cell_type": "code",
   "execution_count": 8,
   "id": "77eb8088",
   "metadata": {},
   "outputs": [
    {
     "data": {
      "text/plain": [
       "<AxesSubplot:xlabel='EstimatedSalary', ylabel='Count'>"
      ]
     },
     "execution_count": 8,
     "metadata": {},
     "output_type": "execute_result"
    },
    {
     "data": {
      "image/png": "[encoded data removed]",
      "text/plain": [
       "<Figure size 576x432 with 1 Axes>"
      ]
     },
     "metadata": {
      "needs_background": "light"
     },
     "output_type": "display_data"
    }
   ],
   "source": [
    "plt.figure(figsize=(8,6))\n",
    "sns.histplot(x=\"EstimatedSalary\", data=df, bins=30,alpha=0.7)"
   ]
  },
  {
   "cell_type": "code",
   "execution_count": 9,
   "id": "a0c740de",
   "metadata": {},
   "outputs": [
    {
     "data": {
      "text/plain": [
       "<AxesSubplot:xlabel='NumOfProducts', ylabel='count'>"
      ]
     },
     "execution_count": 9,
     "metadata": {},
     "output_type": "execute_result"
    },
    {
     "data": {
      "image/png": "[encoded data removed]",
      "text/plain": [
       "<Figure size 576x432 with 1 Axes>"
      ]
     },
     "metadata": {
      "needs_background": "light"
     },
     "output_type": "display_data"
    }
   ],
   "source": [
    "plt.figure(figsize=(8,6))\n",
    "sns.countplot(x='NumOfProducts',data=df)"
   ]
  },
  {
   "cell_type": "code",
   "execution_count": 10,
   "id": "9897db93",
   "metadata": {},
   "outputs": [],
   "source": [
    "df1=df[df[\"Exited\"]==0]\n",
    "df2=df[df[\"Exited\"]==1]"
   ]
  },
  {
   "cell_type": "code",
   "execution_count": 11,
   "id": "e49cbcf6",
   "metadata": {},
   "outputs": [
    {
     "data": {
      "text/plain": [
       "Index(['RowNumber', 'CustomerId', 'Surname', 'CreditScore', 'Geography',\n",
       "       'Gender', 'Age', 'Tenure', 'Balance', 'NumOfProducts', 'HasCrCard',\n",
       "       'IsActiveMember', 'EstimatedSalary', 'Exited'],\n",
       "      dtype='object')"
      ]
     },
     "execution_count": 11,
     "metadata": {},
     "output_type": "execute_result"
    }
   ],
   "source": [
    "df.columns"
   ]
  },
  {
   "cell_type": "code",
   "execution_count": 12,
   "id": "9db3691d",
   "metadata": {},
   "outputs": [],
   "source": [
    "features=['CreditScore', 'Age', 'Tenure', 'Balance', 'NumOfProducts', 'HasCrCard','IsActiveMember', 'EstimatedSalary']"
   ]
  },
  {
   "cell_type": "code",
   "execution_count": 13,
   "id": "0a4a7354",
   "metadata": {},
   "outputs": [],
   "source": [
    "df_data=df[features]"
   ]
  },
  {
   "cell_type": "code",
   "execution_count": 15,
   "id": "794b4537",
   "metadata": {},
   "outputs": [
    {
     "data": {
      "text/plain": [
       "<AxesSubplot:>"
      ]
     },
     "execution_count": 15,
     "metadata": {},
     "output_type": "execute_result"
    },
    {
     "data": {
      "image/png": "[encoded data removed]",
      "text/plain": [
       "<Figure size 720x432 with 2 Axes>"
      ]
     },
     "metadata": {
      "needs_background": "light"
     },
     "output_type": "display_data"
    }
   ],
   "source": [
    "plt.figure(figsize=(10,6))\n",
    "sns.heatmap(df_data.corr(), annot= True)"
   ]
  },
  {
   "cell_type": "code",
   "execution_count": 10,
   "id": "04392f33",
   "metadata": {},
   "outputs": [
    {
     "data": {
      "image/png": "[encoded data removed]",
      "text/plain": [
       "<Figure size 864x576 with 12 Axes>"
      ]
     },
     "metadata": {
      "needs_background": "light"
     },
     "output_type": "display_data"
    }
   ],
   "source": [
    "fig, axs= plt.subplots(4,3, figsize=(12,8))\n",
    "\n",
    "\n",
    "for i in range(4):\n",
    "    for j in range(2):\n",
    "        k= 2*i+j\n",
    "        if k>=8: continue\n",
    "\n",
    "        feet= features[k]\n",
    "        \n",
    "        ax= axs[i,j]\n",
    "        ax.boxplot([df1[feet], df2[feet]]);\n",
    "        ax.set_title(feet)\n",
    "        ax.set_xticklabels(['Not Exited', 'Existed'])\n",
    "plt.subplots_adjust(wspace=.25)\n",
    "plt.tight_layout()"
   ]
  },
  {
   "cell_type": "code",
   "execution_count": null,
   "id": "264e5447",
   "metadata": {},
   "outputs": [],
   "source": []
  },
  {
   "cell_type": "markdown",
   "id": "d07312e1",
   "metadata": {},
   "source": [
    "# Feature Engineering"
   ]
  },
  {
   "cell_type": "code",
   "execution_count": 11,
   "id": "a7580fc4",
   "metadata": {},
   "outputs": [
    {
     "data": {
      "text/html": [
       "<div>\n",
       "<style scoped>\n",
       "    .dataframe tbody tr th:only-of-type {\n",
       "        vertical-align: middle;\n",
       "    }\n",
       "\n",
       "    .dataframe tbody tr th {\n",
       "        vertical-align: top;\n",
       "    }\n",
       "\n",
       "    .dataframe thead th {\n",
       "        text-align: right;\n",
       "    }\n",
       "</style>\n",
       "<table border=\"1\" class=\"dataframe\">\n",
       "  <thead>\n",
       "    <tr style=\"text-align: right;\">\n",
       "      <th></th>\n",
       "      <th>Geography_Germany</th>\n",
       "      <th>Geography_Spain</th>\n",
       "    </tr>\n",
       "  </thead>\n",
       "  <tbody>\n",
       "    <tr>\n",
       "      <th>0</th>\n",
       "      <td>0</td>\n",
       "      <td>0</td>\n",
       "    </tr>\n",
       "    <tr>\n",
       "      <th>1</th>\n",
       "      <td>0</td>\n",
       "      <td>1</td>\n",
       "    </tr>\n",
       "    <tr>\n",
       "      <th>2</th>\n",
       "      <td>0</td>\n",
       "      <td>0</td>\n",
       "    </tr>\n",
       "    <tr>\n",
       "      <th>3</th>\n",
       "      <td>0</td>\n",
       "      <td>0</td>\n",
       "    </tr>\n",
       "    <tr>\n",
       "      <th>4</th>\n",
       "      <td>0</td>\n",
       "      <td>1</td>\n",
       "    </tr>\n",
       "  </tbody>\n",
       "</table>\n",
       "</div>"
      ],
      "text/plain": [
       "   Geography_Germany  Geography_Spain\n",
       "0                  0                0\n",
       "1                  0                1\n",
       "2                  0                0\n",
       "3                  0                0\n",
       "4                  0                1"
      ]
     },
     "execution_count": 11,
     "metadata": {},
     "output_type": "execute_result"
    }
   ],
   "source": [
    "df1=pd.get_dummies(df[\"Geography\"], prefix=\"Geography\", drop_first=True)\n",
    "df1.head()"
   ]
  },
  {
   "cell_type": "code",
   "execution_count": 12,
   "id": "24a23367",
   "metadata": {},
   "outputs": [
    {
     "data": {
      "text/html": [
       "<div>\n",
       "<style scoped>\n",
       "    .dataframe tbody tr th:only-of-type {\n",
       "        vertical-align: middle;\n",
       "    }\n",
       "\n",
       "    .dataframe tbody tr th {\n",
       "        vertical-align: top;\n",
       "    }\n",
       "\n",
       "    .dataframe thead th {\n",
       "        text-align: right;\n",
       "    }\n",
       "</style>\n",
       "<table border=\"1\" class=\"dataframe\">\n",
       "  <thead>\n",
       "    <tr style=\"text-align: right;\">\n",
       "      <th></th>\n",
       "      <th>Gender_Male</th>\n",
       "    </tr>\n",
       "  </thead>\n",
       "  <tbody>\n",
       "    <tr>\n",
       "      <th>0</th>\n",
       "      <td>0</td>\n",
       "    </tr>\n",
       "    <tr>\n",
       "      <th>1</th>\n",
       "      <td>0</td>\n",
       "    </tr>\n",
       "    <tr>\n",
       "      <th>2</th>\n",
       "      <td>0</td>\n",
       "    </tr>\n",
       "    <tr>\n",
       "      <th>3</th>\n",
       "      <td>0</td>\n",
       "    </tr>\n",
       "    <tr>\n",
       "      <th>4</th>\n",
       "      <td>0</td>\n",
       "    </tr>\n",
       "  </tbody>\n",
       "</table>\n",
       "</div>"
      ],
      "text/plain": [
       "   Gender_Male\n",
       "0            0\n",
       "1            0\n",
       "2            0\n",
       "3            0\n",
       "4            0"
      ]
     },
     "execution_count": 12,
     "metadata": {},
     "output_type": "execute_result"
    }
   ],
   "source": [
    "df2=pd.get_dummies(df[\"Gender\"], prefix=\"Gender\", drop_first=True)\n",
    "df2.head()"
   ]
  },
  {
   "cell_type": "code",
   "execution_count": 13,
   "id": "4a350dbc",
   "metadata": {},
   "outputs": [
    {
     "data": {
      "text/html": [
       "<div>\n",
       "<style scoped>\n",
       "    .dataframe tbody tr th:only-of-type {\n",
       "        vertical-align: middle;\n",
       "    }\n",
       "\n",
       "    .dataframe tbody tr th {\n",
       "        vertical-align: top;\n",
       "    }\n",
       "\n",
       "    .dataframe thead th {\n",
       "        text-align: right;\n",
       "    }\n",
       "</style>\n",
       "<table border=\"1\" class=\"dataframe\">\n",
       "  <thead>\n",
       "    <tr style=\"text-align: right;\">\n",
       "      <th></th>\n",
       "      <th>Geography_Germany</th>\n",
       "      <th>Geography_Spain</th>\n",
       "      <th>Gender_Male</th>\n",
       "    </tr>\n",
       "  </thead>\n",
       "  <tbody>\n",
       "    <tr>\n",
       "      <th>0</th>\n",
       "      <td>0</td>\n",
       "      <td>0</td>\n",
       "      <td>0</td>\n",
       "    </tr>\n",
       "    <tr>\n",
       "      <th>1</th>\n",
       "      <td>0</td>\n",
       "      <td>1</td>\n",
       "      <td>0</td>\n",
       "    </tr>\n",
       "    <tr>\n",
       "      <th>2</th>\n",
       "      <td>0</td>\n",
       "      <td>0</td>\n",
       "      <td>0</td>\n",
       "    </tr>\n",
       "    <tr>\n",
       "      <th>3</th>\n",
       "      <td>0</td>\n",
       "      <td>0</td>\n",
       "      <td>0</td>\n",
       "    </tr>\n",
       "    <tr>\n",
       "      <th>4</th>\n",
       "      <td>0</td>\n",
       "      <td>1</td>\n",
       "      <td>0</td>\n",
       "    </tr>\n",
       "  </tbody>\n",
       "</table>\n",
       "</div>"
      ],
      "text/plain": [
       "   Geography_Germany  Geography_Spain  Gender_Male\n",
       "0                  0                0            0\n",
       "1                  0                1            0\n",
       "2                  0                0            0\n",
       "3                  0                0            0\n",
       "4                  0                1            0"
      ]
     },
     "execution_count": 13,
     "metadata": {},
     "output_type": "execute_result"
    }
   ],
   "source": [
    "dff=pd.concat([df1,df2], axis=1)\n",
    "dff.head()"
   ]
  },
  {
   "cell_type": "code",
   "execution_count": 14,
   "id": "620cdd6f",
   "metadata": {},
   "outputs": [],
   "source": [
    "df=pd.concat([dff,df],axis=1)"
   ]
  },
  {
   "cell_type": "code",
   "execution_count": 15,
   "id": "725b1b4b",
   "metadata": {},
   "outputs": [],
   "source": [
    "df=df.drop([\"Geography\", \"Gender\", \"RowNumber\", \"CustomerId\", \"Surname\"], axis=1)"
   ]
  },
  {
   "cell_type": "code",
   "execution_count": 16,
   "id": "0e3e322e",
   "metadata": {},
   "outputs": [
    {
     "data": {
      "text/html": [
       "<div>\n",
       "<style scoped>\n",
       "    .dataframe tbody tr th:only-of-type {\n",
       "        vertical-align: middle;\n",
       "    }\n",
       "\n",
       "    .dataframe tbody tr th {\n",
       "        vertical-align: top;\n",
       "    }\n",
       "\n",
       "    .dataframe thead th {\n",
       "        text-align: right;\n",
       "    }\n",
       "</style>\n",
       "<table border=\"1\" class=\"dataframe\">\n",
       "  <thead>\n",
       "    <tr style=\"text-align: right;\">\n",
       "      <th></th>\n",
       "      <th>Geography_Germany</th>\n",
       "      <th>Geography_Spain</th>\n",
       "      <th>Gender_Male</th>\n",
       "      <th>CreditScore</th>\n",
       "      <th>Age</th>\n",
       "      <th>Tenure</th>\n",
       "      <th>Balance</th>\n",
       "      <th>NumOfProducts</th>\n",
       "      <th>HasCrCard</th>\n",
       "      <th>IsActiveMember</th>\n",
       "      <th>EstimatedSalary</th>\n",
       "      <th>Exited</th>\n",
       "    </tr>\n",
       "  </thead>\n",
       "  <tbody>\n",
       "    <tr>\n",
       "      <th>0</th>\n",
       "      <td>0</td>\n",
       "      <td>0</td>\n",
       "      <td>0</td>\n",
       "      <td>619</td>\n",
       "      <td>42</td>\n",
       "      <td>2</td>\n",
       "      <td>0.00</td>\n",
       "      <td>1</td>\n",
       "      <td>1</td>\n",
       "      <td>1</td>\n",
       "      <td>101348.88</td>\n",
       "      <td>1</td>\n",
       "    </tr>\n",
       "    <tr>\n",
       "      <th>1</th>\n",
       "      <td>0</td>\n",
       "      <td>1</td>\n",
       "      <td>0</td>\n",
       "      <td>608</td>\n",
       "      <td>41</td>\n",
       "      <td>1</td>\n",
       "      <td>83807.86</td>\n",
       "      <td>1</td>\n",
       "      <td>0</td>\n",
       "      <td>1</td>\n",
       "      <td>112542.58</td>\n",
       "      <td>0</td>\n",
       "    </tr>\n",
       "    <tr>\n",
       "      <th>2</th>\n",
       "      <td>0</td>\n",
       "      <td>0</td>\n",
       "      <td>0</td>\n",
       "      <td>502</td>\n",
       "      <td>42</td>\n",
       "      <td>8</td>\n",
       "      <td>159660.80</td>\n",
       "      <td>3</td>\n",
       "      <td>1</td>\n",
       "      <td>0</td>\n",
       "      <td>113931.57</td>\n",
       "      <td>1</td>\n",
       "    </tr>\n",
       "    <tr>\n",
       "      <th>3</th>\n",
       "      <td>0</td>\n",
       "      <td>0</td>\n",
       "      <td>0</td>\n",
       "      <td>699</td>\n",
       "      <td>39</td>\n",
       "      <td>1</td>\n",
       "      <td>0.00</td>\n",
       "      <td>2</td>\n",
       "      <td>0</td>\n",
       "      <td>0</td>\n",
       "      <td>93826.63</td>\n",
       "      <td>0</td>\n",
       "    </tr>\n",
       "    <tr>\n",
       "      <th>4</th>\n",
       "      <td>0</td>\n",
       "      <td>1</td>\n",
       "      <td>0</td>\n",
       "      <td>850</td>\n",
       "      <td>43</td>\n",
       "      <td>2</td>\n",
       "      <td>125510.82</td>\n",
       "      <td>1</td>\n",
       "      <td>1</td>\n",
       "      <td>1</td>\n",
       "      <td>79084.10</td>\n",
       "      <td>0</td>\n",
       "    </tr>\n",
       "  </tbody>\n",
       "</table>\n",
       "</div>"
      ],
      "text/plain": [
       "   Geography_Germany  Geography_Spain  Gender_Male  CreditScore  Age  Tenure  \\\n",
       "0                  0                0            0          619   42       2   \n",
       "1                  0                1            0          608   41       1   \n",
       "2                  0                0            0          502   42       8   \n",
       "3                  0                0            0          699   39       1   \n",
       "4                  0                1            0          850   43       2   \n",
       "\n",
       "     Balance  NumOfProducts  HasCrCard  IsActiveMember  EstimatedSalary  \\\n",
       "0       0.00              1          1               1        101348.88   \n",
       "1   83807.86              1          0               1        112542.58   \n",
       "2  159660.80              3          1               0        113931.57   \n",
       "3       0.00              2          0               0         93826.63   \n",
       "4  125510.82              1          1               1         79084.10   \n",
       "\n",
       "   Exited  \n",
       "0       1  \n",
       "1       0  \n",
       "2       1  \n",
       "3       0  \n",
       "4       0  "
      ]
     },
     "execution_count": 16,
     "metadata": {},
     "output_type": "execute_result"
    }
   ],
   "source": [
    "df.head()"
   ]
  },
  {
   "cell_type": "code",
   "execution_count": 17,
   "id": "b50fde29",
   "metadata": {},
   "outputs": [],
   "source": [
    "X=df.iloc[:, 0:11]"
   ]
  },
  {
   "cell_type": "code",
   "execution_count": 18,
   "id": "43e58f18",
   "metadata": {},
   "outputs": [],
   "source": [
    "y=df[\"Exited\"]"
   ]
  },
  {
   "cell_type": "code",
   "execution_count": 19,
   "id": "c5bb307e",
   "metadata": {},
   "outputs": [],
   "source": [
    "X= StandardScaler().fit_transform(X)"
   ]
  },
  {
   "cell_type": "code",
   "execution_count": 20,
   "id": "866a21a5",
   "metadata": {},
   "outputs": [
    {
     "data": {
      "text/plain": [
       "array([[-0.57873591, -0.57380915, -1.09598752, ...,  0.64609167,\n",
       "         0.97024255,  0.02188649],\n",
       "       [-0.57873591,  1.74273971, -1.09598752, ..., -1.54776799,\n",
       "         0.97024255,  0.21653375],\n",
       "       [-0.57873591, -0.57380915, -1.09598752, ...,  0.64609167,\n",
       "        -1.03067011,  0.2406869 ],\n",
       "       ...,\n",
       "       [-0.57873591, -0.57380915, -1.09598752, ..., -1.54776799,\n",
       "         0.97024255, -1.00864308],\n",
       "       [ 1.72790383, -0.57380915,  0.91241915, ...,  0.64609167,\n",
       "        -1.03067011, -0.12523071],\n",
       "       [-0.57873591, -0.57380915, -1.09598752, ...,  0.64609167,\n",
       "        -1.03067011, -1.07636976]])"
      ]
     },
     "execution_count": 20,
     "metadata": {},
     "output_type": "execute_result"
    }
   ],
   "source": [
    "X"
   ]
  },
  {
   "cell_type": "code",
   "execution_count": 21,
   "id": "c76100ce",
   "metadata": {},
   "outputs": [
    {
     "data": {
      "text/html": [
       "<div>\n",
       "<style scoped>\n",
       "    .dataframe tbody tr th:only-of-type {\n",
       "        vertical-align: middle;\n",
       "    }\n",
       "\n",
       "    .dataframe tbody tr th {\n",
       "        vertical-align: top;\n",
       "    }\n",
       "\n",
       "    .dataframe thead th {\n",
       "        text-align: right;\n",
       "    }\n",
       "</style>\n",
       "<table border=\"1\" class=\"dataframe\">\n",
       "  <thead>\n",
       "    <tr style=\"text-align: right;\">\n",
       "      <th></th>\n",
       "      <th>Geography_Germany</th>\n",
       "      <th>Geography_Spain</th>\n",
       "      <th>Gender_Male</th>\n",
       "      <th>CreditScore</th>\n",
       "      <th>Age</th>\n",
       "      <th>Tenure</th>\n",
       "      <th>Balance</th>\n",
       "      <th>NumOfProducts</th>\n",
       "      <th>HasCrCard</th>\n",
       "      <th>IsActiveMember</th>\n",
       "      <th>EstimatedSalary</th>\n",
       "    </tr>\n",
       "  </thead>\n",
       "  <tbody>\n",
       "    <tr>\n",
       "      <th>0</th>\n",
       "      <td>-0.578736</td>\n",
       "      <td>-0.573809</td>\n",
       "      <td>-1.095988</td>\n",
       "      <td>-0.326221</td>\n",
       "      <td>0.293517</td>\n",
       "      <td>-1.041760</td>\n",
       "      <td>-1.225848</td>\n",
       "      <td>-0.911583</td>\n",
       "      <td>0.646092</td>\n",
       "      <td>0.970243</td>\n",
       "      <td>0.021886</td>\n",
       "    </tr>\n",
       "    <tr>\n",
       "      <th>1</th>\n",
       "      <td>-0.578736</td>\n",
       "      <td>1.742740</td>\n",
       "      <td>-1.095988</td>\n",
       "      <td>-0.440036</td>\n",
       "      <td>0.198164</td>\n",
       "      <td>-1.387538</td>\n",
       "      <td>0.117350</td>\n",
       "      <td>-0.911583</td>\n",
       "      <td>-1.547768</td>\n",
       "      <td>0.970243</td>\n",
       "      <td>0.216534</td>\n",
       "    </tr>\n",
       "    <tr>\n",
       "      <th>2</th>\n",
       "      <td>-0.578736</td>\n",
       "      <td>-0.573809</td>\n",
       "      <td>-1.095988</td>\n",
       "      <td>-1.536794</td>\n",
       "      <td>0.293517</td>\n",
       "      <td>1.032908</td>\n",
       "      <td>1.333053</td>\n",
       "      <td>2.527057</td>\n",
       "      <td>0.646092</td>\n",
       "      <td>-1.030670</td>\n",
       "      <td>0.240687</td>\n",
       "    </tr>\n",
       "    <tr>\n",
       "      <th>3</th>\n",
       "      <td>-0.578736</td>\n",
       "      <td>-0.573809</td>\n",
       "      <td>-1.095988</td>\n",
       "      <td>0.501521</td>\n",
       "      <td>0.007457</td>\n",
       "      <td>-1.387538</td>\n",
       "      <td>-1.225848</td>\n",
       "      <td>0.807737</td>\n",
       "      <td>-1.547768</td>\n",
       "      <td>-1.030670</td>\n",
       "      <td>-0.108918</td>\n",
       "    </tr>\n",
       "    <tr>\n",
       "      <th>4</th>\n",
       "      <td>-0.578736</td>\n",
       "      <td>1.742740</td>\n",
       "      <td>-1.095988</td>\n",
       "      <td>2.063884</td>\n",
       "      <td>0.388871</td>\n",
       "      <td>-1.041760</td>\n",
       "      <td>0.785728</td>\n",
       "      <td>-0.911583</td>\n",
       "      <td>0.646092</td>\n",
       "      <td>0.970243</td>\n",
       "      <td>-0.365276</td>\n",
       "    </tr>\n",
       "  </tbody>\n",
       "</table>\n",
       "</div>"
      ],
      "text/plain": [
       "   Geography_Germany  Geography_Spain  Gender_Male  CreditScore       Age  \\\n",
       "0          -0.578736        -0.573809    -1.095988    -0.326221  0.293517   \n",
       "1          -0.578736         1.742740    -1.095988    -0.440036  0.198164   \n",
       "2          -0.578736        -0.573809    -1.095988    -1.536794  0.293517   \n",
       "3          -0.578736        -0.573809    -1.095988     0.501521  0.007457   \n",
       "4          -0.578736         1.742740    -1.095988     2.063884  0.388871   \n",
       "\n",
       "     Tenure   Balance  NumOfProducts  HasCrCard  IsActiveMember  \\\n",
       "0 -1.041760 -1.225848      -0.911583   0.646092        0.970243   \n",
       "1 -1.387538  0.117350      -0.911583  -1.547768        0.970243   \n",
       "2  1.032908  1.333053       2.527057   0.646092       -1.030670   \n",
       "3 -1.387538 -1.225848       0.807737  -1.547768       -1.030670   \n",
       "4 -1.041760  0.785728      -0.911583   0.646092        0.970243   \n",
       "\n",
       "   EstimatedSalary  \n",
       "0         0.021886  \n",
       "1         0.216534  \n",
       "2         0.240687  \n",
       "3        -0.108918  \n",
       "4        -0.365276  "
      ]
     },
     "execution_count": 21,
     "metadata": {},
     "output_type": "execute_result"
    }
   ],
   "source": [
    "X= pd.DataFrame(X, columns=df.columns[:-1])\n",
    "X.head()"
   ]
  },
  {
   "cell_type": "code",
   "execution_count": 22,
   "id": "7a3c0b07",
   "metadata": {},
   "outputs": [],
   "source": [
    "X_train, X_test, y_train, y_test = train_test_split(X, y, test_size=0.33, random_state=42)"
   ]
  },
  {
   "cell_type": "markdown",
   "id": "2deb1c69",
   "metadata": {},
   "source": [
    "# Logistic Regression"
   ]
  },
  {
   "cell_type": "code",
   "execution_count": 23,
   "id": "862823d2",
   "metadata": {},
   "outputs": [],
   "source": [
    "model1= LogisticRegression()"
   ]
  },
  {
   "cell_type": "code",
   "execution_count": 24,
   "id": "204fac24",
   "metadata": {},
   "outputs": [
    {
     "data": {
      "text/plain": [
       "LogisticRegression()"
      ]
     },
     "execution_count": 24,
     "metadata": {},
     "output_type": "execute_result"
    }
   ],
   "source": [
    "model1.fit(X_train, y_train)"
   ]
  },
  {
   "cell_type": "code",
   "execution_count": 25,
   "id": "e282085a",
   "metadata": {},
   "outputs": [
    {
     "data": {
      "text/plain": [
       "0.8097014925373134"
      ]
     },
     "execution_count": 25,
     "metadata": {},
     "output_type": "execute_result"
    }
   ],
   "source": [
    "model1.score(X_train, y_train)"
   ]
  },
  {
   "cell_type": "code",
   "execution_count": 26,
   "id": "df4e7934",
   "metadata": {},
   "outputs": [],
   "source": [
    "l_pred= model1.predict(X_test)"
   ]
  },
  {
   "cell_type": "code",
   "execution_count": 27,
   "id": "c22f0bbf",
   "metadata": {},
   "outputs": [
    {
     "name": "stdout",
     "output_type": "stream",
     "text": [
      "[[2545  112]\n",
      " [ 510  133]]\n",
      "\n",
      "\n",
      "0.8115151515151515\n",
      "\n",
      "\n",
      "              precision    recall  f1-score   support\n",
      "\n",
      "           0       0.83      0.96      0.89      2657\n",
      "           1       0.54      0.21      0.30       643\n",
      "\n",
      "    accuracy                           0.81      3300\n",
      "   macro avg       0.69      0.58      0.60      3300\n",
      "weighted avg       0.78      0.81      0.78      3300\n",
      "\n"
     ]
    }
   ],
   "source": [
    "print(confusion_matrix(y_test, l_pred))\n",
    "print(\"\\n\")\n",
    "print(accuracy_score(y_test, l_pred))\n",
    "print(\"\\n\")\n",
    "print(classification_report(y_test, l_pred))"
   ]
  },
  {
   "cell_type": "code",
   "execution_count": null,
   "id": "4af2ddf7",
   "metadata": {},
   "outputs": [],
   "source": []
  },
  {
   "cell_type": "markdown",
   "id": "b4ebe356",
   "metadata": {},
   "source": [
    "# KNeighborsClassifier"
   ]
  },
  {
   "cell_type": "code",
   "execution_count": 28,
   "id": "61d2d296",
   "metadata": {},
   "outputs": [],
   "source": [
    "X_train, X_test, y_train, y_test = train_test_split(X, y, test_size=0.33, random_state=42)"
   ]
  },
  {
   "cell_type": "code",
   "execution_count": 29,
   "id": "c706f3e3",
   "metadata": {},
   "outputs": [],
   "source": [
    "model2= KNeighborsClassifier()"
   ]
  },
  {
   "cell_type": "code",
   "execution_count": 30,
   "id": "fd3c7ea0",
   "metadata": {},
   "outputs": [
    {
     "data": {
      "text/plain": [
       "KNeighborsClassifier()"
      ]
     },
     "execution_count": 30,
     "metadata": {},
     "output_type": "execute_result"
    }
   ],
   "source": [
    "model2.fit(X_train, y_train)"
   ]
  },
  {
   "cell_type": "code",
   "execution_count": 31,
   "id": "a00e07d4",
   "metadata": {},
   "outputs": [
    {
     "data": {
      "text/plain": [
       "0.8717910447761194"
      ]
     },
     "execution_count": 31,
     "metadata": {},
     "output_type": "execute_result"
    }
   ],
   "source": [
    "model2.score(X_train, y_train)"
   ]
  },
  {
   "cell_type": "code",
   "execution_count": 32,
   "id": "6d16f5e1",
   "metadata": {},
   "outputs": [],
   "source": [
    "k_pred=model2.predict(X_test)"
   ]
  },
  {
   "cell_type": "code",
   "execution_count": 33,
   "id": "9522e6bd",
   "metadata": {},
   "outputs": [
    {
     "name": "stdout",
     "output_type": "stream",
     "text": [
      "[[2512  145]\n",
      " [ 411  232]]\n",
      "\n",
      "\n",
      "0.8315151515151515\n",
      "\n",
      "\n",
      "              precision    recall  f1-score   support\n",
      "\n",
      "           0       0.86      0.95      0.90      2657\n",
      "           1       0.62      0.36      0.45       643\n",
      "\n",
      "    accuracy                           0.83      3300\n",
      "   macro avg       0.74      0.65      0.68      3300\n",
      "weighted avg       0.81      0.83      0.81      3300\n",
      "\n"
     ]
    }
   ],
   "source": [
    "print(confusion_matrix(y_test, k_pred))\n",
    "print(\"\\n\")\n",
    "print(accuracy_score(y_test, k_pred))\n",
    "print(\"\\n\")\n",
    "print(classification_report(y_test, k_pred))"
   ]
  },
  {
   "cell_type": "markdown",
   "id": "fa3f6553",
   "metadata": {},
   "source": [
    "## Chosing the best K  value"
   ]
  },
  {
   "cell_type": "code",
   "execution_count": 34,
   "id": "b8fd1261",
   "metadata": {},
   "outputs": [],
   "source": [
    "X_train, X_test, y_train, y_test = train_test_split(X, y, test_size=0.33, random_state=42)"
   ]
  },
  {
   "cell_type": "code",
   "execution_count": 35,
   "id": "5fc3e63a",
   "metadata": {},
   "outputs": [],
   "source": [
    "error_rate = []\n",
    "for i in range(1,40):\n",
    "    \n",
    "    model2 = KNeighborsClassifier(n_neighbors=i)\n",
    "    model2.fit(X_train,y_train)\n",
    "    K_pred = model2.predict(X_test)\n",
    "    error_rate.append(np.mean(K_pred != y_test))\n"
   ]
  },
  {
   "cell_type": "code",
   "execution_count": 36,
   "id": "be1fb734",
   "metadata": {},
   "outputs": [
    {
     "data": {
      "text/plain": [
       "Text(0, 0.5, 'Error Rate')"
      ]
     },
     "execution_count": 36,
     "metadata": {},
     "output_type": "execute_result"
    },
    {
     "data": {
      "image/png": "[encoded data removed]",
      "text/plain": [
       "<Figure size 720x432 with 1 Axes>"
      ]
     },
     "metadata": {
      "needs_background": "light"
     },
     "output_type": "display_data"
    }
   ],
   "source": [
    "plt.figure(figsize=(10,6))\n",
    "plt.plot(range(1,40),error_rate,color='blue', linestyle='dashed', marker='o',\n",
    "         markerfacecolor='red', markersize=5)\n",
    "plt.title('Error Rate vs. K Value')\n",
    "plt.xlabel('K')\n",
    "plt.ylabel('Error Rate')"
   ]
  },
  {
   "cell_type": "code",
   "execution_count": 37,
   "id": "a09a4c6a",
   "metadata": {},
   "outputs": [
    {
     "name": "stdout",
     "output_type": "stream",
     "text": [
      "WITH K=17\n",
      "\n",
      "\n",
      "[[2512  145]\n",
      " [ 411  232]]\n",
      "\n",
      "\n",
      "0.8315151515151515\n",
      "\n",
      "\n",
      "              precision    recall  f1-score   support\n",
      "\n",
      "           0       0.86      0.95      0.90      2657\n",
      "           1       0.62      0.36      0.45       643\n",
      "\n",
      "    accuracy                           0.83      3300\n",
      "   macro avg       0.74      0.65      0.68      3300\n",
      "weighted avg       0.81      0.83      0.81      3300\n",
      "\n"
     ]
    }
   ],
   "source": [
    "# FIRST A QUICK COMPARISON TO OUR ORIGINAL K=17\n",
    "model2 = KNeighborsClassifier(n_neighbors=15)\n",
    "\n",
    "model2.fit(X_train,y_train)\n",
    "pred = model2.predict(X_test)\n",
    "\n",
    "print('WITH K=17')\n",
    "print('\\n')\n",
    "print(confusion_matrix(y_test,k_pred))\n",
    "print(\"\\n\")\n",
    "print(accuracy_score(y_test, k_pred))\n",
    "print('\\n')\n",
    "print(classification_report(y_test,k_pred))"
   ]
  },
  {
   "cell_type": "code",
   "execution_count": null,
   "id": "f885e01b",
   "metadata": {},
   "outputs": [],
   "source": []
  },
  {
   "cell_type": "markdown",
   "id": "0132a271",
   "metadata": {},
   "source": [
    "# DecisionTreeClassifier"
   ]
  },
  {
   "cell_type": "code",
   "execution_count": 38,
   "id": "7ff8672c",
   "metadata": {},
   "outputs": [],
   "source": [
    "X_train, X_test, y_train, y_test = train_test_split(X, y, test_size=0.33, random_state=42)"
   ]
  },
  {
   "cell_type": "code",
   "execution_count": 39,
   "id": "f336020c",
   "metadata": {},
   "outputs": [],
   "source": [
    "model3=DecisionTreeClassifier()"
   ]
  },
  {
   "cell_type": "code",
   "execution_count": 40,
   "id": "33fb3ece",
   "metadata": {},
   "outputs": [],
   "source": [
    "model3 = DecisionTreeClassifier()\n",
    "\n",
    "model3.fit(X_train,y_train)\n",
    "d_pred = model3.predict(X_test)"
   ]
  },
  {
   "cell_type": "code",
   "execution_count": 41,
   "id": "5cb8d333",
   "metadata": {},
   "outputs": [
    {
     "name": "stdout",
     "output_type": "stream",
     "text": [
      "[[2284  373]\n",
      " [ 323  320]]\n",
      "\n",
      "\n",
      "0.7890909090909091\n",
      "\n",
      "\n",
      "              precision    recall  f1-score   support\n",
      "\n",
      "           0       0.88      0.86      0.87      2657\n",
      "           1       0.46      0.50      0.48       643\n",
      "\n",
      "    accuracy                           0.79      3300\n",
      "   macro avg       0.67      0.68      0.67      3300\n",
      "weighted avg       0.80      0.79      0.79      3300\n",
      "\n"
     ]
    }
   ],
   "source": [
    "print(confusion_matrix(y_test, d_pred))\n",
    "print(\"\\n\")\n",
    "print(accuracy_score(y_test, d_pred))\n",
    "print(\"\\n\")\n",
    "print(classification_report(y_test, d_pred))"
   ]
  },
  {
   "cell_type": "code",
   "execution_count": null,
   "id": "764db7b8",
   "metadata": {},
   "outputs": [],
   "source": []
  },
  {
   "cell_type": "markdown",
   "id": "b2a2c2e4",
   "metadata": {},
   "source": [
    "# RandomForestClassifier"
   ]
  },
  {
   "cell_type": "code",
   "execution_count": 42,
   "id": "6d9bbc28",
   "metadata": {},
   "outputs": [],
   "source": [
    "X_train, X_test, y_train, y_test = train_test_split(X, y, test_size=0.33, random_state=42)"
   ]
  },
  {
   "cell_type": "code",
   "execution_count": 43,
   "id": "071270c9",
   "metadata": {},
   "outputs": [],
   "source": [
    "model4=RandomForestClassifier()"
   ]
  },
  {
   "cell_type": "code",
   "execution_count": 44,
   "id": "7738a33e",
   "metadata": {},
   "outputs": [],
   "source": [
    "model4 = RandomForestClassifier(n_estimators=100, max_depth=20)\n",
    "\n",
    "model4.fit(X_train,y_train)\n",
    "r_pred = model4.predict(X_test)"
   ]
  },
  {
   "cell_type": "code",
   "execution_count": 45,
   "id": "7233d124",
   "metadata": {},
   "outputs": [
    {
     "name": "stdout",
     "output_type": "stream",
     "text": [
      "[[2556  101]\n",
      " [ 334  309]]\n",
      "\n",
      "\n",
      "0.8681818181818182\n",
      "\n",
      "\n",
      "              precision    recall  f1-score   support\n",
      "\n",
      "           0       0.88      0.96      0.92      2657\n",
      "           1       0.75      0.48      0.59       643\n",
      "\n",
      "    accuracy                           0.87      3300\n",
      "   macro avg       0.82      0.72      0.75      3300\n",
      "weighted avg       0.86      0.87      0.86      3300\n",
      "\n"
     ]
    }
   ],
   "source": [
    "print(confusion_matrix(y_test, r_pred))\n",
    "print(\"\\n\")\n",
    "print(accuracy_score(y_test, r_pred))\n",
    "print(\"\\n\")\n",
    "print(classification_report(y_test, r_pred))"
   ]
  },
  {
   "cell_type": "code",
   "execution_count": null,
   "id": "e764f247",
   "metadata": {},
   "outputs": [],
   "source": []
  },
  {
   "cell_type": "markdown",
   "id": "d81c6b95",
   "metadata": {},
   "source": [
    "# Support vector machine"
   ]
  },
  {
   "cell_type": "code",
   "execution_count": 46,
   "id": "0f09ba35",
   "metadata": {},
   "outputs": [],
   "source": [
    "X_train, X_test, y_train, y_test = train_test_split(X, y, test_size=0.33, random_state=42)"
   ]
  },
  {
   "cell_type": "code",
   "execution_count": 47,
   "id": "05fa0060",
   "metadata": {},
   "outputs": [],
   "source": [
    "model5=SVC()"
   ]
  },
  {
   "cell_type": "code",
   "execution_count": 48,
   "id": "b08f310c",
   "metadata": {},
   "outputs": [],
   "source": [
    "model5 = SVC()\n",
    "\n",
    "model5.fit(X_train,y_train)\n",
    "s_pred = model5.predict(X_test)"
   ]
  },
  {
   "cell_type": "code",
   "execution_count": 49,
   "id": "5854eb29",
   "metadata": {},
   "outputs": [
    {
     "name": "stdout",
     "output_type": "stream",
     "text": [
      "[[2591   66]\n",
      " [ 388  255]]\n",
      "\n",
      "\n",
      "0.8624242424242424\n",
      "\n",
      "\n",
      "              precision    recall  f1-score   support\n",
      "\n",
      "           0       0.87      0.98      0.92      2657\n",
      "           1       0.79      0.40      0.53       643\n",
      "\n",
      "    accuracy                           0.86      3300\n",
      "   macro avg       0.83      0.69      0.72      3300\n",
      "weighted avg       0.86      0.86      0.84      3300\n",
      "\n"
     ]
    }
   ],
   "source": [
    "print(confusion_matrix(y_test, s_pred))\n",
    "print(\"\\n\")\n",
    "print(accuracy_score(y_test, s_pred))\n",
    "print(\"\\n\")\n",
    "print(classification_report(y_test, s_pred))"
   ]
  },
  {
   "cell_type": "markdown",
   "id": "530012e6",
   "metadata": {},
   "source": [
    "# hyper parameter tunning"
   ]
  },
  {
   "cell_type": "code",
   "execution_count": 50,
   "id": "e7d40fc1",
   "metadata": {},
   "outputs": [],
   "source": [
    "from sklearn.model_selection import GridSearchCV"
   ]
  },
  {
   "cell_type": "code",
   "execution_count": 51,
   "id": "aac7997b",
   "metadata": {},
   "outputs": [],
   "source": [
    "param_grid={\"C\":[1,10,100,100,1000], \"gamma\":[0.1,0.01,0.001,0.0001]}"
   ]
  },
  {
   "cell_type": "code",
   "execution_count": 52,
   "id": "7daa3a30",
   "metadata": {},
   "outputs": [],
   "source": [
    "grid=GridSearchCV(SVC(), param_grid, verbose=2)"
   ]
  },
  {
   "cell_type": "code",
   "execution_count": 53,
   "id": "b984ea73",
   "metadata": {},
   "outputs": [
    {
     "name": "stdout",
     "output_type": "stream",
     "text": [
      "Fitting 5 folds for each of 20 candidates, totalling 100 fits\n",
      "[CV] END .....................................C=1, gamma=0.1; total time=   0.7s\n",
      "[CV] END .....................................C=1, gamma=0.1; total time=   0.8s\n",
      "[CV] END .....................................C=1, gamma=0.1; total time=   0.7s\n",
      "[CV] END .....................................C=1, gamma=0.1; total time=   0.7s\n",
      "[CV] END .....................................C=1, gamma=0.1; total time=   0.7s\n",
      "[CV] END ....................................C=1, gamma=0.01; total time=   0.7s\n",
      "[CV] END ....................................C=1, gamma=0.01; total time=   0.8s\n",
      "[CV] END ....................................C=1, gamma=0.01; total time=   0.7s\n",
      "[CV] END ....................................C=1, gamma=0.01; total time=   0.7s\n",
      "[CV] END ....................................C=1, gamma=0.01; total time=   0.7s\n",
      "[CV] END ...................................C=1, gamma=0.001; total time=   0.8s\n",
      "[CV] END ...................................C=1, gamma=0.001; total time=   0.8s\n",
      "[CV] END ...................................C=1, gamma=0.001; total time=   0.8s\n",
      "[CV] END ...................................C=1, gamma=0.001; total time=   0.8s\n",
      "[CV] END ...................................C=1, gamma=0.001; total time=   0.8s\n",
      "[CV] END ..................................C=1, gamma=0.0001; total time=   0.7s\n",
      "[CV] END ..................................C=1, gamma=0.0001; total time=   0.7s\n",
      "[CV] END ..................................C=1, gamma=0.0001; total time=   0.7s\n",
      "[CV] END ..................................C=1, gamma=0.0001; total time=   0.7s\n",
      "[CV] END ..................................C=1, gamma=0.0001; total time=   0.7s\n",
      "[CV] END ....................................C=10, gamma=0.1; total time=   0.9s\n",
      "[CV] END ....................................C=10, gamma=0.1; total time=   0.9s\n",
      "[CV] END ....................................C=10, gamma=0.1; total time=   0.9s\n",
      "[CV] END ....................................C=10, gamma=0.1; total time=   0.9s\n",
      "[CV] END ....................................C=10, gamma=0.1; total time=   0.9s\n",
      "[CV] END ...................................C=10, gamma=0.01; total time=   0.7s\n",
      "[CV] END ...................................C=10, gamma=0.01; total time=   0.7s\n",
      "[CV] END ...................................C=10, gamma=0.01; total time=   0.8s\n",
      "[CV] END ...................................C=10, gamma=0.01; total time=   0.7s\n",
      "[CV] END ...................................C=10, gamma=0.01; total time=   0.8s\n",
      "[CV] END ..................................C=10, gamma=0.001; total time=   0.9s\n",
      "[CV] END ..................................C=10, gamma=0.001; total time=   0.8s\n",
      "[CV] END ..................................C=10, gamma=0.001; total time=   0.9s\n",
      "[CV] END ..................................C=10, gamma=0.001; total time=   0.8s\n",
      "[CV] END ..................................C=10, gamma=0.001; total time=   0.8s\n",
      "[CV] END .................................C=10, gamma=0.0001; total time=   0.9s\n",
      "[CV] END .................................C=10, gamma=0.0001; total time=   0.8s\n",
      "[CV] END .................................C=10, gamma=0.0001; total time=   0.9s\n",
      "[CV] END .................................C=10, gamma=0.0001; total time=   0.8s\n",
      "[CV] END .................................C=10, gamma=0.0001; total time=   0.9s\n",
      "[CV] END ...................................C=100, gamma=0.1; total time=   1.6s\n",
      "[CV] END ...................................C=100, gamma=0.1; total time=   1.7s\n",
      "[CV] END ...................................C=100, gamma=0.1; total time=   1.8s\n",
      "[CV] END ...................................C=100, gamma=0.1; total time=   1.7s\n",
      "[CV] END ...................................C=100, gamma=0.1; total time=   1.6s\n",
      "[CV] END ..................................C=100, gamma=0.01; total time=   1.1s\n",
      "[CV] END ..................................C=100, gamma=0.01; total time=   1.1s\n",
      "[CV] END ..................................C=100, gamma=0.01; total time=   1.1s\n",
      "[CV] END ..................................C=100, gamma=0.01; total time=   1.0s\n",
      "[CV] END ..................................C=100, gamma=0.01; total time=   1.0s\n",
      "[CV] END .................................C=100, gamma=0.001; total time=   0.9s\n",
      "[CV] END .................................C=100, gamma=0.001; total time=   0.8s\n",
      "[CV] END .................................C=100, gamma=0.001; total time=   0.9s\n",
      "[CV] END .................................C=100, gamma=0.001; total time=   0.9s\n",
      "[CV] END .................................C=100, gamma=0.001; total time=   0.9s\n",
      "[CV] END ................................C=100, gamma=0.0001; total time=   1.0s\n",
      "[CV] END ................................C=100, gamma=0.0001; total time=   1.1s\n",
      "[CV] END ................................C=100, gamma=0.0001; total time=   1.0s\n",
      "[CV] END ................................C=100, gamma=0.0001; total time=   1.0s\n",
      "[CV] END ................................C=100, gamma=0.0001; total time=   1.1s\n",
      "[CV] END ...................................C=100, gamma=0.1; total time=   1.6s\n",
      "[CV] END ...................................C=100, gamma=0.1; total time=   1.7s\n",
      "[CV] END ...................................C=100, gamma=0.1; total time=   1.7s\n",
      "[CV] END ...................................C=100, gamma=0.1; total time=   1.7s\n",
      "[CV] END ...................................C=100, gamma=0.1; total time=   1.6s\n",
      "[CV] END ..................................C=100, gamma=0.01; total time=   1.1s\n",
      "[CV] END ..................................C=100, gamma=0.01; total time=   1.1s\n",
      "[CV] END ..................................C=100, gamma=0.01; total time=   1.1s\n",
      "[CV] END ..................................C=100, gamma=0.01; total time=   1.0s\n",
      "[CV] END ..................................C=100, gamma=0.01; total time=   1.0s\n",
      "[CV] END .................................C=100, gamma=0.001; total time=   0.9s\n",
      "[CV] END .................................C=100, gamma=0.001; total time=   0.8s\n",
      "[CV] END .................................C=100, gamma=0.001; total time=   0.9s\n",
      "[CV] END .................................C=100, gamma=0.001; total time=   0.9s\n",
      "[CV] END .................................C=100, gamma=0.001; total time=   0.9s\n",
      "[CV] END ................................C=100, gamma=0.0001; total time=   1.0s\n",
      "[CV] END ................................C=100, gamma=0.0001; total time=   1.1s\n",
      "[CV] END ................................C=100, gamma=0.0001; total time=   1.1s\n",
      "[CV] END ................................C=100, gamma=0.0001; total time=   1.1s\n",
      "[CV] END ................................C=100, gamma=0.0001; total time=   1.1s\n",
      "[CV] END ..................................C=1000, gamma=0.1; total time=   4.0s\n",
      "[CV] END ..................................C=1000, gamma=0.1; total time=   3.9s\n",
      "[CV] END ..................................C=1000, gamma=0.1; total time=   4.0s\n",
      "[CV] END ..................................C=1000, gamma=0.1; total time=   3.6s\n",
      "[CV] END ..................................C=1000, gamma=0.1; total time=   3.8s\n",
      "[CV] END .................................C=1000, gamma=0.01; total time=   3.1s\n",
      "[CV] END .................................C=1000, gamma=0.01; total time=   3.0s\n",
      "[CV] END .................................C=1000, gamma=0.01; total time=   2.9s\n",
      "[CV] END .................................C=1000, gamma=0.01; total time=   3.1s\n",
      "[CV] END .................................C=1000, gamma=0.01; total time=   3.1s\n",
      "[CV] END ................................C=1000, gamma=0.001; total time=   1.2s\n",
      "[CV] END ................................C=1000, gamma=0.001; total time=   1.2s\n",
      "[CV] END ................................C=1000, gamma=0.001; total time=   1.2s\n",
      "[CV] END ................................C=1000, gamma=0.001; total time=   1.2s\n",
      "[CV] END ................................C=1000, gamma=0.001; total time=   1.2s\n",
      "[CV] END ...............................C=1000, gamma=0.0001; total time=   1.2s\n",
      "[CV] END ...............................C=1000, gamma=0.0001; total time=   1.1s\n",
      "[CV] END ...............................C=1000, gamma=0.0001; total time=   1.2s\n",
      "[CV] END ...............................C=1000, gamma=0.0001; total time=   1.1s\n",
      "[CV] END ...............................C=1000, gamma=0.0001; total time=   1.2s\n"
     ]
    },
    {
     "data": {
      "text/plain": [
       "GridSearchCV(estimator=SVC(),\n",
       "             param_grid={'C': [1, 10, 100, 100, 1000],\n",
       "                         'gamma': [0.1, 0.01, 0.001, 0.0001]},\n",
       "             verbose=2)"
      ]
     },
     "execution_count": 53,
     "metadata": {},
     "output_type": "execute_result"
    }
   ],
   "source": [
    "grid.fit(X_train, y_train)"
   ]
  },
  {
   "cell_type": "code",
   "execution_count": 54,
   "id": "9842c5d9",
   "metadata": {},
   "outputs": [
    {
     "data": {
      "text/plain": [
       "SVC(C=1000, gamma=0.01)"
      ]
     },
     "execution_count": 54,
     "metadata": {},
     "output_type": "execute_result"
    }
   ],
   "source": [
    "grid.best_estimator_"
   ]
  },
  {
   "cell_type": "code",
   "execution_count": 55,
   "id": "9df2ac82",
   "metadata": {},
   "outputs": [],
   "source": [
    "model5=SVC(C=1000, gamma=0.01)\n",
    "model5.fit(X_train, y_train)\n",
    "s_pred=model5.predict(X_test)"
   ]
  },
  {
   "cell_type": "code",
   "execution_count": 56,
   "id": "188232a4",
   "metadata": {},
   "outputs": [
    {
     "name": "stdout",
     "output_type": "stream",
     "text": [
      "[[2573   84]\n",
      " [ 349  294]]\n",
      "\n",
      "\n",
      "0.8687878787878788\n",
      "\n",
      "\n",
      "              precision    recall  f1-score   support\n",
      "\n",
      "           0       0.88      0.97      0.92      2657\n",
      "           1       0.78      0.46      0.58       643\n",
      "\n",
      "    accuracy                           0.87      3300\n",
      "   macro avg       0.83      0.71      0.75      3300\n",
      "weighted avg       0.86      0.87      0.85      3300\n",
      "\n"
     ]
    }
   ],
   "source": [
    "print(confusion_matrix(y_test, s_pred))\n",
    "print(\"\\n\")\n",
    "print(accuracy_score(y_test, s_pred))\n",
    "print(\"\\n\")\n",
    "print(classification_report(y_test, s_pred))"
   ]
  },
  {
   "cell_type": "code",
   "execution_count": null,
   "id": "b4c9d1da",
   "metadata": {},
   "outputs": [],
   "source": []
  },
  {
   "cell_type": "markdown",
   "id": "040829f9",
   "metadata": {},
   "source": [
    "# GaussianNB"
   ]
  },
  {
   "cell_type": "code",
   "execution_count": 57,
   "id": "b9366136",
   "metadata": {},
   "outputs": [],
   "source": [
    "X_train, X_test, y_train, y_test = train_test_split(X, y, test_size=0.33, random_state=42)"
   ]
  },
  {
   "cell_type": "code",
   "execution_count": 58,
   "id": "e4683bc4",
   "metadata": {},
   "outputs": [],
   "source": [
    "model6= GaussianNB()"
   ]
  },
  {
   "cell_type": "code",
   "execution_count": 59,
   "id": "aca83f1a",
   "metadata": {},
   "outputs": [],
   "source": [
    "model6 = DecisionTreeClassifier()\n",
    "\n",
    "model6.fit(X_train,y_train)\n",
    "g_pred = model6.predict(X_test)"
   ]
  },
  {
   "cell_type": "code",
   "execution_count": 60,
   "id": "54c55038",
   "metadata": {},
   "outputs": [
    {
     "name": "stdout",
     "output_type": "stream",
     "text": [
      "[[2264  393]\n",
      " [ 332  311]]\n",
      "\n",
      "\n",
      "0.7803030303030303\n",
      "\n",
      "\n",
      "              precision    recall  f1-score   support\n",
      "\n",
      "           0       0.87      0.85      0.86      2657\n",
      "           1       0.44      0.48      0.46       643\n",
      "\n",
      "    accuracy                           0.78      3300\n",
      "   macro avg       0.66      0.67      0.66      3300\n",
      "weighted avg       0.79      0.78      0.78      3300\n",
      "\n"
     ]
    }
   ],
   "source": [
    "print(confusion_matrix(y_test, g_pred))\n",
    "print(\"\\n\")\n",
    "print(accuracy_score(y_test, g_pred))\n",
    "print(\"\\n\")\n",
    "print(classification_report(y_test, g_pred))"
   ]
  },
  {
   "cell_type": "code",
   "execution_count": null,
   "id": "666a936a",
   "metadata": {},
   "outputs": [],
   "source": []
  },
  {
   "cell_type": "markdown",
   "id": "dfe96656",
   "metadata": {},
   "source": [
    "# Neuro Network"
   ]
  },
  {
   "cell_type": "code",
   "execution_count": null,
   "id": "f45c66c1",
   "metadata": {},
   "outputs": [],
   "source": []
  },
  {
   "cell_type": "code",
   "execution_count": 61,
   "id": "4b08e07c",
   "metadata": {},
   "outputs": [],
   "source": [
    "X_train, X_test, y_train, y_test = train_test_split(X, y, test_size=0.3, random_state=42)"
   ]
  },
  {
   "cell_type": "code",
   "execution_count": 62,
   "id": "b248ec5f",
   "metadata": {},
   "outputs": [],
   "source": [
    "X_train= StandardScaler().fit_transform(X_train)"
   ]
  },
  {
   "cell_type": "code",
   "execution_count": 63,
   "id": "e2042bc3",
   "metadata": {},
   "outputs": [],
   "source": [
    "X_test= StandardScaler().fit_transform(X_test)"
   ]
  },
  {
   "cell_type": "code",
   "execution_count": null,
   "id": "61c8085e",
   "metadata": {},
   "outputs": [],
   "source": []
  },
  {
   "cell_type": "code",
   "execution_count": 64,
   "id": "37108969",
   "metadata": {},
   "outputs": [],
   "source": [
    "model=Sequential()"
   ]
  },
  {
   "cell_type": "code",
   "execution_count": 65,
   "id": "ea109358",
   "metadata": {},
   "outputs": [],
   "source": [
    "model.add(Dense(11, activation=\"relu\"))\n",
    "model.add(Dense(8, activation=\"relu\"))\n",
    "model.add(Dense(5, activation=\"relu\"))\n",
    "model.add(Dense(1, activation=\"sigmoid\"))"
   ]
  },
  {
   "cell_type": "code",
   "execution_count": 66,
   "id": "5dee79c0",
   "metadata": {},
   "outputs": [],
   "source": [
    "model.compile(optimizer=\"adam\", loss=\"binary_crossentropy\", metrics=[\"accuracy\"])"
   ]
  },
  {
   "cell_type": "code",
   "execution_count": 67,
   "id": "e454c9d2",
   "metadata": {},
   "outputs": [],
   "source": [
    "early_stop=tf.keras.callbacks.EarlyStopping(\n",
    "    monitor=\"val_loss\",\n",
    "    min_delta=0.001,\n",
    "    patience=30,\n",
    "    verbose=0,\n",
    "    mode=\"auto\",\n",
    "    baseline=None,\n",
    "    restore_best_weights=False,\n",
    ")"
   ]
  },
  {
   "cell_type": "code",
   "execution_count": 68,
   "id": "848ecd93",
   "metadata": {},
   "outputs": [
    {
     "name": "stdout",
     "output_type": "stream",
     "text": [
      "Epoch 1/1000\n",
      "147/147 [==============================] - 3s 5ms/step - loss: 0.5899 - accuracy: 0.7326 - val_loss: 0.5312 - val_accuracy: 0.7893\n",
      "Epoch 2/1000\n",
      "147/147 [==============================] - 0s 2ms/step - loss: 0.5001 - accuracy: 0.7940 - val_loss: 0.4877 - val_accuracy: 0.7893\n",
      "Epoch 3/1000\n",
      "147/147 [==============================] - 0s 2ms/step - loss: 0.4684 - accuracy: 0.7940 - val_loss: 0.4617 - val_accuracy: 0.7893\n",
      "Epoch 4/1000\n",
      "147/147 [==============================] - 0s 2ms/step - loss: 0.4480 - accuracy: 0.7944 - val_loss: 0.4461 - val_accuracy: 0.7901\n",
      "Epoch 5/1000\n",
      "147/147 [==============================] - 0s 2ms/step - loss: 0.4343 - accuracy: 0.7957 - val_loss: 0.4370 - val_accuracy: 0.7953\n",
      "Epoch 6/1000\n",
      "147/147 [==============================] - 0s 2ms/step - loss: 0.4222 - accuracy: 0.8008 - val_loss: 0.4272 - val_accuracy: 0.7979\n",
      "Epoch 7/1000\n",
      "147/147 [==============================] - 0s 2ms/step - loss: 0.4090 - accuracy: 0.8061 - val_loss: 0.4161 - val_accuracy: 0.7966\n",
      "Epoch 8/1000\n",
      "147/147 [==============================] - 0s 2ms/step - loss: 0.3958 - accuracy: 0.8091 - val_loss: 0.4063 - val_accuracy: 0.7992\n",
      "Epoch 9/1000\n",
      "147/147 [==============================] - 0s 2ms/step - loss: 0.3856 - accuracy: 0.8110 - val_loss: 0.3979 - val_accuracy: 0.8010\n",
      "Epoch 10/1000\n",
      "147/147 [==============================] - 0s 2ms/step - loss: 0.3787 - accuracy: 0.8130 - val_loss: 0.3925 - val_accuracy: 0.8035\n",
      "Epoch 11/1000\n",
      "147/147 [==============================] - 0s 2ms/step - loss: 0.3728 - accuracy: 0.8236 - val_loss: 0.3887 - val_accuracy: 0.8282\n",
      "Epoch 12/1000\n",
      "147/147 [==============================] - 0s 2ms/step - loss: 0.3687 - accuracy: 0.8437 - val_loss: 0.3845 - val_accuracy: 0.8286\n",
      "Epoch 13/1000\n",
      "147/147 [==============================] - 0s 2ms/step - loss: 0.3650 - accuracy: 0.8473 - val_loss: 0.3826 - val_accuracy: 0.8347\n",
      "Epoch 14/1000\n",
      "147/147 [==============================] - 0s 2ms/step - loss: 0.3623 - accuracy: 0.8494 - val_loss: 0.3803 - val_accuracy: 0.8373\n",
      "Epoch 15/1000\n",
      "147/147 [==============================] - 0s 2ms/step - loss: 0.3600 - accuracy: 0.8528 - val_loss: 0.3792 - val_accuracy: 0.8369\n",
      "Epoch 16/1000\n",
      "147/147 [==============================] - 0s 2ms/step - loss: 0.3579 - accuracy: 0.8514 - val_loss: 0.3797 - val_accuracy: 0.8399\n",
      "Epoch 17/1000\n",
      "147/147 [==============================] - 0s 2ms/step - loss: 0.3564 - accuracy: 0.8528 - val_loss: 0.3757 - val_accuracy: 0.8399\n",
      "Epoch 18/1000\n",
      "147/147 [==============================] - 0s 2ms/step - loss: 0.3545 - accuracy: 0.8531 - val_loss: 0.3749 - val_accuracy: 0.8399\n",
      "Epoch 19/1000\n",
      "147/147 [==============================] - 0s 2ms/step - loss: 0.3526 - accuracy: 0.8539 - val_loss: 0.3738 - val_accuracy: 0.8421\n",
      "Epoch 20/1000\n",
      "147/147 [==============================] - 0s 2ms/step - loss: 0.3507 - accuracy: 0.8560 - val_loss: 0.3728 - val_accuracy: 0.8416\n",
      "Epoch 21/1000\n",
      "147/147 [==============================] - 0s 2ms/step - loss: 0.3495 - accuracy: 0.8552 - val_loss: 0.3739 - val_accuracy: 0.8438\n",
      "Epoch 22/1000\n",
      "147/147 [==============================] - 0s 2ms/step - loss: 0.3483 - accuracy: 0.8571 - val_loss: 0.3726 - val_accuracy: 0.8421\n",
      "Epoch 23/1000\n",
      "147/147 [==============================] - 0s 2ms/step - loss: 0.3469 - accuracy: 0.8575 - val_loss: 0.3707 - val_accuracy: 0.8416\n",
      "Epoch 24/1000\n",
      "147/147 [==============================] - 0s 2ms/step - loss: 0.3447 - accuracy: 0.8584 - val_loss: 0.3701 - val_accuracy: 0.8434\n",
      "Epoch 25/1000\n",
      "147/147 [==============================] - 0s 2ms/step - loss: 0.3443 - accuracy: 0.8597 - val_loss: 0.3702 - val_accuracy: 0.8455\n",
      "Epoch 26/1000\n",
      "147/147 [==============================] - 0s 2ms/step - loss: 0.3437 - accuracy: 0.8616 - val_loss: 0.3692 - val_accuracy: 0.8438\n",
      "Epoch 27/1000\n",
      "147/147 [==============================] - 0s 2ms/step - loss: 0.3416 - accuracy: 0.8603 - val_loss: 0.3690 - val_accuracy: 0.8468\n",
      "Epoch 28/1000\n",
      "147/147 [==============================] - 0s 2ms/step - loss: 0.3408 - accuracy: 0.8605 - val_loss: 0.3671 - val_accuracy: 0.8455\n",
      "Epoch 29/1000\n",
      "147/147 [==============================] - 0s 2ms/step - loss: 0.3402 - accuracy: 0.8607 - val_loss: 0.3669 - val_accuracy: 0.8438\n",
      "Epoch 30/1000\n",
      "147/147 [==============================] - 0s 2ms/step - loss: 0.3389 - accuracy: 0.8616 - val_loss: 0.3672 - val_accuracy: 0.8421\n",
      "Epoch 31/1000\n",
      "147/147 [==============================] - 0s 2ms/step - loss: 0.3391 - accuracy: 0.8607 - val_loss: 0.3660 - val_accuracy: 0.8416\n",
      "Epoch 32/1000\n",
      "147/147 [==============================] - 0s 2ms/step - loss: 0.3375 - accuracy: 0.8607 - val_loss: 0.3653 - val_accuracy: 0.8412\n",
      "Epoch 33/1000\n",
      "147/147 [==============================] - 0s 2ms/step - loss: 0.3374 - accuracy: 0.8610 - val_loss: 0.3653 - val_accuracy: 0.8434\n",
      "Epoch 34/1000\n",
      "147/147 [==============================] - 0s 2ms/step - loss: 0.3366 - accuracy: 0.8618 - val_loss: 0.3654 - val_accuracy: 0.8425\n",
      "Epoch 35/1000\n",
      "147/147 [==============================] - 0s 2ms/step - loss: 0.3352 - accuracy: 0.8620 - val_loss: 0.3646 - val_accuracy: 0.8442\n",
      "Epoch 36/1000\n",
      "147/147 [==============================] - 0s 2ms/step - loss: 0.3350 - accuracy: 0.8618 - val_loss: 0.3645 - val_accuracy: 0.8434\n",
      "Epoch 37/1000\n",
      "147/147 [==============================] - 0s 2ms/step - loss: 0.3343 - accuracy: 0.8633 - val_loss: 0.3662 - val_accuracy: 0.8425\n",
      "Epoch 38/1000\n",
      "147/147 [==============================] - 0s 2ms/step - loss: 0.3341 - accuracy: 0.8624 - val_loss: 0.3649 - val_accuracy: 0.8421\n",
      "Epoch 39/1000\n",
      "147/147 [==============================] - 0s 2ms/step - loss: 0.3327 - accuracy: 0.8620 - val_loss: 0.3667 - val_accuracy: 0.8438\n",
      "Epoch 40/1000\n",
      "147/147 [==============================] - 0s 2ms/step - loss: 0.3335 - accuracy: 0.8627 - val_loss: 0.3639 - val_accuracy: 0.8438\n",
      "Epoch 41/1000\n",
      "147/147 [==============================] - 0s 2ms/step - loss: 0.3322 - accuracy: 0.8603 - val_loss: 0.3643 - val_accuracy: 0.8408\n",
      "Epoch 42/1000\n",
      "147/147 [==============================] - 0s 2ms/step - loss: 0.3316 - accuracy: 0.8618 - val_loss: 0.3642 - val_accuracy: 0.8416\n",
      "Epoch 43/1000\n",
      "147/147 [==============================] - 0s 2ms/step - loss: 0.3315 - accuracy: 0.8627 - val_loss: 0.3638 - val_accuracy: 0.8425\n",
      "Epoch 44/1000\n",
      "147/147 [==============================] - 0s 2ms/step - loss: 0.3316 - accuracy: 0.8610 - val_loss: 0.3644 - val_accuracy: 0.8421\n",
      "Epoch 45/1000\n",
      "147/147 [==============================] - 0s 2ms/step - loss: 0.3298 - accuracy: 0.8612 - val_loss: 0.3654 - val_accuracy: 0.8425\n",
      "Epoch 46/1000\n",
      "147/147 [==============================] - 0s 2ms/step - loss: 0.3308 - accuracy: 0.8637 - val_loss: 0.3640 - val_accuracy: 0.8434\n",
      "Epoch 47/1000\n",
      "147/147 [==============================] - 0s 3ms/step - loss: 0.3294 - accuracy: 0.8631 - val_loss: 0.3655 - val_accuracy: 0.8425\n",
      "Epoch 48/1000\n",
      "147/147 [==============================] - 0s 2ms/step - loss: 0.3285 - accuracy: 0.8650 - val_loss: 0.3662 - val_accuracy: 0.8399\n",
      "Epoch 49/1000\n",
      "147/147 [==============================] - 0s 2ms/step - loss: 0.3281 - accuracy: 0.8650 - val_loss: 0.3641 - val_accuracy: 0.8395\n",
      "Epoch 50/1000\n",
      "147/147 [==============================] - 0s 2ms/step - loss: 0.3280 - accuracy: 0.8633 - val_loss: 0.3654 - val_accuracy: 0.8447\n",
      "Epoch 51/1000\n",
      "147/147 [==============================] - 0s 2ms/step - loss: 0.3274 - accuracy: 0.8642 - val_loss: 0.3685 - val_accuracy: 0.8434\n",
      "Epoch 52/1000\n",
      "147/147 [==============================] - 0s 2ms/step - loss: 0.3274 - accuracy: 0.8639 - val_loss: 0.3645 - val_accuracy: 0.8442\n",
      "Epoch 53/1000\n",
      "147/147 [==============================] - 0s 2ms/step - loss: 0.3275 - accuracy: 0.8644 - val_loss: 0.3643 - val_accuracy: 0.8434\n",
      "Epoch 54/1000\n",
      "147/147 [==============================] - 0s 2ms/step - loss: 0.3272 - accuracy: 0.8646 - val_loss: 0.3653 - val_accuracy: 0.8442\n",
      "Epoch 55/1000\n",
      "147/147 [==============================] - 0s 2ms/step - loss: 0.3267 - accuracy: 0.8633 - val_loss: 0.3649 - val_accuracy: 0.8412\n",
      "Epoch 56/1000\n",
      "147/147 [==============================] - 0s 2ms/step - loss: 0.3262 - accuracy: 0.8639 - val_loss: 0.3643 - val_accuracy: 0.8455\n",
      "Epoch 57/1000\n",
      "147/147 [==============================] - 0s 2ms/step - loss: 0.3258 - accuracy: 0.8650 - val_loss: 0.3647 - val_accuracy: 0.8425\n",
      "Epoch 58/1000\n",
      "147/147 [==============================] - 0s 2ms/step - loss: 0.3254 - accuracy: 0.8642 - val_loss: 0.3651 - val_accuracy: 0.8451\n",
      "Epoch 59/1000\n",
      "147/147 [==============================] - 0s 2ms/step - loss: 0.3246 - accuracy: 0.8661 - val_loss: 0.3678 - val_accuracy: 0.8408\n",
      "Epoch 60/1000\n",
      "147/147 [==============================] - 0s 2ms/step - loss: 0.3236 - accuracy: 0.8637 - val_loss: 0.3747 - val_accuracy: 0.8447\n",
      "Epoch 61/1000\n",
      "147/147 [==============================] - 0s 2ms/step - loss: 0.3248 - accuracy: 0.8680 - val_loss: 0.3650 - val_accuracy: 0.8416\n",
      "Epoch 62/1000\n",
      "147/147 [==============================] - 0s 2ms/step - loss: 0.3240 - accuracy: 0.8652 - val_loss: 0.3669 - val_accuracy: 0.8438\n",
      "Epoch 63/1000\n",
      "147/147 [==============================] - 0s 2ms/step - loss: 0.3240 - accuracy: 0.8629 - val_loss: 0.3643 - val_accuracy: 0.8429\n",
      "Epoch 64/1000\n",
      "147/147 [==============================] - 0s 2ms/step - loss: 0.3240 - accuracy: 0.8646 - val_loss: 0.3662 - val_accuracy: 0.8442\n",
      "Epoch 65/1000\n",
      "147/147 [==============================] - 0s 2ms/step - loss: 0.3243 - accuracy: 0.8667 - val_loss: 0.3651 - val_accuracy: 0.8438\n"
     ]
    }
   ],
   "source": [
    "model_history=model.fit(X_train, y_train,epochs=1000,validation_split=0.33,callbacks=early_stop)"
   ]
  },
  {
   "cell_type": "code",
   "execution_count": 69,
   "id": "19ce0c5a",
   "metadata": {},
   "outputs": [
    {
     "name": "stdout",
     "output_type": "stream",
     "text": [
      "219/219 [==============================] - 0s 1ms/step - loss: 0.3349 - accuracy: 0.8603\n"
     ]
    },
    {
     "data": {
      "text/plain": [
       "[0.3349321782588959, 0.8602856993675232]"
      ]
     },
     "execution_count": 69,
     "metadata": {},
     "output_type": "execute_result"
    }
   ],
   "source": [
    "model.evaluate(X_train, y_train)"
   ]
  },
  {
   "cell_type": "code",
   "execution_count": 70,
   "id": "24ea201f",
   "metadata": {},
   "outputs": [
    {
     "data": {
      "text/plain": [
       "dict_keys(['loss', 'accuracy', 'val_loss', 'val_accuracy'])"
      ]
     },
     "execution_count": 70,
     "metadata": {},
     "output_type": "execute_result"
    }
   ],
   "source": [
    "model_history.history.keys()"
   ]
  },
  {
   "cell_type": "code",
   "execution_count": 71,
   "id": "87234bf0",
   "metadata": {},
   "outputs": [
    {
     "data": {
      "text/html": [
       "<div>\n",
       "<style scoped>\n",
       "    .dataframe tbody tr th:only-of-type {\n",
       "        vertical-align: middle;\n",
       "    }\n",
       "\n",
       "    .dataframe tbody tr th {\n",
       "        vertical-align: top;\n",
       "    }\n",
       "\n",
       "    .dataframe thead th {\n",
       "        text-align: right;\n",
       "    }\n",
       "</style>\n",
       "<table border=\"1\" class=\"dataframe\">\n",
       "  <thead>\n",
       "    <tr style=\"text-align: right;\">\n",
       "      <th></th>\n",
       "      <th>loss</th>\n",
       "      <th>accuracy</th>\n",
       "      <th>val_loss</th>\n",
       "      <th>val_accuracy</th>\n",
       "    </tr>\n",
       "  </thead>\n",
       "  <tbody>\n",
       "    <tr>\n",
       "      <th>0</th>\n",
       "      <td>0.589872</td>\n",
       "      <td>0.732566</td>\n",
       "      <td>0.531224</td>\n",
       "      <td>0.789269</td>\n",
       "    </tr>\n",
       "    <tr>\n",
       "      <th>1</th>\n",
       "      <td>0.500052</td>\n",
       "      <td>0.793986</td>\n",
       "      <td>0.487695</td>\n",
       "      <td>0.789269</td>\n",
       "    </tr>\n",
       "    <tr>\n",
       "      <th>2</th>\n",
       "      <td>0.468417</td>\n",
       "      <td>0.793986</td>\n",
       "      <td>0.461697</td>\n",
       "      <td>0.789269</td>\n",
       "    </tr>\n",
       "    <tr>\n",
       "      <th>3</th>\n",
       "      <td>0.447961</td>\n",
       "      <td>0.794412</td>\n",
       "      <td>0.446058</td>\n",
       "      <td>0.790134</td>\n",
       "    </tr>\n",
       "    <tr>\n",
       "      <th>4</th>\n",
       "      <td>0.434273</td>\n",
       "      <td>0.795692</td>\n",
       "      <td>0.436964</td>\n",
       "      <td>0.795327</td>\n",
       "    </tr>\n",
       "  </tbody>\n",
       "</table>\n",
       "</div>"
      ],
      "text/plain": [
       "       loss  accuracy  val_loss  val_accuracy\n",
       "0  0.589872  0.732566  0.531224      0.789269\n",
       "1  0.500052  0.793986  0.487695      0.789269\n",
       "2  0.468417  0.793986  0.461697      0.789269\n",
       "3  0.447961  0.794412  0.446058      0.790134\n",
       "4  0.434273  0.795692  0.436964      0.795327"
      ]
     },
     "execution_count": 71,
     "metadata": {},
     "output_type": "execute_result"
    }
   ],
   "source": [
    "loss=pd.DataFrame(model_history.history)\n",
    "loss.head()"
   ]
  },
  {
   "cell_type": "code",
   "execution_count": 72,
   "id": "9f2662a8",
   "metadata": {},
   "outputs": [
    {
     "data": {
      "text/plain": [
       "<AxesSubplot:>"
      ]
     },
     "execution_count": 72,
     "metadata": {},
     "output_type": "execute_result"
    },
    {
     "data": {
      "image/png": "[encoded data removed]",
      "text/plain": [
       "<Figure size 432x288 with 1 Axes>"
      ]
     },
     "metadata": {
      "needs_background": "light"
     },
     "output_type": "display_data"
    }
   ],
   "source": [
    "loss.plot()"
   ]
  },
  {
   "cell_type": "code",
   "execution_count": 73,
   "id": "976cd482",
   "metadata": {},
   "outputs": [
    {
     "name": "stdout",
     "output_type": "stream",
     "text": [
      "94/94 [==============================] - 0s 1ms/step\n"
     ]
    }
   ],
   "source": [
    "y_pred=model.predict(X_test)"
   ]
  },
  {
   "cell_type": "code",
   "execution_count": 74,
   "id": "d2db4935",
   "metadata": {},
   "outputs": [],
   "source": [
    "y_pred=(y_pred>=0.5)"
   ]
  },
  {
   "cell_type": "code",
   "execution_count": 75,
   "id": "f7d0f386",
   "metadata": {},
   "outputs": [],
   "source": [
    "from sklearn.metrics import confusion_matrix, classification_report"
   ]
  },
  {
   "cell_type": "code",
   "execution_count": 76,
   "id": "7e548239",
   "metadata": {},
   "outputs": [
    {
     "name": "stdout",
     "output_type": "stream",
     "text": [
      "[[2299  117]\n",
      " [ 307  277]]\n"
     ]
    }
   ],
   "source": [
    "print(confusion_matrix(y_test, y_pred))"
   ]
  },
  {
   "cell_type": "code",
   "execution_count": 77,
   "id": "e029c9cf",
   "metadata": {},
   "outputs": [
    {
     "name": "stdout",
     "output_type": "stream",
     "text": [
      "              precision    recall  f1-score   support\n",
      "\n",
      "           0       0.88      0.95      0.92      2416\n",
      "           1       0.70      0.47      0.57       584\n",
      "\n",
      "    accuracy                           0.86      3000\n",
      "   macro avg       0.79      0.71      0.74      3000\n",
      "weighted avg       0.85      0.86      0.85      3000\n",
      "\n"
     ]
    }
   ],
   "source": [
    "print(classification_report(y_test, y_pred))"
   ]
  },
  {
   "cell_type": "code",
   "execution_count": null,
   "id": "337878a3",
   "metadata": {},
   "outputs": [],
   "source": []
  }
 ],
 "metadata": {
  "kernelspec": {
   "display_name": "Python 3 (ipykernel)",
   "language": "python",
   "name": "python3"
  },
  "language_info": {
   "codemirror_mode": {
    "name": "ipython",
    "version": 3
   },
   "file_extension": ".py",
   "mimetype": "text/x-python",
   "name": "python",
   "nbconvert_exporter": "python",
   "pygments_lexer": "ipython3",
   "version": "3.9.12"
  }
 },
 "nbformat": 4,
 "nbformat_minor": 5
}
