{
 "cells": [
  {
   "cell_type": "markdown",
   "id": "79c211c0",
   "metadata": {},
   "source": [
    "## This dataset contains details of a bank's customers and the target variable is a binary variable reflecting the fact whether the customer left the bank (closed his account) or he continues to be a customer."
   ]
  },
  {
   "cell_type": "code",
   "execution_count": 1,
   "id": "33f068ba",
   "metadata": {},
   "outputs": [],
   "source": [
    "import pandas as pd\n",
    "import numpy as np\n",
    "import seaborn as sns\n",
    "import matplotlib.pyplot as plt\n",
    "from scipy import stats\n",
    "from sklearn.preprocessing import MinMaxScaler\n",
    "from sklearn.model_selection import train_test_split\n",
    "from sklearn.linear_model import LogisticRegression\n",
    "from sklearn.neighbors import KNeighborsClassifier\n",
    "from sklearn.tree import DecisionTreeClassifier\n",
    "from sklearn.ensemble import RandomForestClassifier\n",
    "from sklearn.svm import SVC\n",
    "from sklearn.naive_bayes import GaussianNB\n",
    "from sklearn.metrics import classification_report\n",
    "import tensorflow as tf\n",
    "from tensorflow.keras.models import Sequential\n",
    "from tensorflow.keras.layers import Dense\n",
    "from sklearn.model_selection import train_test_split\n",
    "from sklearn.preprocessing import StandardScaler\n",
    "from sklearn.metrics import confusion_matrix, accuracy_score"
   ]
  },
  {
   "cell_type": "code",
   "execution_count": 2,
   "id": "fc437a31",
   "metadata": {},
   "outputs": [
    {
     "name": "stdout",
     "output_type": "stream",
     "text": [
      "(10000, 14)\n"
     ]
    },
    {
     "data": {
      "text/html": [
       "<div>\n",
       "<style scoped>\n",
       "    .dataframe tbody tr th:only-of-type {\n",
       "        vertical-align: middle;\n",
       "    }\n",
       "\n",
       "    .dataframe tbody tr th {\n",
       "        vertical-align: top;\n",
       "    }\n",
       "\n",
       "    .dataframe thead th {\n",
       "        text-align: right;\n",
       "    }\n",
       "</style>\n",
       "<table border=\"1\" class=\"dataframe\">\n",
       "  <thead>\n",
       "    <tr style=\"text-align: right;\">\n",
       "      <th></th>\n",
       "      <th>RowNumber</th>\n",
       "      <th>CustomerId</th>\n",
       "      <th>Surname</th>\n",
       "      <th>CreditScore</th>\n",
       "      <th>Geography</th>\n",
       "      <th>Gender</th>\n",
       "      <th>Age</th>\n",
       "      <th>Tenure</th>\n",
       "      <th>Balance</th>\n",
       "      <th>NumOfProducts</th>\n",
       "      <th>HasCrCard</th>\n",
       "      <th>IsActiveMember</th>\n",
       "      <th>EstimatedSalary</th>\n",
       "      <th>Exited</th>\n",
       "    </tr>\n",
       "  </thead>\n",
       "  <tbody>\n",
       "    <tr>\n",
       "      <th>0</th>\n",
       "      <td>1</td>\n",
       "      <td>15634602</td>\n",
       "      <td>Hargrave</td>\n",
       "      <td>619</td>\n",
       "      <td>France</td>\n",
       "      <td>Female</td>\n",
       "      <td>42</td>\n",
       "      <td>2</td>\n",
       "      <td>0.00</td>\n",
       "      <td>1</td>\n",
       "      <td>1</td>\n",
       "      <td>1</td>\n",
       "      <td>101348.88</td>\n",
       "      <td>1</td>\n",
       "    </tr>\n",
       "    <tr>\n",
       "      <th>1</th>\n",
       "      <td>2</td>\n",
       "      <td>15647311</td>\n",
       "      <td>Hill</td>\n",
       "      <td>608</td>\n",
       "      <td>Spain</td>\n",
       "      <td>Female</td>\n",
       "      <td>41</td>\n",
       "      <td>1</td>\n",
       "      <td>83807.86</td>\n",
       "      <td>1</td>\n",
       "      <td>0</td>\n",
       "      <td>1</td>\n",
       "      <td>112542.58</td>\n",
       "      <td>0</td>\n",
       "    </tr>\n",
       "    <tr>\n",
       "      <th>2</th>\n",
       "      <td>3</td>\n",
       "      <td>15619304</td>\n",
       "      <td>Onio</td>\n",
       "      <td>502</td>\n",
       "      <td>France</td>\n",
       "      <td>Female</td>\n",
       "      <td>42</td>\n",
       "      <td>8</td>\n",
       "      <td>159660.80</td>\n",
       "      <td>3</td>\n",
       "      <td>1</td>\n",
       "      <td>0</td>\n",
       "      <td>113931.57</td>\n",
       "      <td>1</td>\n",
       "    </tr>\n",
       "    <tr>\n",
       "      <th>3</th>\n",
       "      <td>4</td>\n",
       "      <td>15701354</td>\n",
       "      <td>Boni</td>\n",
       "      <td>699</td>\n",
       "      <td>France</td>\n",
       "      <td>Female</td>\n",
       "      <td>39</td>\n",
       "      <td>1</td>\n",
       "      <td>0.00</td>\n",
       "      <td>2</td>\n",
       "      <td>0</td>\n",
       "      <td>0</td>\n",
       "      <td>93826.63</td>\n",
       "      <td>0</td>\n",
       "    </tr>\n",
       "    <tr>\n",
       "      <th>4</th>\n",
       "      <td>5</td>\n",
       "      <td>15737888</td>\n",
       "      <td>Mitchell</td>\n",
       "      <td>850</td>\n",
       "      <td>Spain</td>\n",
       "      <td>Female</td>\n",
       "      <td>43</td>\n",
       "      <td>2</td>\n",
       "      <td>125510.82</td>\n",
       "      <td>1</td>\n",
       "      <td>1</td>\n",
       "      <td>1</td>\n",
       "      <td>79084.10</td>\n",
       "      <td>0</td>\n",
       "    </tr>\n",
       "  </tbody>\n",
       "</table>\n",
       "</div>"
      ],
      "text/plain": [
       "   RowNumber  CustomerId   Surname  CreditScore Geography  Gender  Age  \\\n",
       "0          1    15634602  Hargrave          619    France  Female   42   \n",
       "1          2    15647311      Hill          608     Spain  Female   41   \n",
       "2          3    15619304      Onio          502    France  Female   42   \n",
       "3          4    15701354      Boni          699    France  Female   39   \n",
       "4          5    15737888  Mitchell          850     Spain  Female   43   \n",
       "\n",
       "   Tenure    Balance  NumOfProducts  HasCrCard  IsActiveMember  \\\n",
       "0       2       0.00              1          1               1   \n",
       "1       1   83807.86              1          0               1   \n",
       "2       8  159660.80              3          1               0   \n",
       "3       1       0.00              2          0               0   \n",
       "4       2  125510.82              1          1               1   \n",
       "\n",
       "   EstimatedSalary  Exited  \n",
       "0        101348.88       1  \n",
       "1        112542.58       0  \n",
       "2        113931.57       1  \n",
       "3         93826.63       0  \n",
       "4         79084.10       0  "
      ]
     },
     "execution_count": 2,
     "metadata": {},
     "output_type": "execute_result"
    }
   ],
   "source": [
    "df= pd.read_csv(\"churn_modelling.csv\")\n",
    "print(df.shape)\n",
    "df.head()"
   ]
  },
  {
   "cell_type": "code",
   "execution_count": null,
   "id": "3bd32917",
   "metadata": {},
   "outputs": [],
   "source": []
  },
  {
   "cell_type": "markdown",
   "id": "fd144bda",
   "metadata": {},
   "source": [
    "# Variables\n",
    "\n",
    "#### Row Numbers= from 1 to 10000\n",
    "#### CustomerId= Unique Ids for bank customer identification\n",
    "#### Surname= Customer's last name\n",
    "#### CreditScore= Credit score of the customer\n",
    "#### Geography= The country from which the customer belongs\n",
    "#### Age= Age of the customer\n",
    "#### Tenure= Number of years for which the customer has been with the bank\n",
    "#### Balance= Bank balance of the customer\n",
    "#### NumOfProducts=Number of bank products the customer is utilising\n",
    "#### IsActiveMember= whether the customer is active or not\n",
    "#### Existed= where the customer closed the bank account or not\n",
    "####  0 means active and it also means still have account with the bank\n",
    "#### 1 means not active and it also means the customer has closed his/her account\n"
   ]
  },
  {
   "cell_type": "code",
   "execution_count": null,
   "id": "1346f09b",
   "metadata": {},
   "outputs": [],
   "source": []
  },
  {
   "cell_type": "code",
   "execution_count": 3,
   "id": "496a2502",
   "metadata": {},
   "outputs": [
    {
     "data": {
      "text/plain": [
       "0"
      ]
     },
     "execution_count": 3,
     "metadata": {},
     "output_type": "execute_result"
    }
   ],
   "source": [
    "df.duplicated().sum()"
   ]
  },
  {
   "cell_type": "code",
   "execution_count": 4,
   "id": "244a6a6f",
   "metadata": {},
   "outputs": [
    {
     "data": {
      "text/plain": [
       "RowNumber          0\n",
       "CustomerId         0\n",
       "Surname            0\n",
       "CreditScore        0\n",
       "Geography          0\n",
       "Gender             0\n",
       "Age                0\n",
       "Tenure             0\n",
       "Balance            0\n",
       "NumOfProducts      0\n",
       "HasCrCard          0\n",
       "IsActiveMember     0\n",
       "EstimatedSalary    0\n",
       "Exited             0\n",
       "dtype: int64"
      ]
     },
     "execution_count": 4,
     "metadata": {},
     "output_type": "execute_result"
    }
   ],
   "source": [
    "df.isna().sum()"
   ]
  },
  {
   "cell_type": "code",
   "execution_count": null,
   "id": "4980c838",
   "metadata": {},
   "outputs": [],
   "source": []
  },
  {
   "cell_type": "markdown",
   "id": "50aeee96",
   "metadata": {},
   "source": [
    "# Exploratory data analysis"
   ]
  },
  {
   "cell_type": "code",
   "execution_count": 5,
   "id": "876f7a9c",
   "metadata": {},
   "outputs": [
    {
     "name": "stdout",
     "output_type": "stream",
     "text": [
      "CreditScore:  -0.027093539754657607\n",
      "Age:  0.2853230378350672\n",
      "Tenure:  -0.01400061225344457\n",
      "Balance:  0.11853276877163368\n",
      "NumOfProducts:  -0.04781986494944019\n",
      "HasCrCard:  -0.0071377656030391515\n",
      "IsActiveMember:  -0.15612827818890485\n",
      "EstimatedSalary:  0.01209686102684462\n"
     ]
    }
   ],
   "source": [
    "features=['CreditScore', 'Age', 'Tenure', 'Balance', 'NumOfProducts', 'HasCrCard','IsActiveMember', 'EstimatedSalary']\n",
    "\n",
    "for c in features:\n",
    "    corr= np.corrcoef(df[c], df[\"Exited\"])[0][1]\n",
    "    print(c +\": \" , corr)"
   ]
  },
  {
   "cell_type": "markdown",
   "id": "d763c569",
   "metadata": {},
   "source": [
    "##### Age and balance showed stronger correlation"
   ]
  },
  {
   "cell_type": "code",
   "execution_count": 6,
   "id": "155fae34",
   "metadata": {},
   "outputs": [
    {
     "data": {
      "text/plain": [
       "<AxesSubplot:>"
      ]
     },
     "execution_count": 6,
     "metadata": {},
     "output_type": "execute_result"
    },
    {
     "data": {
      "image/png": "[encoded data removed]",
      "text/plain": [
       "<Figure size 720x432 with 2 Axes>"
      ]
     },
     "metadata": {
      "needs_background": "light"
     },
     "output_type": "display_data"
    }
   ],
   "source": [
    "df_data=df[features]\n",
    "\n",
    "plt.figure(figsize=(10,6))\n",
    "sns.heatmap(df_data.corr(), annot= True)"
   ]
  },
  {
   "cell_type": "code",
   "execution_count": 7,
   "id": "6d39bb89",
   "metadata": {},
   "outputs": [],
   "source": [
    "df1=df[df[\"Exited\"]==0]\n",
    "df2=df[df[\"Exited\"]==1]"
   ]
  },
  {
   "cell_type": "code",
   "execution_count": 8,
   "id": "13fed5e6",
   "metadata": {},
   "outputs": [
    {
     "data": {
      "image/png": "[encoded data removed]",
      "text/plain": [
       "<Figure size 864x576 with 8 Axes>"
      ]
     },
     "metadata": {
      "needs_background": "light"
     },
     "output_type": "display_data"
    }
   ],
   "source": [
    "fig, axs= plt.subplots(4,2, figsize=(12,8))\n",
    "\n",
    "\n",
    "for i in range(4):\n",
    "    for j in range(2):\n",
    "        k= 2*i+j\n",
    "        if k>=8: continue\n",
    "\n",
    "        feet= features[k]\n",
    "        \n",
    "        ax= axs[i,j]\n",
    "        ax.boxplot([df1[feet], df2[feet]]);\n",
    "        ax.set_title(feet)\n",
    "        ax.set_xticklabels(['Not Exited', 'Exited'])\n",
    "plt.subplots_adjust(wspace=.25)\n",
    "plt.tight_layout()"
   ]
  },
  {
   "cell_type": "markdown",
   "id": "8bcdd5bd",
   "metadata": {},
   "source": [
    "## visualizing some features "
   ]
  },
  {
   "cell_type": "code",
   "execution_count": 9,
   "id": "19d06ac3",
   "metadata": {},
   "outputs": [
    {
     "data": {
      "text/plain": [
       "<AxesSubplot:xlabel='Exited', ylabel='count'>"
      ]
     },
     "execution_count": 9,
     "metadata": {},
     "output_type": "execute_result"
    },
    {
     "data": {
      "image/png": "[encoded data removed]",
      "text/plain": [
       "<Figure size 576x432 with 1 Axes>"
      ]
     },
     "metadata": {
      "needs_background": "light"
     },
     "output_type": "display_data"
    }
   ],
   "source": [
    "plt.figure(figsize=(8,6))\n",
    "sns.countplot(x='Exited',data=df)"
   ]
  },
  {
   "cell_type": "code",
   "execution_count": 10,
   "id": "c6fbfa00",
   "metadata": {},
   "outputs": [
    {
     "data": {
      "text/plain": [
       "<AxesSubplot:xlabel='Gender', ylabel='count'>"
      ]
     },
     "execution_count": 10,
     "metadata": {},
     "output_type": "execute_result"
    },
    {
     "data": {
      "image/png": "[encoded data removed]",
      "text/plain": [
       "<Figure size 576x432 with 1 Axes>"
      ]
     },
     "metadata": {
      "needs_background": "light"
     },
     "output_type": "display_data"
    }
   ],
   "source": [
    "plt.figure(figsize=(8,6))\n",
    "sns.countplot(x='Gender',data=df)"
   ]
  },
  {
   "cell_type": "code",
   "execution_count": 11,
   "id": "f6ff8d5a",
   "metadata": {},
   "outputs": [
    {
     "data": {
      "text/plain": [
       "<AxesSubplot:xlabel='Gender', ylabel='count'>"
      ]
     },
     "execution_count": 11,
     "metadata": {},
     "output_type": "execute_result"
    },
    {
     "data": {
      "image/png": "[encoded data removed]",
      "text/plain": [
       "<Figure size 576x432 with 1 Axes>"
      ]
     },
     "metadata": {
      "needs_background": "light"
     },
     "output_type": "display_data"
    }
   ],
   "source": [
    "plt.figure(figsize=(8,6))\n",
    "\n",
    "sns.countplot(x=\"Gender\", hue=\"Exited\", data=df)"
   ]
  },
  {
   "cell_type": "code",
   "execution_count": 12,
   "id": "4bd9503f",
   "metadata": {},
   "outputs": [
    {
     "data": {
      "text/plain": [
       "<AxesSubplot:xlabel='Age', ylabel='Count'>"
      ]
     },
     "execution_count": 12,
     "metadata": {},
     "output_type": "execute_result"
    },
    {
     "data": {
      "image/png": "[encoded data removed]",
      "text/plain": [
       "<Figure size 576x432 with 1 Axes>"
      ]
     },
     "metadata": {
      "needs_background": "light"
     },
     "output_type": "display_data"
    }
   ],
   "source": [
    "# Age distribution of thee customers\n",
    "\n",
    "plt.figure(figsize=(8,6))\n",
    "sns.histplot(x=\"Age\", data=df, bins=30,alpha=0.7)"
   ]
  },
  {
   "cell_type": "code",
   "execution_count": null,
   "id": "33cf2ce5",
   "metadata": {},
   "outputs": [],
   "source": []
  },
  {
   "cell_type": "code",
   "execution_count": 13,
   "id": "e6ba296c",
   "metadata": {},
   "outputs": [
    {
     "data": {
      "text/plain": [
       "<AxesSubplot:xlabel='EstimatedSalary', ylabel='Count'>"
      ]
     },
     "execution_count": 13,
     "metadata": {},
     "output_type": "execute_result"
    },
    {
     "data": {
      "image/png": "[encoded data removed]",
      "text/plain": [
       "<Figure size 576x432 with 1 Axes>"
      ]
     },
     "metadata": {
      "needs_background": "light"
     },
     "output_type": "display_data"
    }
   ],
   "source": [
    "# Estimated salary distibution\n",
    "\n",
    "plt.figure(figsize=(8,6))\n",
    "sns.histplot(x=\"EstimatedSalary\", data=df, bins=30,alpha=0.7)"
   ]
  },
  {
   "cell_type": "code",
   "execution_count": null,
   "id": "e3065482",
   "metadata": {},
   "outputs": [],
   "source": []
  },
  {
   "cell_type": "code",
   "execution_count": 14,
   "id": "a68712f5",
   "metadata": {},
   "outputs": [
    {
     "data": {
      "text/plain": [
       "<AxesSubplot:xlabel='NumOfProducts', ylabel='count'>"
      ]
     },
     "execution_count": 14,
     "metadata": {},
     "output_type": "execute_result"
    },
    {
     "data": {
      "image/png": "[encoded data removed]",
      "text/plain": [
       "<Figure size 576x432 with 1 Axes>"
      ]
     },
     "metadata": {
      "needs_background": "light"
     },
     "output_type": "display_data"
    }
   ],
   "source": [
    "# plot to show the number of customers for different product\n",
    "\n",
    "plt.figure(figsize=(8,6))\n",
    "sns.countplot(x='NumOfProducts',data=df)"
   ]
  },
  {
   "cell_type": "code",
   "execution_count": null,
   "id": "6f18c38d",
   "metadata": {},
   "outputs": [],
   "source": []
  },
  {
   "cell_type": "code",
   "execution_count": 15,
   "id": "ed98356b",
   "metadata": {},
   "outputs": [
    {
     "data": {
      "text/plain": [
       "<AxesSubplot:xlabel='IsActiveMember', ylabel='count'>"
      ]
     },
     "execution_count": 15,
     "metadata": {},
     "output_type": "execute_result"
    },
    {
     "data": {
      "image/png": "[encoded data removed]",
      "text/plain": [
       "<Figure size 576x432 with 1 Axes>"
      ]
     },
     "metadata": {
      "needs_background": "light"
     },
     "output_type": "display_data"
    }
   ],
   "source": [
    "# plot to show the number of customers that are active\n",
    "\n",
    "plt.figure(figsize=(8,6))\n",
    "sns.countplot(x='IsActiveMember',data=df)"
   ]
  },
  {
   "cell_type": "code",
   "execution_count": null,
   "id": "eac18bb5",
   "metadata": {},
   "outputs": [],
   "source": []
  },
  {
   "cell_type": "markdown",
   "id": "5cc9a574",
   "metadata": {},
   "source": [
    "# Detail Analysis"
   ]
  },
  {
   "cell_type": "markdown",
   "id": "0f94d211",
   "metadata": {},
   "source": [
    "`Number of active customer who still have account with the bank`"
   ]
  },
  {
   "cell_type": "code",
   "execution_count": 16,
   "id": "cb2b4b0c",
   "metadata": {},
   "outputs": [
    {
     "data": {
      "text/plain": [
       "1    4416\n",
       "0    3547\n",
       "Name: IsActiveMember, dtype: int64"
      ]
     },
     "execution_count": 16,
     "metadata": {},
     "output_type": "execute_result"
    }
   ],
   "source": [
    "df[df[\"Exited\"]==0][\"IsActiveMember\"].value_counts()"
   ]
  },
  {
   "cell_type": "code",
   "execution_count": null,
   "id": "b2ffe591",
   "metadata": {},
   "outputs": [],
   "source": []
  },
  {
   "cell_type": "markdown",
   "id": "d78b8780",
   "metadata": {},
   "source": [
    "`Number of active customers with Zero Balance`"
   ]
  },
  {
   "cell_type": "code",
   "execution_count": 17,
   "id": "db28608a",
   "metadata": {},
   "outputs": [
    {
     "data": {
      "text/plain": [
       "1    1873\n",
       "0    1744\n",
       "Name: IsActiveMember, dtype: int64"
      ]
     },
     "execution_count": 17,
     "metadata": {},
     "output_type": "execute_result"
    }
   ],
   "source": [
    "df[df[\"Balance\"]==0][\"IsActiveMember\"].value_counts()"
   ]
  },
  {
   "cell_type": "code",
   "execution_count": null,
   "id": "8afa7d56",
   "metadata": {},
   "outputs": [],
   "source": []
  },
  {
   "cell_type": "markdown",
   "id": "51c47ec6",
   "metadata": {},
   "source": [
    "``Number of customers with zero Balance who still have account with the Bank``"
   ]
  },
  {
   "cell_type": "code",
   "execution_count": 18,
   "id": "3c3bfe21",
   "metadata": {},
   "outputs": [
    {
     "data": {
      "text/plain": [
       "0    3117\n",
       "1     500\n",
       "Name: Exited, dtype: int64"
      ]
     },
     "execution_count": 18,
     "metadata": {},
     "output_type": "execute_result"
    }
   ],
   "source": [
    "df[df[\"Balance\"]==0][\"Exited\"].value_counts()"
   ]
  },
  {
   "cell_type": "code",
   "execution_count": null,
   "id": "66d3919c",
   "metadata": {},
   "outputs": [],
   "source": []
  },
  {
   "cell_type": "markdown",
   "id": "76698766",
   "metadata": {},
   "source": [
    "`Number of products that was used by customer who closed their account`"
   ]
  },
  {
   "cell_type": "code",
   "execution_count": 19,
   "id": "baac9a8e",
   "metadata": {},
   "outputs": [
    {
     "data": {
      "text/plain": [
       "1    1409\n",
       "2     348\n",
       "3     220\n",
       "4      60\n",
       "Name: NumOfProducts, dtype: int64"
      ]
     },
     "execution_count": 19,
     "metadata": {},
     "output_type": "execute_result"
    }
   ],
   "source": [
    "df[df[\"Exited\"]==1][\"NumOfProducts\"].value_counts()"
   ]
  },
  {
   "cell_type": "code",
   "execution_count": null,
   "id": "25c0648c",
   "metadata": {},
   "outputs": [],
   "source": []
  },
  {
   "cell_type": "markdown",
   "id": "4df3f986",
   "metadata": {},
   "source": [
    "`Number of customers by Geography(location)`"
   ]
  },
  {
   "cell_type": "code",
   "execution_count": 20,
   "id": "482c466e",
   "metadata": {},
   "outputs": [
    {
     "data": {
      "text/plain": [
       "France     5014\n",
       "Germany    2509\n",
       "Spain      2477\n",
       "Name: Geography, dtype: int64"
      ]
     },
     "execution_count": 20,
     "metadata": {},
     "output_type": "execute_result"
    }
   ],
   "source": [
    "df[\"Geography\"].value_counts()"
   ]
  },
  {
   "cell_type": "code",
   "execution_count": null,
   "id": "ccfad389",
   "metadata": {},
   "outputs": [],
   "source": []
  },
  {
   "cell_type": "markdown",
   "id": "6a491ff6",
   "metadata": {},
   "source": [
    "`How many of the customers by Geography are active?`"
   ]
  },
  {
   "cell_type": "code",
   "execution_count": 21,
   "id": "8df4a756",
   "metadata": {},
   "outputs": [
    {
     "data": {
      "text/plain": [
       "Geography  IsActiveMember\n",
       "France     0                 2423\n",
       "           1                 2591\n",
       "Germany    0                 1261\n",
       "           1                 1248\n",
       "Spain      0                 1165\n",
       "           1                 1312\n",
       "Name: RowNumber, dtype: int64"
      ]
     },
     "execution_count": 21,
     "metadata": {},
     "output_type": "execute_result"
    }
   ],
   "source": [
    "df.groupby([\"Geography\", \"IsActiveMember\"]).count()[\"RowNumber\"]"
   ]
  },
  {
   "cell_type": "code",
   "execution_count": null,
   "id": "a6c299f0",
   "metadata": {},
   "outputs": [],
   "source": []
  },
  {
   "cell_type": "markdown",
   "id": "a9729a43",
   "metadata": {},
   "source": [
    "`How many of the customers by Geography have closed their accounts?`"
   ]
  },
  {
   "cell_type": "code",
   "execution_count": 22,
   "id": "2d7ff9b2",
   "metadata": {},
   "outputs": [
    {
     "data": {
      "text/plain": [
       "Geography  Exited\n",
       "France     0         4204\n",
       "           1          810\n",
       "Germany    0         1695\n",
       "           1          814\n",
       "Spain      0         2064\n",
       "           1          413\n",
       "Name: RowNumber, dtype: int64"
      ]
     },
     "execution_count": 22,
     "metadata": {},
     "output_type": "execute_result"
    }
   ],
   "source": [
    "df.groupby([\"Geography\", \"Exited\"]).count()[\"RowNumber\"]"
   ]
  },
  {
   "cell_type": "code",
   "execution_count": null,
   "id": "153ce925",
   "metadata": {},
   "outputs": [],
   "source": []
  },
  {
   "cell_type": "markdown",
   "id": "b4dfb75b",
   "metadata": {},
   "source": [
    "`Number of people who closed their account by Gender in spain`"
   ]
  },
  {
   "cell_type": "code",
   "execution_count": 23,
   "id": "9f2baecf",
   "metadata": {},
   "outputs": [
    {
     "data": {
      "text/plain": [
       "Exited  Gender\n",
       "0       Female     858\n",
       "        Male      1206\n",
       "1       Female     231\n",
       "        Male       182\n",
       "Name: RowNumber, dtype: int64"
      ]
     },
     "execution_count": 23,
     "metadata": {},
     "output_type": "execute_result"
    }
   ],
   "source": [
    "df[df[\"Geography\"]==\"Spain\"].groupby([\"Exited\", \"Gender\"]).count()[\"RowNumber\"]"
   ]
  },
  {
   "cell_type": "code",
   "execution_count": null,
   "id": "6024a70a",
   "metadata": {},
   "outputs": [],
   "source": []
  },
  {
   "cell_type": "markdown",
   "id": "2113f025",
   "metadata": {},
   "source": [
    "`Number of people who closed their account by Gender in Germany`"
   ]
  },
  {
   "cell_type": "code",
   "execution_count": 24,
   "id": "6d7520b5",
   "metadata": {},
   "outputs": [
    {
     "data": {
      "text/plain": [
       "Exited  Gender\n",
       "0       Female    745\n",
       "        Male      950\n",
       "1       Female    448\n",
       "        Male      366\n",
       "Name: RowNumber, dtype: int64"
      ]
     },
     "execution_count": 24,
     "metadata": {},
     "output_type": "execute_result"
    }
   ],
   "source": [
    "df[df[\"Geography\"]==\"Germany\"].groupby([\"Exited\", \"Gender\"]).count()[\"RowNumber\"]"
   ]
  },
  {
   "cell_type": "code",
   "execution_count": null,
   "id": "cd40df74",
   "metadata": {},
   "outputs": [],
   "source": []
  },
  {
   "cell_type": "markdown",
   "id": "c717a548",
   "metadata": {},
   "source": [
    "`Number of people who closed their account by Gender in France`"
   ]
  },
  {
   "cell_type": "code",
   "execution_count": 25,
   "id": "48e83138",
   "metadata": {},
   "outputs": [
    {
     "data": {
      "text/plain": [
       "Exited  Gender\n",
       "0       Female    1801\n",
       "        Male      2403\n",
       "1       Female     460\n",
       "        Male       350\n",
       "Name: RowNumber, dtype: int64"
      ]
     },
     "execution_count": 25,
     "metadata": {},
     "output_type": "execute_result"
    }
   ],
   "source": [
    "df[df[\"Geography\"]==\"France\"].groupby([\"Exited\", \"Gender\"]).count()[\"RowNumber\"]"
   ]
  },
  {
   "cell_type": "code",
   "execution_count": null,
   "id": "bd1549b6",
   "metadata": {},
   "outputs": [],
   "source": []
  },
  {
   "cell_type": "markdown",
   "id": "a2a0afe1",
   "metadata": {},
   "source": [
    "# Statistical Analysis"
   ]
  },
  {
   "cell_type": "markdown",
   "id": "dc1afecc",
   "metadata": {},
   "source": [
    "\n",
    "Find the contingency table of `Number of product` and `Exited`.\n",
    "\n",
    "Then, perform a chi-squared test to examine whether `Exited` is dependent or independent from `Number of product`. Use a 95% confidence level."
   ]
  },
  {
   "cell_type": "code",
   "execution_count": 26,
   "id": "61846362",
   "metadata": {},
   "outputs": [
    {
     "data": {
      "text/html": [
       "<div>\n",
       "<style scoped>\n",
       "    .dataframe tbody tr th:only-of-type {\n",
       "        vertical-align: middle;\n",
       "    }\n",
       "\n",
       "    .dataframe tbody tr th {\n",
       "        vertical-align: top;\n",
       "    }\n",
       "\n",
       "    .dataframe thead th {\n",
       "        text-align: right;\n",
       "    }\n",
       "</style>\n",
       "<table border=\"1\" class=\"dataframe\">\n",
       "  <thead>\n",
       "    <tr style=\"text-align: right;\">\n",
       "      <th>Exited</th>\n",
       "      <th>0</th>\n",
       "      <th>1</th>\n",
       "    </tr>\n",
       "    <tr>\n",
       "      <th>NumOfProducts</th>\n",
       "      <th></th>\n",
       "      <th></th>\n",
       "    </tr>\n",
       "  </thead>\n",
       "  <tbody>\n",
       "    <tr>\n",
       "      <th>1</th>\n",
       "      <td>3675</td>\n",
       "      <td>1409</td>\n",
       "    </tr>\n",
       "    <tr>\n",
       "      <th>2</th>\n",
       "      <td>4242</td>\n",
       "      <td>348</td>\n",
       "    </tr>\n",
       "    <tr>\n",
       "      <th>3</th>\n",
       "      <td>46</td>\n",
       "      <td>220</td>\n",
       "    </tr>\n",
       "    <tr>\n",
       "      <th>4</th>\n",
       "      <td>0</td>\n",
       "      <td>60</td>\n",
       "    </tr>\n",
       "  </tbody>\n",
       "</table>\n",
       "</div>"
      ],
      "text/plain": [
       "Exited            0     1\n",
       "NumOfProducts            \n",
       "1              3675  1409\n",
       "2              4242   348\n",
       "3                46   220\n",
       "4                 0    60"
      ]
     },
     "execution_count": 26,
     "metadata": {},
     "output_type": "execute_result"
    }
   ],
   "source": [
    "df1=pd.crosstab(df[\"NumOfProducts\"], df[\"Exited\"])\n",
    "df1"
   ]
  },
  {
   "cell_type": "code",
   "execution_count": 27,
   "id": "bac2e458",
   "metadata": {},
   "outputs": [
    {
     "name": "stdout",
     "output_type": "stream",
     "text": [
      "chi2 stat:  1503.6293615070408\n",
      "P-value:  0.0\n",
      "degree of freedom:  3\n",
      "Expected values: \n",
      " [[4048.3892 1035.6108]\n",
      " [3655.017   934.983 ]\n",
      " [ 211.8158   54.1842]\n",
      " [  47.778    12.222 ]]\n",
      "we reject the null hypothesis Ho (Categories are dependent)\n"
     ]
    }
   ],
   "source": [
    "chi2stat, pval, dof, expected= stats.chi2_contingency(df1)\n",
    "print(\"chi2 stat: \", chi2stat)\n",
    "print(\"P-value: \", pval)\n",
    "print(\"degree of freedom: \", dof)\n",
    "print(\"Expected values: \\n\", expected)\n",
    "\n",
    "alpha=0.05\n",
    "\n",
    "if pval<alpha:\n",
    "    print(\"we reject the null hypothesis Ho (Categories are dependent)\")\n",
    "else:\n",
    "          print(\"we fail to reject the null hypothesis (Categories are independent)\")"
   ]
  },
  {
   "cell_type": "code",
   "execution_count": null,
   "id": "13b927a6",
   "metadata": {},
   "outputs": [],
   "source": []
  },
  {
   "cell_type": "markdown",
   "id": "7dad8dad",
   "metadata": {},
   "source": [
    "\n",
    "Find the contingency table of `Gender` and `Exited`.\n",
    "\n",
    "Then, perform a chi-squared test to examine whether `Exited` is dependent or independent from `Gender`. Use a 95% confidence level."
   ]
  },
  {
   "cell_type": "code",
   "execution_count": 28,
   "id": "97c24400",
   "metadata": {},
   "outputs": [
    {
     "data": {
      "text/html": [
       "<div>\n",
       "<style scoped>\n",
       "    .dataframe tbody tr th:only-of-type {\n",
       "        vertical-align: middle;\n",
       "    }\n",
       "\n",
       "    .dataframe tbody tr th {\n",
       "        vertical-align: top;\n",
       "    }\n",
       "\n",
       "    .dataframe thead th {\n",
       "        text-align: right;\n",
       "    }\n",
       "</style>\n",
       "<table border=\"1\" class=\"dataframe\">\n",
       "  <thead>\n",
       "    <tr style=\"text-align: right;\">\n",
       "      <th>Exited</th>\n",
       "      <th>0</th>\n",
       "      <th>1</th>\n",
       "    </tr>\n",
       "    <tr>\n",
       "      <th>Gender</th>\n",
       "      <th></th>\n",
       "      <th></th>\n",
       "    </tr>\n",
       "  </thead>\n",
       "  <tbody>\n",
       "    <tr>\n",
       "      <th>Female</th>\n",
       "      <td>3404</td>\n",
       "      <td>1139</td>\n",
       "    </tr>\n",
       "    <tr>\n",
       "      <th>Male</th>\n",
       "      <td>4559</td>\n",
       "      <td>898</td>\n",
       "    </tr>\n",
       "  </tbody>\n",
       "</table>\n",
       "</div>"
      ],
      "text/plain": [
       "Exited     0     1\n",
       "Gender            \n",
       "Female  3404  1139\n",
       "Male    4559   898"
      ]
     },
     "execution_count": 28,
     "metadata": {},
     "output_type": "execute_result"
    }
   ],
   "source": [
    "df2=pd.crosstab(df[\"Gender\"], df[\"Exited\"])\n",
    "df2"
   ]
  },
  {
   "cell_type": "code",
   "execution_count": 29,
   "id": "091f24ce",
   "metadata": {},
   "outputs": [
    {
     "name": "stdout",
     "output_type": "stream",
     "text": [
      "chi2 stat:  112.91857062096116\n",
      "P-value:  2.2482100097131755e-26\n",
      "degree of freedom:  1\n",
      "Expected values: \n",
      " [[3617.5909  925.4091]\n",
      " [4345.4091 1111.5909]]\n",
      "we reject the null hypothesis Ho (Categories are dependent)\n"
     ]
    }
   ],
   "source": [
    "chi2stat, pval, dof, expected= stats.chi2_contingency(df2)\n",
    "print(\"chi2 stat: \", chi2stat)\n",
    "print(\"P-value: \", pval)\n",
    "print(\"degree of freedom: \", dof)\n",
    "print(\"Expected values: \\n\", expected)\n",
    "\n",
    "alpha=0.05\n",
    "\n",
    "if pval<alpha:\n",
    "    print(\"we reject the null hypothesis Ho (Categories are dependent)\")\n",
    "else:\n",
    "          print(\"we fail to reject the null hypothesis (Categories are independent)\")"
   ]
  },
  {
   "cell_type": "code",
   "execution_count": null,
   "id": "67e23db5",
   "metadata": {},
   "outputs": [],
   "source": []
  },
  {
   "cell_type": "markdown",
   "id": "1070f25e",
   "metadata": {},
   "source": [
    "# Feature Engineering"
   ]
  },
  {
   "cell_type": "code",
   "execution_count": 30,
   "id": "a7580fc4",
   "metadata": {},
   "outputs": [
    {
     "data": {
      "text/html": [
       "<div>\n",
       "<style scoped>\n",
       "    .dataframe tbody tr th:only-of-type {\n",
       "        vertical-align: middle;\n",
       "    }\n",
       "\n",
       "    .dataframe tbody tr th {\n",
       "        vertical-align: top;\n",
       "    }\n",
       "\n",
       "    .dataframe thead th {\n",
       "        text-align: right;\n",
       "    }\n",
       "</style>\n",
       "<table border=\"1\" class=\"dataframe\">\n",
       "  <thead>\n",
       "    <tr style=\"text-align: right;\">\n",
       "      <th></th>\n",
       "      <th>Geography_Germany</th>\n",
       "      <th>Geography_Spain</th>\n",
       "    </tr>\n",
       "  </thead>\n",
       "  <tbody>\n",
       "    <tr>\n",
       "      <th>0</th>\n",
       "      <td>0</td>\n",
       "      <td>0</td>\n",
       "    </tr>\n",
       "    <tr>\n",
       "      <th>1</th>\n",
       "      <td>0</td>\n",
       "      <td>1</td>\n",
       "    </tr>\n",
       "    <tr>\n",
       "      <th>2</th>\n",
       "      <td>0</td>\n",
       "      <td>0</td>\n",
       "    </tr>\n",
       "    <tr>\n",
       "      <th>3</th>\n",
       "      <td>0</td>\n",
       "      <td>0</td>\n",
       "    </tr>\n",
       "    <tr>\n",
       "      <th>4</th>\n",
       "      <td>0</td>\n",
       "      <td>1</td>\n",
       "    </tr>\n",
       "  </tbody>\n",
       "</table>\n",
       "</div>"
      ],
      "text/plain": [
       "   Geography_Germany  Geography_Spain\n",
       "0                  0                0\n",
       "1                  0                1\n",
       "2                  0                0\n",
       "3                  0                0\n",
       "4                  0                1"
      ]
     },
     "execution_count": 30,
     "metadata": {},
     "output_type": "execute_result"
    }
   ],
   "source": [
    "df1=pd.get_dummies(df[\"Geography\"], prefix=\"Geography\", drop_first=True)\n",
    "df1.head()"
   ]
  },
  {
   "cell_type": "code",
   "execution_count": 31,
   "id": "24a23367",
   "metadata": {},
   "outputs": [
    {
     "data": {
      "text/html": [
       "<div>\n",
       "<style scoped>\n",
       "    .dataframe tbody tr th:only-of-type {\n",
       "        vertical-align: middle;\n",
       "    }\n",
       "\n",
       "    .dataframe tbody tr th {\n",
       "        vertical-align: top;\n",
       "    }\n",
       "\n",
       "    .dataframe thead th {\n",
       "        text-align: right;\n",
       "    }\n",
       "</style>\n",
       "<table border=\"1\" class=\"dataframe\">\n",
       "  <thead>\n",
       "    <tr style=\"text-align: right;\">\n",
       "      <th></th>\n",
       "      <th>Gender_Male</th>\n",
       "    </tr>\n",
       "  </thead>\n",
       "  <tbody>\n",
       "    <tr>\n",
       "      <th>0</th>\n",
       "      <td>0</td>\n",
       "    </tr>\n",
       "    <tr>\n",
       "      <th>1</th>\n",
       "      <td>0</td>\n",
       "    </tr>\n",
       "    <tr>\n",
       "      <th>2</th>\n",
       "      <td>0</td>\n",
       "    </tr>\n",
       "    <tr>\n",
       "      <th>3</th>\n",
       "      <td>0</td>\n",
       "    </tr>\n",
       "    <tr>\n",
       "      <th>4</th>\n",
       "      <td>0</td>\n",
       "    </tr>\n",
       "  </tbody>\n",
       "</table>\n",
       "</div>"
      ],
      "text/plain": [
       "   Gender_Male\n",
       "0            0\n",
       "1            0\n",
       "2            0\n",
       "3            0\n",
       "4            0"
      ]
     },
     "execution_count": 31,
     "metadata": {},
     "output_type": "execute_result"
    }
   ],
   "source": [
    "df2=pd.get_dummies(df[\"Gender\"], prefix=\"Gender\", drop_first=True)\n",
    "df2.head()"
   ]
  },
  {
   "cell_type": "code",
   "execution_count": 32,
   "id": "4a350dbc",
   "metadata": {},
   "outputs": [
    {
     "data": {
      "text/html": [
       "<div>\n",
       "<style scoped>\n",
       "    .dataframe tbody tr th:only-of-type {\n",
       "        vertical-align: middle;\n",
       "    }\n",
       "\n",
       "    .dataframe tbody tr th {\n",
       "        vertical-align: top;\n",
       "    }\n",
       "\n",
       "    .dataframe thead th {\n",
       "        text-align: right;\n",
       "    }\n",
       "</style>\n",
       "<table border=\"1\" class=\"dataframe\">\n",
       "  <thead>\n",
       "    <tr style=\"text-align: right;\">\n",
       "      <th></th>\n",
       "      <th>Geography_Germany</th>\n",
       "      <th>Geography_Spain</th>\n",
       "      <th>Gender_Male</th>\n",
       "    </tr>\n",
       "  </thead>\n",
       "  <tbody>\n",
       "    <tr>\n",
       "      <th>0</th>\n",
       "      <td>0</td>\n",
       "      <td>0</td>\n",
       "      <td>0</td>\n",
       "    </tr>\n",
       "    <tr>\n",
       "      <th>1</th>\n",
       "      <td>0</td>\n",
       "      <td>1</td>\n",
       "      <td>0</td>\n",
       "    </tr>\n",
       "    <tr>\n",
       "      <th>2</th>\n",
       "      <td>0</td>\n",
       "      <td>0</td>\n",
       "      <td>0</td>\n",
       "    </tr>\n",
       "    <tr>\n",
       "      <th>3</th>\n",
       "      <td>0</td>\n",
       "      <td>0</td>\n",
       "      <td>0</td>\n",
       "    </tr>\n",
       "    <tr>\n",
       "      <th>4</th>\n",
       "      <td>0</td>\n",
       "      <td>1</td>\n",
       "      <td>0</td>\n",
       "    </tr>\n",
       "  </tbody>\n",
       "</table>\n",
       "</div>"
      ],
      "text/plain": [
       "   Geography_Germany  Geography_Spain  Gender_Male\n",
       "0                  0                0            0\n",
       "1                  0                1            0\n",
       "2                  0                0            0\n",
       "3                  0                0            0\n",
       "4                  0                1            0"
      ]
     },
     "execution_count": 32,
     "metadata": {},
     "output_type": "execute_result"
    }
   ],
   "source": [
    "dff=pd.concat([df1,df2], axis=1)\n",
    "dff.head()"
   ]
  },
  {
   "cell_type": "code",
   "execution_count": 33,
   "id": "620cdd6f",
   "metadata": {},
   "outputs": [],
   "source": [
    "df=pd.concat([dff,df],axis=1)"
   ]
  },
  {
   "cell_type": "code",
   "execution_count": 34,
   "id": "725b1b4b",
   "metadata": {},
   "outputs": [],
   "source": [
    "df=df.drop([\"Geography\", \"Gender\", \"RowNumber\", \"CustomerId\", \"Surname\"], axis=1)"
   ]
  },
  {
   "cell_type": "code",
   "execution_count": 35,
   "id": "0e3e322e",
   "metadata": {},
   "outputs": [
    {
     "data": {
      "text/html": [
       "<div>\n",
       "<style scoped>\n",
       "    .dataframe tbody tr th:only-of-type {\n",
       "        vertical-align: middle;\n",
       "    }\n",
       "\n",
       "    .dataframe tbody tr th {\n",
       "        vertical-align: top;\n",
       "    }\n",
       "\n",
       "    .dataframe thead th {\n",
       "        text-align: right;\n",
       "    }\n",
       "</style>\n",
       "<table border=\"1\" class=\"dataframe\">\n",
       "  <thead>\n",
       "    <tr style=\"text-align: right;\">\n",
       "      <th></th>\n",
       "      <th>Geography_Germany</th>\n",
       "      <th>Geography_Spain</th>\n",
       "      <th>Gender_Male</th>\n",
       "      <th>CreditScore</th>\n",
       "      <th>Age</th>\n",
       "      <th>Tenure</th>\n",
       "      <th>Balance</th>\n",
       "      <th>NumOfProducts</th>\n",
       "      <th>HasCrCard</th>\n",
       "      <th>IsActiveMember</th>\n",
       "      <th>EstimatedSalary</th>\n",
       "      <th>Exited</th>\n",
       "    </tr>\n",
       "  </thead>\n",
       "  <tbody>\n",
       "    <tr>\n",
       "      <th>0</th>\n",
       "      <td>0</td>\n",
       "      <td>0</td>\n",
       "      <td>0</td>\n",
       "      <td>619</td>\n",
       "      <td>42</td>\n",
       "      <td>2</td>\n",
       "      <td>0.00</td>\n",
       "      <td>1</td>\n",
       "      <td>1</td>\n",
       "      <td>1</td>\n",
       "      <td>101348.88</td>\n",
       "      <td>1</td>\n",
       "    </tr>\n",
       "    <tr>\n",
       "      <th>1</th>\n",
       "      <td>0</td>\n",
       "      <td>1</td>\n",
       "      <td>0</td>\n",
       "      <td>608</td>\n",
       "      <td>41</td>\n",
       "      <td>1</td>\n",
       "      <td>83807.86</td>\n",
       "      <td>1</td>\n",
       "      <td>0</td>\n",
       "      <td>1</td>\n",
       "      <td>112542.58</td>\n",
       "      <td>0</td>\n",
       "    </tr>\n",
       "    <tr>\n",
       "      <th>2</th>\n",
       "      <td>0</td>\n",
       "      <td>0</td>\n",
       "      <td>0</td>\n",
       "      <td>502</td>\n",
       "      <td>42</td>\n",
       "      <td>8</td>\n",
       "      <td>159660.80</td>\n",
       "      <td>3</td>\n",
       "      <td>1</td>\n",
       "      <td>0</td>\n",
       "      <td>113931.57</td>\n",
       "      <td>1</td>\n",
       "    </tr>\n",
       "    <tr>\n",
       "      <th>3</th>\n",
       "      <td>0</td>\n",
       "      <td>0</td>\n",
       "      <td>0</td>\n",
       "      <td>699</td>\n",
       "      <td>39</td>\n",
       "      <td>1</td>\n",
       "      <td>0.00</td>\n",
       "      <td>2</td>\n",
       "      <td>0</td>\n",
       "      <td>0</td>\n",
       "      <td>93826.63</td>\n",
       "      <td>0</td>\n",
       "    </tr>\n",
       "    <tr>\n",
       "      <th>4</th>\n",
       "      <td>0</td>\n",
       "      <td>1</td>\n",
       "      <td>0</td>\n",
       "      <td>850</td>\n",
       "      <td>43</td>\n",
       "      <td>2</td>\n",
       "      <td>125510.82</td>\n",
       "      <td>1</td>\n",
       "      <td>1</td>\n",
       "      <td>1</td>\n",
       "      <td>79084.10</td>\n",
       "      <td>0</td>\n",
       "    </tr>\n",
       "  </tbody>\n",
       "</table>\n",
       "</div>"
      ],
      "text/plain": [
       "   Geography_Germany  Geography_Spain  Gender_Male  CreditScore  Age  Tenure  \\\n",
       "0                  0                0            0          619   42       2   \n",
       "1                  0                1            0          608   41       1   \n",
       "2                  0                0            0          502   42       8   \n",
       "3                  0                0            0          699   39       1   \n",
       "4                  0                1            0          850   43       2   \n",
       "\n",
       "     Balance  NumOfProducts  HasCrCard  IsActiveMember  EstimatedSalary  \\\n",
       "0       0.00              1          1               1        101348.88   \n",
       "1   83807.86              1          0               1        112542.58   \n",
       "2  159660.80              3          1               0        113931.57   \n",
       "3       0.00              2          0               0         93826.63   \n",
       "4  125510.82              1          1               1         79084.10   \n",
       "\n",
       "   Exited  \n",
       "0       1  \n",
       "1       0  \n",
       "2       1  \n",
       "3       0  \n",
       "4       0  "
      ]
     },
     "execution_count": 35,
     "metadata": {},
     "output_type": "execute_result"
    }
   ],
   "source": [
    "df.head()"
   ]
  },
  {
   "cell_type": "code",
   "execution_count": 36,
   "id": "b50fde29",
   "metadata": {},
   "outputs": [],
   "source": [
    "X=df.iloc[:, 0:11]"
   ]
  },
  {
   "cell_type": "code",
   "execution_count": 37,
   "id": "43e58f18",
   "metadata": {},
   "outputs": [],
   "source": [
    "y=df[\"Exited\"]"
   ]
  },
  {
   "cell_type": "code",
   "execution_count": 38,
   "id": "5bfb33a2",
   "metadata": {},
   "outputs": [],
   "source": [
    "X= StandardScaler().fit_transform(X)"
   ]
  },
  {
   "cell_type": "code",
   "execution_count": 39,
   "id": "f31772fa",
   "metadata": {},
   "outputs": [
    {
     "data": {
      "text/plain": [
       "array([[-0.57873591, -0.57380915, -1.09598752, ...,  0.64609167,\n",
       "         0.97024255,  0.02188649],\n",
       "       [-0.57873591,  1.74273971, -1.09598752, ..., -1.54776799,\n",
       "         0.97024255,  0.21653375],\n",
       "       [-0.57873591, -0.57380915, -1.09598752, ...,  0.64609167,\n",
       "        -1.03067011,  0.2406869 ],\n",
       "       ...,\n",
       "       [-0.57873591, -0.57380915, -1.09598752, ..., -1.54776799,\n",
       "         0.97024255, -1.00864308],\n",
       "       [ 1.72790383, -0.57380915,  0.91241915, ...,  0.64609167,\n",
       "        -1.03067011, -0.12523071],\n",
       "       [-0.57873591, -0.57380915, -1.09598752, ...,  0.64609167,\n",
       "        -1.03067011, -1.07636976]])"
      ]
     },
     "execution_count": 39,
     "metadata": {},
     "output_type": "execute_result"
    }
   ],
   "source": [
    "X"
   ]
  },
  {
   "cell_type": "code",
   "execution_count": 40,
   "id": "ea93b25f",
   "metadata": {},
   "outputs": [
    {
     "data": {
      "text/html": [
       "<div>\n",
       "<style scoped>\n",
       "    .dataframe tbody tr th:only-of-type {\n",
       "        vertical-align: middle;\n",
       "    }\n",
       "\n",
       "    .dataframe tbody tr th {\n",
       "        vertical-align: top;\n",
       "    }\n",
       "\n",
       "    .dataframe thead th {\n",
       "        text-align: right;\n",
       "    }\n",
       "</style>\n",
       "<table border=\"1\" class=\"dataframe\">\n",
       "  <thead>\n",
       "    <tr style=\"text-align: right;\">\n",
       "      <th></th>\n",
       "      <th>Geography_Germany</th>\n",
       "      <th>Geography_Spain</th>\n",
       "      <th>Gender_Male</th>\n",
       "      <th>CreditScore</th>\n",
       "      <th>Age</th>\n",
       "      <th>Tenure</th>\n",
       "      <th>Balance</th>\n",
       "      <th>NumOfProducts</th>\n",
       "      <th>HasCrCard</th>\n",
       "      <th>IsActiveMember</th>\n",
       "      <th>EstimatedSalary</th>\n",
       "    </tr>\n",
       "  </thead>\n",
       "  <tbody>\n",
       "    <tr>\n",
       "      <th>0</th>\n",
       "      <td>-0.578736</td>\n",
       "      <td>-0.573809</td>\n",
       "      <td>-1.095988</td>\n",
       "      <td>-0.326221</td>\n",
       "      <td>0.293517</td>\n",
       "      <td>-1.041760</td>\n",
       "      <td>-1.225848</td>\n",
       "      <td>-0.911583</td>\n",
       "      <td>0.646092</td>\n",
       "      <td>0.970243</td>\n",
       "      <td>0.021886</td>\n",
       "    </tr>\n",
       "    <tr>\n",
       "      <th>1</th>\n",
       "      <td>-0.578736</td>\n",
       "      <td>1.742740</td>\n",
       "      <td>-1.095988</td>\n",
       "      <td>-0.440036</td>\n",
       "      <td>0.198164</td>\n",
       "      <td>-1.387538</td>\n",
       "      <td>0.117350</td>\n",
       "      <td>-0.911583</td>\n",
       "      <td>-1.547768</td>\n",
       "      <td>0.970243</td>\n",
       "      <td>0.216534</td>\n",
       "    </tr>\n",
       "    <tr>\n",
       "      <th>2</th>\n",
       "      <td>-0.578736</td>\n",
       "      <td>-0.573809</td>\n",
       "      <td>-1.095988</td>\n",
       "      <td>-1.536794</td>\n",
       "      <td>0.293517</td>\n",
       "      <td>1.032908</td>\n",
       "      <td>1.333053</td>\n",
       "      <td>2.527057</td>\n",
       "      <td>0.646092</td>\n",
       "      <td>-1.030670</td>\n",
       "      <td>0.240687</td>\n",
       "    </tr>\n",
       "    <tr>\n",
       "      <th>3</th>\n",
       "      <td>-0.578736</td>\n",
       "      <td>-0.573809</td>\n",
       "      <td>-1.095988</td>\n",
       "      <td>0.501521</td>\n",
       "      <td>0.007457</td>\n",
       "      <td>-1.387538</td>\n",
       "      <td>-1.225848</td>\n",
       "      <td>0.807737</td>\n",
       "      <td>-1.547768</td>\n",
       "      <td>-1.030670</td>\n",
       "      <td>-0.108918</td>\n",
       "    </tr>\n",
       "    <tr>\n",
       "      <th>4</th>\n",
       "      <td>-0.578736</td>\n",
       "      <td>1.742740</td>\n",
       "      <td>-1.095988</td>\n",
       "      <td>2.063884</td>\n",
       "      <td>0.388871</td>\n",
       "      <td>-1.041760</td>\n",
       "      <td>0.785728</td>\n",
       "      <td>-0.911583</td>\n",
       "      <td>0.646092</td>\n",
       "      <td>0.970243</td>\n",
       "      <td>-0.365276</td>\n",
       "    </tr>\n",
       "  </tbody>\n",
       "</table>\n",
       "</div>"
      ],
      "text/plain": [
       "   Geography_Germany  Geography_Spain  Gender_Male  CreditScore       Age  \\\n",
       "0          -0.578736        -0.573809    -1.095988    -0.326221  0.293517   \n",
       "1          -0.578736         1.742740    -1.095988    -0.440036  0.198164   \n",
       "2          -0.578736        -0.573809    -1.095988    -1.536794  0.293517   \n",
       "3          -0.578736        -0.573809    -1.095988     0.501521  0.007457   \n",
       "4          -0.578736         1.742740    -1.095988     2.063884  0.388871   \n",
       "\n",
       "     Tenure   Balance  NumOfProducts  HasCrCard  IsActiveMember  \\\n",
       "0 -1.041760 -1.225848      -0.911583   0.646092        0.970243   \n",
       "1 -1.387538  0.117350      -0.911583  -1.547768        0.970243   \n",
       "2  1.032908  1.333053       2.527057   0.646092       -1.030670   \n",
       "3 -1.387538 -1.225848       0.807737  -1.547768       -1.030670   \n",
       "4 -1.041760  0.785728      -0.911583   0.646092        0.970243   \n",
       "\n",
       "   EstimatedSalary  \n",
       "0         0.021886  \n",
       "1         0.216534  \n",
       "2         0.240687  \n",
       "3        -0.108918  \n",
       "4        -0.365276  "
      ]
     },
     "execution_count": 40,
     "metadata": {},
     "output_type": "execute_result"
    }
   ],
   "source": [
    "X= pd.DataFrame(X, columns=df.columns[:-1])\n",
    "X.head()"
   ]
  },
  {
   "cell_type": "code",
   "execution_count": 41,
   "id": "00006c42",
   "metadata": {},
   "outputs": [],
   "source": [
    "X_train, X_test, y_train, y_test = train_test_split(X, y, test_size=0.3, random_state=100)"
   ]
  },
  {
   "cell_type": "markdown",
   "id": "03ccaa3a",
   "metadata": {},
   "source": [
    "# Logistic Regression"
   ]
  },
  {
   "cell_type": "code",
   "execution_count": 42,
   "id": "683cf96e",
   "metadata": {},
   "outputs": [],
   "source": [
    "model1= LogisticRegression()"
   ]
  },
  {
   "cell_type": "code",
   "execution_count": 43,
   "id": "50f7e898",
   "metadata": {},
   "outputs": [
    {
     "data": {
      "text/plain": [
       "LogisticRegression()"
      ]
     },
     "execution_count": 43,
     "metadata": {},
     "output_type": "execute_result"
    }
   ],
   "source": [
    "model1.fit(X_train, y_train)"
   ]
  },
  {
   "cell_type": "code",
   "execution_count": 44,
   "id": "ef950de9",
   "metadata": {},
   "outputs": [
    {
     "data": {
      "text/plain": [
       "0.8114285714285714"
      ]
     },
     "execution_count": 44,
     "metadata": {},
     "output_type": "execute_result"
    }
   ],
   "source": [
    "model1.score(X_train, y_train)"
   ]
  },
  {
   "cell_type": "code",
   "execution_count": 45,
   "id": "aae189b3",
   "metadata": {},
   "outputs": [],
   "source": [
    "l_pred= model1.predict(X_test)"
   ]
  },
  {
   "cell_type": "code",
   "execution_count": 46,
   "id": "0d31c7c6",
   "metadata": {},
   "outputs": [
    {
     "name": "stdout",
     "output_type": "stream",
     "text": [
      "[[2310   66]\n",
      " [ 501  123]]\n",
      "\n",
      "\n",
      "0.811\n",
      "\n",
      "\n",
      "              precision    recall  f1-score   support\n",
      "\n",
      "           0       0.82      0.97      0.89      2376\n",
      "           1       0.65      0.20      0.30       624\n",
      "\n",
      "    accuracy                           0.81      3000\n",
      "   macro avg       0.74      0.58      0.60      3000\n",
      "weighted avg       0.79      0.81      0.77      3000\n",
      "\n"
     ]
    }
   ],
   "source": [
    "print(confusion_matrix(y_test, l_pred))\n",
    "print(\"\\n\")\n",
    "print(accuracy_score(y_test, l_pred))\n",
    "print(\"\\n\")\n",
    "print(classification_report(y_test, l_pred))"
   ]
  },
  {
   "cell_type": "code",
   "execution_count": null,
   "id": "27a99816",
   "metadata": {},
   "outputs": [],
   "source": []
  },
  {
   "cell_type": "markdown",
   "id": "afa3f5fb",
   "metadata": {},
   "source": [
    "# KNeighborsClassifier"
   ]
  },
  {
   "cell_type": "code",
   "execution_count": 47,
   "id": "75bc7e21",
   "metadata": {},
   "outputs": [],
   "source": [
    "X_train, X_test, y_train, y_test = train_test_split(X, y, test_size=0.3, random_state=100)"
   ]
  },
  {
   "cell_type": "code",
   "execution_count": 48,
   "id": "2e426f48",
   "metadata": {},
   "outputs": [],
   "source": [
    "model2= KNeighborsClassifier(n_neighbors=1)"
   ]
  },
  {
   "cell_type": "code",
   "execution_count": 49,
   "id": "1e707edb",
   "metadata": {},
   "outputs": [
    {
     "data": {
      "text/plain": [
       "KNeighborsClassifier(n_neighbors=1)"
      ]
     },
     "execution_count": 49,
     "metadata": {},
     "output_type": "execute_result"
    }
   ],
   "source": [
    "model2.fit(X_train, y_train)"
   ]
  },
  {
   "cell_type": "code",
   "execution_count": 50,
   "id": "b74f13a1",
   "metadata": {},
   "outputs": [
    {
     "data": {
      "text/plain": [
       "1.0"
      ]
     },
     "execution_count": 50,
     "metadata": {},
     "output_type": "execute_result"
    }
   ],
   "source": [
    "model2.score(X_train, y_train)"
   ]
  },
  {
   "cell_type": "code",
   "execution_count": 51,
   "id": "7809562a",
   "metadata": {},
   "outputs": [],
   "source": [
    "k_pred=model2.predict(X_test)"
   ]
  },
  {
   "cell_type": "code",
   "execution_count": 52,
   "id": "56dba3e2",
   "metadata": {},
   "outputs": [
    {
     "name": "stdout",
     "output_type": "stream",
     "text": [
      "[[2133  243]\n",
      " [ 333  291]]\n",
      "\n",
      "\n",
      "0.808\n",
      "\n",
      "\n",
      "              precision    recall  f1-score   support\n",
      "\n",
      "           0       0.86      0.90      0.88      2376\n",
      "           1       0.54      0.47      0.50       624\n",
      "\n",
      "    accuracy                           0.81      3000\n",
      "   macro avg       0.70      0.68      0.69      3000\n",
      "weighted avg       0.80      0.81      0.80      3000\n",
      "\n"
     ]
    }
   ],
   "source": [
    "print(confusion_matrix(y_test, k_pred))\n",
    "print(\"\\n\")\n",
    "print(accuracy_score(y_test, k_pred))\n",
    "print(\"\\n\")\n",
    "print(classification_report(y_test, k_pred))"
   ]
  },
  {
   "cell_type": "markdown",
   "id": "72cbed4a",
   "metadata": {},
   "source": [
    "## Chosing the best K  value"
   ]
  },
  {
   "cell_type": "code",
   "execution_count": 53,
   "id": "334ff3b0",
   "metadata": {},
   "outputs": [],
   "source": [
    "X_train, X_test, y_train, y_test = train_test_split(X, y, test_size=0.3, random_state=100)"
   ]
  },
  {
   "cell_type": "code",
   "execution_count": 54,
   "id": "db65fbe5",
   "metadata": {},
   "outputs": [],
   "source": [
    "error_rate = []\n",
    "for i in range(1,40):\n",
    "    \n",
    "    model2 = KNeighborsClassifier(n_neighbors=i)\n",
    "    model2.fit(X_train,y_train)\n",
    "    K_pred = model2.predict(X_test)\n",
    "    error_rate.append(np.mean(K_pred != y_test))\n"
   ]
  },
  {
   "cell_type": "code",
   "execution_count": 55,
   "id": "e462c0cb",
   "metadata": {},
   "outputs": [
    {
     "data": {
      "text/plain": [
       "Text(0, 0.5, 'Error Rate')"
      ]
     },
     "execution_count": 55,
     "metadata": {},
     "output_type": "execute_result"
    },
    {
     "data": {
      "image/png": "[encoded data removed]",
      "text/plain": [
       "<Figure size 720x432 with 1 Axes>"
      ]
     },
     "metadata": {
      "needs_background": "light"
     },
     "output_type": "display_data"
    }
   ],
   "source": [
    "plt.figure(figsize=(10,6))\n",
    "plt.plot(range(1,40),error_rate,color='blue', linestyle='dashed', marker='o',\n",
    "         markerfacecolor='red', markersize=5)\n",
    "plt.title('Error Rate vs. K Value')\n",
    "plt.xlabel('K')\n",
    "plt.ylabel('Error Rate')"
   ]
  },
  {
   "cell_type": "code",
   "execution_count": 56,
   "id": "fe19f48c",
   "metadata": {},
   "outputs": [
    {
     "name": "stdout",
     "output_type": "stream",
     "text": [
      "WITH K=17\n",
      "\n",
      "\n",
      "[[2133  243]\n",
      " [ 333  291]]\n",
      "\n",
      "\n",
      "0.808\n",
      "\n",
      "\n",
      "              precision    recall  f1-score   support\n",
      "\n",
      "           0       0.86      0.90      0.88      2376\n",
      "           1       0.54      0.47      0.50       624\n",
      "\n",
      "    accuracy                           0.81      3000\n",
      "   macro avg       0.70      0.68      0.69      3000\n",
      "weighted avg       0.80      0.81      0.80      3000\n",
      "\n"
     ]
    }
   ],
   "source": [
    "# FIRST A QUICK COMPARISON TO OUR ORIGINAL K= 6\n",
    "model2 = KNeighborsClassifier(n_neighbors=6)\n",
    "\n",
    "model2.fit(X_train,y_train)\n",
    "pred = model2.predict(X_test)\n",
    "\n",
    "print('WITH K=17')\n",
    "print('\\n')\n",
    "print(confusion_matrix(y_test,k_pred))\n",
    "print(\"\\n\")\n",
    "print(accuracy_score(y_test, k_pred))\n",
    "print('\\n')\n",
    "print(classification_report(y_test,k_pred))"
   ]
  },
  {
   "cell_type": "code",
   "execution_count": null,
   "id": "6a1385cf",
   "metadata": {},
   "outputs": [],
   "source": []
  },
  {
   "cell_type": "markdown",
   "id": "c8524eb2",
   "metadata": {},
   "source": [
    "# DecisionTreeClassifier"
   ]
  },
  {
   "cell_type": "code",
   "execution_count": 57,
   "id": "1098a458",
   "metadata": {},
   "outputs": [],
   "source": [
    "X_train, X_test, y_train, y_test = train_test_split(X, y, test_size=0.3, random_state=100)"
   ]
  },
  {
   "cell_type": "code",
   "execution_count": 58,
   "id": "b0e5a184",
   "metadata": {},
   "outputs": [],
   "source": [
    "model3=DecisionTreeClassifier()"
   ]
  },
  {
   "cell_type": "code",
   "execution_count": 59,
   "id": "7074dbba",
   "metadata": {},
   "outputs": [],
   "source": [
    "model3 = DecisionTreeClassifier()\n",
    "\n",
    "model3.fit(X_train,y_train)\n",
    "d_pred = model3.predict(X_test)"
   ]
  },
  {
   "cell_type": "code",
   "execution_count": 60,
   "id": "f5487c6f",
   "metadata": {},
   "outputs": [
    {
     "name": "stdout",
     "output_type": "stream",
     "text": [
      "[[2069  307]\n",
      " [ 314  310]]\n",
      "\n",
      "\n",
      "0.793\n",
      "\n",
      "\n",
      "              precision    recall  f1-score   support\n",
      "\n",
      "           0       0.87      0.87      0.87      2376\n",
      "           1       0.50      0.50      0.50       624\n",
      "\n",
      "    accuracy                           0.79      3000\n",
      "   macro avg       0.69      0.68      0.68      3000\n",
      "weighted avg       0.79      0.79      0.79      3000\n",
      "\n"
     ]
    }
   ],
   "source": [
    "print(confusion_matrix(y_test, d_pred))\n",
    "print(\"\\n\")\n",
    "print(accuracy_score(y_test, d_pred))\n",
    "print(\"\\n\")\n",
    "print(classification_report(y_test, d_pred))"
   ]
  },
  {
   "cell_type": "code",
   "execution_count": null,
   "id": "6d9d4b10",
   "metadata": {},
   "outputs": [],
   "source": []
  },
  {
   "cell_type": "markdown",
   "id": "98a79d46",
   "metadata": {},
   "source": [
    "# RandomForestClassifier"
   ]
  },
  {
   "cell_type": "code",
   "execution_count": 61,
   "id": "8e04257d",
   "metadata": {},
   "outputs": [],
   "source": [
    "X_train, X_test, y_train, y_test = train_test_split(X, y, test_size=0.3, random_state=100)"
   ]
  },
  {
   "cell_type": "code",
   "execution_count": 62,
   "id": "30386d37",
   "metadata": {},
   "outputs": [],
   "source": [
    "model4=RandomForestClassifier()"
   ]
  },
  {
   "cell_type": "code",
   "execution_count": 63,
   "id": "b2a0a33a",
   "metadata": {},
   "outputs": [],
   "source": [
    "model4 = RandomForestClassifier(n_estimators=100, max_depth=10)\n",
    "\n",
    "model4.fit(X_train,y_train)\n",
    "r_pred = model4.predict(X_test)"
   ]
  },
  {
   "cell_type": "code",
   "execution_count": 64,
   "id": "8ae7584c",
   "metadata": {},
   "outputs": [
    {
     "name": "stdout",
     "output_type": "stream",
     "text": [
      "[[2321   55]\n",
      " [ 352  272]]\n",
      "\n",
      "\n",
      "0.8643333333333333\n",
      "\n",
      "\n",
      "              precision    recall  f1-score   support\n",
      "\n",
      "           0       0.87      0.98      0.92      2376\n",
      "           1       0.83      0.44      0.57       624\n",
      "\n",
      "    accuracy                           0.86      3000\n",
      "   macro avg       0.85      0.71      0.75      3000\n",
      "weighted avg       0.86      0.86      0.85      3000\n",
      "\n"
     ]
    }
   ],
   "source": [
    "print(confusion_matrix(y_test, r_pred))\n",
    "print(\"\\n\")\n",
    "print(accuracy_score(y_test, r_pred))\n",
    "print(\"\\n\")\n",
    "print(classification_report(y_test, r_pred))"
   ]
  },
  {
   "cell_type": "code",
   "execution_count": null,
   "id": "806f8b76",
   "metadata": {},
   "outputs": [],
   "source": []
  },
  {
   "cell_type": "markdown",
   "id": "f00107ca",
   "metadata": {},
   "source": [
    "# Support vector machine"
   ]
  },
  {
   "cell_type": "code",
   "execution_count": 65,
   "id": "9af57a1f",
   "metadata": {},
   "outputs": [],
   "source": [
    "X_train, X_test, y_train, y_test = train_test_split(X, y, test_size=0.3, random_state=100)"
   ]
  },
  {
   "cell_type": "code",
   "execution_count": 66,
   "id": "d0278506",
   "metadata": {},
   "outputs": [],
   "source": [
    "model5=SVC()"
   ]
  },
  {
   "cell_type": "code",
   "execution_count": 67,
   "id": "a726b4e0",
   "metadata": {},
   "outputs": [],
   "source": [
    "model5 = SVC()\n",
    "\n",
    "model5.fit(X_train,y_train)\n",
    "s_pred = model5.predict(X_test)"
   ]
  },
  {
   "cell_type": "code",
   "execution_count": 68,
   "id": "d9cf7a91",
   "metadata": {},
   "outputs": [
    {
     "name": "stdout",
     "output_type": "stream",
     "text": [
      "[[2331   45]\n",
      " [ 396  228]]\n",
      "\n",
      "\n",
      "0.853\n",
      "\n",
      "\n",
      "              precision    recall  f1-score   support\n",
      "\n",
      "           0       0.85      0.98      0.91      2376\n",
      "           1       0.84      0.37      0.51       624\n",
      "\n",
      "    accuracy                           0.85      3000\n",
      "   macro avg       0.84      0.67      0.71      3000\n",
      "weighted avg       0.85      0.85      0.83      3000\n",
      "\n"
     ]
    }
   ],
   "source": [
    "print(confusion_matrix(y_test, s_pred))\n",
    "print(\"\\n\")\n",
    "print(accuracy_score(y_test, s_pred))\n",
    "print(\"\\n\")\n",
    "print(classification_report(y_test, s_pred))"
   ]
  },
  {
   "cell_type": "markdown",
   "id": "f88512d8",
   "metadata": {},
   "source": [
    "# hyper parameter tunning"
   ]
  },
  {
   "cell_type": "code",
   "execution_count": 69,
   "id": "903a2ae1",
   "metadata": {},
   "outputs": [],
   "source": [
    "from sklearn.model_selection import GridSearchCV"
   ]
  },
  {
   "cell_type": "code",
   "execution_count": 70,
   "id": "2e7727e9",
   "metadata": {},
   "outputs": [],
   "source": [
    "param_grid={\"C\":[1,10,100,100,1000], \"gamma\":[0.1,0.01,0.001,0.0001]}"
   ]
  },
  {
   "cell_type": "code",
   "execution_count": 71,
   "id": "82b58cd6",
   "metadata": {},
   "outputs": [],
   "source": [
    "grid=GridSearchCV(SVC(), param_grid, verbose=2)"
   ]
  },
  {
   "cell_type": "code",
   "execution_count": 72,
   "id": "30f06651",
   "metadata": {},
   "outputs": [
    {
     "name": "stdout",
     "output_type": "stream",
     "text": [
      "Fitting 5 folds for each of 20 candidates, totalling 100 fits\n",
      "[CV] END .....................................C=1, gamma=0.1; total time=   0.8s\n",
      "[CV] END .....................................C=1, gamma=0.1; total time=   0.8s\n",
      "[CV] END .....................................C=1, gamma=0.1; total time=   0.8s\n",
      "[CV] END .....................................C=1, gamma=0.1; total time=   0.8s\n",
      "[CV] END .....................................C=1, gamma=0.1; total time=   0.8s\n",
      "[CV] END ....................................C=1, gamma=0.01; total time=   0.8s\n",
      "[CV] END ....................................C=1, gamma=0.01; total time=   0.8s\n",
      "[CV] END ....................................C=1, gamma=0.01; total time=   0.8s\n",
      "[CV] END ....................................C=1, gamma=0.01; total time=   0.8s\n",
      "[CV] END ....................................C=1, gamma=0.01; total time=   0.8s\n",
      "[CV] END ...................................C=1, gamma=0.001; total time=   0.9s\n",
      "[CV] END ...................................C=1, gamma=0.001; total time=   0.9s\n",
      "[CV] END ...................................C=1, gamma=0.001; total time=   0.9s\n",
      "[CV] END ...................................C=1, gamma=0.001; total time=   0.9s\n",
      "[CV] END ...................................C=1, gamma=0.001; total time=   0.9s\n",
      "[CV] END ..................................C=1, gamma=0.0001; total time=   0.7s\n",
      "[CV] END ..................................C=1, gamma=0.0001; total time=   0.7s\n",
      "[CV] END ..................................C=1, gamma=0.0001; total time=   0.7s\n",
      "[CV] END ..................................C=1, gamma=0.0001; total time=   0.7s\n",
      "[CV] END ..................................C=1, gamma=0.0001; total time=   0.7s\n",
      "[CV] END ....................................C=10, gamma=0.1; total time=   1.0s\n",
      "[CV] END ....................................C=10, gamma=0.1; total time=   1.0s\n",
      "[CV] END ....................................C=10, gamma=0.1; total time=   1.0s\n",
      "[CV] END ....................................C=10, gamma=0.1; total time=   1.0s\n",
      "[CV] END ....................................C=10, gamma=0.1; total time=   1.0s\n",
      "[CV] END ...................................C=10, gamma=0.01; total time=   0.8s\n",
      "[CV] END ...................................C=10, gamma=0.01; total time=   0.8s\n",
      "[CV] END ...................................C=10, gamma=0.01; total time=   0.8s\n",
      "[CV] END ...................................C=10, gamma=0.01; total time=   0.8s\n",
      "[CV] END ...................................C=10, gamma=0.01; total time=   0.8s\n",
      "[CV] END ..................................C=10, gamma=0.001; total time=   0.9s\n",
      "[CV] END ..................................C=10, gamma=0.001; total time=   0.9s\n",
      "[CV] END ..................................C=10, gamma=0.001; total time=   0.9s\n",
      "[CV] END ..................................C=10, gamma=0.001; total time=   0.9s\n",
      "[CV] END ..................................C=10, gamma=0.001; total time=   0.9s\n",
      "[CV] END .................................C=10, gamma=0.0001; total time=   0.9s\n",
      "[CV] END .................................C=10, gamma=0.0001; total time=   0.9s\n",
      "[CV] END .................................C=10, gamma=0.0001; total time=   0.9s\n",
      "[CV] END .................................C=10, gamma=0.0001; total time=   0.9s\n",
      "[CV] END .................................C=10, gamma=0.0001; total time=   0.9s\n",
      "[CV] END ...................................C=100, gamma=0.1; total time=   1.8s\n",
      "[CV] END ...................................C=100, gamma=0.1; total time=   1.8s\n",
      "[CV] END ...................................C=100, gamma=0.1; total time=   1.7s\n",
      "[CV] END ...................................C=100, gamma=0.1; total time=   1.8s\n",
      "[CV] END ...................................C=100, gamma=0.1; total time=   1.8s\n",
      "[CV] END ..................................C=100, gamma=0.01; total time=   1.2s\n",
      "[CV] END ..................................C=100, gamma=0.01; total time=   1.1s\n",
      "[CV] END ..................................C=100, gamma=0.01; total time=   1.1s\n",
      "[CV] END ..................................C=100, gamma=0.01; total time=   1.1s\n",
      "[CV] END ..................................C=100, gamma=0.01; total time=   1.1s\n",
      "[CV] END .................................C=100, gamma=0.001; total time=   0.9s\n",
      "[CV] END .................................C=100, gamma=0.001; total time=   0.9s\n",
      "[CV] END .................................C=100, gamma=0.001; total time=   0.9s\n",
      "[CV] END .................................C=100, gamma=0.001; total time=   0.9s\n",
      "[CV] END .................................C=100, gamma=0.001; total time=   0.9s\n",
      "[CV] END ................................C=100, gamma=0.0001; total time=   1.2s\n",
      "[CV] END ................................C=100, gamma=0.0001; total time=   1.1s\n",
      "[CV] END ................................C=100, gamma=0.0001; total time=   1.2s\n",
      "[CV] END ................................C=100, gamma=0.0001; total time=   1.1s\n",
      "[CV] END ................................C=100, gamma=0.0001; total time=   1.1s\n",
      "[CV] END ...................................C=100, gamma=0.1; total time=   1.8s\n",
      "[CV] END ...................................C=100, gamma=0.1; total time=   1.8s\n",
      "[CV] END ...................................C=100, gamma=0.1; total time=   1.7s\n",
      "[CV] END ...................................C=100, gamma=0.1; total time=   1.8s\n",
      "[CV] END ...................................C=100, gamma=0.1; total time=   1.8s\n",
      "[CV] END ..................................C=100, gamma=0.01; total time=   1.1s\n",
      "[CV] END ..................................C=100, gamma=0.01; total time=   1.1s\n",
      "[CV] END ..................................C=100, gamma=0.01; total time=   1.1s\n",
      "[CV] END ..................................C=100, gamma=0.01; total time=   1.1s\n",
      "[CV] END ..................................C=100, gamma=0.01; total time=   1.1s\n",
      "[CV] END .................................C=100, gamma=0.001; total time=   0.9s\n",
      "[CV] END .................................C=100, gamma=0.001; total time=   0.9s\n",
      "[CV] END .................................C=100, gamma=0.001; total time=   0.9s\n",
      "[CV] END .................................C=100, gamma=0.001; total time=   0.9s\n",
      "[CV] END .................................C=100, gamma=0.001; total time=   0.9s\n",
      "[CV] END ................................C=100, gamma=0.0001; total time=   1.2s\n",
      "[CV] END ................................C=100, gamma=0.0001; total time=   1.1s\n",
      "[CV] END ................................C=100, gamma=0.0001; total time=   1.1s\n",
      "[CV] END ................................C=100, gamma=0.0001; total time=   1.2s\n",
      "[CV] END ................................C=100, gamma=0.0001; total time=   1.2s\n",
      "[CV] END ..................................C=1000, gamma=0.1; total time=   4.2s\n",
      "[CV] END ..................................C=1000, gamma=0.1; total time=   4.3s\n",
      "[CV] END ..................................C=1000, gamma=0.1; total time=   3.9s\n",
      "[CV] END ..................................C=1000, gamma=0.1; total time=   4.6s\n",
      "[CV] END ..................................C=1000, gamma=0.1; total time=   4.5s\n",
      "[CV] END .................................C=1000, gamma=0.01; total time=   3.2s\n",
      "[CV] END .................................C=1000, gamma=0.01; total time=   3.2s\n",
      "[CV] END .................................C=1000, gamma=0.01; total time=   3.2s\n",
      "[CV] END .................................C=1000, gamma=0.01; total time=   3.9s\n",
      "[CV] END .................................C=1000, gamma=0.01; total time=   3.3s\n",
      "[CV] END ................................C=1000, gamma=0.001; total time=   1.3s\n",
      "[CV] END ................................C=1000, gamma=0.001; total time=   1.3s\n",
      "[CV] END ................................C=1000, gamma=0.001; total time=   1.3s\n",
      "[CV] END ................................C=1000, gamma=0.001; total time=   1.3s\n",
      "[CV] END ................................C=1000, gamma=0.001; total time=   1.3s\n",
      "[CV] END ...............................C=1000, gamma=0.0001; total time=   1.2s\n",
      "[CV] END ...............................C=1000, gamma=0.0001; total time=   1.2s\n",
      "[CV] END ...............................C=1000, gamma=0.0001; total time=   1.2s\n",
      "[CV] END ...............................C=1000, gamma=0.0001; total time=   1.3s\n",
      "[CV] END ...............................C=1000, gamma=0.0001; total time=   1.3s\n"
     ]
    },
    {
     "data": {
      "text/plain": [
       "GridSearchCV(estimator=SVC(),\n",
       "             param_grid={'C': [1, 10, 100, 100, 1000],\n",
       "                         'gamma': [0.1, 0.01, 0.001, 0.0001]},\n",
       "             verbose=2)"
      ]
     },
     "execution_count": 72,
     "metadata": {},
     "output_type": "execute_result"
    }
   ],
   "source": [
    "grid.fit(X_train, y_train)"
   ]
  },
  {
   "cell_type": "code",
   "execution_count": 73,
   "id": "5d5b8ed4",
   "metadata": {},
   "outputs": [
    {
     "data": {
      "text/plain": [
       "SVC(C=1000, gamma=0.001)"
      ]
     },
     "execution_count": 73,
     "metadata": {},
     "output_type": "execute_result"
    }
   ],
   "source": [
    "grid.best_estimator_"
   ]
  },
  {
   "cell_type": "code",
   "execution_count": 74,
   "id": "60672d59",
   "metadata": {},
   "outputs": [],
   "source": [
    "model5=SVC(C=1000, gamma=0.01)\n",
    "model5.fit(X_train, y_train)\n",
    "s_pred=model5.predict(X_test)"
   ]
  },
  {
   "cell_type": "code",
   "execution_count": 75,
   "id": "5882cba5",
   "metadata": {},
   "outputs": [
    {
     "name": "stdout",
     "output_type": "stream",
     "text": [
      "[[2312   64]\n",
      " [ 373  251]]\n",
      "\n",
      "\n",
      "0.8543333333333333\n",
      "\n",
      "\n",
      "              precision    recall  f1-score   support\n",
      "\n",
      "           0       0.86      0.97      0.91      2376\n",
      "           1       0.80      0.40      0.53       624\n",
      "\n",
      "    accuracy                           0.85      3000\n",
      "   macro avg       0.83      0.69      0.72      3000\n",
      "weighted avg       0.85      0.85      0.83      3000\n",
      "\n"
     ]
    }
   ],
   "source": [
    "print(confusion_matrix(y_test, s_pred))\n",
    "print(\"\\n\")\n",
    "print(accuracy_score(y_test, s_pred))\n",
    "print(\"\\n\")\n",
    "print(classification_report(y_test, s_pred))"
   ]
  },
  {
   "cell_type": "code",
   "execution_count": null,
   "id": "afdf4b1b",
   "metadata": {},
   "outputs": [],
   "source": []
  },
  {
   "cell_type": "markdown",
   "id": "8687061d",
   "metadata": {},
   "source": [
    "# GaussianNB"
   ]
  },
  {
   "cell_type": "code",
   "execution_count": 76,
   "id": "853d88b7",
   "metadata": {},
   "outputs": [],
   "source": [
    "X_train, X_test, y_train, y_test = train_test_split(X, y, test_size=0.33, random_state=42)"
   ]
  },
  {
   "cell_type": "code",
   "execution_count": 77,
   "id": "69f640fa",
   "metadata": {},
   "outputs": [],
   "source": [
    "model6= GaussianNB()"
   ]
  },
  {
   "cell_type": "code",
   "execution_count": 78,
   "id": "bced76ff",
   "metadata": {},
   "outputs": [],
   "source": [
    "model6 = DecisionTreeClassifier()\n",
    "\n",
    "model6.fit(X_train,y_train)\n",
    "g_pred = model6.predict(X_test)"
   ]
  },
  {
   "cell_type": "code",
   "execution_count": 79,
   "id": "a5f646cf",
   "metadata": {},
   "outputs": [
    {
     "name": "stdout",
     "output_type": "stream",
     "text": [
      "[[2281  376]\n",
      " [ 321  322]]\n",
      "\n",
      "\n",
      "0.7887878787878788\n",
      "\n",
      "\n",
      "              precision    recall  f1-score   support\n",
      "\n",
      "           0       0.88      0.86      0.87      2657\n",
      "           1       0.46      0.50      0.48       643\n",
      "\n",
      "    accuracy                           0.79      3300\n",
      "   macro avg       0.67      0.68      0.67      3300\n",
      "weighted avg       0.80      0.79      0.79      3300\n",
      "\n"
     ]
    }
   ],
   "source": [
    "print(confusion_matrix(y_test, g_pred))\n",
    "print(\"\\n\")\n",
    "print(accuracy_score(y_test, g_pred))\n",
    "print(\"\\n\")\n",
    "print(classification_report(y_test, g_pred))"
   ]
  },
  {
   "cell_type": "code",
   "execution_count": null,
   "id": "4fce3b7f",
   "metadata": {},
   "outputs": [],
   "source": []
  },
  {
   "cell_type": "markdown",
   "id": "6a1cb181",
   "metadata": {},
   "source": [
    "# Neuro Network with Tensorflow"
   ]
  },
  {
   "cell_type": "code",
   "execution_count": 80,
   "id": "4b08e07c",
   "metadata": {},
   "outputs": [],
   "source": [
    "X_train, X_test, y_train, y_test = train_test_split(X, y, test_size=0.3, random_state=100)"
   ]
  },
  {
   "cell_type": "code",
   "execution_count": 81,
   "id": "b248ec5f",
   "metadata": {},
   "outputs": [],
   "source": [
    "X_train= StandardScaler().fit_transform(X_train)"
   ]
  },
  {
   "cell_type": "code",
   "execution_count": 82,
   "id": "e2042bc3",
   "metadata": {},
   "outputs": [],
   "source": [
    "X_test= StandardScaler().fit_transform(X_test)"
   ]
  },
  {
   "cell_type": "code",
   "execution_count": null,
   "id": "61c8085e",
   "metadata": {},
   "outputs": [],
   "source": []
  },
  {
   "cell_type": "code",
   "execution_count": 83,
   "id": "37108969",
   "metadata": {},
   "outputs": [],
   "source": [
    "model=Sequential()"
   ]
  },
  {
   "cell_type": "code",
   "execution_count": 84,
   "id": "ea109358",
   "metadata": {},
   "outputs": [],
   "source": [
    "model.add(Dense(11, activation=\"relu\"))\n",
    "model.add(Dense(8, activation=\"relu\"))\n",
    "model.add(Dense(5, activation=\"relu\"))\n",
    "model.add(Dense(1, activation=\"sigmoid\"))"
   ]
  },
  {
   "cell_type": "code",
   "execution_count": 85,
   "id": "5dee79c0",
   "metadata": {},
   "outputs": [],
   "source": [
    "model.compile(optimizer=\"adam\", loss=\"binary_crossentropy\", metrics=[\"accuracy\"])"
   ]
  },
  {
   "cell_type": "code",
   "execution_count": 86,
   "id": "e454c9d2",
   "metadata": {},
   "outputs": [],
   "source": [
    "early_stop=tf.keras.callbacks.EarlyStopping(\n",
    "    monitor=\"val_loss\",\n",
    "    min_delta=0.001,\n",
    "    patience=30,\n",
    "    verbose=0,\n",
    "    mode=\"auto\",\n",
    "    baseline=None,\n",
    "    restore_best_weights=False,\n",
    ")"
   ]
  },
  {
   "cell_type": "code",
   "execution_count": 87,
   "id": "848ecd93",
   "metadata": {},
   "outputs": [
    {
     "name": "stdout",
     "output_type": "stream",
     "text": [
      "Epoch 1/1000\n",
      "147/147 [==============================] - 1s 3ms/step - loss: 0.5559 - accuracy: 0.7238 - val_loss: 0.4942 - val_accuracy: 0.7927\n",
      "Epoch 2/1000\n",
      "147/147 [==============================] - 0s 3ms/step - loss: 0.4600 - accuracy: 0.8002 - val_loss: 0.4554 - val_accuracy: 0.7940\n",
      "Epoch 3/1000\n",
      "147/147 [==============================] - 0s 2ms/step - loss: 0.4300 - accuracy: 0.8038 - val_loss: 0.4299 - val_accuracy: 0.8023\n",
      "Epoch 4/1000\n",
      "147/147 [==============================] - 0s 2ms/step - loss: 0.4103 - accuracy: 0.8140 - val_loss: 0.4124 - val_accuracy: 0.8217\n",
      "Epoch 5/1000\n",
      "147/147 [==============================] - 0s 2ms/step - loss: 0.3954 - accuracy: 0.8273 - val_loss: 0.3979 - val_accuracy: 0.8317\n",
      "Epoch 6/1000\n",
      "147/147 [==============================] - 0s 2ms/step - loss: 0.3835 - accuracy: 0.8283 - val_loss: 0.3881 - val_accuracy: 0.8382\n",
      "Epoch 7/1000\n",
      "147/147 [==============================] - 0s 3ms/step - loss: 0.3758 - accuracy: 0.8364 - val_loss: 0.3798 - val_accuracy: 0.8429\n",
      "Epoch 8/1000\n",
      "147/147 [==============================] - 0s 2ms/step - loss: 0.3692 - accuracy: 0.8375 - val_loss: 0.3727 - val_accuracy: 0.8490\n",
      "Epoch 9/1000\n",
      "147/147 [==============================] - 0s 2ms/step - loss: 0.3643 - accuracy: 0.8435 - val_loss: 0.3689 - val_accuracy: 0.8481\n",
      "Epoch 10/1000\n",
      "147/147 [==============================] - 0s 2ms/step - loss: 0.3596 - accuracy: 0.8447 - val_loss: 0.3656 - val_accuracy: 0.8477\n",
      "Epoch 11/1000\n",
      "147/147 [==============================] - 0s 2ms/step - loss: 0.3570 - accuracy: 0.8437 - val_loss: 0.3647 - val_accuracy: 0.8490\n",
      "Epoch 12/1000\n",
      "147/147 [==============================] - 0s 2ms/step - loss: 0.3536 - accuracy: 0.8433 - val_loss: 0.3645 - val_accuracy: 0.8503\n",
      "Epoch 13/1000\n",
      "147/147 [==============================] - 0s 2ms/step - loss: 0.3517 - accuracy: 0.8496 - val_loss: 0.3602 - val_accuracy: 0.8511\n",
      "Epoch 14/1000\n",
      "147/147 [==============================] - 0s 2ms/step - loss: 0.3492 - accuracy: 0.8469 - val_loss: 0.3597 - val_accuracy: 0.8533\n",
      "Epoch 15/1000\n",
      "147/147 [==============================] - 0s 2ms/step - loss: 0.3469 - accuracy: 0.8494 - val_loss: 0.3568 - val_accuracy: 0.8576\n",
      "Epoch 16/1000\n",
      "147/147 [==============================] - 0s 2ms/step - loss: 0.3448 - accuracy: 0.8507 - val_loss: 0.3556 - val_accuracy: 0.8568\n",
      "Epoch 17/1000\n",
      "147/147 [==============================] - 0s 2ms/step - loss: 0.3436 - accuracy: 0.8520 - val_loss: 0.3540 - val_accuracy: 0.8537\n",
      "Epoch 18/1000\n",
      "147/147 [==============================] - 0s 2ms/step - loss: 0.3425 - accuracy: 0.8516 - val_loss: 0.3532 - val_accuracy: 0.8598\n",
      "Epoch 19/1000\n",
      "147/147 [==============================] - 0s 2ms/step - loss: 0.3408 - accuracy: 0.8528 - val_loss: 0.3551 - val_accuracy: 0.8576\n",
      "Epoch 20/1000\n",
      "147/147 [==============================] - 0s 2ms/step - loss: 0.3389 - accuracy: 0.8541 - val_loss: 0.3514 - val_accuracy: 0.8490\n",
      "Epoch 21/1000\n",
      "147/147 [==============================] - 0s 3ms/step - loss: 0.3388 - accuracy: 0.8548 - val_loss: 0.3490 - val_accuracy: 0.8594\n",
      "Epoch 22/1000\n",
      "147/147 [==============================] - 0s 3ms/step - loss: 0.3378 - accuracy: 0.8554 - val_loss: 0.3489 - val_accuracy: 0.8598\n",
      "Epoch 23/1000\n",
      "147/147 [==============================] - 0s 2ms/step - loss: 0.3366 - accuracy: 0.8580 - val_loss: 0.3472 - val_accuracy: 0.8589\n",
      "Epoch 24/1000\n",
      "147/147 [==============================] - 0s 2ms/step - loss: 0.3353 - accuracy: 0.8558 - val_loss: 0.3490 - val_accuracy: 0.8589\n",
      "Epoch 25/1000\n",
      "147/147 [==============================] - 0s 2ms/step - loss: 0.3347 - accuracy: 0.8554 - val_loss: 0.3452 - val_accuracy: 0.8572\n",
      "Epoch 26/1000\n",
      "147/147 [==============================] - 0s 2ms/step - loss: 0.3340 - accuracy: 0.8578 - val_loss: 0.3439 - val_accuracy: 0.8594\n",
      "Epoch 27/1000\n",
      "147/147 [==============================] - 0s 3ms/step - loss: 0.3334 - accuracy: 0.8578 - val_loss: 0.3458 - val_accuracy: 0.8602\n",
      "Epoch 28/1000\n",
      "147/147 [==============================] - 0s 2ms/step - loss: 0.3322 - accuracy: 0.8569 - val_loss: 0.3432 - val_accuracy: 0.8585\n",
      "Epoch 29/1000\n",
      "147/147 [==============================] - 0s 2ms/step - loss: 0.3326 - accuracy: 0.8584 - val_loss: 0.3433 - val_accuracy: 0.8615\n",
      "Epoch 30/1000\n",
      "147/147 [==============================] - 0s 2ms/step - loss: 0.3309 - accuracy: 0.8601 - val_loss: 0.3421 - val_accuracy: 0.8602\n",
      "Epoch 31/1000\n",
      "147/147 [==============================] - 0s 2ms/step - loss: 0.3311 - accuracy: 0.8586 - val_loss: 0.3427 - val_accuracy: 0.8611\n",
      "Epoch 32/1000\n",
      "147/147 [==============================] - 0s 2ms/step - loss: 0.3301 - accuracy: 0.8612 - val_loss: 0.3430 - val_accuracy: 0.8611\n",
      "Epoch 33/1000\n",
      "147/147 [==============================] - 0s 2ms/step - loss: 0.3297 - accuracy: 0.8610 - val_loss: 0.3437 - val_accuracy: 0.8641\n",
      "Epoch 34/1000\n",
      "147/147 [==============================] - 0s 3ms/step - loss: 0.3292 - accuracy: 0.8595 - val_loss: 0.3445 - val_accuracy: 0.8624\n",
      "Epoch 35/1000\n",
      "147/147 [==============================] - 0s 3ms/step - loss: 0.3288 - accuracy: 0.8622 - val_loss: 0.3420 - val_accuracy: 0.8602\n",
      "Epoch 36/1000\n",
      "147/147 [==============================] - 0s 2ms/step - loss: 0.3289 - accuracy: 0.8610 - val_loss: 0.3419 - val_accuracy: 0.8611\n",
      "Epoch 37/1000\n",
      "147/147 [==============================] - 0s 2ms/step - loss: 0.3276 - accuracy: 0.8614 - val_loss: 0.3406 - val_accuracy: 0.8607\n",
      "Epoch 38/1000\n",
      "147/147 [==============================] - 0s 2ms/step - loss: 0.3272 - accuracy: 0.8618 - val_loss: 0.3398 - val_accuracy: 0.8598\n",
      "Epoch 39/1000\n",
      "147/147 [==============================] - 0s 2ms/step - loss: 0.3275 - accuracy: 0.8603 - val_loss: 0.3398 - val_accuracy: 0.8568\n",
      "Epoch 40/1000\n",
      "147/147 [==============================] - 0s 2ms/step - loss: 0.3265 - accuracy: 0.8601 - val_loss: 0.3407 - val_accuracy: 0.8620\n",
      "Epoch 41/1000\n",
      "147/147 [==============================] - 0s 2ms/step - loss: 0.3263 - accuracy: 0.8624 - val_loss: 0.3393 - val_accuracy: 0.8624\n",
      "Epoch 42/1000\n",
      "147/147 [==============================] - 0s 2ms/step - loss: 0.3258 - accuracy: 0.8618 - val_loss: 0.3400 - val_accuracy: 0.8624\n",
      "Epoch 43/1000\n",
      "147/147 [==============================] - 0s 2ms/step - loss: 0.3256 - accuracy: 0.8618 - val_loss: 0.3392 - val_accuracy: 0.8615\n",
      "Epoch 44/1000\n",
      "147/147 [==============================] - 0s 2ms/step - loss: 0.3251 - accuracy: 0.8597 - val_loss: 0.3395 - val_accuracy: 0.8624\n",
      "Epoch 45/1000\n",
      "147/147 [==============================] - 0s 2ms/step - loss: 0.3246 - accuracy: 0.8620 - val_loss: 0.3414 - val_accuracy: 0.8615\n",
      "Epoch 46/1000\n",
      "147/147 [==============================] - 0s 2ms/step - loss: 0.3248 - accuracy: 0.8610 - val_loss: 0.3380 - val_accuracy: 0.8624\n",
      "Epoch 47/1000\n",
      "147/147 [==============================] - 0s 2ms/step - loss: 0.3237 - accuracy: 0.8629 - val_loss: 0.3384 - val_accuracy: 0.8624\n",
      "Epoch 48/1000\n",
      "147/147 [==============================] - 0s 2ms/step - loss: 0.3239 - accuracy: 0.8635 - val_loss: 0.3379 - val_accuracy: 0.8637\n",
      "Epoch 49/1000\n",
      "147/147 [==============================] - 0s 2ms/step - loss: 0.3233 - accuracy: 0.8616 - val_loss: 0.3381 - val_accuracy: 0.8620\n",
      "Epoch 50/1000\n",
      "147/147 [==============================] - 0s 2ms/step - loss: 0.3232 - accuracy: 0.8635 - val_loss: 0.3388 - val_accuracy: 0.8633\n",
      "Epoch 51/1000\n",
      "147/147 [==============================] - 0s 2ms/step - loss: 0.3226 - accuracy: 0.8618 - val_loss: 0.3377 - val_accuracy: 0.8615\n",
      "Epoch 52/1000\n",
      "147/147 [==============================] - 0s 2ms/step - loss: 0.3217 - accuracy: 0.8629 - val_loss: 0.3383 - val_accuracy: 0.8637\n",
      "Epoch 53/1000\n",
      "147/147 [==============================] - 0s 3ms/step - loss: 0.3218 - accuracy: 0.8635 - val_loss: 0.3387 - val_accuracy: 0.8628\n",
      "Epoch 54/1000\n",
      "147/147 [==============================] - 0s 2ms/step - loss: 0.3213 - accuracy: 0.8650 - val_loss: 0.3365 - val_accuracy: 0.8663\n",
      "Epoch 55/1000\n",
      "147/147 [==============================] - 0s 2ms/step - loss: 0.3214 - accuracy: 0.8646 - val_loss: 0.3369 - val_accuracy: 0.8637\n",
      "Epoch 56/1000\n",
      "147/147 [==============================] - 0s 2ms/step - loss: 0.3202 - accuracy: 0.8646 - val_loss: 0.3364 - val_accuracy: 0.8637\n",
      "Epoch 57/1000\n",
      "147/147 [==============================] - 0s 3ms/step - loss: 0.3207 - accuracy: 0.8652 - val_loss: 0.3374 - val_accuracy: 0.8641\n",
      "Epoch 58/1000\n",
      "147/147 [==============================] - 0s 3ms/step - loss: 0.3202 - accuracy: 0.8659 - val_loss: 0.3367 - val_accuracy: 0.8659\n",
      "Epoch 59/1000\n",
      "147/147 [==============================] - 0s 3ms/step - loss: 0.3206 - accuracy: 0.8654 - val_loss: 0.3369 - val_accuracy: 0.8637\n",
      "Epoch 60/1000\n",
      "147/147 [==============================] - 0s 3ms/step - loss: 0.3197 - accuracy: 0.8629 - val_loss: 0.3380 - val_accuracy: 0.8641\n",
      "Epoch 61/1000\n",
      "147/147 [==============================] - 0s 3ms/step - loss: 0.3193 - accuracy: 0.8648 - val_loss: 0.3371 - val_accuracy: 0.8637\n",
      "Epoch 62/1000\n",
      "147/147 [==============================] - 0s 3ms/step - loss: 0.3191 - accuracy: 0.8656 - val_loss: 0.3367 - val_accuracy: 0.8633\n",
      "Epoch 63/1000\n",
      "147/147 [==============================] - 0s 3ms/step - loss: 0.3185 - accuracy: 0.8661 - val_loss: 0.3368 - val_accuracy: 0.8641\n",
      "Epoch 64/1000\n",
      "147/147 [==============================] - 0s 3ms/step - loss: 0.3184 - accuracy: 0.8673 - val_loss: 0.3373 - val_accuracy: 0.8624\n",
      "Epoch 65/1000\n",
      "147/147 [==============================] - 0s 3ms/step - loss: 0.3178 - accuracy: 0.8663 - val_loss: 0.3378 - val_accuracy: 0.8637\n",
      "Epoch 66/1000\n",
      "147/147 [==============================] - 0s 3ms/step - loss: 0.3183 - accuracy: 0.8665 - val_loss: 0.3360 - val_accuracy: 0.8624\n",
      "Epoch 67/1000\n",
      "147/147 [==============================] - 0s 3ms/step - loss: 0.3177 - accuracy: 0.8650 - val_loss: 0.3364 - val_accuracy: 0.8624\n",
      "Epoch 68/1000\n",
      "147/147 [==============================] - 0s 3ms/step - loss: 0.3166 - accuracy: 0.8639 - val_loss: 0.3373 - val_accuracy: 0.8633\n",
      "Epoch 69/1000\n",
      "147/147 [==============================] - 0s 3ms/step - loss: 0.3167 - accuracy: 0.8661 - val_loss: 0.3392 - val_accuracy: 0.8650\n",
      "Epoch 70/1000\n",
      "147/147 [==============================] - 0s 3ms/step - loss: 0.3169 - accuracy: 0.8659 - val_loss: 0.3376 - val_accuracy: 0.8624\n",
      "Epoch 71/1000\n",
      "147/147 [==============================] - 0s 3ms/step - loss: 0.3166 - accuracy: 0.8644 - val_loss: 0.3382 - val_accuracy: 0.8620\n",
      "Epoch 72/1000\n",
      "147/147 [==============================] - 0s 2ms/step - loss: 0.3165 - accuracy: 0.8656 - val_loss: 0.3388 - val_accuracy: 0.8646\n",
      "Epoch 73/1000\n",
      "147/147 [==============================] - 0s 2ms/step - loss: 0.3159 - accuracy: 0.8652 - val_loss: 0.3393 - val_accuracy: 0.8659\n",
      "Epoch 74/1000\n",
      "147/147 [==============================] - 0s 2ms/step - loss: 0.3160 - accuracy: 0.8680 - val_loss: 0.3374 - val_accuracy: 0.8641\n",
      "Epoch 75/1000\n",
      "147/147 [==============================] - 0s 2ms/step - loss: 0.3165 - accuracy: 0.8648 - val_loss: 0.3391 - val_accuracy: 0.8637\n",
      "Epoch 76/1000\n",
      "147/147 [==============================] - 0s 2ms/step - loss: 0.3153 - accuracy: 0.8673 - val_loss: 0.3375 - val_accuracy: 0.8615\n",
      "Epoch 77/1000\n",
      "147/147 [==============================] - 0s 2ms/step - loss: 0.3150 - accuracy: 0.8652 - val_loss: 0.3394 - val_accuracy: 0.8641\n",
      "Epoch 78/1000\n",
      "147/147 [==============================] - 0s 2ms/step - loss: 0.3141 - accuracy: 0.8678 - val_loss: 0.3390 - val_accuracy: 0.8633\n",
      "Epoch 79/1000\n",
      "147/147 [==============================] - 0s 2ms/step - loss: 0.3158 - accuracy: 0.8639 - val_loss: 0.3384 - val_accuracy: 0.8628\n",
      "Epoch 80/1000\n",
      "147/147 [==============================] - 0s 2ms/step - loss: 0.3145 - accuracy: 0.8676 - val_loss: 0.3385 - val_accuracy: 0.8628\n",
      "Epoch 81/1000\n",
      "147/147 [==============================] - 0s 2ms/step - loss: 0.3141 - accuracy: 0.8642 - val_loss: 0.3408 - val_accuracy: 0.8659\n",
      "Epoch 82/1000\n",
      "147/147 [==============================] - 0s 2ms/step - loss: 0.3141 - accuracy: 0.8661 - val_loss: 0.3379 - val_accuracy: 0.8633\n",
      "Epoch 83/1000\n",
      "147/147 [==============================] - 0s 2ms/step - loss: 0.3144 - accuracy: 0.8663 - val_loss: 0.3385 - val_accuracy: 0.8615\n",
      "Epoch 84/1000\n",
      "147/147 [==============================] - 0s 2ms/step - loss: 0.3135 - accuracy: 0.8667 - val_loss: 0.3378 - val_accuracy: 0.8620\n"
     ]
    }
   ],
   "source": [
    "model_history=model.fit(X_train, y_train,epochs=1000,validation_split=0.33,callbacks=early_stop)"
   ]
  },
  {
   "cell_type": "code",
   "execution_count": 88,
   "id": "19ce0c5a",
   "metadata": {},
   "outputs": [
    {
     "name": "stdout",
     "output_type": "stream",
     "text": [
      "219/219 [==============================] - 0s 1ms/step - loss: 0.3190 - accuracy: 0.8659\n"
     ]
    },
    {
     "data": {
      "text/plain": [
       "[0.31897440552711487, 0.8658571243286133]"
      ]
     },
     "execution_count": 88,
     "metadata": {},
     "output_type": "execute_result"
    }
   ],
   "source": [
    "model.evaluate(X_train, y_train)"
   ]
  },
  {
   "cell_type": "code",
   "execution_count": 89,
   "id": "24ea201f",
   "metadata": {},
   "outputs": [
    {
     "data": {
      "text/plain": [
       "dict_keys(['loss', 'accuracy', 'val_loss', 'val_accuracy'])"
      ]
     },
     "execution_count": 89,
     "metadata": {},
     "output_type": "execute_result"
    }
   ],
   "source": [
    "model_history.history.keys()"
   ]
  },
  {
   "cell_type": "code",
   "execution_count": 90,
   "id": "87234bf0",
   "metadata": {},
   "outputs": [
    {
     "data": {
      "text/html": [
       "<div>\n",
       "<style scoped>\n",
       "    .dataframe tbody tr th:only-of-type {\n",
       "        vertical-align: middle;\n",
       "    }\n",
       "\n",
       "    .dataframe tbody tr th {\n",
       "        vertical-align: top;\n",
       "    }\n",
       "\n",
       "    .dataframe thead th {\n",
       "        text-align: right;\n",
       "    }\n",
       "</style>\n",
       "<table border=\"1\" class=\"dataframe\">\n",
       "  <thead>\n",
       "    <tr style=\"text-align: right;\">\n",
       "      <th></th>\n",
       "      <th>loss</th>\n",
       "      <th>accuracy</th>\n",
       "      <th>val_loss</th>\n",
       "      <th>val_accuracy</th>\n",
       "    </tr>\n",
       "  </thead>\n",
       "  <tbody>\n",
       "    <tr>\n",
       "      <th>0</th>\n",
       "      <td>0.555898</td>\n",
       "      <td>0.723822</td>\n",
       "      <td>0.494159</td>\n",
       "      <td>0.792730</td>\n",
       "    </tr>\n",
       "    <tr>\n",
       "      <th>1</th>\n",
       "      <td>0.459959</td>\n",
       "      <td>0.800171</td>\n",
       "      <td>0.455394</td>\n",
       "      <td>0.794029</td>\n",
       "    </tr>\n",
       "    <tr>\n",
       "      <th>2</th>\n",
       "      <td>0.429951</td>\n",
       "      <td>0.803796</td>\n",
       "      <td>0.429890</td>\n",
       "      <td>0.802250</td>\n",
       "    </tr>\n",
       "    <tr>\n",
       "      <th>3</th>\n",
       "      <td>0.410331</td>\n",
       "      <td>0.814033</td>\n",
       "      <td>0.412372</td>\n",
       "      <td>0.821722</td>\n",
       "    </tr>\n",
       "    <tr>\n",
       "      <th>4</th>\n",
       "      <td>0.395420</td>\n",
       "      <td>0.827255</td>\n",
       "      <td>0.397859</td>\n",
       "      <td>0.831675</td>\n",
       "    </tr>\n",
       "  </tbody>\n",
       "</table>\n",
       "</div>"
      ],
      "text/plain": [
       "       loss  accuracy  val_loss  val_accuracy\n",
       "0  0.555898  0.723822  0.494159      0.792730\n",
       "1  0.459959  0.800171  0.455394      0.794029\n",
       "2  0.429951  0.803796  0.429890      0.802250\n",
       "3  0.410331  0.814033  0.412372      0.821722\n",
       "4  0.395420  0.827255  0.397859      0.831675"
      ]
     },
     "execution_count": 90,
     "metadata": {},
     "output_type": "execute_result"
    }
   ],
   "source": [
    "loss=pd.DataFrame(model_history.history)\n",
    "loss.head()"
   ]
  },
  {
   "cell_type": "code",
   "execution_count": 91,
   "id": "9f2662a8",
   "metadata": {},
   "outputs": [
    {
     "data": {
      "text/plain": [
       "<AxesSubplot:>"
      ]
     },
     "execution_count": 91,
     "metadata": {},
     "output_type": "execute_result"
    },
    {
     "data": {
      "image/png": "[encoded data removed]",
      "text/plain": [
       "<Figure size 432x288 with 1 Axes>"
      ]
     },
     "metadata": {
      "needs_background": "light"
     },
     "output_type": "display_data"
    }
   ],
   "source": [
    "loss.plot()"
   ]
  },
  {
   "cell_type": "code",
   "execution_count": 92,
   "id": "976cd482",
   "metadata": {},
   "outputs": [
    {
     "name": "stdout",
     "output_type": "stream",
     "text": [
      "94/94 [==============================] - 0s 1ms/step\n"
     ]
    }
   ],
   "source": [
    "y_pred=model.predict(X_test)"
   ]
  },
  {
   "cell_type": "code",
   "execution_count": 93,
   "id": "d2db4935",
   "metadata": {},
   "outputs": [],
   "source": [
    "y_pred=(y_pred>=0.5)"
   ]
  },
  {
   "cell_type": "code",
   "execution_count": 94,
   "id": "f7d0f386",
   "metadata": {},
   "outputs": [],
   "source": [
    "from sklearn.metrics import confusion_matrix, classification_report"
   ]
  },
  {
   "cell_type": "code",
   "execution_count": 95,
   "id": "7e548239",
   "metadata": {},
   "outputs": [
    {
     "name": "stdout",
     "output_type": "stream",
     "text": [
      "[[2274  102]\n",
      " [ 334  290]]\n"
     ]
    }
   ],
   "source": [
    "print(confusion_matrix(y_test, y_pred))"
   ]
  },
  {
   "cell_type": "code",
   "execution_count": 96,
   "id": "e029c9cf",
   "metadata": {},
   "outputs": [
    {
     "name": "stdout",
     "output_type": "stream",
     "text": [
      "              precision    recall  f1-score   support\n",
      "\n",
      "           0       0.87      0.96      0.91      2376\n",
      "           1       0.74      0.46      0.57       624\n",
      "\n",
      "    accuracy                           0.85      3000\n",
      "   macro avg       0.81      0.71      0.74      3000\n",
      "weighted avg       0.84      0.85      0.84      3000\n",
      "\n"
     ]
    }
   ],
   "source": [
    "print(classification_report(y_test, y_pred))"
   ]
  },
  {
   "cell_type": "code",
   "execution_count": null,
   "id": "337878a3",
   "metadata": {},
   "outputs": [],
   "source": []
  },
  {
   "cell_type": "code",
   "execution_count": 97,
   "id": "67a09e3b",
   "metadata": {},
   "outputs": [],
   "source": [
    "from sklearn.model_selection import cross_val_score"
   ]
  },
  {
   "cell_type": "code",
   "execution_count": 98,
   "id": "7748a0a8",
   "metadata": {},
   "outputs": [
    {
     "data": {
      "text/plain": [
       "array([0.811 , 0.8085, 0.8085, 0.818 , 0.8025])"
      ]
     },
     "execution_count": 98,
     "metadata": {},
     "output_type": "execute_result"
    }
   ],
   "source": [
    "cross_val_score(LogisticRegression(),X,y)"
   ]
  },
  {
   "cell_type": "code",
   "execution_count": 99,
   "id": "79154b33",
   "metadata": {},
   "outputs": [
    {
     "data": {
      "text/plain": [
       "array([0.782 , 0.7935, 0.7925, 0.8   , 0.79  ])"
      ]
     },
     "execution_count": 99,
     "metadata": {},
     "output_type": "execute_result"
    }
   ],
   "source": [
    "cross_val_score(DecisionTreeClassifier(),X,y)"
   ]
  },
  {
   "cell_type": "code",
   "execution_count": 100,
   "id": "1e7a47e2",
   "metadata": {},
   "outputs": [
    {
     "data": {
      "text/plain": [
       "array([0.8585, 0.8715, 0.862 , 0.868 , 0.863 ])"
      ]
     },
     "execution_count": 100,
     "metadata": {},
     "output_type": "execute_result"
    }
   ],
   "source": [
    "cross_val_score(RandomForestClassifier(),X,y)"
   ]
  },
  {
   "cell_type": "code",
   "execution_count": 101,
   "id": "e6a9ca76",
   "metadata": {},
   "outputs": [
    {
     "data": {
      "text/plain": [
       "array([0.821 , 0.84  , 0.82  , 0.826 , 0.8275])"
      ]
     },
     "execution_count": 101,
     "metadata": {},
     "output_type": "execute_result"
    }
   ],
   "source": [
    "cross_val_score(KNeighborsClassifier(),X,y)"
   ]
  },
  {
   "cell_type": "code",
   "execution_count": 102,
   "id": "9087f0cc",
   "metadata": {},
   "outputs": [
    {
     "data": {
      "text/plain": [
       "array([0.8525, 0.863 , 0.854 , 0.863 , 0.8495])"
      ]
     },
     "execution_count": 102,
     "metadata": {},
     "output_type": "execute_result"
    }
   ],
   "source": [
    "cross_val_score(SVC(C=1000, gamma=0.001),X,y)"
   ]
  },
  {
   "cell_type": "code",
   "execution_count": null,
   "id": "fa50a20c",
   "metadata": {},
   "outputs": [],
   "source": []
  },
  {
   "cell_type": "markdown",
   "id": "32333060",
   "metadata": {},
   "source": [
    "# Random forest classifier and Neuro Network have the best score"
   ]
  }
 ],
 "metadata": {
  "kernelspec": {
   "display_name": "Python 3 (ipykernel)",
   "language": "python",
   "name": "python3"
  },
  "language_info": {
   "codemirror_mode": {
    "name": "ipython",
    "version": 3
   },
   "file_extension": ".py",
   "mimetype": "text/x-python",
   "name": "python",
   "nbconvert_exporter": "python",
   "pygments_lexer": "ipython3",
   "version": "3.9.12"
  }
 },
 "nbformat": 4,
 "nbformat_minor": 5
}
