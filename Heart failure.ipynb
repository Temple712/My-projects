{
 "cells": [
  {
   "cell_type": "code",
   "execution_count": 1,
   "id": "23f46f4f",
   "metadata": {},
   "outputs": [],
   "source": [
    "import pandas as pd\n",
    "import seaborn as sns\n",
    "import numpy as np\n",
    "import matplotlib.pyplot as plt\n",
    "from sklearn.preprocessing import MinMaxScaler\n",
    "from sklearn.model_selection import train_test_split\n",
    "from sklearn.linear_model import LogisticRegression\n",
    "from sklearn.neighbors import KNeighborsClassifier\n",
    "from sklearn.tree import DecisionTreeClassifier\n",
    "from sklearn.ensemble import RandomForestClassifier\n",
    "from sklearn.svm import SVC\n",
    "from sklearn.naive_bayes import GaussianNB\n",
    "from sklearn.cluster import KMeans\n",
    "from sklearn.metrics import classification_report\n",
    "\n"
   ]
  },
  {
   "cell_type": "code",
   "execution_count": 2,
   "id": "0f3a3377",
   "metadata": {},
   "outputs": [
    {
     "name": "stdout",
     "output_type": "stream",
     "text": [
      "(299, 13)\n"
     ]
    },
    {
     "data": {
      "text/html": [
       "<div>\n",
       "<style scoped>\n",
       "    .dataframe tbody tr th:only-of-type {\n",
       "        vertical-align: middle;\n",
       "    }\n",
       "\n",
       "    .dataframe tbody tr th {\n",
       "        vertical-align: top;\n",
       "    }\n",
       "\n",
       "    .dataframe thead th {\n",
       "        text-align: right;\n",
       "    }\n",
       "</style>\n",
       "<table border=\"1\" class=\"dataframe\">\n",
       "  <thead>\n",
       "    <tr style=\"text-align: right;\">\n",
       "      <th></th>\n",
       "      <th>age</th>\n",
       "      <th>anaemia</th>\n",
       "      <th>creatinine_phosphokinase</th>\n",
       "      <th>diabetes</th>\n",
       "      <th>ejection_fraction</th>\n",
       "      <th>high_blood_pressure</th>\n",
       "      <th>platelets</th>\n",
       "      <th>serum_creatinine</th>\n",
       "      <th>serum_sodium</th>\n",
       "      <th>sex</th>\n",
       "      <th>smoking</th>\n",
       "      <th>time</th>\n",
       "      <th>DEATH_EVENT</th>\n",
       "    </tr>\n",
       "  </thead>\n",
       "  <tbody>\n",
       "    <tr>\n",
       "      <th>0</th>\n",
       "      <td>75.0</td>\n",
       "      <td>0</td>\n",
       "      <td>582</td>\n",
       "      <td>0</td>\n",
       "      <td>20</td>\n",
       "      <td>1</td>\n",
       "      <td>265000.00</td>\n",
       "      <td>1.9</td>\n",
       "      <td>130</td>\n",
       "      <td>1</td>\n",
       "      <td>0</td>\n",
       "      <td>4</td>\n",
       "      <td>1</td>\n",
       "    </tr>\n",
       "    <tr>\n",
       "      <th>1</th>\n",
       "      <td>55.0</td>\n",
       "      <td>0</td>\n",
       "      <td>7861</td>\n",
       "      <td>0</td>\n",
       "      <td>38</td>\n",
       "      <td>0</td>\n",
       "      <td>263358.03</td>\n",
       "      <td>1.1</td>\n",
       "      <td>136</td>\n",
       "      <td>1</td>\n",
       "      <td>0</td>\n",
       "      <td>6</td>\n",
       "      <td>1</td>\n",
       "    </tr>\n",
       "    <tr>\n",
       "      <th>2</th>\n",
       "      <td>65.0</td>\n",
       "      <td>0</td>\n",
       "      <td>146</td>\n",
       "      <td>0</td>\n",
       "      <td>20</td>\n",
       "      <td>0</td>\n",
       "      <td>162000.00</td>\n",
       "      <td>1.3</td>\n",
       "      <td>129</td>\n",
       "      <td>1</td>\n",
       "      <td>1</td>\n",
       "      <td>7</td>\n",
       "      <td>1</td>\n",
       "    </tr>\n",
       "    <tr>\n",
       "      <th>3</th>\n",
       "      <td>50.0</td>\n",
       "      <td>1</td>\n",
       "      <td>111</td>\n",
       "      <td>0</td>\n",
       "      <td>20</td>\n",
       "      <td>0</td>\n",
       "      <td>210000.00</td>\n",
       "      <td>1.9</td>\n",
       "      <td>137</td>\n",
       "      <td>1</td>\n",
       "      <td>0</td>\n",
       "      <td>7</td>\n",
       "      <td>1</td>\n",
       "    </tr>\n",
       "    <tr>\n",
       "      <th>4</th>\n",
       "      <td>65.0</td>\n",
       "      <td>1</td>\n",
       "      <td>160</td>\n",
       "      <td>1</td>\n",
       "      <td>20</td>\n",
       "      <td>0</td>\n",
       "      <td>327000.00</td>\n",
       "      <td>2.7</td>\n",
       "      <td>116</td>\n",
       "      <td>0</td>\n",
       "      <td>0</td>\n",
       "      <td>8</td>\n",
       "      <td>1</td>\n",
       "    </tr>\n",
       "  </tbody>\n",
       "</table>\n",
       "</div>"
      ],
      "text/plain": [
       "    age  anaemia  creatinine_phosphokinase  diabetes  ejection_fraction  \\\n",
       "0  75.0        0                       582         0                 20   \n",
       "1  55.0        0                      7861         0                 38   \n",
       "2  65.0        0                       146         0                 20   \n",
       "3  50.0        1                       111         0                 20   \n",
       "4  65.0        1                       160         1                 20   \n",
       "\n",
       "   high_blood_pressure  platelets  serum_creatinine  serum_sodium  sex  \\\n",
       "0                    1  265000.00               1.9           130    1   \n",
       "1                    0  263358.03               1.1           136    1   \n",
       "2                    0  162000.00               1.3           129    1   \n",
       "3                    0  210000.00               1.9           137    1   \n",
       "4                    0  327000.00               2.7           116    0   \n",
       "\n",
       "   smoking  time  DEATH_EVENT  \n",
       "0        0     4            1  \n",
       "1        0     6            1  \n",
       "2        1     7            1  \n",
       "3        0     7            1  \n",
       "4        0     8            1  "
      ]
     },
     "execution_count": 2,
     "metadata": {},
     "output_type": "execute_result"
    }
   ],
   "source": [
    "df=pd.read_csv(\"heart_failure_clinical_records_dataset.csv\")\n",
    "print(df.shape)\n",
    "df.head()"
   ]
  },
  {
   "cell_type": "markdown",
   "id": "c2b29d91",
   "metadata": {},
   "source": [
    "# Exploratory data analysis"
   ]
  },
  {
   "cell_type": "code",
   "execution_count": 3,
   "id": "e0ad89b2",
   "metadata": {},
   "outputs": [],
   "source": [
    "df1=df[df[\"DEATH_EVENT\"]==0]"
   ]
  },
  {
   "cell_type": "code",
   "execution_count": 4,
   "id": "90c20e2b",
   "metadata": {},
   "outputs": [],
   "source": [
    "df2=df[df[\"DEATH_EVENT\"]==1]"
   ]
  },
  {
   "cell_type": "code",
   "execution_count": 5,
   "id": "bb5fd337",
   "metadata": {},
   "outputs": [],
   "source": [
    "features=df.columns[:-1]"
   ]
  },
  {
   "cell_type": "code",
   "execution_count": 6,
   "id": "c27fd789",
   "metadata": {},
   "outputs": [
    {
     "data": {
      "image/png": "[encoded data removed]",
      "text/plain": [
       "<Figure size 864x576 with 12 Axes>"
      ]
     },
     "metadata": {
      "needs_background": "light"
     },
     "output_type": "display_data"
    }
   ],
   "source": [
    "fig, axs= plt.subplots(4,3, figsize=(12,8))\n",
    "\n",
    "\n",
    "for i in range(4):\n",
    "    for j in range(3):\n",
    "        k= 3*i+j\n",
    "        if k>=12: continue\n",
    "\n",
    "        feet= features[k]\n",
    "        \n",
    "        ax= axs[i,j]\n",
    "        ax.boxplot([df1[feet], df2[feet]]);\n",
    "        ax.set_title(feet)\n",
    "        ax.set_xticklabels(['survived', 'deceased'])\n",
    "plt.subplots_adjust(wspace=.25)\n",
    "plt.tight_layout()"
   ]
  },
  {
   "cell_type": "code",
   "execution_count": 7,
   "id": "980552b5",
   "metadata": {},
   "outputs": [],
   "source": [
    "attributes=df.columns[:-1]"
   ]
  },
  {
   "cell_type": "code",
   "execution_count": 8,
   "id": "0337d8b9",
   "metadata": {},
   "outputs": [
    {
     "name": "stdout",
     "output_type": "stream",
     "text": [
      "age:  0.2537285430880035\n",
      "anaemia:  0.06627009846028778\n",
      "creatinine_phosphokinase:  0.06272816025237475\n",
      "diabetes:  -0.0019428833442034674\n",
      "ejection_fraction:  -0.26860331239406177\n",
      "high_blood_pressure:  0.07935105769128531\n",
      "platelets:  -0.04913886798037429\n",
      "serum_creatinine:  0.29427756098414926\n",
      "serum_sodium:  -0.195203596416401\n",
      "sex:  -0.004316376319703094\n",
      "smoking:  -0.012623152709359603\n",
      "time:  -0.5269637792775768\n"
     ]
    }
   ],
   "source": [
    "for c in attributes:\n",
    "    corr= np.corrcoef(df[c], df[\"DEATH_EVENT\"])[0][1]\n",
    "    print(c + \": \", corr)"
   ]
  },
  {
   "cell_type": "markdown",
   "id": "5f5622c9",
   "metadata": {},
   "source": [
    "# Age and serum_creatinine are more correlated "
   ]
  },
  {
   "cell_type": "code",
   "execution_count": null,
   "id": "220f8223",
   "metadata": {},
   "outputs": [],
   "source": []
  },
  {
   "cell_type": "code",
   "execution_count": 9,
   "id": "48ab5aca",
   "metadata": {},
   "outputs": [
    {
     "data": {
      "text/plain": [
       "60.0    13\n",
       "65.0     8\n",
       "50.0     8\n",
       "70.0     7\n",
       "75.0     6\n",
       "Name: age, dtype: int64"
      ]
     },
     "execution_count": 9,
     "metadata": {},
     "output_type": "execute_result"
    }
   ],
   "source": [
    "df[df[\"DEATH_EVENT\"]==1][\"age\"].value_counts().head()"
   ]
  },
  {
   "cell_type": "code",
   "execution_count": 10,
   "id": "d3e91010",
   "metadata": {},
   "outputs": [
    {
     "data": {
      "image/png": "[encoded data removed]",
      "text/plain": [
       "<Figure size 432x288 with 1 Axes>"
      ]
     },
     "metadata": {
      "needs_background": "light"
     },
     "output_type": "display_data"
    }
   ],
   "source": [
    "sns.countplot(x=\"sex\", hue=\"DEATH_EVENT\", data=df);"
   ]
  },
  {
   "cell_type": "code",
   "execution_count": null,
   "id": "aa6a2d0d",
   "metadata": {},
   "outputs": [],
   "source": []
  },
  {
   "cell_type": "code",
   "execution_count": 11,
   "id": "9d59c2a0",
   "metadata": {},
   "outputs": [],
   "source": [
    "scaled_data= MinMaxScaler().fit_transform(df.drop(\"DEATH_EVENT\", axis=1))"
   ]
  },
  {
   "cell_type": "code",
   "execution_count": 12,
   "id": "c18ef4f5",
   "metadata": {},
   "outputs": [],
   "source": [
    "df1=pd.DataFrame(scaled_data, columns=df.columns[:-1])"
   ]
  },
  {
   "cell_type": "code",
   "execution_count": 13,
   "id": "d2f1b0eb",
   "metadata": {},
   "outputs": [
    {
     "data": {
      "text/html": [
       "<div>\n",
       "<style scoped>\n",
       "    .dataframe tbody tr th:only-of-type {\n",
       "        vertical-align: middle;\n",
       "    }\n",
       "\n",
       "    .dataframe tbody tr th {\n",
       "        vertical-align: top;\n",
       "    }\n",
       "\n",
       "    .dataframe thead th {\n",
       "        text-align: right;\n",
       "    }\n",
       "</style>\n",
       "<table border=\"1\" class=\"dataframe\">\n",
       "  <thead>\n",
       "    <tr style=\"text-align: right;\">\n",
       "      <th></th>\n",
       "      <th>age</th>\n",
       "      <th>anaemia</th>\n",
       "      <th>creatinine_phosphokinase</th>\n",
       "      <th>diabetes</th>\n",
       "      <th>ejection_fraction</th>\n",
       "      <th>high_blood_pressure</th>\n",
       "      <th>platelets</th>\n",
       "      <th>serum_creatinine</th>\n",
       "      <th>serum_sodium</th>\n",
       "      <th>sex</th>\n",
       "      <th>smoking</th>\n",
       "      <th>time</th>\n",
       "    </tr>\n",
       "  </thead>\n",
       "  <tbody>\n",
       "    <tr>\n",
       "      <th>0</th>\n",
       "      <td>0.636364</td>\n",
       "      <td>0.0</td>\n",
       "      <td>0.071319</td>\n",
       "      <td>0.0</td>\n",
       "      <td>0.090909</td>\n",
       "      <td>1.0</td>\n",
       "      <td>0.290823</td>\n",
       "      <td>0.157303</td>\n",
       "      <td>0.485714</td>\n",
       "      <td>1.0</td>\n",
       "      <td>0.0</td>\n",
       "      <td>0.000000</td>\n",
       "    </tr>\n",
       "    <tr>\n",
       "      <th>1</th>\n",
       "      <td>0.272727</td>\n",
       "      <td>0.0</td>\n",
       "      <td>1.000000</td>\n",
       "      <td>0.0</td>\n",
       "      <td>0.363636</td>\n",
       "      <td>0.0</td>\n",
       "      <td>0.288833</td>\n",
       "      <td>0.067416</td>\n",
       "      <td>0.657143</td>\n",
       "      <td>1.0</td>\n",
       "      <td>0.0</td>\n",
       "      <td>0.007117</td>\n",
       "    </tr>\n",
       "    <tr>\n",
       "      <th>2</th>\n",
       "      <td>0.454545</td>\n",
       "      <td>0.0</td>\n",
       "      <td>0.015693</td>\n",
       "      <td>0.0</td>\n",
       "      <td>0.090909</td>\n",
       "      <td>0.0</td>\n",
       "      <td>0.165960</td>\n",
       "      <td>0.089888</td>\n",
       "      <td>0.457143</td>\n",
       "      <td>1.0</td>\n",
       "      <td>1.0</td>\n",
       "      <td>0.010676</td>\n",
       "    </tr>\n",
       "    <tr>\n",
       "      <th>3</th>\n",
       "      <td>0.181818</td>\n",
       "      <td>1.0</td>\n",
       "      <td>0.011227</td>\n",
       "      <td>0.0</td>\n",
       "      <td>0.090909</td>\n",
       "      <td>0.0</td>\n",
       "      <td>0.224148</td>\n",
       "      <td>0.157303</td>\n",
       "      <td>0.685714</td>\n",
       "      <td>1.0</td>\n",
       "      <td>0.0</td>\n",
       "      <td>0.010676</td>\n",
       "    </tr>\n",
       "    <tr>\n",
       "      <th>4</th>\n",
       "      <td>0.454545</td>\n",
       "      <td>1.0</td>\n",
       "      <td>0.017479</td>\n",
       "      <td>1.0</td>\n",
       "      <td>0.090909</td>\n",
       "      <td>0.0</td>\n",
       "      <td>0.365984</td>\n",
       "      <td>0.247191</td>\n",
       "      <td>0.085714</td>\n",
       "      <td>0.0</td>\n",
       "      <td>0.0</td>\n",
       "      <td>0.014235</td>\n",
       "    </tr>\n",
       "  </tbody>\n",
       "</table>\n",
       "</div>"
      ],
      "text/plain": [
       "        age  anaemia  creatinine_phosphokinase  diabetes  ejection_fraction  \\\n",
       "0  0.636364      0.0                  0.071319       0.0           0.090909   \n",
       "1  0.272727      0.0                  1.000000       0.0           0.363636   \n",
       "2  0.454545      0.0                  0.015693       0.0           0.090909   \n",
       "3  0.181818      1.0                  0.011227       0.0           0.090909   \n",
       "4  0.454545      1.0                  0.017479       1.0           0.090909   \n",
       "\n",
       "   high_blood_pressure  platelets  serum_creatinine  serum_sodium  sex  \\\n",
       "0                  1.0   0.290823          0.157303      0.485714  1.0   \n",
       "1                  0.0   0.288833          0.067416      0.657143  1.0   \n",
       "2                  0.0   0.165960          0.089888      0.457143  1.0   \n",
       "3                  0.0   0.224148          0.157303      0.685714  1.0   \n",
       "4                  0.0   0.365984          0.247191      0.085714  0.0   \n",
       "\n",
       "   smoking      time  \n",
       "0      0.0  0.000000  \n",
       "1      0.0  0.007117  \n",
       "2      1.0  0.010676  \n",
       "3      0.0  0.010676  \n",
       "4      0.0  0.014235  "
      ]
     },
     "execution_count": 13,
     "metadata": {},
     "output_type": "execute_result"
    }
   ],
   "source": [
    "df1.head()"
   ]
  },
  {
   "cell_type": "code",
   "execution_count": null,
   "id": "f0b91f7a",
   "metadata": {},
   "outputs": [],
   "source": []
  },
  {
   "cell_type": "markdown",
   "id": "828a9cea",
   "metadata": {},
   "source": [
    "# Loogistic regression"
   ]
  },
  {
   "cell_type": "code",
   "execution_count": 14,
   "id": "a76c5634",
   "metadata": {},
   "outputs": [],
   "source": [
    "X= df1"
   ]
  },
  {
   "cell_type": "code",
   "execution_count": 15,
   "id": "6a1fd787",
   "metadata": {},
   "outputs": [],
   "source": [
    "y=df[\"DEATH_EVENT\"]"
   ]
  },
  {
   "cell_type": "code",
   "execution_count": 16,
   "id": "79e1c38f",
   "metadata": {},
   "outputs": [],
   "source": [
    "X_train, X_test, y_train, y_test = train_test_split(X, y, test_size=0.2, random_state=100)"
   ]
  },
  {
   "cell_type": "code",
   "execution_count": 17,
   "id": "7ace4191",
   "metadata": {},
   "outputs": [],
   "source": [
    "model= LogisticRegression()"
   ]
  },
  {
   "cell_type": "code",
   "execution_count": 18,
   "id": "5ecff009",
   "metadata": {},
   "outputs": [
    {
     "data": {
      "text/plain": [
       "LogisticRegression()"
      ]
     },
     "execution_count": 18,
     "metadata": {},
     "output_type": "execute_result"
    }
   ],
   "source": [
    "model.fit(X_train, y_train)"
   ]
  },
  {
   "cell_type": "code",
   "execution_count": 19,
   "id": "34159a3c",
   "metadata": {},
   "outputs": [
    {
     "data": {
      "text/plain": [
       "0.8493723849372385"
      ]
     },
     "execution_count": 19,
     "metadata": {},
     "output_type": "execute_result"
    }
   ],
   "source": [
    "model.score(X_train, y_train)"
   ]
  },
  {
   "cell_type": "code",
   "execution_count": 20,
   "id": "500fa115",
   "metadata": {},
   "outputs": [],
   "source": [
    "l_pred=model.predict(X_test)"
   ]
  },
  {
   "cell_type": "code",
   "execution_count": 21,
   "id": "fe4f7d0e",
   "metadata": {},
   "outputs": [
    {
     "name": "stdout",
     "output_type": "stream",
     "text": [
      "              precision    recall  f1-score   support\n",
      "\n",
      "           0       0.76      0.95      0.84        39\n",
      "           1       0.82      0.43      0.56        21\n",
      "\n",
      "    accuracy                           0.77        60\n",
      "   macro avg       0.79      0.69      0.70        60\n",
      "weighted avg       0.78      0.77      0.74        60\n",
      "\n"
     ]
    }
   ],
   "source": [
    "\n",
    "\n",
    "print(classification_report(y_test, l_pred))"
   ]
  },
  {
   "cell_type": "code",
   "execution_count": null,
   "id": "6c175f21",
   "metadata": {},
   "outputs": [],
   "source": []
  },
  {
   "cell_type": "markdown",
   "id": "8deaae9e",
   "metadata": {},
   "source": [
    "# KNN"
   ]
  },
  {
   "cell_type": "code",
   "execution_count": 22,
   "id": "6496c6f4",
   "metadata": {},
   "outputs": [],
   "source": [
    "X_train, X_test, y_train, y_test = train_test_split(X, y, test_size=0.2, random_state=100)"
   ]
  },
  {
   "cell_type": "code",
   "execution_count": 23,
   "id": "74f2b47a",
   "metadata": {},
   "outputs": [],
   "source": [
    "model2= KNeighborsClassifier(n_neighbors=2)"
   ]
  },
  {
   "cell_type": "code",
   "execution_count": 24,
   "id": "5bedf6ca",
   "metadata": {},
   "outputs": [
    {
     "data": {
      "text/plain": [
       "KNeighborsClassifier(n_neighbors=2)"
      ]
     },
     "execution_count": 24,
     "metadata": {},
     "output_type": "execute_result"
    }
   ],
   "source": [
    "model2.fit(X_train, y_train)"
   ]
  },
  {
   "cell_type": "code",
   "execution_count": 25,
   "id": "b683758d",
   "metadata": {},
   "outputs": [
    {
     "data": {
      "text/plain": [
       "0.8075313807531381"
      ]
     },
     "execution_count": 25,
     "metadata": {},
     "output_type": "execute_result"
    }
   ],
   "source": [
    "model2.score(X_train, y_train)"
   ]
  },
  {
   "cell_type": "code",
   "execution_count": 26,
   "id": "1c73fc92",
   "metadata": {},
   "outputs": [],
   "source": [
    "k_pred=model2.predict(X_test)"
   ]
  },
  {
   "cell_type": "code",
   "execution_count": 27,
   "id": "63346ada",
   "metadata": {},
   "outputs": [
    {
     "name": "stdout",
     "output_type": "stream",
     "text": [
      "              precision    recall  f1-score   support\n",
      "\n",
      "           0       0.67      1.00      0.80        39\n",
      "           1       1.00      0.10      0.17        21\n",
      "\n",
      "    accuracy                           0.68        60\n",
      "   macro avg       0.84      0.55      0.49        60\n",
      "weighted avg       0.79      0.68      0.58        60\n",
      "\n"
     ]
    }
   ],
   "source": [
    "print(classification_report(y_test, k_pred))"
   ]
  },
  {
   "cell_type": "markdown",
   "id": "d007a641",
   "metadata": {},
   "source": [
    "# Parameter tunning"
   ]
  },
  {
   "cell_type": "code",
   "execution_count": 28,
   "id": "f6f1b8ec",
   "metadata": {},
   "outputs": [],
   "source": [
    "sse=[]\n",
    "\n",
    "for i in range(1,40):\n",
    "    model2= KNeighborsClassifier(n_neighbors=i)\n",
    "    model2.fit(X_train, y_train)\n",
    "    k_pred=model2.predict(X_test)\n",
    "    sse.append(np.mean(k_pred!= y_test))"
   ]
  },
  {
   "cell_type": "code",
   "execution_count": 29,
   "id": "3f09c586",
   "metadata": {},
   "outputs": [
    {
     "data": {
      "text/plain": [
       "[<matplotlib.lines.Line2D at 0x1bd2e669970>]"
      ]
     },
     "execution_count": 29,
     "metadata": {},
     "output_type": "execute_result"
    },
    {
     "data": {
      "image/png": "[encoded data removed]",
      "text/plain": [
       "<Figure size 432x288 with 1 Axes>"
      ]
     },
     "metadata": {
      "needs_background": "light"
     },
     "output_type": "display_data"
    }
   ],
   "source": [
    "plt.plot(range(1,40), sse, marker=\"o\", markerfacecolor=\"red\")"
   ]
  },
  {
   "cell_type": "code",
   "execution_count": 30,
   "id": "c2dec2f3",
   "metadata": {},
   "outputs": [],
   "source": [
    "model2= KNeighborsClassifier(n_neighbors=11)\n",
    "model2.fit(X_train, y_train)\n",
    "k_pred=model2.predict(X_test)"
   ]
  },
  {
   "cell_type": "code",
   "execution_count": 31,
   "id": "8603a91b",
   "metadata": {},
   "outputs": [
    {
     "name": "stdout",
     "output_type": "stream",
     "text": [
      "              precision    recall  f1-score   support\n",
      "\n",
      "           0       0.74      1.00      0.85        39\n",
      "           1       1.00      0.33      0.50        21\n",
      "\n",
      "    accuracy                           0.77        60\n",
      "   macro avg       0.87      0.67      0.67        60\n",
      "weighted avg       0.83      0.77      0.73        60\n",
      "\n"
     ]
    }
   ],
   "source": [
    "print(classification_report(y_test, k_pred))"
   ]
  },
  {
   "cell_type": "code",
   "execution_count": null,
   "id": "41b83321",
   "metadata": {},
   "outputs": [],
   "source": []
  },
  {
   "cell_type": "markdown",
   "id": "a280553f",
   "metadata": {},
   "source": [
    "# Decision Tree"
   ]
  },
  {
   "cell_type": "code",
   "execution_count": 32,
   "id": "fcc0fb49",
   "metadata": {},
   "outputs": [],
   "source": [
    "X_train, X_test, y_train, y_test = train_test_split(X, y, test_size=0.2, random_state=100)"
   ]
  },
  {
   "cell_type": "code",
   "execution_count": 33,
   "id": "f26c0785",
   "metadata": {},
   "outputs": [],
   "source": [
    "model3=DecisionTreeClassifier()"
   ]
  },
  {
   "cell_type": "code",
   "execution_count": 34,
   "id": "81ee9ba8",
   "metadata": {},
   "outputs": [
    {
     "data": {
      "text/plain": [
       "DecisionTreeClassifier()"
      ]
     },
     "execution_count": 34,
     "metadata": {},
     "output_type": "execute_result"
    }
   ],
   "source": [
    "model3.fit(X_train, y_train)"
   ]
  },
  {
   "cell_type": "code",
   "execution_count": 35,
   "id": "ed5f8a5f",
   "metadata": {},
   "outputs": [
    {
     "data": {
      "text/plain": [
       "1.0"
      ]
     },
     "execution_count": 35,
     "metadata": {},
     "output_type": "execute_result"
    }
   ],
   "source": [
    "model3.score(X_train, y_train)"
   ]
  },
  {
   "cell_type": "code",
   "execution_count": 36,
   "id": "85765b53",
   "metadata": {},
   "outputs": [],
   "source": [
    "d_pred= model3.predict(X_test)"
   ]
  },
  {
   "cell_type": "code",
   "execution_count": 37,
   "id": "d8a1fe1f",
   "metadata": {},
   "outputs": [
    {
     "name": "stdout",
     "output_type": "stream",
     "text": [
      "              precision    recall  f1-score   support\n",
      "\n",
      "           0       0.73      0.85      0.79        39\n",
      "           1       0.60      0.43      0.50        21\n",
      "\n",
      "    accuracy                           0.70        60\n",
      "   macro avg       0.67      0.64      0.64        60\n",
      "weighted avg       0.69      0.70      0.69        60\n",
      "\n"
     ]
    }
   ],
   "source": [
    "print(classification_report(y_test, d_pred))"
   ]
  },
  {
   "cell_type": "code",
   "execution_count": null,
   "id": "5a9e1ebe",
   "metadata": {},
   "outputs": [],
   "source": []
  },
  {
   "cell_type": "markdown",
   "id": "ff048030",
   "metadata": {},
   "source": [
    "# Random forest"
   ]
  },
  {
   "cell_type": "code",
   "execution_count": 38,
   "id": "44248768",
   "metadata": {},
   "outputs": [],
   "source": [
    "X_train, X_test, y_train, y_test = train_test_split(X, y, test_size=0.2, random_state=100)"
   ]
  },
  {
   "cell_type": "code",
   "execution_count": 39,
   "id": "5aea9244",
   "metadata": {},
   "outputs": [],
   "source": [
    "model4=RandomForestClassifier(n_estimators=100, max_depth=10)"
   ]
  },
  {
   "cell_type": "code",
   "execution_count": 40,
   "id": "d1879124",
   "metadata": {},
   "outputs": [
    {
     "data": {
      "text/plain": [
       "RandomForestClassifier(max_depth=10)"
      ]
     },
     "execution_count": 40,
     "metadata": {},
     "output_type": "execute_result"
    }
   ],
   "source": [
    "model4.fit(X_train, y_train)"
   ]
  },
  {
   "cell_type": "code",
   "execution_count": 41,
   "id": "1ed2dbd9",
   "metadata": {},
   "outputs": [
    {
     "data": {
      "text/plain": [
       "1.0"
      ]
     },
     "execution_count": 41,
     "metadata": {},
     "output_type": "execute_result"
    }
   ],
   "source": [
    "model4.score(X_train, y_train)"
   ]
  },
  {
   "cell_type": "code",
   "execution_count": 42,
   "id": "0f015e50",
   "metadata": {},
   "outputs": [],
   "source": [
    "f_pred=model4.predict(X_test)"
   ]
  },
  {
   "cell_type": "code",
   "execution_count": 43,
   "id": "1e8a73d0",
   "metadata": {},
   "outputs": [
    {
     "name": "stdout",
     "output_type": "stream",
     "text": [
      "              precision    recall  f1-score   support\n",
      "\n",
      "           0       0.80      0.92      0.86        39\n",
      "           1       0.80      0.57      0.67        21\n",
      "\n",
      "    accuracy                           0.80        60\n",
      "   macro avg       0.80      0.75      0.76        60\n",
      "weighted avg       0.80      0.80      0.79        60\n",
      "\n"
     ]
    }
   ],
   "source": [
    "print(classification_report(y_test, f_pred))"
   ]
  },
  {
   "cell_type": "code",
   "execution_count": null,
   "id": "7c00675d",
   "metadata": {},
   "outputs": [],
   "source": []
  },
  {
   "cell_type": "markdown",
   "id": "a2dcb0d7",
   "metadata": {},
   "source": [
    "# Support vector machine"
   ]
  },
  {
   "cell_type": "code",
   "execution_count": 44,
   "id": "b59f6cde",
   "metadata": {},
   "outputs": [],
   "source": [
    "X_train, X_test, y_train, y_test = train_test_split(X, y, test_size=0.2, random_state=100)"
   ]
  },
  {
   "cell_type": "code",
   "execution_count": 45,
   "id": "af3dd266",
   "metadata": {},
   "outputs": [],
   "source": [
    "model5=SVC()"
   ]
  },
  {
   "cell_type": "code",
   "execution_count": 46,
   "id": "0adc1eb5",
   "metadata": {},
   "outputs": [
    {
     "data": {
      "text/plain": [
       "SVC()"
      ]
     },
     "execution_count": 46,
     "metadata": {},
     "output_type": "execute_result"
    }
   ],
   "source": [
    "model5.fit(X_train, y_train)"
   ]
  },
  {
   "cell_type": "code",
   "execution_count": 47,
   "id": "fb750a92",
   "metadata": {},
   "outputs": [
    {
     "data": {
      "text/plain": [
       "0.8702928870292888"
      ]
     },
     "execution_count": 47,
     "metadata": {},
     "output_type": "execute_result"
    }
   ],
   "source": [
    "model5.score(X_train, y_train)"
   ]
  },
  {
   "cell_type": "code",
   "execution_count": 48,
   "id": "fff7d337",
   "metadata": {},
   "outputs": [],
   "source": [
    "s_pred=model5.predict(X_test)"
   ]
  },
  {
   "cell_type": "code",
   "execution_count": 49,
   "id": "c482aec5",
   "metadata": {},
   "outputs": [
    {
     "name": "stdout",
     "output_type": "stream",
     "text": [
      "              precision    recall  f1-score   support\n",
      "\n",
      "           0       0.76      0.95      0.84        39\n",
      "           1       0.82      0.43      0.56        21\n",
      "\n",
      "    accuracy                           0.77        60\n",
      "   macro avg       0.79      0.69      0.70        60\n",
      "weighted avg       0.78      0.77      0.74        60\n",
      "\n"
     ]
    }
   ],
   "source": [
    "print(classification_report(y_test, s_pred))"
   ]
  },
  {
   "cell_type": "code",
   "execution_count": null,
   "id": "20001e7c",
   "metadata": {},
   "outputs": [],
   "source": []
  },
  {
   "cell_type": "markdown",
   "id": "59eb112f",
   "metadata": {},
   "source": [
    "# hyper parameter tunning"
   ]
  },
  {
   "cell_type": "code",
   "execution_count": 50,
   "id": "8000ac96",
   "metadata": {},
   "outputs": [],
   "source": [
    "from sklearn.model_selection import GridSearchCV"
   ]
  },
  {
   "cell_type": "code",
   "execution_count": 51,
   "id": "a63fc3d2",
   "metadata": {},
   "outputs": [],
   "source": [
    "param_grid={\"C\":[1,10,100,100], \"gamma\":[0.1,0.01,0.001,0.0001]}"
   ]
  },
  {
   "cell_type": "code",
   "execution_count": 52,
   "id": "41a50093",
   "metadata": {},
   "outputs": [],
   "source": [
    "grid=GridSearchCV(SVC(), param_grid, verbose=2)"
   ]
  },
  {
   "cell_type": "code",
   "execution_count": 53,
   "id": "dd2db25c",
   "metadata": {},
   "outputs": [
    {
     "name": "stdout",
     "output_type": "stream",
     "text": [
      "Fitting 5 folds for each of 16 candidates, totalling 80 fits\n",
      "[CV] END .....................................C=1, gamma=0.1; total time=   0.0s\n",
      "[CV] END .....................................C=1, gamma=0.1; total time=   0.0s\n",
      "[CV] END .....................................C=1, gamma=0.1; total time=   0.0s\n",
      "[CV] END .....................................C=1, gamma=0.1; total time=   0.0s\n",
      "[CV] END .....................................C=1, gamma=0.1; total time=   0.0s\n",
      "[CV] END ....................................C=1, gamma=0.01; total time=   0.0s\n",
      "[CV] END ....................................C=1, gamma=0.01; total time=   0.0s\n",
      "[CV] END ....................................C=1, gamma=0.01; total time=   0.0s\n",
      "[CV] END ....................................C=1, gamma=0.01; total time=   0.0s\n",
      "[CV] END ....................................C=1, gamma=0.01; total time=   0.0s\n",
      "[CV] END ...................................C=1, gamma=0.001; total time=   0.0s\n",
      "[CV] END ...................................C=1, gamma=0.001; total time=   0.0s\n",
      "[CV] END ...................................C=1, gamma=0.001; total time=   0.0s\n",
      "[CV] END ...................................C=1, gamma=0.001; total time=   0.0s\n",
      "[CV] END ...................................C=1, gamma=0.001; total time=   0.0s\n",
      "[CV] END ..................................C=1, gamma=0.0001; total time=   0.0s\n",
      "[CV] END ..................................C=1, gamma=0.0001; total time=   0.0s\n",
      "[CV] END ..................................C=1, gamma=0.0001; total time=   0.0s\n",
      "[CV] END ..................................C=1, gamma=0.0001; total time=   0.0s\n",
      "[CV] END ..................................C=1, gamma=0.0001; total time=   0.0s\n",
      "[CV] END ....................................C=10, gamma=0.1; total time=   0.0s\n",
      "[CV] END ....................................C=10, gamma=0.1; total time=   0.0s\n",
      "[CV] END ....................................C=10, gamma=0.1; total time=   0.0s\n",
      "[CV] END ....................................C=10, gamma=0.1; total time=   0.0s\n",
      "[CV] END ....................................C=10, gamma=0.1; total time=   0.0s\n",
      "[CV] END ...................................C=10, gamma=0.01; total time=   0.0s\n",
      "[CV] END ...................................C=10, gamma=0.01; total time=   0.0s\n",
      "[CV] END ...................................C=10, gamma=0.01; total time=   0.0s\n",
      "[CV] END ...................................C=10, gamma=0.01; total time=   0.0s\n",
      "[CV] END ...................................C=10, gamma=0.01; total time=   0.0s\n",
      "[CV] END ..................................C=10, gamma=0.001; total time=   0.0s\n",
      "[CV] END ..................................C=10, gamma=0.001; total time=   0.0s\n",
      "[CV] END ..................................C=10, gamma=0.001; total time=   0.0s\n",
      "[CV] END ..................................C=10, gamma=0.001; total time=   0.0s\n",
      "[CV] END ..................................C=10, gamma=0.001; total time=   0.0s\n",
      "[CV] END .................................C=10, gamma=0.0001; total time=   0.0s\n",
      "[CV] END .................................C=10, gamma=0.0001; total time=   0.0s\n",
      "[CV] END .................................C=10, gamma=0.0001; total time=   0.0s\n",
      "[CV] END .................................C=10, gamma=0.0001; total time=   0.0s\n",
      "[CV] END .................................C=10, gamma=0.0001; total time=   0.0s\n",
      "[CV] END ...................................C=100, gamma=0.1; total time=   0.0s\n",
      "[CV] END ...................................C=100, gamma=0.1; total time=   0.0s\n",
      "[CV] END ...................................C=100, gamma=0.1; total time=   0.0s\n",
      "[CV] END ...................................C=100, gamma=0.1; total time=   0.0s\n",
      "[CV] END ...................................C=100, gamma=0.1; total time=   0.0s\n",
      "[CV] END ..................................C=100, gamma=0.01; total time=   0.0s\n",
      "[CV] END ..................................C=100, gamma=0.01; total time=   0.0s\n",
      "[CV] END ..................................C=100, gamma=0.01; total time=   0.0s\n",
      "[CV] END ..................................C=100, gamma=0.01; total time=   0.0s\n",
      "[CV] END ..................................C=100, gamma=0.01; total time=   0.0s\n",
      "[CV] END .................................C=100, gamma=0.001; total time=   0.0s\n",
      "[CV] END .................................C=100, gamma=0.001; total time=   0.0s\n",
      "[CV] END .................................C=100, gamma=0.001; total time=   0.0s\n",
      "[CV] END .................................C=100, gamma=0.001; total time=   0.0s\n",
      "[CV] END .................................C=100, gamma=0.001; total time=   0.0s\n",
      "[CV] END ................................C=100, gamma=0.0001; total time=   0.0s\n",
      "[CV] END ................................C=100, gamma=0.0001; total time=   0.0s\n",
      "[CV] END ................................C=100, gamma=0.0001; total time=   0.0s\n",
      "[CV] END ................................C=100, gamma=0.0001; total time=   0.0s\n",
      "[CV] END ................................C=100, gamma=0.0001; total time=   0.0s\n",
      "[CV] END ...................................C=100, gamma=0.1; total time=   0.0s\n",
      "[CV] END ...................................C=100, gamma=0.1; total time=   0.0s\n",
      "[CV] END ...................................C=100, gamma=0.1; total time=   0.0s\n",
      "[CV] END ...................................C=100, gamma=0.1; total time=   0.0s\n",
      "[CV] END ...................................C=100, gamma=0.1; total time=   0.0s\n",
      "[CV] END ..................................C=100, gamma=0.01; total time=   0.0s\n",
      "[CV] END ..................................C=100, gamma=0.01; total time=   0.0s\n",
      "[CV] END ..................................C=100, gamma=0.01; total time=   0.0s\n",
      "[CV] END ..................................C=100, gamma=0.01; total time=   0.0s\n",
      "[CV] END ..................................C=100, gamma=0.01; total time=   0.0s\n",
      "[CV] END .................................C=100, gamma=0.001; total time=   0.0s\n",
      "[CV] END .................................C=100, gamma=0.001; total time=   0.0s\n",
      "[CV] END .................................C=100, gamma=0.001; total time=   0.0s\n",
      "[CV] END .................................C=100, gamma=0.001; total time=   0.0s\n",
      "[CV] END .................................C=100, gamma=0.001; total time=   0.0s\n",
      "[CV] END ................................C=100, gamma=0.0001; total time=   0.0s\n",
      "[CV] END ................................C=100, gamma=0.0001; total time=   0.0s\n",
      "[CV] END ................................C=100, gamma=0.0001; total time=   0.0s\n",
      "[CV] END ................................C=100, gamma=0.0001; total time=   0.0s\n",
      "[CV] END ................................C=100, gamma=0.0001; total time=   0.0s\n"
     ]
    },
    {
     "data": {
      "text/plain": [
       "GridSearchCV(estimator=SVC(),\n",
       "             param_grid={'C': [1, 10, 100, 100],\n",
       "                         'gamma': [0.1, 0.01, 0.001, 0.0001]},\n",
       "             verbose=2)"
      ]
     },
     "execution_count": 53,
     "metadata": {},
     "output_type": "execute_result"
    }
   ],
   "source": [
    "grid.fit(X_train, y_train)"
   ]
  },
  {
   "cell_type": "code",
   "execution_count": 54,
   "id": "f3bb5c95",
   "metadata": {},
   "outputs": [
    {
     "data": {
      "text/plain": [
       "SVC(C=100, gamma=0.01)"
      ]
     },
     "execution_count": 54,
     "metadata": {},
     "output_type": "execute_result"
    }
   ],
   "source": [
    "grid.best_estimator_"
   ]
  },
  {
   "cell_type": "code",
   "execution_count": 55,
   "id": "9ad854a3",
   "metadata": {},
   "outputs": [],
   "source": [
    "model5=SVC(C=100, gamma=0.001)\n",
    "model5.fit(X_train, y_train)\n",
    "s_pred=model5.predict(X_test)"
   ]
  },
  {
   "cell_type": "code",
   "execution_count": 56,
   "id": "a902705f",
   "metadata": {},
   "outputs": [
    {
     "name": "stdout",
     "output_type": "stream",
     "text": [
      "              precision    recall  f1-score   support\n",
      "\n",
      "           0       0.75      1.00      0.86        39\n",
      "           1       1.00      0.38      0.55        21\n",
      "\n",
      "    accuracy                           0.78        60\n",
      "   macro avg       0.88      0.69      0.70        60\n",
      "weighted avg       0.84      0.78      0.75        60\n",
      "\n"
     ]
    }
   ],
   "source": [
    "print(classification_report(y_test, s_pred))"
   ]
  },
  {
   "cell_type": "code",
   "execution_count": null,
   "id": "6af75ea1",
   "metadata": {},
   "outputs": [],
   "source": []
  },
  {
   "cell_type": "markdown",
   "id": "e06fad17",
   "metadata": {},
   "source": [
    "# Naive-bayes"
   ]
  },
  {
   "cell_type": "code",
   "execution_count": 57,
   "id": "316714a3",
   "metadata": {},
   "outputs": [],
   "source": [
    "X_train, X_test, y_train, y_test = train_test_split(X, y, test_size=0.2, random_state=100)"
   ]
  },
  {
   "cell_type": "code",
   "execution_count": 58,
   "id": "86bc2461",
   "metadata": {},
   "outputs": [],
   "source": [
    "model6=GaussianNB()"
   ]
  },
  {
   "cell_type": "code",
   "execution_count": 59,
   "id": "f80dc833",
   "metadata": {},
   "outputs": [
    {
     "data": {
      "text/plain": [
       "GaussianNB()"
      ]
     },
     "execution_count": 59,
     "metadata": {},
     "output_type": "execute_result"
    }
   ],
   "source": [
    "model6.fit(X_train, y_train)"
   ]
  },
  {
   "cell_type": "code",
   "execution_count": 60,
   "id": "9d85db07",
   "metadata": {},
   "outputs": [
    {
     "data": {
      "text/plain": [
       "0.799163179916318"
      ]
     },
     "execution_count": 60,
     "metadata": {},
     "output_type": "execute_result"
    }
   ],
   "source": [
    "model6.score(X_train, y_train)"
   ]
  },
  {
   "cell_type": "code",
   "execution_count": 61,
   "id": "cb88cbc2",
   "metadata": {},
   "outputs": [],
   "source": [
    "g_pred=model6.predict(X_test)"
   ]
  },
  {
   "cell_type": "code",
   "execution_count": 62,
   "id": "be529e75",
   "metadata": {},
   "outputs": [
    {
     "name": "stdout",
     "output_type": "stream",
     "text": [
      "              precision    recall  f1-score   support\n",
      "\n",
      "           0       0.73      0.85      0.79        39\n",
      "           1       0.60      0.43      0.50        21\n",
      "\n",
      "    accuracy                           0.70        60\n",
      "   macro avg       0.67      0.64      0.64        60\n",
      "weighted avg       0.69      0.70      0.69        60\n",
      "\n"
     ]
    }
   ],
   "source": [
    "print(classification_report(y_test, g_pred))"
   ]
  },
  {
   "cell_type": "code",
   "execution_count": null,
   "id": "b651817f",
   "metadata": {},
   "outputs": [],
   "source": []
  },
  {
   "cell_type": "markdown",
   "id": "224338e5",
   "metadata": {},
   "source": [
    "# from my observation Random forest did better than all the algprithms because it has better recall score than the rest, all the remaining did okay but has bad recall score"
   ]
  },
  {
   "cell_type": "code",
   "execution_count": null,
   "id": "01982df2",
   "metadata": {},
   "outputs": [],
   "source": []
  }
 ],
 "metadata": {
  "kernelspec": {
   "display_name": "Python 3 (ipykernel)",
   "language": "python",
   "name": "python3"
  },
  "language_info": {
   "codemirror_mode": {
    "name": "ipython",
    "version": 3
   },
   "file_extension": ".py",
   "mimetype": "text/x-python",
   "name": "python",
   "nbconvert_exporter": "python",
   "pygments_lexer": "ipython3",
   "version": "3.9.12"
  }
 },
 "nbformat": 4,
 "nbformat_minor": 5
}
