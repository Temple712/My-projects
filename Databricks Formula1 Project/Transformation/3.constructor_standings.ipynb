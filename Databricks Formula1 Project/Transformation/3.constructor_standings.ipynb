{
 "cells": [
  {
   "cell_type": "code",
   "execution_count": 0,
   "metadata": {
    "application/vnd.databricks.v1+cell": {
     "cellMetadata": {
      "byteLimit": 2048000,
      "rowLimit": 10000
     },
     "inputWidgets": {},
     "nuid": "5b02389e-2f68-4d0a-85c6-9cb948d24181",
     "showTitle": false,
     "tableResultSettingsMap": {},
     "title": ""
    }
   },
   "outputs": [],
   "source": [
    "dbutils.widgets.text(\"p_file_date\", \"\")\n",
    "v_file_date = dbutils.widgets.get(\"p_file_date\")"
   ]
  },
  {
   "cell_type": "code",
   "execution_count": 0,
   "metadata": {
    "application/vnd.databricks.v1+cell": {
     "cellMetadata": {
      "byteLimit": 2048000,
      "rowLimit": 10000
     },
     "inputWidgets": {},
     "nuid": "50243214-5bfd-4014-bc5f-d937957191b3",
     "showTitle": false,
     "tableResultSettingsMap": {},
     "title": ""
    }
   },
   "outputs": [],
   "source": [
    "%run \"../Includes/configuration\""
   ]
  },
  {
   "cell_type": "code",
   "execution_count": 0,
   "metadata": {
    "application/vnd.databricks.v1+cell": {
     "cellMetadata": {
      "byteLimit": 2048000,
      "rowLimit": 10000
     },
     "inputWidgets": {},
     "nuid": "da1bc7a8-649c-4c3c-b04b-f1f6ccf364c1",
     "showTitle": false,
     "tableResultSettingsMap": {},
     "title": ""
    }
   },
   "outputs": [],
   "source": [
    "%run \"../Includes/common_functions\""
   ]
  },
  {
   "cell_type": "code",
   "execution_count": 0,
   "metadata": {
    "application/vnd.databricks.v1+cell": {
     "cellMetadata": {
      "byteLimit": 2048000,
      "rowLimit": 10000
     },
     "inputWidgets": {},
     "nuid": "efd3d625-4079-4180-83d2-a9c3f8a4161e",
     "showTitle": false,
     "tableResultSettingsMap": {},
     "title": ""
    }
   },
   "outputs": [],
   "source": [
    "race_results_list = spark.read\\\n",
    "    .format(\"delta\").load((f\"{presentation_folder_path}/race_results\"))\\\n",
    "    .withColumnRenamed(\"result_file_date\", \"file_date\")\\\n",
    "    .filter(f\"file_date = '{v_file_date}'\")\\\n",
    "    .select(\"race_year\")\\\n",
    "    .distinct()\\\n",
    "    .collect()"
   ]
  },
  {
   "cell_type": "code",
   "execution_count": 0,
   "metadata": {
    "application/vnd.databricks.v1+cell": {
     "cellMetadata": {
      "byteLimit": 2048000,
      "rowLimit": 10000
     },
     "inputWidgets": {},
     "nuid": "a5ed51f7-d867-48c0-8301-5663871d04b9",
     "showTitle": false,
     "tableResultSettingsMap": {},
     "title": ""
    }
   },
   "outputs": [],
   "source": [
    "race_year_list = []\n",
    "\n",
    "for race_year in race_results_list:\n",
    "    race_year_list.append(race_year.race_year)"
   ]
  },
  {
   "cell_type": "code",
   "execution_count": 0,
   "metadata": {
    "application/vnd.databricks.v1+cell": {
     "cellMetadata": {
      "byteLimit": 2048000,
      "rowLimit": 10000
     },
     "inputWidgets": {},
     "nuid": "d4520597-009b-4bc0-8d74-036a33dcd28b",
     "showTitle": false,
     "tableResultSettingsMap": {},
     "title": ""
    }
   },
   "outputs": [],
   "source": [
    "df = spark.read\\\n",
    "     .format(\"delta\").load((f\"{presentation_folder_path}/race_results\"))\\\n",
    "     .filter(col(\"race_year\").isin(race_year_list))"
   ]
  },
  {
   "cell_type": "code",
   "execution_count": 0,
   "metadata": {
    "application/vnd.databricks.v1+cell": {
     "cellMetadata": {
      "byteLimit": 2048000,
      "rowLimit": 10000
     },
     "inputWidgets": {},
     "nuid": "ba38336b-06f8-4c9c-9b69-e42413984088",
     "showTitle": false,
     "tableResultSettingsMap": {},
     "title": ""
    }
   },
   "outputs": [],
   "source": [
    "constructor_standings_df = df\\\n",
    "    .groupBy(\"race_year\", \"team\")\\\n",
    "        .agg(sum(\"points\").alias(\"total_points\"),\n",
    "                 count(when(col(\"position\") == 1, True)).alias(\"wins\"))"
   ]
  },
  {
   "cell_type": "code",
   "execution_count": 0,
   "metadata": {
    "application/vnd.databricks.v1+cell": {
     "cellMetadata": {
      "byteLimit": 2048000,
      "rowLimit": 10000
     },
     "inputWidgets": {},
     "nuid": "45ae18bb-8087-4a59-a4f8-99833f8d1314",
     "showTitle": false,
     "tableResultSettingsMap": {},
     "title": ""
    }
   },
   "outputs": [],
   "source": [
    "window_spec = Window.partitionBy(\"race_year\").orderBy(col(\"total_points\").desc(), col(\"wins\").desc())"
   ]
  },
  {
   "cell_type": "code",
   "execution_count": 0,
   "metadata": {
    "application/vnd.databricks.v1+cell": {
     "cellMetadata": {
      "byteLimit": 2048000,
      "rowLimit": 10000
     },
     "inputWidgets": {},
     "nuid": "ef7772cd-f615-4730-b260-cab42fcbff66",
     "showTitle": false,
     "tableResultSettingsMap": {},
     "title": ""
    }
   },
   "outputs": [],
   "source": [
    "df_final = constructor_standings_df.withColumn(\"rank\", rank().over(window_spec))\n"
   ]
  },
  {
   "cell_type": "code",
   "execution_count": 0,
   "metadata": {
    "application/vnd.databricks.v1+cell": {
     "cellMetadata": {
      "byteLimit": 2048000,
      "rowLimit": 10000
     },
     "inputWidgets": {},
     "nuid": "56a00d86-6d17-4cc3-9220-439589801c35",
     "showTitle": false,
     "tableResultSettingsMap": {},
     "title": ""
    }
   },
   "outputs": [],
   "source": [
    "#overwrite_partition(df_final, \"f1_presentation\", \"constructor_standings\", \"race_year\")"
   ]
  },
  {
   "cell_type": "code",
   "execution_count": 0,
   "metadata": {
    "application/vnd.databricks.v1+cell": {
     "cellMetadata": {
      "byteLimit": 2048000,
      "rowLimit": 10000
     },
     "inputWidgets": {},
     "nuid": "09590cd4-efda-408c-a244-a839f389ea51",
     "showTitle": false,
     "tableResultSettingsMap": {},
     "title": ""
    }
   },
   "outputs": [],
   "source": [
    "merge_condition = \"tgt.team = src.team AND tgt.race_year = src.race_year\"\n",
    "merge_delta_data(df_final, \"f1_presentation\", \"constructor_standings\", presentation_folder_path, merge_condition, \"race_year\")"
   ]
  },
  {
   "cell_type": "code",
   "execution_count": 0,
   "metadata": {
    "application/vnd.databricks.v1+cell": {
     "cellMetadata": {
      "byteLimit": 2048000,
      "implicitDf": true,
      "rowLimit": 10000
     },
     "inputWidgets": {},
     "nuid": "5379d551-8f93-4ac3-89bc-67ffec7c385f",
     "showTitle": false,
     "tableResultSettingsMap": {},
     "title": ""
    }
   },
   "outputs": [
    {
     "output_type": "display_data",
     "data": {
      "text/html": [
       "<style scoped>\n",
       "  .table-result-container {\n",
       "    max-height: 300px;\n",
       "    overflow: auto;\n",
       "  }\n",
       "  table, th, td {\n",
       "    border: 1px solid black;\n",
       "    border-collapse: collapse;\n",
       "  }\n",
       "  th, td {\n",
       "    padding: 5px;\n",
       "  }\n",
       "  th {\n",
       "    text-align: left;\n",
       "  }\n",
       "</style><div class='table-result-container'><table class='table-result'><thead style='background-color: white'><tr><th>race_year</th><th>team</th><th>total_points</th><th>wins</th><th>rank</th></tr></thead><tbody><tr><td>2020</td><td>Mercedes</td><td>573.0</td><td>13</td><td>1</td></tr><tr><td>2020</td><td>Red Bull</td><td>319.0</td><td>2</td><td>2</td></tr><tr><td>2020</td><td>Racing Point</td><td>210.0</td><td>1</td><td>3</td></tr><tr><td>2020</td><td>AlphaTauri</td><td>107.0</td><td>1</td><td>7</td></tr><tr><td>2020</td><td>Alfa Romeo</td><td>8.0</td><td>0</td><td>8</td></tr><tr><td>2020</td><td>Renault</td><td>181.0</td><td>0</td><td>5</td></tr><tr><td>2020</td><td>Ferrari</td><td>131.0</td><td>0</td><td>6</td></tr><tr><td>2020</td><td>McLaren</td><td>202.0</td><td>0</td><td>4</td></tr><tr><td>2020</td><td>Haas F1 Team</td><td>3.0</td><td>0</td><td>9</td></tr><tr><td>2020</td><td>Williams</td><td>0.0</td><td>0</td><td>10</td></tr></tbody></table></div>"
      ]
     },
     "metadata": {
      "application/vnd.databricks.v1+output": {
       "addedWidgets": {},
       "aggData": [],
       "aggError": "",
       "aggOverflow": false,
       "aggSchema": [],
       "aggSeriesLimitReached": false,
       "aggType": "",
       "arguments": {},
       "columnCustomDisplayInfos": {},
       "data": [
        [
         2020,
         "Mercedes",
         573.0,
         13,
         1
        ],
        [
         2020,
         "Red Bull",
         319.0,
         2,
         2
        ],
        [
         2020,
         "Racing Point",
         210.0,
         1,
         3
        ],
        [
         2020,
         "AlphaTauri",
         107.0,
         1,
         7
        ],
        [
         2020,
         "Alfa Romeo",
         8.0,
         0,
         8
        ],
        [
         2020,
         "Renault",
         181.0,
         0,
         5
        ],
        [
         2020,
         "Ferrari",
         131.0,
         0,
         6
        ],
        [
         2020,
         "McLaren",
         202.0,
         0,
         4
        ],
        [
         2020,
         "Haas F1 Team",
         3.0,
         0,
         9
        ],
        [
         2020,
         "Williams",
         0.0,
         0,
         10
        ]
       ],
       "datasetInfos": [
        {
         "name": "_sqldf",
         "schema": {
          "fields": [
           {
            "metadata": {},
            "name": "race_year",
            "nullable": true,
            "type": "integer"
           },
           {
            "metadata": {},
            "name": "team",
            "nullable": true,
            "type": "string"
           },
           {
            "metadata": {},
            "name": "total_points",
            "nullable": true,
            "type": "double"
           },
           {
            "metadata": {},
            "name": "wins",
            "nullable": true,
            "type": "long"
           },
           {
            "metadata": {},
            "name": "rank",
            "nullable": true,
            "type": "integer"
           }
          ],
          "type": "struct"
         },
         "tableIdentifier": null,
         "typeStr": "pyspark.sql.dataframe.DataFrame"
        }
       ],
       "dbfsResultPath": null,
       "isJsonSchema": true,
       "metadata": {
        "createTempViewForImplicitDf": true,
        "dataframeName": "_sqldf",
        "executionCount": 66
       },
       "overflow": false,
       "plotOptions": {
        "customPlotOptions": {},
        "displayType": "table",
        "pivotAggregation": null,
        "pivotColumns": null,
        "xColumns": null,
        "yColumns": null
       },
       "removedWidgets": [],
       "schema": [
        {
         "metadata": "{}",
         "name": "race_year",
         "type": "\"integer\""
        },
        {
         "metadata": "{}",
         "name": "team",
         "type": "\"string\""
        },
        {
         "metadata": "{}",
         "name": "total_points",
         "type": "\"double\""
        },
        {
         "metadata": "{}",
         "name": "wins",
         "type": "\"long\""
        },
        {
         "metadata": "{}",
         "name": "rank",
         "type": "\"integer\""
        }
       ],
       "type": "table"
      }
     },
     "output_type": "display_data"
    }
   ],
   "source": [
    "%sql\n",
    "select * from f1_presentation.constructor_standings\n",
    "where race_year = 2020\n",
    "order by wins desc"
   ]
  }
 ],
 "metadata": {
  "application/vnd.databricks.v1+notebook": {
   "computePreferences": null,
   "dashboards": [],
   "environmentMetadata": {
    "base_environment": "",
    "environment_version": "4"
   },
   "inputWidgetPreferences": null,
   "language": "python",
   "notebookMetadata": {
    "mostRecentlyExecutedCommandWithImplicitDF": {
     "commandId": 7284069417966384,
     "dataframes": [
      "_sqldf"
     ]
    },
    "pythonIndentUnit": 4
   },
   "notebookName": "3.constructor_standings",
   "widgets": {
    "p_file_date": {
     "currentValue": "2021-04-18",
     "nuid": "11901bde-112a-4fc9-aa9a-f5479a1b92b9",
     "typedWidgetInfo": {
      "autoCreated": false,
      "defaultValue": "",
      "label": null,
      "name": "p_file_date",
      "options": {
       "widgetDisplayType": "Text",
       "validationRegex": null
      },
      "parameterDataType": "String"
     },
     "widgetInfo": {
      "widgetType": "text",
      "defaultValue": "",
      "label": null,
      "name": "p_file_date",
      "options": {
       "widgetType": "text",
       "autoCreated": null,
       "validationRegex": null
      }
     }
    }
   }
  },
  "language_info": {
   "name": "python"
  }
 },
 "nbformat": 4,
 "nbformat_minor": 0
}