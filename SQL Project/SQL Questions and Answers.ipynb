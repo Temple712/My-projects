{
 "cells": [
  {
   "cell_type": "markdown",
   "metadata": {
    "application/vnd.databricks.v1+cell": {
     "cellMetadata": {
      "byteLimit": 2048000,
      "rowLimit": 10000
     },
     "inputWidgets": {},
     "nuid": "3cd4a027-8177-42ff-a41a-2a9df5c91006",
     "showTitle": false,
     "tableResultSettingsMap": {},
     "title": ""
    }
   },
   "source": [
    "#### Task: Create a list of all the different (distinct) replacement costs of the films."
   ]
  },
  {
   "cell_type": "code",
   "execution_count": 0,
   "metadata": {
    "application/vnd.databricks.v1+cell": {
     "cellMetadata": {},
     "inputWidgets": {},
     "nuid": "8e4168e5-c936-4d70-a9b1-9a50bc7aeaf2",
     "showTitle": false,
     "tableResultSettingsMap": {},
     "title": ""
    }
   },
   "outputs": [],
   "source": [
    "%sql\n",
    "SELECT DISTINCT replacement_cost \n",
    "FROM film\n",
    "ORDER BY 1"
   ]
  },
  {
   "cell_type": "markdown",
   "metadata": {
    "application/vnd.databricks.v1+cell": {
     "cellMetadata": {
      "byteLimit": 2048000,
      "rowLimit": 10000
     },
     "inputWidgets": {},
     "nuid": "85cda772-c88a-473c-b0bd-2bd5e8ec75d3",
     "showTitle": false,
     "tableResultSettingsMap": {},
     "title": ""
    }
   },
   "source": [
    "\n",
    "#### Task: Create a list of the film titles including their title, length, and category name ordered descendingly by length. Filter the results to only the movies in the category 'Drama' or 'Sports'."
   ]
  },
  {
   "cell_type": "code",
   "execution_count": 0,
   "metadata": {
    "application/vnd.databricks.v1+cell": {
     "cellMetadata": {},
     "inputWidgets": {},
     "nuid": "443d0668-617e-4aa9-ad40-a53b165603b5",
     "showTitle": false,
     "tableResultSettingsMap": {},
     "title": ""
    }
   },
   "outputs": [],
   "source": [
    "%sql\n",
    "\n",
    "SELECT \n",
    "title,\n",
    "name,\n",
    "length\n",
    "FROM film f\n",
    "LEFT JOIN film_category fc\n",
    "ON f.film_id=fc.film_id\n",
    "LEFT JOIN category c\n",
    "ON c.category_id=fc.category_id\n",
    "WHERE name = 'Sports' OR name = 'Drama'\n",
    "ORDER BY length DESC"
   ]
  },
  {
   "cell_type": "markdown",
   "metadata": {
    "application/vnd.databricks.v1+cell": {
     "cellMetadata": {},
     "inputWidgets": {},
     "nuid": "f9e0cd09-7e77-4cdc-930f-6255563885e1",
     "showTitle": false,
     "tableResultSettingsMap": {},
     "title": ""
    }
   },
   "source": [
    "#### Task: Create an overview of how many movies (titles) there are in each category (name)."
   ]
  },
  {
   "cell_type": "code",
   "execution_count": 0,
   "metadata": {
    "application/vnd.databricks.v1+cell": {
     "cellMetadata": {},
     "inputWidgets": {},
     "nuid": "db3a9ed5-ff12-45b5-b217-fe9355bfe9b4",
     "showTitle": false,
     "tableResultSettingsMap": {},
     "title": ""
    }
   },
   "outputs": [],
   "source": [
    "%sql\n",
    "\n",
    "SELECT\n",
    "name,\n",
    "COUNT(title)\n",
    "FROM film f\n",
    "INNER JOIN film_category fc\n",
    "ON f.film_id=fc.film_id\n",
    "INNER JOIN category c\n",
    "ON c.category_id=fc.category_id\n",
    "GROUP BY name\n",
    "ORDER BY 2 DESC\n"
   ]
  },
  {
   "cell_type": "markdown",
   "metadata": {
    "application/vnd.databricks.v1+cell": {
     "cellMetadata": {},
     "inputWidgets": {},
     "nuid": "b619f6f9-fedb-4800-b910-fa6e6193847c",
     "showTitle": false,
     "tableResultSettingsMap": {},
     "title": ""
    }
   },
   "source": [
    "#### Task: Create an overview of the actors' first and last names and in how many movies they appear in."
   ]
  },
  {
   "cell_type": "code",
   "execution_count": 0,
   "metadata": {
    "application/vnd.databricks.v1+cell": {
     "cellMetadata": {},
     "inputWidgets": {},
     "nuid": "9042d616-64c1-4251-b5c3-5a2ac4caa294",
     "showTitle": false,
     "tableResultSettingsMap": {},
     "title": ""
    }
   },
   "outputs": [],
   "source": [
    "%sql\n",
    "\n",
    "SELECT\n",
    "a.actor_id,\n",
    "first_name,\n",
    "last_name,\n",
    "COUNT(*)\n",
    "FROM actor a\n",
    "LEFT JOIN film_actor fa\n",
    "ON fa.actor_id=a.actor_id\n",
    "LEFT JOIN film f\n",
    "ON fa.film_id=f.film_id\n",
    "GROUP BY a.actor_id,first_name, last_name\n",
    "ORDER BY COUNT(*) DESC\n"
   ]
  },
  {
   "cell_type": "markdown",
   "metadata": {
    "application/vnd.databricks.v1+cell": {
     "cellMetadata": {},
     "inputWidgets": {},
     "nuid": "e635e6da-3a1b-42a0-b949-5967d5ef317d",
     "showTitle": false,
     "tableResultSettingsMap": {},
     "title": ""
    }
   },
   "source": [
    "#### Task: Create an overview of the addresses that are not associated to any customer."
   ]
  },
  {
   "cell_type": "code",
   "execution_count": 0,
   "metadata": {
    "application/vnd.databricks.v1+cell": {
     "cellMetadata": {},
     "inputWidgets": {},
     "nuid": "b2842301-8266-4fbb-b730-93ebf0d4fc38",
     "showTitle": false,
     "tableResultSettingsMap": {},
     "title": ""
    }
   },
   "outputs": [],
   "source": [
    "%sql\n",
    "\n",
    "SELECT * FROM address a\n",
    "LEFT JOIN customer c\n",
    "ON c.address_id = a.address_id\n",
    "WHERE c.first_name is null"
   ]
  },
  {
   "cell_type": "markdown",
   "metadata": {
    "application/vnd.databricks.v1+cell": {
     "cellMetadata": {},
     "inputWidgets": {},
     "nuid": "34f563ce-2dbe-42b1-af73-c60d2e2f1b2f",
     "showTitle": false,
     "tableResultSettingsMap": {},
     "title": ""
    }
   },
   "source": [
    "#### Task: Create the overview of the sales  to determine the from which city (we are interested in the city in which the customer lives, not where the store is) most sales occur."
   ]
  },
  {
   "cell_type": "code",
   "execution_count": 0,
   "metadata": {
    "application/vnd.databricks.v1+cell": {
     "cellMetadata": {},
     "inputWidgets": {},
     "nuid": "9337d163-f1c1-4805-b676-b4991040e671",
     "showTitle": false,
     "tableResultSettingsMap": {},
     "title": ""
    }
   },
   "outputs": [],
   "source": [
    "%sql\n",
    "\n",
    "SELECT \n",
    "city,\n",
    "SUM(amount)\n",
    "FROM payment p\n",
    "LEFT JOIN customer c\n",
    "ON p.customer_id=c.customer_id\n",
    "LEFT JOIN address a\n",
    "ON a.address_id=c.address_id\n",
    "LEFT JOIN city ci\n",
    "ON ci.city_id=a.city_id\n",
    "GROUP BY city\n",
    "ORDER BY city DESC"
   ]
  },
  {
   "cell_type": "markdown",
   "metadata": {
    "application/vnd.databricks.v1+cell": {
     "cellMetadata": {},
     "inputWidgets": {},
     "nuid": "3f592feb-cb3c-4e88-8436-e97a0d9059de",
     "showTitle": false,
     "tableResultSettingsMap": {},
     "title": ""
    }
   },
   "source": [
    "####  Task: Create an overview of the revenue (sum of amount) grouped by a column in the format \"country, city\"."
   ]
  },
  {
   "cell_type": "code",
   "execution_count": 0,
   "metadata": {
    "application/vnd.databricks.v1+cell": {
     "cellMetadata": {},
     "inputWidgets": {},
     "nuid": "5d61f48a-2e28-4de7-91f7-8617fc075792",
     "showTitle": false,
     "tableResultSettingsMap": {},
     "title": ""
    }
   },
   "outputs": [],
   "source": [
    "%sql\n",
    "\n",
    "SELECT \n",
    "country ||', ' ||city,\n",
    "SUM(amount)\n",
    "FROM payment p\n",
    "LEFT JOIN customer c\n",
    "ON p.customer_id=c.customer_id\n",
    "LEFT JOIN address a\n",
    "ON a.address_id=c.address_id\n",
    "LEFT JOIN city ci\n",
    "ON ci.city_id=a.city_id\n",
    "LEFT JOIN country co\n",
    "ON co.country_id=ci.country_id\n",
    "GROUP BY country ||', ' ||city\n",
    "ORDER BY 2 ASC"
   ]
  },
  {
   "cell_type": "markdown",
   "metadata": {
    "application/vnd.databricks.v1+cell": {
     "cellMetadata": {},
     "inputWidgets": {},
     "nuid": "c6ff6906-a23c-46a0-80f1-e341d5e270af",
     "showTitle": false,
     "tableResultSettingsMap": {},
     "title": ""
    }
   },
   "source": [
    "#### Task: Create a list with the average of the sales amount each staff_id has per customer."
   ]
  },
  {
   "cell_type": "code",
   "execution_count": 0,
   "metadata": {
    "application/vnd.databricks.v1+cell": {
     "cellMetadata": {},
     "inputWidgets": {},
     "nuid": "e2cdc84c-38f7-4eee-8350-a86ab97251be",
     "showTitle": false,
     "tableResultSettingsMap": {},
     "title": ""
    }
   },
   "outputs": [],
   "source": [
    "%sql\n",
    "\n",
    "SELECT \n",
    "staff_id,\n",
    "ROUND(AVG(total),2) as avg_amount \n",
    "FROM (\n",
    "SELECT SUM(amount) as total,customer_id,staff_id\n",
    "FROM payment\n",
    "GROUP BY customer_id, staff_id) a\n",
    "GROUP BY staff_id"
   ]
  },
  {
   "cell_type": "markdown",
   "metadata": {
    "application/vnd.databricks.v1+cell": {
     "cellMetadata": {},
     "inputWidgets": {},
     "nuid": "786e7375-5662-495c-a021-1ef0cc78d438",
     "showTitle": false,
     "tableResultSettingsMap": {},
     "title": ""
    }
   },
   "source": [
    "####  Task: Create a query that shows average daily revenue of all Sundays."
   ]
  },
  {
   "cell_type": "code",
   "execution_count": 0,
   "metadata": {
    "application/vnd.databricks.v1+cell": {
     "cellMetadata": {},
     "inputWidgets": {},
     "nuid": "5518d2fb-bc3d-4e1b-a8df-25a937724211",
     "showTitle": false,
     "tableResultSettingsMap": {},
     "title": ""
    }
   },
   "outputs": [],
   "source": [
    "%sql\n",
    "\n",
    "SELECT \n",
    "AVG(total)\n",
    "FROM \n",
    "\t(SELECT\n",
    "\t SUM(amount) as total,\n",
    "\t DATE(payment_date),\n",
    "\t EXTRACT(dow from payment_date) as weekday\n",
    "\t FROM payment\n",
    "\t WHERE EXTRACT(dow from payment_date)=0\n",
    "\t GROUP BY DATE(payment_date),weekday) daily"
   ]
  },
  {
   "cell_type": "markdown",
   "metadata": {
    "application/vnd.databricks.v1+cell": {
     "cellMetadata": {},
     "inputWidgets": {},
     "nuid": "1a345ceb-e50a-418d-8376-e37dc18463c7",
     "showTitle": false,
     "tableResultSettingsMap": {},
     "title": ""
    }
   },
   "source": [
    "####  Task: Create a list of movies - with their length and their replacement cost - that are longer than the average length in each replacement cost group."
   ]
  },
  {
   "cell_type": "code",
   "execution_count": 0,
   "metadata": {
    "application/vnd.databricks.v1+cell": {
     "cellMetadata": {},
     "inputWidgets": {},
     "nuid": "26c2a8bb-0d4e-40c9-ab82-7ae1d3e06abe",
     "showTitle": false,
     "tableResultSettingsMap": {},
     "title": ""
    }
   },
   "outputs": [],
   "source": [
    "%sql\n",
    "\n",
    "SELECT \n",
    "title,\n",
    "length\n",
    "FROM film f1\n",
    "WHERE length > (SELECT AVG(length) FROM film f2\n",
    "\t\t\t   WHERE f1.replacement_cost=f2.replacement_cost)\n",
    "ORDER BY length ASC\n"
   ]
  },
  {
   "cell_type": "markdown",
   "metadata": {
    "application/vnd.databricks.v1+cell": {
     "cellMetadata": {},
     "inputWidgets": {},
     "nuid": "1086bef5-0df0-47e9-abe7-3c423822a176",
     "showTitle": false,
     "tableResultSettingsMap": {},
     "title": ""
    }
   },
   "source": [
    "#### Task: Create a list that shows the \"average customer lifetime value\" grouped by the different districts."
   ]
  },
  {
   "cell_type": "code",
   "execution_count": 0,
   "metadata": {
    "application/vnd.databricks.v1+cell": {
     "cellMetadata": {},
     "inputWidgets": {},
     "nuid": "3635ab8b-cb6c-4d22-8ba2-054ddf7e1450",
     "showTitle": false,
     "tableResultSettingsMap": {},
     "title": ""
    }
   },
   "outputs": [],
   "source": [
    "%sql\n",
    "\n",
    "SELECT\n",
    "district,\n",
    "ROUND(AVG(total),2) avg_customer_spent\n",
    "FROM\n",
    "(SELECT \n",
    "c.customer_id,\n",
    "district,\n",
    "SUM(amount) total\n",
    "FROM payment p\n",
    "INNER JOIN customer c\n",
    "ON c.customer_id=p.customer_id\n",
    "INNER JOIN address a\n",
    "ON c.address_id=a.address_id\n",
    "GROUP BY district, c.customer_id) sub\n",
    "GROUP BY district\n",
    "ORDER BY 2 DESC"
   ]
  },
  {
   "cell_type": "markdown",
   "metadata": {
    "application/vnd.databricks.v1+cell": {
     "cellMetadata": {},
     "inputWidgets": {},
     "nuid": "7bb31049-6919-43b9-b4b1-f93c41fb1903",
     "showTitle": false,
     "tableResultSettingsMap": {},
     "title": ""
    }
   },
   "source": [
    "#### Task: Create a list that shows all payments including the payment_id, amount, and the film category (name) plus the total amount that was \n",
    "#### made in this category. Order the results ascendingly by the category (name) and as second order criterion by the payment_id ascendingly."
   ]
  },
  {
   "cell_type": "code",
   "execution_count": 0,
   "metadata": {
    "application/vnd.databricks.v1+cell": {
     "cellMetadata": {},
     "inputWidgets": {},
     "nuid": "92d2fa43-a4aa-4102-9d1d-056e8ace8ec7",
     "showTitle": false,
     "tableResultSettingsMap": {},
     "title": ""
    }
   },
   "outputs": [],
   "source": [
    "%sql\n",
    "\n",
    "SELECT\n",
    "title,\n",
    "amount,\n",
    "name,\n",
    "payment_id,\n",
    "(SELECT SUM(amount) FROM payment p\n",
    "LEFT JOIN rental r\n",
    "ON r.rental_id=p.rental_id\n",
    "LEFT JOIN inventory i\n",
    "ON i.inventory_id=r.inventory_id\n",
    "LEFT JOIN film f\n",
    "ON f.film_id=i.film_id\n",
    "LEFT JOIN film_category fc\n",
    "ON fc.film_id=f.film_id\n",
    "LEFT JOIN category c1\n",
    "ON c1.category_id=fc.category_id\n",
    "WHERE c1.name=c.name)\n",
    "FROM payment p\n",
    "LEFT JOIN rental r\n",
    "ON r.rental_id=p.rental_id\n",
    "LEFT JOIN inventory i\n",
    "ON i.inventory_id=r.inventory_id\n",
    "LEFT JOIN film f\n",
    "ON f.film_id=i.film_id\n",
    "LEFT JOIN film_category fc\n",
    "ON fc.film_id=f.film_id\n",
    "LEFT JOIN category c\n",
    "ON c.category_id=fc.category_id\n",
    "ORDER BY name"
   ]
  }
 ],
 "metadata": {
  "application/vnd.databricks.v1+notebook": {
   "computePreferences": null,
   "dashboards": [],
   "environmentMetadata": null,
   "inputWidgetPreferences": null,
   "language": "python",
   "notebookMetadata": {
    "pythonIndentUnit": 4
   },
   "notebookName": "SQL Questions and Answers",
   "widgets": {}
  },
  "language_info": {
   "name": "python"
  }
 },
 "nbformat": 4,
 "nbformat_minor": 0
}