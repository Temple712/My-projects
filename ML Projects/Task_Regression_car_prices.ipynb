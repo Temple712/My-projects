{
 "cells": [
  {
   "cell_type": "markdown",
   "id": "stopped-router",
   "metadata": {
    "id": "stopped-router"
   },
   "source": [
    "#### Problem Statement\n",
    "A Chinese automobile company Geely Auto aspires to enter the US market by setting up their manufacturing unit there and producing cars locally to give competition to their US and European counterparts.\n",
    "\n",
    "They have contracted an automobile consulting company to understand the factors on which the pricing of cars depends. Specifically, they want to understand the factors affecting the pricing of cars in the American market, since those may be very different from the Chinese market. The company wants to know:\n",
    "\n",
    "Which variables are significant in predicting the price of a car\n",
    "How well those variables describe the price of a car\n",
    "Based on various market surveys, the consulting firm has gathered a large data set of different types of cars across the America market.\n",
    "\n",
    "#### Business Goal\n",
    "We are required to model the price of cars with the available independent variables. It will be used by the management to understand how exactly the prices vary with the independent variables. They can accordingly manipulate the design of the cars, the business strategy etc. to meet certain price levels. Further, the model will be a good way for management to understand the pricing dynamics of a new market.\n",
    "\n",
    "**Please Note**: The dataset provided is for learning purpose. Please don’t draw any inference with real world scenario.\n",
    "\n",
    "https://www.kaggle.com/hellbuoy/car-price-prediction"
   ]
  },
  {
   "cell_type": "code",
   "execution_count": 1,
   "id": "egyptian-plenty",
   "metadata": {
    "id": "egyptian-plenty"
   },
   "outputs": [],
   "source": [
    "import numpy as np\n",
    "import pandas as pd\n",
    "import matplotlib.pyplot as plt\n",
    "from scipy import stats\n",
    "from sklearn.model_selection import train_test_split\n",
    "from sklearn.preprocessing import MinMaxScaler\n",
    "from sklearn.linear_model import LinearRegression\n",
    "from sklearn.metrics import mean_squared_error, mean_absolute_error \n",
    "from sklearn.metrics import r2_score\n",
    "import seaborn as sns"
   ]
  },
  {
   "cell_type": "markdown",
   "id": "9485a5fb",
   "metadata": {
    "id": "9485a5fb"
   },
   "source": [
    "**Q-00.** Read the file `CarPrice_Assignment.csv` into a DataFrame:"
   ]
  },
  {
   "cell_type": "code",
   "execution_count": 2,
   "id": "accessible-sixth",
   "metadata": {
    "id": "accessible-sixth",
    "outputId": "dd2aa74f-f39a-42b7-dc51-e8f98a46ccf5"
   },
   "outputs": [
    {
     "name": "stdout",
     "output_type": "stream",
     "text": [
      "(205, 26)\n"
     ]
    },
    {
     "data": {
      "text/html": [
       "<div>\n",
       "<style scoped>\n",
       "    .dataframe tbody tr th:only-of-type {\n",
       "        vertical-align: middle;\n",
       "    }\n",
       "\n",
       "    .dataframe tbody tr th {\n",
       "        vertical-align: top;\n",
       "    }\n",
       "\n",
       "    .dataframe thead th {\n",
       "        text-align: right;\n",
       "    }\n",
       "</style>\n",
       "<table border=\"1\" class=\"dataframe\">\n",
       "  <thead>\n",
       "    <tr style=\"text-align: right;\">\n",
       "      <th></th>\n",
       "      <th>car_ID</th>\n",
       "      <th>symboling</th>\n",
       "      <th>CarName</th>\n",
       "      <th>fueltype</th>\n",
       "      <th>aspiration</th>\n",
       "      <th>doornumber</th>\n",
       "      <th>carbody</th>\n",
       "      <th>drivewheel</th>\n",
       "      <th>enginelocation</th>\n",
       "      <th>wheelbase</th>\n",
       "      <th>...</th>\n",
       "      <th>enginesize</th>\n",
       "      <th>fuelsystem</th>\n",
       "      <th>boreratio</th>\n",
       "      <th>stroke</th>\n",
       "      <th>compressionratio</th>\n",
       "      <th>horsepower</th>\n",
       "      <th>peakrpm</th>\n",
       "      <th>citympg</th>\n",
       "      <th>highwaympg</th>\n",
       "      <th>price</th>\n",
       "    </tr>\n",
       "  </thead>\n",
       "  <tbody>\n",
       "    <tr>\n",
       "      <th>0</th>\n",
       "      <td>1</td>\n",
       "      <td>3</td>\n",
       "      <td>alfa-romero giulia</td>\n",
       "      <td>gas</td>\n",
       "      <td>std</td>\n",
       "      <td>two</td>\n",
       "      <td>convertible</td>\n",
       "      <td>rwd</td>\n",
       "      <td>front</td>\n",
       "      <td>88.6</td>\n",
       "      <td>...</td>\n",
       "      <td>130</td>\n",
       "      <td>mpfi</td>\n",
       "      <td>3.47</td>\n",
       "      <td>2.68</td>\n",
       "      <td>9.0</td>\n",
       "      <td>111</td>\n",
       "      <td>5000</td>\n",
       "      <td>21</td>\n",
       "      <td>27</td>\n",
       "      <td>13495.0</td>\n",
       "    </tr>\n",
       "    <tr>\n",
       "      <th>1</th>\n",
       "      <td>2</td>\n",
       "      <td>3</td>\n",
       "      <td>alfa-romero stelvio</td>\n",
       "      <td>gas</td>\n",
       "      <td>std</td>\n",
       "      <td>two</td>\n",
       "      <td>convertible</td>\n",
       "      <td>rwd</td>\n",
       "      <td>front</td>\n",
       "      <td>88.6</td>\n",
       "      <td>...</td>\n",
       "      <td>130</td>\n",
       "      <td>mpfi</td>\n",
       "      <td>3.47</td>\n",
       "      <td>2.68</td>\n",
       "      <td>9.0</td>\n",
       "      <td>111</td>\n",
       "      <td>5000</td>\n",
       "      <td>21</td>\n",
       "      <td>27</td>\n",
       "      <td>16500.0</td>\n",
       "    </tr>\n",
       "    <tr>\n",
       "      <th>2</th>\n",
       "      <td>3</td>\n",
       "      <td>1</td>\n",
       "      <td>alfa-romero Quadrifoglio</td>\n",
       "      <td>gas</td>\n",
       "      <td>std</td>\n",
       "      <td>two</td>\n",
       "      <td>hatchback</td>\n",
       "      <td>rwd</td>\n",
       "      <td>front</td>\n",
       "      <td>94.5</td>\n",
       "      <td>...</td>\n",
       "      <td>152</td>\n",
       "      <td>mpfi</td>\n",
       "      <td>2.68</td>\n",
       "      <td>3.47</td>\n",
       "      <td>9.0</td>\n",
       "      <td>154</td>\n",
       "      <td>5000</td>\n",
       "      <td>19</td>\n",
       "      <td>26</td>\n",
       "      <td>16500.0</td>\n",
       "    </tr>\n",
       "    <tr>\n",
       "      <th>3</th>\n",
       "      <td>4</td>\n",
       "      <td>2</td>\n",
       "      <td>audi 100 ls</td>\n",
       "      <td>gas</td>\n",
       "      <td>std</td>\n",
       "      <td>four</td>\n",
       "      <td>sedan</td>\n",
       "      <td>fwd</td>\n",
       "      <td>front</td>\n",
       "      <td>99.8</td>\n",
       "      <td>...</td>\n",
       "      <td>109</td>\n",
       "      <td>mpfi</td>\n",
       "      <td>3.19</td>\n",
       "      <td>3.40</td>\n",
       "      <td>10.0</td>\n",
       "      <td>102</td>\n",
       "      <td>5500</td>\n",
       "      <td>24</td>\n",
       "      <td>30</td>\n",
       "      <td>13950.0</td>\n",
       "    </tr>\n",
       "    <tr>\n",
       "      <th>4</th>\n",
       "      <td>5</td>\n",
       "      <td>2</td>\n",
       "      <td>audi 100ls</td>\n",
       "      <td>gas</td>\n",
       "      <td>std</td>\n",
       "      <td>four</td>\n",
       "      <td>sedan</td>\n",
       "      <td>4wd</td>\n",
       "      <td>front</td>\n",
       "      <td>99.4</td>\n",
       "      <td>...</td>\n",
       "      <td>136</td>\n",
       "      <td>mpfi</td>\n",
       "      <td>3.19</td>\n",
       "      <td>3.40</td>\n",
       "      <td>8.0</td>\n",
       "      <td>115</td>\n",
       "      <td>5500</td>\n",
       "      <td>18</td>\n",
       "      <td>22</td>\n",
       "      <td>17450.0</td>\n",
       "    </tr>\n",
       "  </tbody>\n",
       "</table>\n",
       "<p>5 rows × 26 columns</p>\n",
       "</div>"
      ],
      "text/plain": [
       "   car_ID  symboling                   CarName fueltype aspiration doornumber  \\\n",
       "0       1          3        alfa-romero giulia      gas        std        two   \n",
       "1       2          3       alfa-romero stelvio      gas        std        two   \n",
       "2       3          1  alfa-romero Quadrifoglio      gas        std        two   \n",
       "3       4          2               audi 100 ls      gas        std       four   \n",
       "4       5          2                audi 100ls      gas        std       four   \n",
       "\n",
       "       carbody drivewheel enginelocation  wheelbase  ...  enginesize  \\\n",
       "0  convertible        rwd          front       88.6  ...         130   \n",
       "1  convertible        rwd          front       88.6  ...         130   \n",
       "2    hatchback        rwd          front       94.5  ...         152   \n",
       "3        sedan        fwd          front       99.8  ...         109   \n",
       "4        sedan        4wd          front       99.4  ...         136   \n",
       "\n",
       "   fuelsystem  boreratio  stroke compressionratio horsepower  peakrpm citympg  \\\n",
       "0        mpfi       3.47    2.68              9.0        111     5000      21   \n",
       "1        mpfi       3.47    2.68              9.0        111     5000      21   \n",
       "2        mpfi       2.68    3.47              9.0        154     5000      19   \n",
       "3        mpfi       3.19    3.40             10.0        102     5500      24   \n",
       "4        mpfi       3.19    3.40              8.0        115     5500      18   \n",
       "\n",
       "   highwaympg    price  \n",
       "0          27  13495.0  \n",
       "1          27  16500.0  \n",
       "2          26  16500.0  \n",
       "3          30  13950.0  \n",
       "4          22  17450.0  \n",
       "\n",
       "[5 rows x 26 columns]"
      ]
     },
     "execution_count": 2,
     "metadata": {},
     "output_type": "execute_result"
    }
   ],
   "source": [
    "df = pd.read_csv('CarPrice_Assignment.csv')\n",
    "print(df.shape)\n",
    "df.head()"
   ]
  },
  {
   "cell_type": "code",
   "execution_count": 3,
   "id": "396fae4a",
   "metadata": {},
   "outputs": [
    {
     "data": {
      "text/html": [
       "<div>\n",
       "<style scoped>\n",
       "    .dataframe tbody tr th:only-of-type {\n",
       "        vertical-align: middle;\n",
       "    }\n",
       "\n",
       "    .dataframe tbody tr th {\n",
       "        vertical-align: top;\n",
       "    }\n",
       "\n",
       "    .dataframe thead th {\n",
       "        text-align: right;\n",
       "    }\n",
       "</style>\n",
       "<table border=\"1\" class=\"dataframe\">\n",
       "  <thead>\n",
       "    <tr style=\"text-align: right;\">\n",
       "      <th></th>\n",
       "      <th>car_ID</th>\n",
       "      <th>symboling</th>\n",
       "      <th>wheelbase</th>\n",
       "      <th>carlength</th>\n",
       "      <th>carwidth</th>\n",
       "      <th>carheight</th>\n",
       "      <th>curbweight</th>\n",
       "      <th>enginesize</th>\n",
       "      <th>boreratio</th>\n",
       "      <th>stroke</th>\n",
       "      <th>compressionratio</th>\n",
       "      <th>horsepower</th>\n",
       "      <th>peakrpm</th>\n",
       "      <th>citympg</th>\n",
       "      <th>highwaympg</th>\n",
       "      <th>price</th>\n",
       "    </tr>\n",
       "  </thead>\n",
       "  <tbody>\n",
       "    <tr>\n",
       "      <th>count</th>\n",
       "      <td>205.000000</td>\n",
       "      <td>205.000000</td>\n",
       "      <td>205.000000</td>\n",
       "      <td>205.000000</td>\n",
       "      <td>205.000000</td>\n",
       "      <td>205.000000</td>\n",
       "      <td>205.000000</td>\n",
       "      <td>205.000000</td>\n",
       "      <td>205.000000</td>\n",
       "      <td>205.000000</td>\n",
       "      <td>205.000000</td>\n",
       "      <td>205.000000</td>\n",
       "      <td>205.000000</td>\n",
       "      <td>205.000000</td>\n",
       "      <td>205.000000</td>\n",
       "      <td>205.000000</td>\n",
       "    </tr>\n",
       "    <tr>\n",
       "      <th>mean</th>\n",
       "      <td>103.000000</td>\n",
       "      <td>0.834146</td>\n",
       "      <td>98.756585</td>\n",
       "      <td>174.049268</td>\n",
       "      <td>65.907805</td>\n",
       "      <td>53.724878</td>\n",
       "      <td>2555.565854</td>\n",
       "      <td>126.907317</td>\n",
       "      <td>3.329756</td>\n",
       "      <td>3.255415</td>\n",
       "      <td>10.142537</td>\n",
       "      <td>104.117073</td>\n",
       "      <td>5125.121951</td>\n",
       "      <td>25.219512</td>\n",
       "      <td>30.751220</td>\n",
       "      <td>13276.710571</td>\n",
       "    </tr>\n",
       "    <tr>\n",
       "      <th>std</th>\n",
       "      <td>59.322565</td>\n",
       "      <td>1.245307</td>\n",
       "      <td>6.021776</td>\n",
       "      <td>12.337289</td>\n",
       "      <td>2.145204</td>\n",
       "      <td>2.443522</td>\n",
       "      <td>520.680204</td>\n",
       "      <td>41.642693</td>\n",
       "      <td>0.270844</td>\n",
       "      <td>0.313597</td>\n",
       "      <td>3.972040</td>\n",
       "      <td>39.544167</td>\n",
       "      <td>476.985643</td>\n",
       "      <td>6.542142</td>\n",
       "      <td>6.886443</td>\n",
       "      <td>7988.852332</td>\n",
       "    </tr>\n",
       "    <tr>\n",
       "      <th>min</th>\n",
       "      <td>1.000000</td>\n",
       "      <td>-2.000000</td>\n",
       "      <td>86.600000</td>\n",
       "      <td>141.100000</td>\n",
       "      <td>60.300000</td>\n",
       "      <td>47.800000</td>\n",
       "      <td>1488.000000</td>\n",
       "      <td>61.000000</td>\n",
       "      <td>2.540000</td>\n",
       "      <td>2.070000</td>\n",
       "      <td>7.000000</td>\n",
       "      <td>48.000000</td>\n",
       "      <td>4150.000000</td>\n",
       "      <td>13.000000</td>\n",
       "      <td>16.000000</td>\n",
       "      <td>5118.000000</td>\n",
       "    </tr>\n",
       "    <tr>\n",
       "      <th>25%</th>\n",
       "      <td>52.000000</td>\n",
       "      <td>0.000000</td>\n",
       "      <td>94.500000</td>\n",
       "      <td>166.300000</td>\n",
       "      <td>64.100000</td>\n",
       "      <td>52.000000</td>\n",
       "      <td>2145.000000</td>\n",
       "      <td>97.000000</td>\n",
       "      <td>3.150000</td>\n",
       "      <td>3.110000</td>\n",
       "      <td>8.600000</td>\n",
       "      <td>70.000000</td>\n",
       "      <td>4800.000000</td>\n",
       "      <td>19.000000</td>\n",
       "      <td>25.000000</td>\n",
       "      <td>7788.000000</td>\n",
       "    </tr>\n",
       "    <tr>\n",
       "      <th>50%</th>\n",
       "      <td>103.000000</td>\n",
       "      <td>1.000000</td>\n",
       "      <td>97.000000</td>\n",
       "      <td>173.200000</td>\n",
       "      <td>65.500000</td>\n",
       "      <td>54.100000</td>\n",
       "      <td>2414.000000</td>\n",
       "      <td>120.000000</td>\n",
       "      <td>3.310000</td>\n",
       "      <td>3.290000</td>\n",
       "      <td>9.000000</td>\n",
       "      <td>95.000000</td>\n",
       "      <td>5200.000000</td>\n",
       "      <td>24.000000</td>\n",
       "      <td>30.000000</td>\n",
       "      <td>10295.000000</td>\n",
       "    </tr>\n",
       "    <tr>\n",
       "      <th>75%</th>\n",
       "      <td>154.000000</td>\n",
       "      <td>2.000000</td>\n",
       "      <td>102.400000</td>\n",
       "      <td>183.100000</td>\n",
       "      <td>66.900000</td>\n",
       "      <td>55.500000</td>\n",
       "      <td>2935.000000</td>\n",
       "      <td>141.000000</td>\n",
       "      <td>3.580000</td>\n",
       "      <td>3.410000</td>\n",
       "      <td>9.400000</td>\n",
       "      <td>116.000000</td>\n",
       "      <td>5500.000000</td>\n",
       "      <td>30.000000</td>\n",
       "      <td>34.000000</td>\n",
       "      <td>16503.000000</td>\n",
       "    </tr>\n",
       "    <tr>\n",
       "      <th>max</th>\n",
       "      <td>205.000000</td>\n",
       "      <td>3.000000</td>\n",
       "      <td>120.900000</td>\n",
       "      <td>208.100000</td>\n",
       "      <td>72.300000</td>\n",
       "      <td>59.800000</td>\n",
       "      <td>4066.000000</td>\n",
       "      <td>326.000000</td>\n",
       "      <td>3.940000</td>\n",
       "      <td>4.170000</td>\n",
       "      <td>23.000000</td>\n",
       "      <td>288.000000</td>\n",
       "      <td>6600.000000</td>\n",
       "      <td>49.000000</td>\n",
       "      <td>54.000000</td>\n",
       "      <td>45400.000000</td>\n",
       "    </tr>\n",
       "  </tbody>\n",
       "</table>\n",
       "</div>"
      ],
      "text/plain": [
       "           car_ID   symboling   wheelbase   carlength    carwidth   carheight  \\\n",
       "count  205.000000  205.000000  205.000000  205.000000  205.000000  205.000000   \n",
       "mean   103.000000    0.834146   98.756585  174.049268   65.907805   53.724878   \n",
       "std     59.322565    1.245307    6.021776   12.337289    2.145204    2.443522   \n",
       "min      1.000000   -2.000000   86.600000  141.100000   60.300000   47.800000   \n",
       "25%     52.000000    0.000000   94.500000  166.300000   64.100000   52.000000   \n",
       "50%    103.000000    1.000000   97.000000  173.200000   65.500000   54.100000   \n",
       "75%    154.000000    2.000000  102.400000  183.100000   66.900000   55.500000   \n",
       "max    205.000000    3.000000  120.900000  208.100000   72.300000   59.800000   \n",
       "\n",
       "        curbweight  enginesize   boreratio      stroke  compressionratio  \\\n",
       "count   205.000000  205.000000  205.000000  205.000000        205.000000   \n",
       "mean   2555.565854  126.907317    3.329756    3.255415         10.142537   \n",
       "std     520.680204   41.642693    0.270844    0.313597          3.972040   \n",
       "min    1488.000000   61.000000    2.540000    2.070000          7.000000   \n",
       "25%    2145.000000   97.000000    3.150000    3.110000          8.600000   \n",
       "50%    2414.000000  120.000000    3.310000    3.290000          9.000000   \n",
       "75%    2935.000000  141.000000    3.580000    3.410000          9.400000   \n",
       "max    4066.000000  326.000000    3.940000    4.170000         23.000000   \n",
       "\n",
       "       horsepower      peakrpm     citympg  highwaympg         price  \n",
       "count  205.000000   205.000000  205.000000  205.000000    205.000000  \n",
       "mean   104.117073  5125.121951   25.219512   30.751220  13276.710571  \n",
       "std     39.544167   476.985643    6.542142    6.886443   7988.852332  \n",
       "min     48.000000  4150.000000   13.000000   16.000000   5118.000000  \n",
       "25%     70.000000  4800.000000   19.000000   25.000000   7788.000000  \n",
       "50%     95.000000  5200.000000   24.000000   30.000000  10295.000000  \n",
       "75%    116.000000  5500.000000   30.000000   34.000000  16503.000000  \n",
       "max    288.000000  6600.000000   49.000000   54.000000  45400.000000  "
      ]
     },
     "execution_count": 3,
     "metadata": {},
     "output_type": "execute_result"
    }
   ],
   "source": [
    "df.describe()"
   ]
  },
  {
   "cell_type": "markdown",
   "id": "starting-paris",
   "metadata": {
    "id": "starting-paris"
   },
   "source": [
    "#### Data Dictionary\n",
    "1. `Car_ID`:\tUnique id of each observation (Interger)\n",
    "2.\t`Symboling`: \tIts assigned insurance risk rating, A value of +3 indicates that the auto is risky, -3 that it is probably pretty safe.(Categorical) \n",
    "3.\t`carName`:\tName of car company (Categorical)\n",
    "4.\t`fueltype`:\tCar fuel type i.e gas or diesel (Categorical)\n",
    "5.\t`aspiration`:\tAspiration used in a car (Categorical)\n",
    "6.\t`doornumber`:\tNumber of doors in a car (Categorical)\n",
    "7.\t`carbody`:\tbody of car (Categorical)\n",
    "8.\t`drivewheel`:\ttype of drive wheel (Categorical)\n",
    "9.\t`enginelocation`:\tLocation of car engine (Categorical)\n",
    "10.\t`wheelbase`:\tWeelbase of car (Numeric)\n",
    "11.\t`carlength`:\tLength of car (Numeric)\n",
    "12.\t`carwidth`:\tWidth of car (Numeric)\n",
    "13.\t`carheight`:\theight of car (Numeric)\n",
    "14.\t`curbweight`:\tThe weight of a car without occupants or baggage. (Numeric)\n",
    "15.\t`enginetype`:\tType of engine. (Categorical)\n",
    "16.\t`cylindernumber`:\tcylinder placed in the car (Categorical)\n",
    "17.\t`enginesize`:\tSize of car (Numeric)\n",
    "18.\t`fuelsystem`:\tFuel system of car (Categorical)\n",
    "19.\t`boreratio`:\tBoreratio of car (Numeric)\n",
    "20.\t`stroke`:\tStroke or volume inside the engine (Numeric)\n",
    "21.\t`compressionratio`:\tcompression ratio of car (Numeric)\n",
    "22.\t`horsepower`:\tHorsepower (Numeric)\n",
    "23.\t`peakrpm`:\tcar peak rpm (Numeric)\n",
    "24.\t`citympg`:\tMileage in city (Numeric)\n",
    "25.\t`highwaympg`:\tMileage on highway (Numeric)\n",
    "26.\t`price`: **(Dependent variable)**\tPrice of car (Numeric)\n",
    "\n",
    "**Source**: https://archive.ics.uci.edu/ml/datasets/Automobile"
   ]
  },
  {
   "cell_type": "markdown",
   "id": "6c86eaa2",
   "metadata": {
    "id": "6c86eaa2"
   },
   "source": [
    "Let us find the distinct values of the car name:"
   ]
  },
  {
   "cell_type": "code",
   "execution_count": 4,
   "id": "creative-volunteer",
   "metadata": {
    "id": "creative-volunteer",
    "outputId": "b94eb63d-71db-4ca9-faa2-dcd2e8f71aad"
   },
   "outputs": [
    {
     "data": {
      "text/plain": [
       "array(['alfa-romero giulia', 'alfa-romero stelvio',\n",
       "       'alfa-romero Quadrifoglio', 'audi 100 ls', 'audi 100ls',\n",
       "       'audi fox', 'audi 5000', 'audi 4000', 'audi 5000s (diesel)',\n",
       "       'bmw 320i', 'bmw x1', 'bmw x3', 'bmw z4', 'bmw x4', 'bmw x5',\n",
       "       'chevrolet impala', 'chevrolet monte carlo', 'chevrolet vega 2300',\n",
       "       'dodge rampage', 'dodge challenger se', 'dodge d200',\n",
       "       'dodge monaco (sw)', 'dodge colt hardtop', 'dodge colt (sw)',\n",
       "       'dodge coronet custom', 'dodge dart custom',\n",
       "       'dodge coronet custom (sw)', 'honda civic', 'honda civic cvcc',\n",
       "       'honda accord cvcc', 'honda accord lx', 'honda civic 1500 gl',\n",
       "       'honda accord', 'honda civic 1300', 'honda prelude',\n",
       "       'honda civic (auto)', 'isuzu MU-X', 'isuzu D-Max ',\n",
       "       'isuzu D-Max V-Cross', 'jaguar xj', 'jaguar xf', 'jaguar xk',\n",
       "       'maxda rx3', 'maxda glc deluxe', 'mazda rx2 coupe', 'mazda rx-4',\n",
       "       'mazda glc deluxe', 'mazda 626', 'mazda glc', 'mazda rx-7 gs',\n",
       "       'mazda glc 4', 'mazda glc custom l', 'mazda glc custom',\n",
       "       'buick electra 225 custom', 'buick century luxus (sw)',\n",
       "       'buick century', 'buick skyhawk', 'buick opel isuzu deluxe',\n",
       "       'buick skylark', 'buick century special',\n",
       "       'buick regal sport coupe (turbo)', 'mercury cougar',\n",
       "       'mitsubishi mirage', 'mitsubishi lancer', 'mitsubishi outlander',\n",
       "       'mitsubishi g4', 'mitsubishi mirage g4', 'mitsubishi montero',\n",
       "       'mitsubishi pajero', 'Nissan versa', 'nissan gt-r', 'nissan rogue',\n",
       "       'nissan latio', 'nissan titan', 'nissan leaf', 'nissan juke',\n",
       "       'nissan note', 'nissan clipper', 'nissan nv200', 'nissan dayz',\n",
       "       'nissan fuga', 'nissan otti', 'nissan teana', 'nissan kicks',\n",
       "       'peugeot 504', 'peugeot 304', 'peugeot 504 (sw)', 'peugeot 604sl',\n",
       "       'peugeot 505s turbo diesel', 'plymouth fury iii',\n",
       "       'plymouth cricket', 'plymouth satellite custom (sw)',\n",
       "       'plymouth fury gran sedan', 'plymouth valiant', 'plymouth duster',\n",
       "       'porsche macan', 'porcshce panamera', 'porsche cayenne',\n",
       "       'porsche boxter', 'renault 12tl', 'renault 5 gtl', 'saab 99e',\n",
       "       'saab 99le', 'saab 99gle', 'subaru', 'subaru dl', 'subaru brz',\n",
       "       'subaru baja', 'subaru r1', 'subaru r2', 'subaru trezia',\n",
       "       'subaru tribeca', 'toyota corona mark ii', 'toyota corona',\n",
       "       'toyota corolla 1200', 'toyota corona hardtop',\n",
       "       'toyota corolla 1600 (sw)', 'toyota carina', 'toyota mark ii',\n",
       "       'toyota corolla', 'toyota corolla liftback',\n",
       "       'toyota celica gt liftback', 'toyota corolla tercel',\n",
       "       'toyota corona liftback', 'toyota starlet', 'toyota tercel',\n",
       "       'toyota cressida', 'toyota celica gt', 'toyouta tercel',\n",
       "       'vokswagen rabbit', 'volkswagen 1131 deluxe sedan',\n",
       "       'volkswagen model 111', 'volkswagen type 3', 'volkswagen 411 (sw)',\n",
       "       'volkswagen super beetle', 'volkswagen dasher', 'vw dasher',\n",
       "       'vw rabbit', 'volkswagen rabbit', 'volkswagen rabbit custom',\n",
       "       'volvo 145e (sw)', 'volvo 144ea', 'volvo 244dl', 'volvo 245',\n",
       "       'volvo 264gl', 'volvo diesel', 'volvo 246'], dtype=object)"
      ]
     },
     "execution_count": 4,
     "metadata": {},
     "output_type": "execute_result"
    }
   ],
   "source": [
    "df['CarName'].unique()"
   ]
  },
  {
   "cell_type": "markdown",
   "id": "7a4c81da",
   "metadata": {
    "id": "7a4c81da"
   },
   "source": [
    "Question/Task: Clean the car name column by spliting it and keeping the first word (company name). What are the unique company car names?\n"
   ]
  },
  {
   "cell_type": "code",
   "execution_count": 5,
   "id": "321ed939",
   "metadata": {},
   "outputs": [],
   "source": [
    "df[\"CarName\"]=df[\"CarName\"].apply(lambda x: x.split(\" \")[0])"
   ]
  },
  {
   "cell_type": "code",
   "execution_count": 6,
   "id": "interracial-chinese",
   "metadata": {
    "id": "interracial-chinese"
   },
   "outputs": [
    {
     "data": {
      "text/plain": [
       "array(['alfa-romero', 'audi', 'bmw', 'chevrolet', 'dodge', 'honda',\n",
       "       'isuzu', 'jaguar', 'maxda', 'mazda', 'buick', 'mercury',\n",
       "       'mitsubishi', 'Nissan', 'nissan', 'peugeot', 'plymouth', 'porsche',\n",
       "       'porcshce', 'renault', 'saab', 'subaru', 'toyota', 'toyouta',\n",
       "       'vokswagen', 'volkswagen', 'vw', 'volvo'], dtype=object)"
      ]
     },
     "execution_count": 6,
     "metadata": {},
     "output_type": "execute_result"
    }
   ],
   "source": [
    "df[\"CarName\"].unique()"
   ]
  },
  {
   "cell_type": "markdown",
   "id": "equal-laser",
   "metadata": {
    "id": "equal-laser"
   },
   "source": [
    "Good! we drastically reduced the number of distinct names.\n",
    "\n",
    "However, we can see some duplicate values in car name:\n",
    "* nissan and Nissan are same\n",
    "* toyota and toyouta are same\n",
    "* vokswagen , volkswagen and vw are same\n",
    "* mazda and maxda are same\n",
    "* porcshce and porsche are same\n",
    "\n",
    "So, let us correct the misspelled names:"
   ]
  },
  {
   "cell_type": "code",
   "execution_count": 7,
   "id": "stone-vector",
   "metadata": {
    "id": "stone-vector",
    "outputId": "1a8039b3-e20a-4e31-e453-e3f2e9bb20e7"
   },
   "outputs": [
    {
     "data": {
      "text/plain": [
       "array(['alfa-romero', 'audi', 'bmw', 'chevrolet', 'dodge', 'honda',\n",
       "       'isuzu', 'jaguar', 'mazda', 'buick', 'mercury', 'mitsubishi',\n",
       "       'Nissan', 'peugeot', 'plymouth', 'porsche', 'renault', 'saab',\n",
       "       'subaru', 'toyota', 'volkswagen', 'volvo'], dtype=object)"
      ]
     },
     "execution_count": 7,
     "metadata": {},
     "output_type": "execute_result"
    }
   ],
   "source": [
    "corrections = {'maxda': 'mazda', 'nissan': 'Nissan', 'porcshce': 'porsche',\n",
    "        'toyouta': 'toyota', 'vokswagen': 'volkswagen', 'vw': 'volkswagen'}\n",
    "df['CarName'] = df['CarName'].replace(corrections)\n",
    "df['CarName'].unique()"
   ]
  },
  {
   "cell_type": "markdown",
   "id": "A1vQpFnzbzoD",
   "metadata": {
    "id": "A1vQpFnzbzoD"
   },
   "source": [
    "Question/Task: Identify all columns with ordinal, nominal, and numeric values and write them as arrays. For guidance, see the example below:"
   ]
  },
  {
   "cell_type": "code",
   "execution_count": 8,
   "id": "a49da38f",
   "metadata": {
    "id": "a49da38f"
   },
   "outputs": [],
   "source": [
    "binary_cols  = ['fueltype', 'aspiration', 'doornumber', 'enginelocation']\n",
    "ordinal_cols = ['symboling','cylindernumber']\n",
    "nominal_cols = ['carbody','drivewheel','enginetype','fuelsystem']\n",
    "numeric_cols = [\"wheelbase\", \"carlength\", \"carwidth\", \"carheight\", \"curbweight\", \"enginesize\", \"boreratio\", \"stroke\",\"compressionratio\", \"horsepower\",\"peakrpm\",\"citympg\",\"highwaympg\"]"
   ]
  },
  {
   "cell_type": "markdown",
   "id": "bbfcbffd",
   "metadata": {
    "id": "bbfcbffd"
   },
   "source": [
    "### Prediction with One Feature"
   ]
  },
  {
   "cell_type": "markdown",
   "id": "Zz0rJYqlctPI",
   "metadata": {
    "id": "Zz0rJYqlctPI"
   },
   "source": [
    "Question/Task: Create a scatter plot for \"horsepower\" and \"price\". Describe what you observe."
   ]
  },
  {
   "cell_type": "code",
   "execution_count": 9,
   "id": "13a56e59",
   "metadata": {
    "id": "13a56e59",
    "outputId": "7f1b2705-50ef-4868-aa14-41f042e2b50e"
   },
   "outputs": [
    {
     "data": {
      "text/plain": [
       "<matplotlib.collections.PathCollection at 0x1fae0771220>"
      ]
     },
     "execution_count": 9,
     "metadata": {},
     "output_type": "execute_result"
    },
    {
     "data": {
      "image/png": "[encoded data removed]",
      "text/plain": [
       "<Figure size 432x288 with 1 Axes>"
      ]
     },
     "metadata": {
      "needs_background": "light"
     },
     "output_type": "display_data"
    }
   ],
   "source": [
    "plt.scatter(df[\"horsepower\"], df[\"price\"] )"
   ]
  },
  {
   "cell_type": "markdown",
   "id": "R9TgKuLoc5xM",
   "metadata": {
    "id": "R9TgKuLoc5xM"
   },
   "source": [
    "We now want to create a Linear Regression to make hoursepower predictions based on the price."
   ]
  },
  {
   "cell_type": "code",
   "execution_count": 10,
   "id": "6cf97045",
   "metadata": {},
   "outputs": [],
   "source": [
    "X=df[[\"horsepower\"]]"
   ]
  },
  {
   "cell_type": "code",
   "execution_count": 11,
   "id": "bb67a5eb",
   "metadata": {},
   "outputs": [],
   "source": [
    "y=df[\"price\"]"
   ]
  },
  {
   "cell_type": "code",
   "execution_count": 12,
   "id": "02944eed",
   "metadata": {},
   "outputs": [],
   "source": [
    "X_train, X_test, y_train, y_test = train_test_split(X, y, test_size=0.2, random_state=21)"
   ]
  },
  {
   "cell_type": "code",
   "execution_count": 13,
   "id": "9341f0cf",
   "metadata": {},
   "outputs": [
    {
     "name": "stdout",
     "output_type": "stream",
     "text": [
      "(164, 1) (41, 1) (164,) (41,)\n"
     ]
    }
   ],
   "source": [
    "print(X_train.shape, X_test.shape, y_train.shape, y_test.shape)"
   ]
  },
  {
   "cell_type": "markdown",
   "id": "jifGPig7dkbE",
   "metadata": {
    "id": "jifGPig7dkbE"
   },
   "source": [
    "Now we can use the LinearRegression method to create and train a model based on our data."
   ]
  },
  {
   "cell_type": "code",
   "execution_count": 14,
   "id": "77_ptZGMdvsB",
   "metadata": {
    "id": "77_ptZGMdvsB"
   },
   "outputs": [],
   "source": [
    "clf = LinearRegression()"
   ]
  },
  {
   "cell_type": "markdown",
   "id": "wS0-9wX3dwfS",
   "metadata": {
    "id": "wS0-9wX3dwfS"
   },
   "source": [
    "Question/Task: Train your Linear Regression model \"clf\" with your training data and print the coefficient of determination (R^2) as trainings score.\n",
    "\n",
    "\n",
    "\n"
   ]
  },
  {
   "cell_type": "code",
   "execution_count": 15,
   "id": "a9eef851",
   "metadata": {},
   "outputs": [
    {
     "data": {
      "text/plain": [
       "LinearRegression()"
      ]
     },
     "execution_count": 15,
     "metadata": {},
     "output_type": "execute_result"
    }
   ],
   "source": [
    "clf.fit(X_train, y_train)"
   ]
  },
  {
   "cell_type": "code",
   "execution_count": 16,
   "id": "839e81e5",
   "metadata": {},
   "outputs": [
    {
     "data": {
      "text/plain": [
       "0.6442722805856911"
      ]
     },
     "execution_count": 16,
     "metadata": {},
     "output_type": "execute_result"
    }
   ],
   "source": [
    "clf.score(X_train, y_train)"
   ]
  },
  {
   "cell_type": "code",
   "execution_count": 17,
   "id": "98697baa",
   "metadata": {
    "id": "98697baa"
   },
   "outputs": [],
   "source": [
    "y_pred=clf.predict(X_test)"
   ]
  },
  {
   "cell_type": "markdown",
   "id": "CqQxyH8TfQpt",
   "metadata": {
    "id": "CqQxyH8TfQpt"
   },
   "source": [
    "Question/Task: Calculate again the coefficient of determination as test score and compare it to the trainings score. What can you observe?"
   ]
  },
  {
   "cell_type": "code",
   "execution_count": 18,
   "id": "f8c63f5b",
   "metadata": {},
   "outputs": [
    {
     "data": {
      "text/plain": [
       "0.6751817601966934"
      ]
     },
     "execution_count": 18,
     "metadata": {},
     "output_type": "execute_result"
    }
   ],
   "source": [
    "clf.score(X_test, y_test)"
   ]
  },
  {
   "cell_type": "code",
   "execution_count": 19,
   "id": "2decff8e",
   "metadata": {},
   "outputs": [
    {
     "name": "stdout",
     "output_type": "stream",
     "text": [
      "0.6751817601966934\n"
     ]
    }
   ],
   "source": [
    "print(r2_score(y_test, y_pred))"
   ]
  },
  {
   "cell_type": "markdown",
   "id": "zLDESYEKfcTy",
   "metadata": {
    "id": "zLDESYEKfcTy"
   },
   "source": [
    "Visualisations help us to better understand our model. Using a scatter plot, we print our model as a red line with our \"horsepower\" and \"price\" data sets."
   ]
  },
  {
   "cell_type": "code",
   "execution_count": 20,
   "id": "99d4cb6b",
   "metadata": {
    "id": "99d4cb6b",
    "outputId": "a8c7f94b-a9f1-4f2a-dfd2-97bc7dae81bd",
    "scrolled": true
   },
   "outputs": [
    {
     "data": {
      "image/png": "[encoded data removed]",
      "text/plain": [
       "<Figure size 432x288 with 1 Axes>"
      ]
     },
     "metadata": {
      "needs_background": "light"
     },
     "output_type": "display_data"
    }
   ],
   "source": [
    "plt.scatter(df[['horsepower']], df['price'])\n",
    "plt.plot(X_test[\"horsepower\"], y_pred, color=\"red\", linewidth=1)\n",
    "plt.show()"
   ]
  },
  {
   "cell_type": "markdown",
   "id": "2E57WLVAfqSn",
   "metadata": {
    "id": "2E57WLVAfqSn"
   },
   "source": [
    "Question/Task: What can you observe?"
   ]
  },
  {
   "cell_type": "markdown",
   "id": "ce331a9c",
   "metadata": {
    "id": "ce331a9c"
   },
   "source": [
    "### Prediction with All Numerical Feature"
   ]
  },
  {
   "cell_type": "markdown",
   "id": "4746e3ae",
   "metadata": {
    "id": "4746e3ae"
   },
   "source": [
    "#### Numerical features"
   ]
  },
  {
   "cell_type": "markdown",
   "id": "IiXi49nhgPIi",
   "metadata": {
    "id": "IiXi49nhgPIi"
   },
   "source": [
    "Until now, we only looked at \"hoursepower\" and \"price\". However, \"hoursepower\" might not be the best variable to predict the price of cars. To get a better understanding of our distribution we use the scatterplot once more and display all variables in relation to our target variable \"price\". In additional, have a look at the correlations between our target variable \"price\" and our features."
   ]
  },
  {
   "cell_type": "code",
   "execution_count": 24,
   "id": "83b33f94",
   "metadata": {
    "id": "83b33f94",
    "outputId": "63c21367-d39d-4572-da4e-0b91ffbcb27c"
   },
   "outputs": [
    {
     "data": {
      "image/png": "[encoded data removed]",
      "text/plain": [
       "<Figure size 864x1080 with 15 Axes>"
      ]
     },
     "metadata": {
      "needs_background": "light"
     },
     "output_type": "display_data"
    }
   ],
   "source": [
    "fig, axs = plt.subplots(5, 3, figsize=(12,15), sharey='all')\n",
    "\n",
    "for i in range(5):\n",
    "    for j in range(3):\n",
    "        k = 3*i+j\n",
    "        ax = axs[i, j]\n",
    "        if k>=13: continue\n",
    "        feat = numeric_cols[k]\n",
    "      \n",
    "        ax.scatter(df[feat], df['price'])\n",
    "        ax.set_xlabel(feat)\n",
    "plt.subplots_adjust(wspace=0, hspace=.3)        "
   ]
  },
  {
   "cell_type": "code",
   "execution_count": 21,
   "id": "3af94386",
   "metadata": {
    "id": "3af94386",
    "outputId": "7e557e56-90ee-4c82-baa0-4f705f2f7ece"
   },
   "outputs": [
    {
     "name": "stdout",
     "output_type": "stream",
     "text": [
      "wheelbase 0.5778155982921501\n",
      "carlength 0.6829200156779625\n",
      "carwidth 0.7593252997415114\n",
      "carheight 0.11933622657049447\n",
      "curbweight 0.8353048793372965\n",
      "enginesize 0.8741448025245119\n",
      "boreratio 0.5531732367984437\n",
      "stroke 0.079443083881931\n",
      "compressionratio 0.06798350579944264\n",
      "horsepower 0.8081388225362217\n",
      "peakrpm -0.08526715027785686\n",
      "citympg -0.68575133602704\n",
      "highwaympg -0.6975990916465568\n"
     ]
    }
   ],
   "source": [
    "for c in numeric_cols:\n",
    "    cor = np.corrcoef(df[c], df['price'])[0][1]\n",
    "    print(c, cor)"
   ]
  },
  {
   "cell_type": "markdown",
   "id": "fFbQDBX6g3PL",
   "metadata": {
    "id": "fFbQDBX6g3PL"
   },
   "source": [
    "Question/Task: What can you observe? Which variables would be in your opinion good to predict the car price and why?"
   ]
  },
  {
   "cell_type": "markdown",
   "id": "9abcbc69",
   "metadata": {},
   "source": [
    "# from my observation, the size of the car affect the price more than any variable as it has the strongest correlation\n",
    "\n",
    "\n",
    "# the varaibles with positive correlation used be used to predict  the car price. but even though some of the variable have negative correlation , all the variables should be used to train the model"
   ]
  },
  {
   "cell_type": "code",
   "execution_count": 22,
   "id": "35863412",
   "metadata": {},
   "outputs": [],
   "source": [
    "X=df[[\"wheelbase\", \"carlength\", \"carwidth\", \"carheight\", \"curbweight\", \"enginesize\", \"boreratio\", \"stroke\",\"compressionratio\", \"horsepower\",\"peakrpm\",\"citympg\",\"highwaympg\"]]"
   ]
  },
  {
   "cell_type": "code",
   "execution_count": 23,
   "id": "bb8d98b9",
   "metadata": {},
   "outputs": [],
   "source": [
    "y=df[\"price\"]"
   ]
  },
  {
   "cell_type": "code",
   "execution_count": 24,
   "id": "da878bac",
   "metadata": {},
   "outputs": [],
   "source": [
    "X_train, X_test, y_train, y_test = train_test_split(X, y, test_size=0.2, random_state=21)"
   ]
  },
  {
   "cell_type": "code",
   "execution_count": 25,
   "id": "419fd8ea",
   "metadata": {},
   "outputs": [
    {
     "name": "stdout",
     "output_type": "stream",
     "text": [
      "(164, 13) (41, 13) (164,) (41,)\n"
     ]
    }
   ],
   "source": [
    "print(X_train.shape, X_test.shape, y_train.shape, y_test.shape)"
   ]
  },
  {
   "cell_type": "code",
   "execution_count": 26,
   "id": "28wU5BiNhjGQ",
   "metadata": {
    "id": "28wU5BiNhjGQ"
   },
   "outputs": [],
   "source": [
    "clf = LinearRegression()"
   ]
  },
  {
   "cell_type": "markdown",
   "id": "JkmO4YgGhk6V",
   "metadata": {
    "id": "JkmO4YgGhk6V"
   },
   "source": [
    "Question/Task: Train your linear regression model and calculate the trainings score as before."
   ]
  },
  {
   "cell_type": "code",
   "execution_count": 27,
   "id": "6940ee0f",
   "metadata": {},
   "outputs": [
    {
     "data": {
      "text/plain": [
       "LinearRegression()"
      ]
     },
     "execution_count": 27,
     "metadata": {},
     "output_type": "execute_result"
    }
   ],
   "source": [
    "clf.fit(X_train, y_train)"
   ]
  },
  {
   "cell_type": "code",
   "execution_count": 28,
   "id": "6f224e31",
   "metadata": {},
   "outputs": [
    {
     "data": {
      "text/plain": [
       "0.8455123586456692"
      ]
     },
     "execution_count": 28,
     "metadata": {},
     "output_type": "execute_result"
    }
   ],
   "source": [
    "clf.score(X_train, y_train)"
   ]
  },
  {
   "cell_type": "markdown",
   "id": "HnHP8DHUhxLp",
   "metadata": {
    "id": "HnHP8DHUhxLp"
   },
   "source": [
    "Question/Task: Now, using X_test, predict the corresponding car prices using your freshly trained model. Afterwards calculate the R^2 test score. "
   ]
  },
  {
   "cell_type": "code",
   "execution_count": 29,
   "id": "0bfbc2ac",
   "metadata": {},
   "outputs": [],
   "source": [
    "y_pred=clf.predict(X_test)"
   ]
  },
  {
   "cell_type": "code",
   "execution_count": 30,
   "id": "78a9241e",
   "metadata": {
    "id": "78a9241e",
    "outputId": "700ba76b-021b-459a-d9bf-73f9ef2b7d68"
   },
   "outputs": [
    {
     "data": {
      "text/plain": [
       "0.8607498331183712"
      ]
     },
     "execution_count": 30,
     "metadata": {},
     "output_type": "execute_result"
    }
   ],
   "source": [
    "clf.score(X_test, y_test)"
   ]
  },
  {
   "cell_type": "code",
   "execution_count": 31,
   "id": "24c82bb8",
   "metadata": {},
   "outputs": [
    {
     "name": "stdout",
     "output_type": "stream",
     "text": [
      "0.8607498331183712\n"
     ]
    }
   ],
   "source": [
    "print(r2_score(y_test,y_pred))"
   ]
  },
  {
   "cell_type": "markdown",
   "id": "CuQi1GbBh_Sq",
   "metadata": {
    "id": "CuQi1GbBh_Sq"
   },
   "source": [
    "Question/Task: Is the trainings score different to the one we had using just \"hoursepower\" as variable? And if there is, what do you think the reason is?"
   ]
  },
  {
   "cell_type": "markdown",
   "id": "f8cb3a7a",
   "metadata": {
    "id": "f8cb3a7a"
   },
   "source": [
    "### Prediction with All Features"
   ]
  },
  {
   "cell_type": "markdown",
   "id": "21d16c3d",
   "metadata": {
    "id": "21d16c3d"
   },
   "source": [
    "#### Binary features"
   ]
  },
  {
   "cell_type": "code",
   "execution_count": 32,
   "id": "52dd6e52",
   "metadata": {
    "id": "52dd6e52",
    "outputId": "2367472b-b200-4dcb-ab9a-b61696de4ed5"
   },
   "outputs": [
    {
     "name": "stdout",
     "output_type": "stream",
     "text": [
      "['fueltype', 'aspiration', 'doornumber', 'enginelocation']\n"
     ]
    }
   ],
   "source": [
    "print(binary_cols)"
   ]
  },
  {
   "cell_type": "code",
   "execution_count": 33,
   "id": "b17517f1",
   "metadata": {
    "id": "b17517f1",
    "outputId": "c3663a70-26bf-4d4f-94d2-c6f10f5fcb4a"
   },
   "outputs": [
    {
     "data": {
      "text/plain": [
       "gas       185\n",
       "diesel     20\n",
       "Name: fueltype, dtype: int64"
      ]
     },
     "execution_count": 33,
     "metadata": {},
     "output_type": "execute_result"
    }
   ],
   "source": [
    "df['fueltype'].value_counts()"
   ]
  },
  {
   "cell_type": "code",
   "execution_count": 34,
   "id": "6daa7046",
   "metadata": {
    "id": "6daa7046"
   },
   "outputs": [],
   "source": [
    "df['fueltype'] = df['fueltype'].map({'gas':0, 'diesel':1})"
   ]
  },
  {
   "cell_type": "code",
   "execution_count": 35,
   "id": "73366870",
   "metadata": {
    "id": "73366870",
    "outputId": "6109f0d0-6990-4609-cf11-2d833f85353e"
   },
   "outputs": [
    {
     "data": {
      "text/plain": [
       "std      168\n",
       "turbo     37\n",
       "Name: aspiration, dtype: int64"
      ]
     },
     "execution_count": 35,
     "metadata": {},
     "output_type": "execute_result"
    }
   ],
   "source": [
    "df['aspiration'].value_counts()"
   ]
  },
  {
   "cell_type": "code",
   "execution_count": 36,
   "id": "generic-silver",
   "metadata": {
    "id": "generic-silver"
   },
   "outputs": [],
   "source": [
    "df['aspiration'] = df['aspiration'].map({'std':0, 'turbo':1})"
   ]
  },
  {
   "cell_type": "markdown",
   "id": "7VplF9p9-HU3",
   "metadata": {
    "id": "7VplF9p9-HU3"
   },
   "source": [
    "Analogously, encode the respective binary features for ['doornumber', 'enginelocation']"
   ]
  },
  {
   "cell_type": "code",
   "execution_count": 37,
   "id": "grand-lighter",
   "metadata": {
    "id": "grand-lighter",
    "outputId": "3bd1f357-d1aa-44a7-bda3-00c9cd8cb71c"
   },
   "outputs": [
    {
     "data": {
      "text/plain": [
       "four    115\n",
       "two      90\n",
       "Name: doornumber, dtype: int64"
      ]
     },
     "execution_count": 37,
     "metadata": {},
     "output_type": "execute_result"
    }
   ],
   "source": [
    "df['doornumber'].value_counts()"
   ]
  },
  {
   "cell_type": "code",
   "execution_count": 38,
   "id": "30206c8b",
   "metadata": {
    "id": "30206c8b"
   },
   "outputs": [],
   "source": [
    "df['doornumber'] =df['doornumber'].map({\"four\": 0, \"two\": 1}) "
   ]
  },
  {
   "cell_type": "code",
   "execution_count": 39,
   "id": "bb39d8f8",
   "metadata": {
    "id": "bb39d8f8",
    "outputId": "5cf1ea17-6d2e-4586-a93c-2d47f3f4c022"
   },
   "outputs": [
    {
     "data": {
      "text/plain": [
       "front    202\n",
       "rear       3\n",
       "Name: enginelocation, dtype: int64"
      ]
     },
     "execution_count": 39,
     "metadata": {},
     "output_type": "execute_result"
    }
   ],
   "source": [
    "df['enginelocation'].value_counts()"
   ]
  },
  {
   "cell_type": "code",
   "execution_count": 40,
   "id": "0ba97d00",
   "metadata": {
    "id": "0ba97d00"
   },
   "outputs": [],
   "source": [
    "df['enginelocation'] =df['enginelocation'].map({\"front\" : 0, \"rear\": 1}) "
   ]
  },
  {
   "cell_type": "markdown",
   "id": "a62bbdf4",
   "metadata": {
    "id": "a62bbdf4"
   },
   "source": [
    "#### Ordinal Features"
   ]
  },
  {
   "cell_type": "markdown",
   "id": "JftBC6R_-zIt",
   "metadata": {
    "id": "JftBC6R_-zIt"
   },
   "source": [
    "For the ordinal features, we need to map string values to numerical features for the *cylindernumber*, *symboling* is already in numerical format."
   ]
  },
  {
   "cell_type": "code",
   "execution_count": 41,
   "id": "6cc862b6",
   "metadata": {
    "id": "6cc862b6",
    "outputId": "08be4604-3749-4c2e-8ebb-ae03f25a76e5"
   },
   "outputs": [
    {
     "data": {
      "text/plain": [
       " 0    67\n",
       " 1    54\n",
       " 2    32\n",
       " 3    27\n",
       "-1    22\n",
       "-2     3\n",
       "Name: symboling, dtype: int64"
      ]
     },
     "execution_count": 41,
     "metadata": {},
     "output_type": "execute_result"
    }
   ],
   "source": [
    "df['symboling'].value_counts()"
   ]
  },
  {
   "cell_type": "code",
   "execution_count": 42,
   "id": "moved-flexibility",
   "metadata": {
    "id": "moved-flexibility",
    "outputId": "7990f836-6679-42ad-8183-bfda66061426"
   },
   "outputs": [
    {
     "data": {
      "text/plain": [
       "four      159\n",
       "six        24\n",
       "five       11\n",
       "eight       5\n",
       "two         4\n",
       "three       1\n",
       "twelve      1\n",
       "Name: cylindernumber, dtype: int64"
      ]
     },
     "execution_count": 42,
     "metadata": {},
     "output_type": "execute_result"
    }
   ],
   "source": [
    "df['cylindernumber'].value_counts()"
   ]
  },
  {
   "cell_type": "code",
   "execution_count": 43,
   "id": "d40251bb",
   "metadata": {
    "id": "d40251bb"
   },
   "outputs": [],
   "source": [
    "dic = {'four':4, 'six':6, 'five':5, 'eight':8, 'two':2, 'three':3, 'twelve': 12}\n",
    "df['cylindernumber'] = df['cylindernumber'].replace(dic)"
   ]
  },
  {
   "cell_type": "markdown",
   "id": "83f5be24",
   "metadata": {
    "id": "83f5be24"
   },
   "source": [
    "#### Preparing Data Set"
   ]
  },
  {
   "cell_type": "markdown",
   "id": "vTF3-BBnjJUP",
   "metadata": {
    "id": "vTF3-BBnjJUP"
   },
   "source": [
    "Before, we differentiated between the different data types. To train a model based on all features, we have to prepare the data."
   ]
  },
  {
   "cell_type": "code",
   "execution_count": 44,
   "id": "superb-ready",
   "metadata": {
    "id": "superb-ready",
    "outputId": "9076eea2-08e4-4a4a-fe24-a0da0616dc1a"
   },
   "outputs": [
    {
     "data": {
      "text/plain": [
       "sedan          96\n",
       "hatchback      70\n",
       "wagon          25\n",
       "hardtop         8\n",
       "convertible     6\n",
       "Name: carbody, dtype: int64"
      ]
     },
     "execution_count": 44,
     "metadata": {},
     "output_type": "execute_result"
    }
   ],
   "source": [
    "df['carbody'].value_counts()"
   ]
  },
  {
   "cell_type": "code",
   "execution_count": 45,
   "id": "caf227bc",
   "metadata": {
    "id": "caf227bc",
    "outputId": "ba2ec271-a509-4ea3-d09a-b24ecf505f23"
   },
   "outputs": [
    {
     "data": {
      "text/html": [
       "<div>\n",
       "<style scoped>\n",
       "    .dataframe tbody tr th:only-of-type {\n",
       "        vertical-align: middle;\n",
       "    }\n",
       "\n",
       "    .dataframe tbody tr th {\n",
       "        vertical-align: top;\n",
       "    }\n",
       "\n",
       "    .dataframe thead th {\n",
       "        text-align: right;\n",
       "    }\n",
       "</style>\n",
       "<table border=\"1\" class=\"dataframe\">\n",
       "  <thead>\n",
       "    <tr style=\"text-align: right;\">\n",
       "      <th></th>\n",
       "      <th>carbody_convertible</th>\n",
       "      <th>carbody_hardtop</th>\n",
       "      <th>carbody_hatchback</th>\n",
       "      <th>carbody_sedan</th>\n",
       "      <th>carbody_wagon</th>\n",
       "    </tr>\n",
       "  </thead>\n",
       "  <tbody>\n",
       "    <tr>\n",
       "      <th>0</th>\n",
       "      <td>1</td>\n",
       "      <td>0</td>\n",
       "      <td>0</td>\n",
       "      <td>0</td>\n",
       "      <td>0</td>\n",
       "    </tr>\n",
       "    <tr>\n",
       "      <th>1</th>\n",
       "      <td>1</td>\n",
       "      <td>0</td>\n",
       "      <td>0</td>\n",
       "      <td>0</td>\n",
       "      <td>0</td>\n",
       "    </tr>\n",
       "    <tr>\n",
       "      <th>2</th>\n",
       "      <td>0</td>\n",
       "      <td>0</td>\n",
       "      <td>1</td>\n",
       "      <td>0</td>\n",
       "      <td>0</td>\n",
       "    </tr>\n",
       "    <tr>\n",
       "      <th>3</th>\n",
       "      <td>0</td>\n",
       "      <td>0</td>\n",
       "      <td>0</td>\n",
       "      <td>1</td>\n",
       "      <td>0</td>\n",
       "    </tr>\n",
       "    <tr>\n",
       "      <th>4</th>\n",
       "      <td>0</td>\n",
       "      <td>0</td>\n",
       "      <td>0</td>\n",
       "      <td>1</td>\n",
       "      <td>0</td>\n",
       "    </tr>\n",
       "  </tbody>\n",
       "</table>\n",
       "</div>"
      ],
      "text/plain": [
       "   carbody_convertible  carbody_hardtop  carbody_hatchback  carbody_sedan  \\\n",
       "0                    1                0                  0              0   \n",
       "1                    1                0                  0              0   \n",
       "2                    0                0                  1              0   \n",
       "3                    0                0                  0              1   \n",
       "4                    0                0                  0              1   \n",
       "\n",
       "   carbody_wagon  \n",
       "0              0  \n",
       "1              0  \n",
       "2              0  \n",
       "3              0  \n",
       "4              0  "
      ]
     },
     "execution_count": 45,
     "metadata": {},
     "output_type": "execute_result"
    }
   ],
   "source": [
    "df_CB = pd.get_dummies(df['carbody'], prefix='carbody')\n",
    "df_CB.head()"
   ]
  },
  {
   "cell_type": "code",
   "execution_count": 46,
   "id": "descending-excellence",
   "metadata": {
    "id": "descending-excellence",
    "outputId": "43c65b79-110f-4060-ddfa-8439fd2ef610"
   },
   "outputs": [
    {
     "data": {
      "text/plain": [
       "fwd    120\n",
       "rwd     76\n",
       "4wd      9\n",
       "Name: drivewheel, dtype: int64"
      ]
     },
     "execution_count": 46,
     "metadata": {},
     "output_type": "execute_result"
    }
   ],
   "source": [
    "df['drivewheel'].value_counts()"
   ]
  },
  {
   "cell_type": "markdown",
   "id": "L8f0M_4YjhOm",
   "metadata": {
    "id": "L8f0M_4YjhOm"
   },
   "source": [
    "In the column \"drivewheel\" we have categorical values. However, we can only build a linear regression model with numerical values. To convert categorical values into numerical values we can use the pandas method \"get_dummies\"."
   ]
  },
  {
   "cell_type": "code",
   "execution_count": 47,
   "id": "35dddaa1",
   "metadata": {
    "id": "35dddaa1",
    "outputId": "f3742195-6e26-48ea-9620-bd3b45d40ad3"
   },
   "outputs": [
    {
     "data": {
      "text/html": [
       "<div>\n",
       "<style scoped>\n",
       "    .dataframe tbody tr th:only-of-type {\n",
       "        vertical-align: middle;\n",
       "    }\n",
       "\n",
       "    .dataframe tbody tr th {\n",
       "        vertical-align: top;\n",
       "    }\n",
       "\n",
       "    .dataframe thead th {\n",
       "        text-align: right;\n",
       "    }\n",
       "</style>\n",
       "<table border=\"1\" class=\"dataframe\">\n",
       "  <thead>\n",
       "    <tr style=\"text-align: right;\">\n",
       "      <th></th>\n",
       "      <th>drivewheel_4wd</th>\n",
       "      <th>drivewheel_fwd</th>\n",
       "      <th>drivewheel_rwd</th>\n",
       "    </tr>\n",
       "  </thead>\n",
       "  <tbody>\n",
       "    <tr>\n",
       "      <th>0</th>\n",
       "      <td>0</td>\n",
       "      <td>0</td>\n",
       "      <td>1</td>\n",
       "    </tr>\n",
       "    <tr>\n",
       "      <th>1</th>\n",
       "      <td>0</td>\n",
       "      <td>0</td>\n",
       "      <td>1</td>\n",
       "    </tr>\n",
       "    <tr>\n",
       "      <th>2</th>\n",
       "      <td>0</td>\n",
       "      <td>0</td>\n",
       "      <td>1</td>\n",
       "    </tr>\n",
       "    <tr>\n",
       "      <th>3</th>\n",
       "      <td>0</td>\n",
       "      <td>1</td>\n",
       "      <td>0</td>\n",
       "    </tr>\n",
       "    <tr>\n",
       "      <th>4</th>\n",
       "      <td>1</td>\n",
       "      <td>0</td>\n",
       "      <td>0</td>\n",
       "    </tr>\n",
       "  </tbody>\n",
       "</table>\n",
       "</div>"
      ],
      "text/plain": [
       "   drivewheel_4wd  drivewheel_fwd  drivewheel_rwd\n",
       "0               0               0               1\n",
       "1               0               0               1\n",
       "2               0               0               1\n",
       "3               0               1               0\n",
       "4               1               0               0"
      ]
     },
     "execution_count": 47,
     "metadata": {},
     "output_type": "execute_result"
    }
   ],
   "source": [
    "df_DW = pd.get_dummies(df['drivewheel'], prefix='drivewheel')\n",
    "df_DW.head()"
   ]
  },
  {
   "cell_type": "code",
   "execution_count": 48,
   "id": "imported-melissa",
   "metadata": {
    "id": "imported-melissa",
    "outputId": "09504a2e-a1b3-47e6-d990-bf2feecaed04"
   },
   "outputs": [
    {
     "data": {
      "text/plain": [
       "ohc      148\n",
       "ohcf      15\n",
       "ohcv      13\n",
       "dohc      12\n",
       "l         12\n",
       "rotor      4\n",
       "dohcv      1\n",
       "Name: enginetype, dtype: int64"
      ]
     },
     "execution_count": 48,
     "metadata": {},
     "output_type": "execute_result"
    }
   ],
   "source": [
    "df['enginetype'].value_counts()"
   ]
  },
  {
   "cell_type": "markdown",
   "id": "ye1UTNBjjwPz",
   "metadata": {
    "id": "ye1UTNBjjwPz"
   },
   "source": [
    "The same we do for the \"enginetype\" column."
   ]
  },
  {
   "cell_type": "code",
   "execution_count": 49,
   "id": "d70f83e6",
   "metadata": {
    "id": "d70f83e6",
    "outputId": "58c4beb6-5c79-405c-f8df-82c7cb131651"
   },
   "outputs": [
    {
     "data": {
      "text/html": [
       "<div>\n",
       "<style scoped>\n",
       "    .dataframe tbody tr th:only-of-type {\n",
       "        vertical-align: middle;\n",
       "    }\n",
       "\n",
       "    .dataframe tbody tr th {\n",
       "        vertical-align: top;\n",
       "    }\n",
       "\n",
       "    .dataframe thead th {\n",
       "        text-align: right;\n",
       "    }\n",
       "</style>\n",
       "<table border=\"1\" class=\"dataframe\">\n",
       "  <thead>\n",
       "    <tr style=\"text-align: right;\">\n",
       "      <th></th>\n",
       "      <th>enginetype_dohc</th>\n",
       "      <th>enginetype_dohcv</th>\n",
       "      <th>enginetype_l</th>\n",
       "      <th>enginetype_ohc</th>\n",
       "      <th>enginetype_ohcf</th>\n",
       "      <th>enginetype_ohcv</th>\n",
       "      <th>enginetype_rotor</th>\n",
       "    </tr>\n",
       "  </thead>\n",
       "  <tbody>\n",
       "    <tr>\n",
       "      <th>0</th>\n",
       "      <td>1</td>\n",
       "      <td>0</td>\n",
       "      <td>0</td>\n",
       "      <td>0</td>\n",
       "      <td>0</td>\n",
       "      <td>0</td>\n",
       "      <td>0</td>\n",
       "    </tr>\n",
       "    <tr>\n",
       "      <th>1</th>\n",
       "      <td>1</td>\n",
       "      <td>0</td>\n",
       "      <td>0</td>\n",
       "      <td>0</td>\n",
       "      <td>0</td>\n",
       "      <td>0</td>\n",
       "      <td>0</td>\n",
       "    </tr>\n",
       "    <tr>\n",
       "      <th>2</th>\n",
       "      <td>0</td>\n",
       "      <td>0</td>\n",
       "      <td>0</td>\n",
       "      <td>0</td>\n",
       "      <td>0</td>\n",
       "      <td>1</td>\n",
       "      <td>0</td>\n",
       "    </tr>\n",
       "    <tr>\n",
       "      <th>3</th>\n",
       "      <td>0</td>\n",
       "      <td>0</td>\n",
       "      <td>0</td>\n",
       "      <td>1</td>\n",
       "      <td>0</td>\n",
       "      <td>0</td>\n",
       "      <td>0</td>\n",
       "    </tr>\n",
       "    <tr>\n",
       "      <th>4</th>\n",
       "      <td>0</td>\n",
       "      <td>0</td>\n",
       "      <td>0</td>\n",
       "      <td>1</td>\n",
       "      <td>0</td>\n",
       "      <td>0</td>\n",
       "      <td>0</td>\n",
       "    </tr>\n",
       "  </tbody>\n",
       "</table>\n",
       "</div>"
      ],
      "text/plain": [
       "   enginetype_dohc  enginetype_dohcv  enginetype_l  enginetype_ohc  \\\n",
       "0                1                 0             0               0   \n",
       "1                1                 0             0               0   \n",
       "2                0                 0             0               0   \n",
       "3                0                 0             0               1   \n",
       "4                0                 0             0               1   \n",
       "\n",
       "   enginetype_ohcf  enginetype_ohcv  enginetype_rotor  \n",
       "0                0                0                 0  \n",
       "1                0                0                 0  \n",
       "2                0                1                 0  \n",
       "3                0                0                 0  \n",
       "4                0                0                 0  "
      ]
     },
     "execution_count": 49,
     "metadata": {},
     "output_type": "execute_result"
    }
   ],
   "source": [
    "df_ET = pd.get_dummies(df['enginetype'], prefix='enginetype')\n",
    "df_ET.head()"
   ]
  },
  {
   "cell_type": "code",
   "execution_count": 50,
   "id": "dressed-paint",
   "metadata": {
    "id": "dressed-paint",
    "outputId": "0a58b824-f323-488c-d32b-9ce9d49bf3f6"
   },
   "outputs": [
    {
     "data": {
      "text/plain": [
       "mpfi    94\n",
       "2bbl    66\n",
       "idi     20\n",
       "1bbl    11\n",
       "spdi     9\n",
       "4bbl     3\n",
       "mfi      1\n",
       "spfi     1\n",
       "Name: fuelsystem, dtype: int64"
      ]
     },
     "execution_count": 50,
     "metadata": {},
     "output_type": "execute_result"
    }
   ],
   "source": [
    "df['fuelsystem'].value_counts()"
   ]
  },
  {
   "cell_type": "code",
   "execution_count": 51,
   "id": "8118ccb7",
   "metadata": {
    "id": "8118ccb7",
    "outputId": "62083bd4-770d-4c41-8e74-58314b4c7bb3"
   },
   "outputs": [
    {
     "data": {
      "text/html": [
       "<div>\n",
       "<style scoped>\n",
       "    .dataframe tbody tr th:only-of-type {\n",
       "        vertical-align: middle;\n",
       "    }\n",
       "\n",
       "    .dataframe tbody tr th {\n",
       "        vertical-align: top;\n",
       "    }\n",
       "\n",
       "    .dataframe thead th {\n",
       "        text-align: right;\n",
       "    }\n",
       "</style>\n",
       "<table border=\"1\" class=\"dataframe\">\n",
       "  <thead>\n",
       "    <tr style=\"text-align: right;\">\n",
       "      <th></th>\n",
       "      <th>fuelsystem_1bbl</th>\n",
       "      <th>fuelsystem_2bbl</th>\n",
       "      <th>fuelsystem_4bbl</th>\n",
       "      <th>fuelsystem_idi</th>\n",
       "      <th>fuelsystem_mfi</th>\n",
       "      <th>fuelsystem_mpfi</th>\n",
       "      <th>fuelsystem_spdi</th>\n",
       "      <th>fuelsystem_spfi</th>\n",
       "    </tr>\n",
       "  </thead>\n",
       "  <tbody>\n",
       "    <tr>\n",
       "      <th>0</th>\n",
       "      <td>0</td>\n",
       "      <td>0</td>\n",
       "      <td>0</td>\n",
       "      <td>0</td>\n",
       "      <td>0</td>\n",
       "      <td>1</td>\n",
       "      <td>0</td>\n",
       "      <td>0</td>\n",
       "    </tr>\n",
       "    <tr>\n",
       "      <th>1</th>\n",
       "      <td>0</td>\n",
       "      <td>0</td>\n",
       "      <td>0</td>\n",
       "      <td>0</td>\n",
       "      <td>0</td>\n",
       "      <td>1</td>\n",
       "      <td>0</td>\n",
       "      <td>0</td>\n",
       "    </tr>\n",
       "    <tr>\n",
       "      <th>2</th>\n",
       "      <td>0</td>\n",
       "      <td>0</td>\n",
       "      <td>0</td>\n",
       "      <td>0</td>\n",
       "      <td>0</td>\n",
       "      <td>1</td>\n",
       "      <td>0</td>\n",
       "      <td>0</td>\n",
       "    </tr>\n",
       "    <tr>\n",
       "      <th>3</th>\n",
       "      <td>0</td>\n",
       "      <td>0</td>\n",
       "      <td>0</td>\n",
       "      <td>0</td>\n",
       "      <td>0</td>\n",
       "      <td>1</td>\n",
       "      <td>0</td>\n",
       "      <td>0</td>\n",
       "    </tr>\n",
       "    <tr>\n",
       "      <th>4</th>\n",
       "      <td>0</td>\n",
       "      <td>0</td>\n",
       "      <td>0</td>\n",
       "      <td>0</td>\n",
       "      <td>0</td>\n",
       "      <td>1</td>\n",
       "      <td>0</td>\n",
       "      <td>0</td>\n",
       "    </tr>\n",
       "  </tbody>\n",
       "</table>\n",
       "</div>"
      ],
      "text/plain": [
       "   fuelsystem_1bbl  fuelsystem_2bbl  fuelsystem_4bbl  fuelsystem_idi  \\\n",
       "0                0                0                0               0   \n",
       "1                0                0                0               0   \n",
       "2                0                0                0               0   \n",
       "3                0                0                0               0   \n",
       "4                0                0                0               0   \n",
       "\n",
       "   fuelsystem_mfi  fuelsystem_mpfi  fuelsystem_spdi  fuelsystem_spfi  \n",
       "0               0                1                0                0  \n",
       "1               0                1                0                0  \n",
       "2               0                1                0                0  \n",
       "3               0                1                0                0  \n",
       "4               0                1                0                0  "
      ]
     },
     "execution_count": 51,
     "metadata": {},
     "output_type": "execute_result"
    }
   ],
   "source": [
    "df_FS = pd.get_dummies(df['fuelsystem'], prefix='fuelsystem')\n",
    "df_FS.head()"
   ]
  },
  {
   "cell_type": "markdown",
   "id": "FLIYqtBsj7nZ",
   "metadata": {
    "id": "FLIYqtBsj7nZ"
   },
   "source": [
    "We now combine these new tables into one data frame."
   ]
  },
  {
   "cell_type": "code",
   "execution_count": 52,
   "id": "human-wisdom",
   "metadata": {
    "id": "human-wisdom",
    "outputId": "ccb939f2-dfa9-4453-a0ef-8c64b87b15fa"
   },
   "outputs": [
    {
     "data": {
      "text/plain": [
       "(205, 23)"
      ]
     },
     "execution_count": 52,
     "metadata": {},
     "output_type": "execute_result"
    }
   ],
   "source": [
    "df2 = pd.concat([df_CB, df_DW, df_ET, df_FS], axis=1)\n",
    "df2.shape"
   ]
  },
  {
   "cell_type": "code",
   "execution_count": 53,
   "id": "85d44f69",
   "metadata": {
    "id": "85d44f69",
    "outputId": "7dbceeff-8343-45ae-e060-a301279c712c"
   },
   "outputs": [
    {
     "data": {
      "text/plain": [
       "Index(['carbody_convertible', 'carbody_hardtop', 'carbody_hatchback',\n",
       "       'carbody_sedan', 'carbody_wagon', 'drivewheel_4wd', 'drivewheel_fwd',\n",
       "       'drivewheel_rwd', 'enginetype_dohc', 'enginetype_dohcv', 'enginetype_l',\n",
       "       'enginetype_ohc', 'enginetype_ohcf', 'enginetype_ohcv',\n",
       "       'enginetype_rotor', 'fuelsystem_1bbl', 'fuelsystem_2bbl',\n",
       "       'fuelsystem_4bbl', 'fuelsystem_idi', 'fuelsystem_mfi',\n",
       "       'fuelsystem_mpfi', 'fuelsystem_spdi', 'fuelsystem_spfi'],\n",
       "      dtype='object')"
      ]
     },
     "execution_count": 53,
     "metadata": {},
     "output_type": "execute_result"
    }
   ],
   "source": [
    "df2.columns"
   ]
  },
  {
   "cell_type": "code",
   "execution_count": 54,
   "id": "f6eb6768",
   "metadata": {
    "id": "f6eb6768",
    "outputId": "9350ea60-98dd-4f2c-fb57-b8d517e63731"
   },
   "outputs": [
    {
     "data": {
      "text/plain": [
       "Index(['car_ID', 'symboling', 'CarName', 'fueltype', 'aspiration',\n",
       "       'doornumber', 'carbody', 'drivewheel', 'enginelocation', 'wheelbase',\n",
       "       'carlength', 'carwidth', 'carheight', 'curbweight', 'enginetype',\n",
       "       'cylindernumber', 'enginesize', 'fuelsystem', 'boreratio', 'stroke',\n",
       "       'compressionratio', 'horsepower', 'peakrpm', 'citympg', 'highwaympg',\n",
       "       'price'],\n",
       "      dtype='object')"
      ]
     },
     "execution_count": 54,
     "metadata": {},
     "output_type": "execute_result"
    }
   ],
   "source": [
    "df.columns"
   ]
  },
  {
   "cell_type": "code",
   "execution_count": 55,
   "id": "d48d2e88",
   "metadata": {
    "id": "d48d2e88",
    "outputId": "c4d4ad95-be7c-4a88-c78a-ec223de51c93"
   },
   "outputs": [
    {
     "name": "stdout",
     "output_type": "stream",
     "text": [
      "(205, 45)\n"
     ]
    },
    {
     "data": {
      "text/html": [
       "<div>\n",
       "<style scoped>\n",
       "    .dataframe tbody tr th:only-of-type {\n",
       "        vertical-align: middle;\n",
       "    }\n",
       "\n",
       "    .dataframe tbody tr th {\n",
       "        vertical-align: top;\n",
       "    }\n",
       "\n",
       "    .dataframe thead th {\n",
       "        text-align: right;\n",
       "    }\n",
       "</style>\n",
       "<table border=\"1\" class=\"dataframe\">\n",
       "  <thead>\n",
       "    <tr style=\"text-align: right;\">\n",
       "      <th></th>\n",
       "      <th>car_ID</th>\n",
       "      <th>symboling</th>\n",
       "      <th>CarName</th>\n",
       "      <th>fueltype</th>\n",
       "      <th>aspiration</th>\n",
       "      <th>doornumber</th>\n",
       "      <th>enginelocation</th>\n",
       "      <th>wheelbase</th>\n",
       "      <th>carlength</th>\n",
       "      <th>carwidth</th>\n",
       "      <th>...</th>\n",
       "      <th>enginetype_ohcv</th>\n",
       "      <th>enginetype_rotor</th>\n",
       "      <th>fuelsystem_1bbl</th>\n",
       "      <th>fuelsystem_2bbl</th>\n",
       "      <th>fuelsystem_4bbl</th>\n",
       "      <th>fuelsystem_idi</th>\n",
       "      <th>fuelsystem_mfi</th>\n",
       "      <th>fuelsystem_mpfi</th>\n",
       "      <th>fuelsystem_spdi</th>\n",
       "      <th>fuelsystem_spfi</th>\n",
       "    </tr>\n",
       "  </thead>\n",
       "  <tbody>\n",
       "    <tr>\n",
       "      <th>0</th>\n",
       "      <td>1</td>\n",
       "      <td>3</td>\n",
       "      <td>alfa-romero</td>\n",
       "      <td>0</td>\n",
       "      <td>0</td>\n",
       "      <td>1</td>\n",
       "      <td>0</td>\n",
       "      <td>88.6</td>\n",
       "      <td>168.8</td>\n",
       "      <td>64.1</td>\n",
       "      <td>...</td>\n",
       "      <td>0</td>\n",
       "      <td>0</td>\n",
       "      <td>0</td>\n",
       "      <td>0</td>\n",
       "      <td>0</td>\n",
       "      <td>0</td>\n",
       "      <td>0</td>\n",
       "      <td>1</td>\n",
       "      <td>0</td>\n",
       "      <td>0</td>\n",
       "    </tr>\n",
       "    <tr>\n",
       "      <th>1</th>\n",
       "      <td>2</td>\n",
       "      <td>3</td>\n",
       "      <td>alfa-romero</td>\n",
       "      <td>0</td>\n",
       "      <td>0</td>\n",
       "      <td>1</td>\n",
       "      <td>0</td>\n",
       "      <td>88.6</td>\n",
       "      <td>168.8</td>\n",
       "      <td>64.1</td>\n",
       "      <td>...</td>\n",
       "      <td>0</td>\n",
       "      <td>0</td>\n",
       "      <td>0</td>\n",
       "      <td>0</td>\n",
       "      <td>0</td>\n",
       "      <td>0</td>\n",
       "      <td>0</td>\n",
       "      <td>1</td>\n",
       "      <td>0</td>\n",
       "      <td>0</td>\n",
       "    </tr>\n",
       "    <tr>\n",
       "      <th>2</th>\n",
       "      <td>3</td>\n",
       "      <td>1</td>\n",
       "      <td>alfa-romero</td>\n",
       "      <td>0</td>\n",
       "      <td>0</td>\n",
       "      <td>1</td>\n",
       "      <td>0</td>\n",
       "      <td>94.5</td>\n",
       "      <td>171.2</td>\n",
       "      <td>65.5</td>\n",
       "      <td>...</td>\n",
       "      <td>1</td>\n",
       "      <td>0</td>\n",
       "      <td>0</td>\n",
       "      <td>0</td>\n",
       "      <td>0</td>\n",
       "      <td>0</td>\n",
       "      <td>0</td>\n",
       "      <td>1</td>\n",
       "      <td>0</td>\n",
       "      <td>0</td>\n",
       "    </tr>\n",
       "    <tr>\n",
       "      <th>3</th>\n",
       "      <td>4</td>\n",
       "      <td>2</td>\n",
       "      <td>audi</td>\n",
       "      <td>0</td>\n",
       "      <td>0</td>\n",
       "      <td>0</td>\n",
       "      <td>0</td>\n",
       "      <td>99.8</td>\n",
       "      <td>176.6</td>\n",
       "      <td>66.2</td>\n",
       "      <td>...</td>\n",
       "      <td>0</td>\n",
       "      <td>0</td>\n",
       "      <td>0</td>\n",
       "      <td>0</td>\n",
       "      <td>0</td>\n",
       "      <td>0</td>\n",
       "      <td>0</td>\n",
       "      <td>1</td>\n",
       "      <td>0</td>\n",
       "      <td>0</td>\n",
       "    </tr>\n",
       "    <tr>\n",
       "      <th>4</th>\n",
       "      <td>5</td>\n",
       "      <td>2</td>\n",
       "      <td>audi</td>\n",
       "      <td>0</td>\n",
       "      <td>0</td>\n",
       "      <td>0</td>\n",
       "      <td>0</td>\n",
       "      <td>99.4</td>\n",
       "      <td>176.6</td>\n",
       "      <td>66.4</td>\n",
       "      <td>...</td>\n",
       "      <td>0</td>\n",
       "      <td>0</td>\n",
       "      <td>0</td>\n",
       "      <td>0</td>\n",
       "      <td>0</td>\n",
       "      <td>0</td>\n",
       "      <td>0</td>\n",
       "      <td>1</td>\n",
       "      <td>0</td>\n",
       "      <td>0</td>\n",
       "    </tr>\n",
       "  </tbody>\n",
       "</table>\n",
       "<p>5 rows × 45 columns</p>\n",
       "</div>"
      ],
      "text/plain": [
       "   car_ID  symboling      CarName  fueltype  aspiration  doornumber  \\\n",
       "0       1          3  alfa-romero         0           0           1   \n",
       "1       2          3  alfa-romero         0           0           1   \n",
       "2       3          1  alfa-romero         0           0           1   \n",
       "3       4          2         audi         0           0           0   \n",
       "4       5          2         audi         0           0           0   \n",
       "\n",
       "   enginelocation  wheelbase  carlength  carwidth  ...  enginetype_ohcv  \\\n",
       "0               0       88.6      168.8      64.1  ...                0   \n",
       "1               0       88.6      168.8      64.1  ...                0   \n",
       "2               0       94.5      171.2      65.5  ...                1   \n",
       "3               0       99.8      176.6      66.2  ...                0   \n",
       "4               0       99.4      176.6      66.4  ...                0   \n",
       "\n",
       "   enginetype_rotor  fuelsystem_1bbl  fuelsystem_2bbl  fuelsystem_4bbl  \\\n",
       "0                 0                0                0                0   \n",
       "1                 0                0                0                0   \n",
       "2                 0                0                0                0   \n",
       "3                 0                0                0                0   \n",
       "4                 0                0                0                0   \n",
       "\n",
       "   fuelsystem_idi  fuelsystem_mfi  fuelsystem_mpfi  fuelsystem_spdi  \\\n",
       "0               0               0                1                0   \n",
       "1               0               0                1                0   \n",
       "2               0               0                1                0   \n",
       "3               0               0                1                0   \n",
       "4               0               0                1                0   \n",
       "\n",
       "   fuelsystem_spfi  \n",
       "0                0  \n",
       "1                0  \n",
       "2                0  \n",
       "3                0  \n",
       "4                0  \n",
       "\n",
       "[5 rows x 45 columns]"
      ]
     },
     "execution_count": 55,
     "metadata": {},
     "output_type": "execute_result"
    }
   ],
   "source": [
    "df3 = pd.concat([df, df2], axis=1)\n",
    "df3 = df3.drop(columns=['carbody','drivewheel','enginetype','fuelsystem'])\n",
    "print(df3.shape)\n",
    "df3.head()"
   ]
  },
  {
   "cell_type": "code",
   "execution_count": 56,
   "id": "4d2e7a93",
   "metadata": {
    "id": "4d2e7a93",
    "outputId": "ea0ed514-5357-4ffd-fc1c-2dc3ba22405d"
   },
   "outputs": [
    {
     "data": {
      "text/plain": [
       "Index(['car_ID', 'symboling', 'CarName', 'fueltype', 'aspiration',\n",
       "       'doornumber', 'enginelocation', 'wheelbase', 'carlength', 'carwidth',\n",
       "       'carheight', 'curbweight', 'cylindernumber', 'enginesize', 'boreratio',\n",
       "       'stroke', 'compressionratio', 'horsepower', 'peakrpm', 'citympg',\n",
       "       'highwaympg', 'price', 'carbody_convertible', 'carbody_hardtop',\n",
       "       'carbody_hatchback', 'carbody_sedan', 'carbody_wagon', 'drivewheel_4wd',\n",
       "       'drivewheel_fwd', 'drivewheel_rwd', 'enginetype_dohc',\n",
       "       'enginetype_dohcv', 'enginetype_l', 'enginetype_ohc', 'enginetype_ohcf',\n",
       "       'enginetype_ohcv', 'enginetype_rotor', 'fuelsystem_1bbl',\n",
       "       'fuelsystem_2bbl', 'fuelsystem_4bbl', 'fuelsystem_idi',\n",
       "       'fuelsystem_mfi', 'fuelsystem_mpfi', 'fuelsystem_spdi',\n",
       "       'fuelsystem_spfi'],\n",
       "      dtype='object')"
      ]
     },
     "execution_count": 56,
     "metadata": {},
     "output_type": "execute_result"
    }
   ],
   "source": [
    "df3.columns"
   ]
  },
  {
   "cell_type": "code",
   "execution_count": 57,
   "id": "329821c8",
   "metadata": {
    "id": "329821c8",
    "outputId": "f5732bb0-54a0-42fc-f539-1f523aeba8f0"
   },
   "outputs": [
    {
     "name": "stdout",
     "output_type": "stream",
     "text": [
      "42\n",
      "['fueltype', 'aspiration', 'doornumber', 'enginelocation', 'symboling', 'cylindernumber', 'wheelbase', 'carlength', 'carwidth', 'carheight', 'curbweight', 'enginesize', 'boreratio', 'stroke', 'compressionratio', 'horsepower', 'peakrpm', 'citympg', 'highwaympg', 'carbody_convertible', 'carbody_hardtop', 'carbody_hatchback', 'carbody_sedan', 'carbody_wagon', 'drivewheel_4wd', 'drivewheel_fwd', 'drivewheel_rwd', 'enginetype_dohc', 'enginetype_dohcv', 'enginetype_l', 'enginetype_ohc', 'enginetype_ohcf', 'enginetype_ohcv', 'enginetype_rotor', 'fuelsystem_1bbl', 'fuelsystem_2bbl', 'fuelsystem_4bbl', 'fuelsystem_idi', 'fuelsystem_mfi', 'fuelsystem_mpfi', 'fuelsystem_spdi', 'fuelsystem_spfi']\n"
     ]
    }
   ],
   "source": [
    "model = binary_cols + ordinal_cols + numeric_cols + list(df2.columns)\n",
    "print(len(model))\n",
    "print(model)"
   ]
  },
  {
   "cell_type": "markdown",
   "id": "6rlgkyPjkgBW",
   "metadata": {
    "id": "6rlgkyPjkgBW"
   },
   "source": [
    "Question/Task: Create a X_train, X_test, y_train, and y_test data set and print their shapes. \n",
    "\n",
    "Note: Test size can be again 0.2."
   ]
  },
  {
   "cell_type": "code",
   "execution_count": 58,
   "id": "4630a07d",
   "metadata": {},
   "outputs": [],
   "source": [
    "from sklearn.linear_model import Lasso"
   ]
  },
  {
   "cell_type": "code",
   "execution_count": 59,
   "id": "d758eba4",
   "metadata": {
    "id": "d758eba4",
    "outputId": "a844cf8a-a0b8-41b7-ac24-ff0da2f09c0e"
   },
   "outputs": [],
   "source": [
    "X = df3[model]\n",
    "y = df3['price']\n",
    "X = MinMaxScaler().fit_transform(X)"
   ]
  },
  {
   "cell_type": "code",
   "execution_count": 60,
   "id": "U_KYN6rzku3Q",
   "metadata": {
    "id": "U_KYN6rzku3Q"
   },
   "outputs": [],
   "source": [
    "clf = Lasso()"
   ]
  },
  {
   "cell_type": "markdown",
   "id": "J7RWEuk4kwCQ",
   "metadata": {
    "id": "J7RWEuk4kwCQ"
   },
   "source": [
    "Question/Task: Train the model and calcualte the R^2 trainings score."
   ]
  },
  {
   "cell_type": "code",
   "execution_count": 61,
   "id": "48628814",
   "metadata": {},
   "outputs": [],
   "source": [
    "X_train, X_test, y_train, y_test = train_test_split(X, y, test_size=0.2, random_state=100)"
   ]
  },
  {
   "cell_type": "code",
   "execution_count": 62,
   "id": "a5060607",
   "metadata": {},
   "outputs": [
    {
     "data": {
      "text/plain": [
       "Lasso()"
      ]
     },
     "execution_count": 62,
     "metadata": {},
     "output_type": "execute_result"
    }
   ],
   "source": [
    "clf.fit(X_train, y_train)"
   ]
  },
  {
   "cell_type": "code",
   "execution_count": 63,
   "id": "880192f4",
   "metadata": {},
   "outputs": [
    {
     "data": {
      "text/plain": [
       "0.93006285798322"
      ]
     },
     "execution_count": 63,
     "metadata": {},
     "output_type": "execute_result"
    }
   ],
   "source": [
    "clf.score(X_train, y_train)"
   ]
  },
  {
   "cell_type": "markdown",
   "id": "k60TqEk0k6u_",
   "metadata": {
    "id": "k60TqEk0k6u_"
   },
   "source": [
    "Question/Task: Now create predictions using the new model and calculate the R^2 test score. Is there a difference to the previous test scores? What could be a reason for your result?"
   ]
  },
  {
   "cell_type": "code",
   "execution_count": 64,
   "id": "e381ed41",
   "metadata": {},
   "outputs": [],
   "source": [
    "y_pred=clf.predict(X_test)"
   ]
  },
  {
   "cell_type": "code",
   "execution_count": 65,
   "id": "6bffa05a",
   "metadata": {},
   "outputs": [
    {
     "name": "stdout",
     "output_type": "stream",
     "text": [
      "0.8475092345652351\n"
     ]
    }
   ],
   "source": [
    "print(r2_score(y_test, y_pred))"
   ]
  },
  {
   "cell_type": "markdown",
   "id": "96cf8356",
   "metadata": {
    "id": "96cf8356"
   },
   "source": [
    "https://www.kaggle.com/songulerdem/car-price-prediction-with-pycaret"
   ]
  }
 ],
 "metadata": {
  "colab": {
   "collapsed_sections": [],
   "provenance": []
  },
  "kernelspec": {
   "display_name": "Python 3 (ipykernel)",
   "language": "python",
   "name": "python3"
  },
  "language_info": {
   "codemirror_mode": {
    "name": "ipython",
    "version": 3
   },
   "file_extension": ".py",
   "mimetype": "text/x-python",
   "name": "python",
   "nbconvert_exporter": "python",
   "pygments_lexer": "ipython3",
   "version": "3.9.12"
  }
 },
 "nbformat": 4,
 "nbformat_minor": 5
}
