{
 "cells": [
  {
   "cell_type": "code",
   "execution_count": 0,
   "metadata": {
    "application/vnd.databricks.v1+cell": {
     "cellMetadata": {
      "byteLimit": 2048000,
      "rowLimit": 10000
     },
     "inputWidgets": {},
     "nuid": "e0e19e8e-c1f5-487a-9cf2-03610d752139",
     "showTitle": false,
     "tableResultSettingsMap": {},
     "title": ""
    }
   },
   "outputs": [],
   "source": [
    "dbutils.widgets.text(\"p_file_date\", \"\")\n",
    "v_file_date = dbutils.widgets.get(\"p_file_date\")"
   ]
  },
  {
   "cell_type": "code",
   "execution_count": 0,
   "metadata": {
    "application/vnd.databricks.v1+cell": {
     "cellMetadata": {
      "byteLimit": 2048000,
      "rowLimit": 10000
     },
     "inputWidgets": {},
     "nuid": "50243214-5bfd-4014-bc5f-d937957191b3",
     "showTitle": false,
     "tableResultSettingsMap": {},
     "title": ""
    }
   },
   "outputs": [],
   "source": [
    "%run \"../Includes/configuration\""
   ]
  },
  {
   "cell_type": "code",
   "execution_count": 0,
   "metadata": {
    "application/vnd.databricks.v1+cell": {
     "cellMetadata": {
      "byteLimit": 2048000,
      "rowLimit": 10000
     },
     "inputWidgets": {},
     "nuid": "da1bc7a8-649c-4c3c-b04b-f1f6ccf364c1",
     "showTitle": false,
     "tableResultSettingsMap": {},
     "title": ""
    }
   },
   "outputs": [],
   "source": [
    "%run \"../Includes/common_functions\""
   ]
  },
  {
   "cell_type": "code",
   "execution_count": 0,
   "metadata": {
    "application/vnd.databricks.v1+cell": {
     "cellMetadata": {
      "byteLimit": 2048000,
      "rowLimit": 10000
     },
     "inputWidgets": {},
     "nuid": "95a85672-af8c-4fd4-86dc-b696ab196ccf",
     "showTitle": false,
     "tableResultSettingsMap": {
      "0": {
       "dataGridStateBlob": "{\"version\":1,\"tableState\":{\"columnPinning\":{\"left\":[\"#row_number#\"],\"right\":[]},\"columnSizing\":{},\"columnVisibility\":{}},\"settings\":{\"columns\":{}},\"syncTimestamp\":1760953567245}",
       "filterBlob": null,
       "queryPlanFiltersBlob": null,
       "tableResultIndex": 0
      }
     },
     "title": ""
    }
   },
   "outputs": [],
   "source": [
    "race_results_list = spark.read\\\n",
    "    .format(\"delta\").load((f\"{presentation_folder_path}/race_results\"))\\\n",
    "    .withColumnRenamed(\"result_file_date\", \"file_date\")\\\n",
    "    .filter(f\"file_date = '{v_file_date}'\")\\\n",
    "    .select(\"race_year\")\\\n",
    "    .distinct()\\\n",
    "    .collect()\n"
   ]
  },
  {
   "cell_type": "code",
   "execution_count": 0,
   "metadata": {
    "application/vnd.databricks.v1+cell": {
     "cellMetadata": {
      "byteLimit": 2048000,
      "rowLimit": 10000
     },
     "inputWidgets": {},
     "nuid": "d7b8e9b1-0a15-49ca-aed9-14c06ce819a9",
     "showTitle": false,
     "tableResultSettingsMap": {},
     "title": ""
    }
   },
   "outputs": [],
   "source": [
    "race_year_list = []\n",
    "\n",
    "for race_year in race_results_list:\n",
    "    race_year_list.append(race_year.race_year)\n"
   ]
  },
  {
   "cell_type": "code",
   "execution_count": 0,
   "metadata": {
    "application/vnd.databricks.v1+cell": {
     "cellMetadata": {
      "byteLimit": 2048000,
      "rowLimit": 10000
     },
     "inputWidgets": {},
     "nuid": "de4ca338-a490-4b4e-a313-124a97b7ef52",
     "showTitle": false,
     "tableResultSettingsMap": {},
     "title": ""
    }
   },
   "outputs": [],
   "source": [
    "df = spark.read\\\n",
    "    .format(\"delta\").load((f\"{presentation_folder_path}/race_results\"))\\\n",
    "    .filter(col(\"race_year\").isin(race_year_list))"
   ]
  },
  {
   "cell_type": "code",
   "execution_count": 0,
   "metadata": {
    "application/vnd.databricks.v1+cell": {
     "cellMetadata": {
      "byteLimit": 2048000,
      "rowLimit": 10000
     },
     "inputWidgets": {},
     "nuid": "ba38336b-06f8-4c9c-9b69-e42413984088",
     "showTitle": false,
     "tableResultSettingsMap": {},
     "title": ""
    }
   },
   "outputs": [],
   "source": [
    "driver_standings_df = df\\\n",
    "    .groupBy(\"race_year\", \"driver_name\", \"driver_nationality\")\\\n",
    "        .agg(sum(\"points\").alias(\"total_points\"),\n",
    "                 count(when(col(\"position\") == 1, True)).alias(\"wins\"))"
   ]
  },
  {
   "cell_type": "code",
   "execution_count": 0,
   "metadata": {
    "application/vnd.databricks.v1+cell": {
     "cellMetadata": {
      "byteLimit": 2048000,
      "rowLimit": 10000
     },
     "inputWidgets": {},
     "nuid": "45ae18bb-8087-4a59-a4f8-99833f8d1314",
     "showTitle": false,
     "tableResultSettingsMap": {},
     "title": ""
    }
   },
   "outputs": [],
   "source": [
    "window_spec = Window.partitionBy(\"race_year\").orderBy(col(\"total_points\").desc(), col(\"wins\").desc())"
   ]
  },
  {
   "cell_type": "code",
   "execution_count": 0,
   "metadata": {
    "application/vnd.databricks.v1+cell": {
     "cellMetadata": {
      "byteLimit": 2048000,
      "rowLimit": 10000
     },
     "inputWidgets": {},
     "nuid": "ef7772cd-f615-4730-b260-cab42fcbff66",
     "showTitle": false,
     "tableResultSettingsMap": {},
     "title": ""
    }
   },
   "outputs": [],
   "source": [
    "df_final = driver_standings_df.withColumn(\"rank\", rank().over(window_spec))\n"
   ]
  },
  {
   "cell_type": "code",
   "execution_count": 0,
   "metadata": {
    "application/vnd.databricks.v1+cell": {
     "cellMetadata": {
      "byteLimit": 2048000,
      "rowLimit": 10000
     },
     "inputWidgets": {},
     "nuid": "aa311caa-81a2-4199-80be-b386b688a87b",
     "showTitle": false,
     "tableResultSettingsMap": {},
     "title": ""
    }
   },
   "outputs": [],
   "source": [
    "#overwrite_partition(df_final, \"f1_presentation\", \"driver_standings\", \"race_year\")"
   ]
  },
  {
   "cell_type": "code",
   "execution_count": 0,
   "metadata": {
    "application/vnd.databricks.v1+cell": {
     "cellMetadata": {
      "byteLimit": 2048000,
      "rowLimit": 10000
     },
     "inputWidgets": {},
     "nuid": "497d119d-b7d3-4e1f-896e-0f84d7ec21a6",
     "showTitle": false,
     "tableResultSettingsMap": {},
     "title": ""
    }
   },
   "outputs": [],
   "source": [
    "merge_condition = \"tgt.driver_name = src.driver_name AND tgt.race_year = src.race_year\"\n",
    "merge_delta_data(df_final, \"f1_presentation\", \"driver_standings\", presentation_folder_path, merge_condition, \"race_year\")"
   ]
  },
  {
   "cell_type": "code",
   "execution_count": 0,
   "metadata": {
    "application/vnd.databricks.v1+cell": {
     "cellMetadata": {
      "byteLimit": 2048000,
      "implicitDf": true,
      "rowLimit": 10000
     },
     "inputWidgets": {},
     "nuid": "6da231a0-bc47-4a28-9c19-ac4845fafe3d",
     "showTitle": false,
     "tableResultSettingsMap": {
      "0": {
       "dataGridStateBlob": "{\"version\":1,\"tableState\":{\"columnPinning\":{\"left\":[\"#row_number#\"],\"right\":[]},\"columnSizing\":{},\"columnVisibility\":{}},\"settings\":{\"columns\":{}},\"syncTimestamp\":1761034693108}",
       "filterBlob": null,
       "queryPlanFiltersBlob": null,
       "tableResultIndex": 0
      }
     },
     "title": ""
    }
   },
   "outputs": [
    {
     "output_type": "display_data",
     "data": {
      "text/html": [
       "<style scoped>\n",
       "  .table-result-container {\n",
       "    max-height: 300px;\n",
       "    overflow: auto;\n",
       "  }\n",
       "  table, th, td {\n",
       "    border: 1px solid black;\n",
       "    border-collapse: collapse;\n",
       "  }\n",
       "  th, td {\n",
       "    padding: 5px;\n",
       "  }\n",
       "  th {\n",
       "    text-align: left;\n",
       "  }\n",
       "</style><div class='table-result-container'><table class='table-result'><thead style='background-color: white'><tr><th>race_year</th><th>driver_name</th><th>driver_nationality</th><th>total_points</th><th>wins</th><th>rank</th></tr></thead><tbody><tr><td>2020</td><td>Lewis Hamilton</td><td>British</td><td>347.0</td><td>11</td><td>1</td></tr><tr><td>2020</td><td>Valtteri Bottas</td><td>Finnish</td><td>223.0</td><td>2</td><td>2</td></tr><tr><td>2020</td><td>Max Verstappen</td><td>Dutch</td><td>214.0</td><td>2</td><td>3</td></tr><tr><td>2020</td><td>Pierre Gasly</td><td>French</td><td>75.0</td><td>1</td><td>10</td></tr><tr><td>2020</td><td>Sergio Pérez</td><td>Mexican</td><td>125.0</td><td>1</td><td>4</td></tr><tr><td>2020</td><td>Daniel Ricciardo</td><td>Australian</td><td>119.0</td><td>0</td><td>5</td></tr><tr><td>2020</td><td>Nicholas Latifi</td><td>Canadian</td><td>0.0</td><td>0</td><td>21</td></tr><tr><td>2020</td><td>Esteban Ocon</td><td>French</td><td>62.0</td><td>0</td><td>12</td></tr><tr><td>2020</td><td>Charles Leclerc</td><td>Monegasque</td><td>98.0</td><td>0</td><td>8</td></tr><tr><td>2020</td><td>Nico Hülkenberg</td><td>German</td><td>10.0</td><td>0</td><td>15</td></tr><tr><td>2020</td><td>Pietro Fittipaldi</td><td>Brazilian</td><td>0.0</td><td>0</td><td>21</td></tr><tr><td>2020</td><td>Sebastian Vettel</td><td>German</td><td>33.0</td><td>0</td><td>13</td></tr><tr><td>2020</td><td>Alexander Albon</td><td>Thai</td><td>105.0</td><td>0</td><td>6</td></tr><tr><td>2020</td><td>Carlos Sainz</td><td>Spanish</td><td>105.0</td><td>0</td><td>6</td></tr><tr><td>2020</td><td>Lance Stroll</td><td>Canadian</td><td>75.0</td><td>0</td><td>11</td></tr><tr><td>2020</td><td>George Russell</td><td>British</td><td>3.0</td><td>0</td><td>18</td></tr><tr><td>2020</td><td>Lando Norris</td><td>British</td><td>97.0</td><td>0</td><td>9</td></tr><tr><td>2020</td><td>Antonio Giovinazzi</td><td>Italian</td><td>4.0</td><td>0</td><td>16</td></tr><tr><td>2020</td><td>Romain Grosjean</td><td>French</td><td>2.0</td><td>0</td><td>19</td></tr><tr><td>2020</td><td>Kevin Magnussen</td><td>Danish</td><td>1.0</td><td>0</td><td>20</td></tr><tr><td>2020</td><td>Daniil Kvyat</td><td>Russian</td><td>32.0</td><td>0</td><td>14</td></tr><tr><td>2020</td><td>Kimi Räikkönen</td><td>Finnish</td><td>4.0</td><td>0</td><td>16</td></tr><tr><td>2020</td><td>Jack Aitken</td><td>British</td><td>0.0</td><td>0</td><td>21</td></tr></tbody></table></div>"
      ]
     },
     "metadata": {
      "application/vnd.databricks.v1+output": {
       "addedWidgets": {},
       "aggData": [],
       "aggError": "",
       "aggOverflow": false,
       "aggSchema": [],
       "aggSeriesLimitReached": false,
       "aggType": "",
       "arguments": {},
       "columnCustomDisplayInfos": {},
       "data": [
        [
         2020,
         "Lewis Hamilton",
         "British",
         347.0,
         11,
         1
        ],
        [
         2020,
         "Valtteri Bottas",
         "Finnish",
         223.0,
         2,
         2
        ],
        [
         2020,
         "Max Verstappen",
         "Dutch",
         214.0,
         2,
         3
        ],
        [
         2020,
         "Pierre Gasly",
         "French",
         75.0,
         1,
         10
        ],
        [
         2020,
         "Sergio Pérez",
         "Mexican",
         125.0,
         1,
         4
        ],
        [
         2020,
         "Daniel Ricciardo",
         "Australian",
         119.0,
         0,
         5
        ],
        [
         2020,
         "Nicholas Latifi",
         "Canadian",
         0.0,
         0,
         21
        ],
        [
         2020,
         "Esteban Ocon",
         "French",
         62.0,
         0,
         12
        ],
        [
         2020,
         "Charles Leclerc",
         "Monegasque",
         98.0,
         0,
         8
        ],
        [
         2020,
         "Nico Hülkenberg",
         "German",
         10.0,
         0,
         15
        ],
        [
         2020,
         "Pietro Fittipaldi",
         "Brazilian",
         0.0,
         0,
         21
        ],
        [
         2020,
         "Sebastian Vettel",
         "German",
         33.0,
         0,
         13
        ],
        [
         2020,
         "Alexander Albon",
         "Thai",
         105.0,
         0,
         6
        ],
        [
         2020,
         "Carlos Sainz",
         "Spanish",
         105.0,
         0,
         6
        ],
        [
         2020,
         "Lance Stroll",
         "Canadian",
         75.0,
         0,
         11
        ],
        [
         2020,
         "George Russell",
         "British",
         3.0,
         0,
         18
        ],
        [
         2020,
         "Lando Norris",
         "British",
         97.0,
         0,
         9
        ],
        [
         2020,
         "Antonio Giovinazzi",
         "Italian",
         4.0,
         0,
         16
        ],
        [
         2020,
         "Romain Grosjean",
         "French",
         2.0,
         0,
         19
        ],
        [
         2020,
         "Kevin Magnussen",
         "Danish",
         1.0,
         0,
         20
        ],
        [
         2020,
         "Daniil Kvyat",
         "Russian",
         32.0,
         0,
         14
        ],
        [
         2020,
         "Kimi Räikkönen",
         "Finnish",
         4.0,
         0,
         16
        ],
        [
         2020,
         "Jack Aitken",
         "British",
         0.0,
         0,
         21
        ]
       ],
       "datasetInfos": [
        {
         "name": "_sqldf",
         "schema": {
          "fields": [
           {
            "metadata": {},
            "name": "race_year",
            "nullable": true,
            "type": "integer"
           },
           {
            "metadata": {},
            "name": "driver_name",
            "nullable": true,
            "type": "string"
           },
           {
            "metadata": {},
            "name": "driver_nationality",
            "nullable": true,
            "type": "string"
           },
           {
            "metadata": {},
            "name": "total_points",
            "nullable": true,
            "type": "double"
           },
           {
            "metadata": {},
            "name": "wins",
            "nullable": true,
            "type": "long"
           },
           {
            "metadata": {},
            "name": "rank",
            "nullable": true,
            "type": "integer"
           }
          ],
          "type": "struct"
         },
         "tableIdentifier": null,
         "typeStr": "pyspark.sql.dataframe.DataFrame"
        }
       ],
       "dbfsResultPath": null,
       "isJsonSchema": true,
       "metadata": {
        "createTempViewForImplicitDf": true,
        "dataframeName": "_sqldf",
        "executionCount": 51
       },
       "overflow": false,
       "plotOptions": {
        "customPlotOptions": {},
        "displayType": "table",
        "pivotAggregation": null,
        "pivotColumns": null,
        "xColumns": null,
        "yColumns": null
       },
       "removedWidgets": [],
       "schema": [
        {
         "metadata": "{}",
         "name": "race_year",
         "type": "\"integer\""
        },
        {
         "metadata": "{}",
         "name": "driver_name",
         "type": "\"string\""
        },
        {
         "metadata": "{}",
         "name": "driver_nationality",
         "type": "\"string\""
        },
        {
         "metadata": "{}",
         "name": "total_points",
         "type": "\"double\""
        },
        {
         "metadata": "{}",
         "name": "wins",
         "type": "\"long\""
        },
        {
         "metadata": "{}",
         "name": "rank",
         "type": "\"integer\""
        }
       ],
       "type": "table"
      }
     },
     "output_type": "display_data"
    }
   ],
   "source": [
    "%sql\n",
    "select * from f1_presentation.driver_standings\n",
    "where race_year = 2020\n",
    "order by wins desc"
   ]
  },
  {
   "cell_type": "code",
   "execution_count": 0,
   "metadata": {
    "application/vnd.databricks.v1+cell": {
     "cellMetadata": {
      "byteLimit": 2048000,
      "rowLimit": 10000
     },
     "inputWidgets": {},
     "nuid": "813cee58-d630-4f86-9edf-9bd9f2c0fb29",
     "showTitle": false,
     "tableResultSettingsMap": {},
     "title": ""
    }
   },
   "outputs": [],
   "source": []
  }
 ],
 "metadata": {
  "application/vnd.databricks.v1+notebook": {
   "computePreferences": null,
   "dashboards": [],
   "environmentMetadata": {
    "base_environment": "",
    "environment_version": "4"
   },
   "inputWidgetPreferences": null,
   "language": "python",
   "notebookMetadata": {
    "mostRecentlyExecutedCommandWithImplicitDF": {
     "commandId": 7669921818778321,
     "dataframes": [
      "_sqldf"
     ]
    },
    "pythonIndentUnit": 4
   },
   "notebookName": "2.driver_standings",
   "widgets": {
    "p_file_date": {
     "currentValue": "2021-04-18",
     "nuid": "32502e9e-7152-4624-8917-ed4b057409e9",
     "typedWidgetInfo": {
      "autoCreated": false,
      "defaultValue": "",
      "label": null,
      "name": "p_file_date",
      "options": {
       "widgetDisplayType": "Text",
       "validationRegex": null
      },
      "parameterDataType": "String"
     },
     "widgetInfo": {
      "widgetType": "text",
      "defaultValue": "",
      "label": null,
      "name": "p_file_date",
      "options": {
       "widgetType": "text",
       "autoCreated": null,
       "validationRegex": null
      }
     }
    }
   }
  },
  "language_info": {
   "name": "python"
  }
 },
 "nbformat": 4,
 "nbformat_minor": 0
}